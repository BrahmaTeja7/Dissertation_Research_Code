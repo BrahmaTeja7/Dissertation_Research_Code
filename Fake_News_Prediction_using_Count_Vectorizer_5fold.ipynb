{
  "cells": [
    {
      "cell_type": "markdown",
      "metadata": {
        "id": "view-in-github",
        "colab_type": "text"
      },
      "source": [
        "<a href=\"https://colab.research.google.com/github/BrahmaTeja7/Dissertation_Research_Code/blob/main/Fake_News_Prediction_using_Count_Vectorizer_5fold.ipynb\" target=\"_parent\"><img src=\"https://colab.research.google.com/assets/colab-badge.svg\" alt=\"Open In Colab\"/></a>"
      ]
    },
    {
      "cell_type": "markdown",
      "metadata": {
        "id": "frK7ssrIVBQC"
      },
      "source": [
        "# **Importing Necessary Libraries for finding the accuracy of the selected Machine learning models in predicting the fake news.**"
      ]
    },
    {
      "cell_type": "code",
      "execution_count": null,
      "metadata": {
        "colab": {
          "base_uri": "https://localhost:8080/"
        },
        "id": "6jB4zaaFQzyw",
        "outputId": "b70e7d19-410b-413d-bf61-04023e1947f8"
      },
      "outputs": [
        {
          "output_type": "stream",
          "name": "stderr",
          "text": [
            "[nltk_data] Downloading package stopwords to /root/nltk_data...\n",
            "[nltk_data]   Unzipping corpora/stopwords.zip.\n",
            "[nltk_data] Downloading package punkt to /root/nltk_data...\n",
            "[nltk_data]   Unzipping tokenizers/punkt.zip.\n"
          ]
        }
      ],
      "source": [
        "#Libraries for data manipulation\n",
        "import numpy as np\n",
        "import pandas as pd\n",
        "\n",
        "#Libraries for text modification and preprocessing\n",
        "import string\n",
        "from sklearn.feature_extraction.text import CountVectorizer\n",
        "\n",
        "#Libraries for Natural Language Processing\n",
        "import nltk\n",
        "nltk.download('stopwords')\n",
        "from nltk.corpus import stopwords\n",
        "import re\n",
        "from nltk.stem.porter import PorterStemmer\n",
        "from nltk.tokenize import word_tokenize\n",
        "nltk.download('punkt')\n",
        "\n",
        "\n",
        "# Libraries for Data Visualization\n",
        "import matplotlib.pyplot as plt\n",
        "import seaborn as sns\n",
        "\n",
        "# Libraries for Training the models\n",
        "from sklearn.model_selection import train_test_split,  StratifiedKFold, RandomizedSearchCV, cross_val_score\n",
        "from sklearn.metrics import classification_report, accuracy_score, confusion_matrix,f1_score, precision_score\n",
        "from sklearn import metrics\n",
        "from sklearn.svm import SVC\n",
        "from sklearn.naive_bayes import MultinomialNB\n",
        "import xgboost as xgb\n",
        "from scipy.stats import uniform, randint,expon\n",
        "import time\n",
        "\n"
      ]
    },
    {
      "cell_type": "markdown",
      "metadata": {
        "id": "qRrXCtCnVWQG"
      },
      "source": [
        "# **Loading the Dataset using Pandas Library**"
      ]
    },
    {
      "cell_type": "code",
      "execution_count": null,
      "metadata": {
        "id": "qMmxWObFUcvk"
      },
      "outputs": [],
      "source": [
        "dataset = pd.read_csv('/content/Fake&True_News.csv')"
      ]
    },
    {
      "cell_type": "markdown",
      "metadata": {
        "id": "OupBfoJVVYhn"
      },
      "source": [
        "# **Preliminary Checks**"
      ]
    },
    {
      "cell_type": "code",
      "execution_count": null,
      "metadata": {
        "colab": {
          "base_uri": "https://localhost:8080/"
        },
        "id": "QxmauoM7UeyV",
        "outputId": "f04a1392-cfe0-4dec-e13a-a2fabfb5a78a"
      },
      "outputs": [
        {
          "output_type": "execute_result",
          "data": {
            "text/plain": [
              "(44867, 5)"
            ]
          },
          "metadata": {},
          "execution_count": 3
        }
      ],
      "source": [
        "dataset.shape"
      ]
    },
    {
      "cell_type": "markdown",
      "metadata": {
        "id": "joRjt250VqDT"
      },
      "source": [
        "### **Shuffling the dataset row set records**"
      ]
    },
    {
      "cell_type": "code",
      "execution_count": null,
      "metadata": {
        "colab": {
          "base_uri": "https://localhost:8080/"
        },
        "id": "WPQZhEl3Ug3F",
        "outputId": "5c848fb3-d240-4e4d-9401-c55a6fc665e9"
      },
      "outputs": [
        {
          "output_type": "stream",
          "name": "stdout",
          "text": [
            "                                                   title  \\\n",
            "38907  Voter confidence in UK handling of Brexit ebbs...   \n",
            "29988  Ryan wins re-election as speaker of U.S. House...   \n",
            "28587  Immigration judges exempt from Trump's federal...   \n",
            "32850  Hacker who exposed Hillary Clinton's email ser...   \n",
            "32840  'Little House' star drops bid for U.S. congres...   \n",
            "...                                                  ...   \n",
            "40051  Macron avoids 'lecturing' Egypt on rights, Sis...   \n",
            "29749  German minister says EU, NATO nations concerne...   \n",
            "26770  Comey account could fuel obstruction accusatio...   \n",
            "43988  France discusses increased pressure on North K...   \n",
            "1499    Trump Ignores Historically Low Rating, Brags ...   \n",
            "\n",
            "                                                    text       subject  \\\n",
            "38907  LONDON (Reuters) - A record majority of Briton...     worldnews   \n",
            "29988  WASHINGTON (Reuters) - U.S. Representative Pau...  politicsNews   \n",
            "28587  (Reuters) - President Donald Trump’s federal h...  politicsNews   \n",
            "32850  WASHINGTON (Reuters) - A Romanian computer hac...  politicsNews   \n",
            "32840  (Reuters) - Melissa Gilbert, best known for pl...  politicsNews   \n",
            "...                                                  ...           ...   \n",
            "40051  PARIS (Reuters) - French President Emmanuel Ma...     worldnews   \n",
            "29749  BRUSSELS (Reuters) - Foreign ministers from NA...  politicsNews   \n",
            "26770  NEW YORK (Reuters) - Former FBI Director James...  politicsNews   \n",
            "43988  PARIS (Reuters) - France s Emmanuel Macron dis...     worldnews   \n",
            "1499   The fact that most of the country despises Don...          News   \n",
            "\n",
            "            date  marker  \n",
            "38907  07-Nov-17    True  \n",
            "29988  03-Jan-17    True  \n",
            "28587  03-Mar-17    True  \n",
            "32850  25-May-16    True  \n",
            "32840  25-May-16    True  \n",
            "...          ...     ...  \n",
            "40051  24-Oct-17    True  \n",
            "29749  16-Jan-17    True  \n",
            "26770  08-Jun-17    True  \n",
            "43988  09-Sep-17    True  \n",
            "1499   12-May-17   False  \n",
            "\n",
            "[44867 rows x 5 columns]\n"
          ]
        }
      ],
      "source": [
        "shuffled_dataset = dataset.sample(frac=1.0)\n",
        "print(shuffled_dataset)"
      ]
    },
    {
      "cell_type": "markdown",
      "metadata": {
        "id": "kLVVFw7-V0OR"
      },
      "source": [
        "### **Creating a new column \"label\" to convert the values of True or False to 0 & 1.**"
      ]
    },
    {
      "cell_type": "code",
      "execution_count": null,
      "metadata": {
        "colab": {
          "base_uri": "https://localhost:8080/"
        },
        "id": "iADB9lv4Uj0u",
        "outputId": "40fa83b4-b28e-4741-f4be-a256b3d2cbc2"
      },
      "outputs": [
        {
          "output_type": "stream",
          "name": "stdout",
          "text": [
            "                                                   title  \\\n",
            "38907  Voter confidence in UK handling of Brexit ebbs...   \n",
            "29988  Ryan wins re-election as speaker of U.S. House...   \n",
            "28587  Immigration judges exempt from Trump's federal...   \n",
            "32850  Hacker who exposed Hillary Clinton's email ser...   \n",
            "32840  'Little House' star drops bid for U.S. congres...   \n",
            "...                                                  ...   \n",
            "40051  Macron avoids 'lecturing' Egypt on rights, Sis...   \n",
            "29749  German minister says EU, NATO nations concerne...   \n",
            "26770  Comey account could fuel obstruction accusatio...   \n",
            "43988  France discusses increased pressure on North K...   \n",
            "1499    Trump Ignores Historically Low Rating, Brags ...   \n",
            "\n",
            "                                                    text       subject  \\\n",
            "38907  LONDON (Reuters) - A record majority of Briton...     worldnews   \n",
            "29988  WASHINGTON (Reuters) - U.S. Representative Pau...  politicsNews   \n",
            "28587  (Reuters) - President Donald Trump’s federal h...  politicsNews   \n",
            "32850  WASHINGTON (Reuters) - A Romanian computer hac...  politicsNews   \n",
            "32840  (Reuters) - Melissa Gilbert, best known for pl...  politicsNews   \n",
            "...                                                  ...           ...   \n",
            "40051  PARIS (Reuters) - French President Emmanuel Ma...     worldnews   \n",
            "29749  BRUSSELS (Reuters) - Foreign ministers from NA...  politicsNews   \n",
            "26770  NEW YORK (Reuters) - Former FBI Director James...  politicsNews   \n",
            "43988  PARIS (Reuters) - France s Emmanuel Macron dis...     worldnews   \n",
            "1499   The fact that most of the country despises Don...          News   \n",
            "\n",
            "            date  marker  label  \n",
            "38907  07-Nov-17    True      0  \n",
            "29988  03-Jan-17    True      0  \n",
            "28587  03-Mar-17    True      0  \n",
            "32850  25-May-16    True      0  \n",
            "32840  25-May-16    True      0  \n",
            "...          ...     ...    ...  \n",
            "40051  24-Oct-17    True      0  \n",
            "29749  16-Jan-17    True      0  \n",
            "26770  08-Jun-17    True      0  \n",
            "43988  09-Sep-17    True      0  \n",
            "1499   12-May-17   False      1  \n",
            "\n",
            "[44867 rows x 6 columns]\n"
          ]
        }
      ],
      "source": [
        "shuffled_dataset['label'] = np.where(shuffled_dataset['marker'] == True, 0, 1)\n",
        "print(shuffled_dataset)"
      ]
    },
    {
      "cell_type": "markdown",
      "metadata": {
        "id": "Ll82Cjz-WwRW"
      },
      "source": [
        "**Converting the text to lowercase**"
      ]
    },
    {
      "cell_type": "code",
      "execution_count": null,
      "metadata": {
        "colab": {
          "base_uri": "https://localhost:8080/"
        },
        "id": "cHjQGFvwUmOh",
        "outputId": "b908bdb9-d105-46d0-d70c-02a311c4e029"
      },
      "outputs": [
        {
          "output_type": "stream",
          "name": "stdout",
          "text": [
            "                                                   title  \\\n",
            "38907  Voter confidence in UK handling of Brexit ebbs...   \n",
            "29988  Ryan wins re-election as speaker of U.S. House...   \n",
            "28587  Immigration judges exempt from Trump's federal...   \n",
            "32850  Hacker who exposed Hillary Clinton's email ser...   \n",
            "32840  'Little House' star drops bid for U.S. congres...   \n",
            "...                                                  ...   \n",
            "40051  Macron avoids 'lecturing' Egypt on rights, Sis...   \n",
            "29749  German minister says EU, NATO nations concerne...   \n",
            "26770  Comey account could fuel obstruction accusatio...   \n",
            "43988  France discusses increased pressure on North K...   \n",
            "1499    Trump Ignores Historically Low Rating, Brags ...   \n",
            "\n",
            "                                                    text       subject  \\\n",
            "38907  LONDON (Reuters) - A record majority of Briton...     worldnews   \n",
            "29988  WASHINGTON (Reuters) - U.S. Representative Pau...  politicsNews   \n",
            "28587  (Reuters) - President Donald Trump’s federal h...  politicsNews   \n",
            "32850  WASHINGTON (Reuters) - A Romanian computer hac...  politicsNews   \n",
            "32840  (Reuters) - Melissa Gilbert, best known for pl...  politicsNews   \n",
            "...                                                  ...           ...   \n",
            "40051  PARIS (Reuters) - French President Emmanuel Ma...     worldnews   \n",
            "29749  BRUSSELS (Reuters) - Foreign ministers from NA...  politicsNews   \n",
            "26770  NEW YORK (Reuters) - Former FBI Director James...  politicsNews   \n",
            "43988  PARIS (Reuters) - France s Emmanuel Macron dis...     worldnews   \n",
            "1499   The fact that most of the country despises Don...          News   \n",
            "\n",
            "            date  marker  label  \\\n",
            "38907  07-Nov-17    True      0   \n",
            "29988  03-Jan-17    True      0   \n",
            "28587  03-Mar-17    True      0   \n",
            "32850  25-May-16    True      0   \n",
            "32840  25-May-16    True      0   \n",
            "...          ...     ...    ...   \n",
            "40051  24-Oct-17    True      0   \n",
            "29749  16-Jan-17    True      0   \n",
            "26770  08-Jun-17    True      0   \n",
            "43988  09-Sep-17    True      0   \n",
            "1499   12-May-17   False      1   \n",
            "\n",
            "                                         processing_text  \n",
            "38907  london (reuters) - a record majority of briton...  \n",
            "29988  washington (reuters) - u.s. representative pau...  \n",
            "28587  (reuters) - president donald trump’s federal h...  \n",
            "32850  washington (reuters) - a romanian computer hac...  \n",
            "32840  (reuters) - melissa gilbert, best known for pl...  \n",
            "...                                                  ...  \n",
            "40051  paris (reuters) - french president emmanuel ma...  \n",
            "29749  brussels (reuters) - foreign ministers from na...  \n",
            "26770  new york (reuters) - former fbi director james...  \n",
            "43988  paris (reuters) - france s emmanuel macron dis...  \n",
            "1499   the fact that most of the country despises don...  \n",
            "\n",
            "[44867 rows x 7 columns]\n"
          ]
        }
      ],
      "source": [
        "shuffled_dataset['processing_text'] = shuffled_dataset['text'].str.lower()\n",
        "print(shuffled_dataset)"
      ]
    },
    {
      "cell_type": "markdown",
      "metadata": {
        "id": "5ks1rrK2W2B-"
      },
      "source": [
        "**Removing the Punctuations in the text**"
      ]
    },
    {
      "cell_type": "code",
      "execution_count": null,
      "metadata": {
        "id": "WL33hmUsUpLq"
      },
      "outputs": [],
      "source": [
        "def removing_punctuations(text):\n",
        "  punctuations = string.punctuation\n",
        "  return text.translate(str.maketrans('','',punctuations))"
      ]
    },
    {
      "cell_type": "code",
      "execution_count": null,
      "metadata": {
        "colab": {
          "base_uri": "https://localhost:8080/"
        },
        "id": "FVZ2rEYFUreS",
        "outputId": "ce8f31e5-d389-4d4e-d755-327802572411"
      },
      "outputs": [
        {
          "output_type": "stream",
          "name": "stdout",
          "text": [
            "                                                   title  \\\n",
            "38907  Voter confidence in UK handling of Brexit ebbs...   \n",
            "29988  Ryan wins re-election as speaker of U.S. House...   \n",
            "28587  Immigration judges exempt from Trump's federal...   \n",
            "32850  Hacker who exposed Hillary Clinton's email ser...   \n",
            "32840  'Little House' star drops bid for U.S. congres...   \n",
            "...                                                  ...   \n",
            "40051  Macron avoids 'lecturing' Egypt on rights, Sis...   \n",
            "29749  German minister says EU, NATO nations concerne...   \n",
            "26770  Comey account could fuel obstruction accusatio...   \n",
            "43988  France discusses increased pressure on North K...   \n",
            "1499    Trump Ignores Historically Low Rating, Brags ...   \n",
            "\n",
            "                                                    text       subject  \\\n",
            "38907  LONDON (Reuters) - A record majority of Briton...     worldnews   \n",
            "29988  WASHINGTON (Reuters) - U.S. Representative Pau...  politicsNews   \n",
            "28587  (Reuters) - President Donald Trump’s federal h...  politicsNews   \n",
            "32850  WASHINGTON (Reuters) - A Romanian computer hac...  politicsNews   \n",
            "32840  (Reuters) - Melissa Gilbert, best known for pl...  politicsNews   \n",
            "...                                                  ...           ...   \n",
            "40051  PARIS (Reuters) - French President Emmanuel Ma...     worldnews   \n",
            "29749  BRUSSELS (Reuters) - Foreign ministers from NA...  politicsNews   \n",
            "26770  NEW YORK (Reuters) - Former FBI Director James...  politicsNews   \n",
            "43988  PARIS (Reuters) - France s Emmanuel Macron dis...     worldnews   \n",
            "1499   The fact that most of the country despises Don...          News   \n",
            "\n",
            "            date  marker  label  \\\n",
            "38907  07-Nov-17    True      0   \n",
            "29988  03-Jan-17    True      0   \n",
            "28587  03-Mar-17    True      0   \n",
            "32850  25-May-16    True      0   \n",
            "32840  25-May-16    True      0   \n",
            "...          ...     ...    ...   \n",
            "40051  24-Oct-17    True      0   \n",
            "29749  16-Jan-17    True      0   \n",
            "26770  08-Jun-17    True      0   \n",
            "43988  09-Sep-17    True      0   \n",
            "1499   12-May-17   False      1   \n",
            "\n",
            "                                         processing_text  \n",
            "38907  london reuters  a record majority of britons d...  \n",
            "29988  washington reuters  us representative paul rya...  \n",
            "28587  reuters  president donald trump’s federal hiri...  \n",
            "32850  washington reuters  a romanian computer hacker...  \n",
            "32840  reuters  melissa gilbert best known for playin...  \n",
            "...                                                  ...  \n",
            "40051  paris reuters  french president emmanuel macro...  \n",
            "29749  brussels reuters  foreign ministers from nato ...  \n",
            "26770  new york reuters  former fbi director james co...  \n",
            "43988  paris reuters  france s emmanuel macron discus...  \n",
            "1499   the fact that most of the country despises don...  \n",
            "\n",
            "[44867 rows x 7 columns]\n"
          ]
        }
      ],
      "source": [
        "shuffled_dataset['processing_text'] = shuffled_dataset['processing_text'].apply(lambda x: removing_punctuations(x))\n",
        "print(shuffled_dataset)"
      ]
    },
    {
      "cell_type": "markdown",
      "metadata": {
        "id": "QfAz2DhrW7BA"
      },
      "source": [
        "**Removing the stopwords in text column**"
      ]
    },
    {
      "cell_type": "code",
      "execution_count": null,
      "metadata": {
        "id": "Zsc0ibTQUuew"
      },
      "outputs": [],
      "source": [
        "Stopword = set(stopwords.words('english'))\n",
        "def removing_stopwords(text):\n",
        "  return \" \".join([word for word in text.split() if word not in Stopword])"
      ]
    },
    {
      "cell_type": "code",
      "execution_count": null,
      "metadata": {
        "colab": {
          "base_uri": "https://localhost:8080/"
        },
        "id": "wnaKD3OfUw1Z",
        "outputId": "73250460-b571-4ccf-aeb2-b18ecfb8690f"
      },
      "outputs": [
        {
          "output_type": "stream",
          "name": "stdout",
          "text": [
            "                                                   title  \\\n",
            "38907  Voter confidence in UK handling of Brexit ebbs...   \n",
            "29988  Ryan wins re-election as speaker of U.S. House...   \n",
            "28587  Immigration judges exempt from Trump's federal...   \n",
            "32850  Hacker who exposed Hillary Clinton's email ser...   \n",
            "32840  'Little House' star drops bid for U.S. congres...   \n",
            "...                                                  ...   \n",
            "40051  Macron avoids 'lecturing' Egypt on rights, Sis...   \n",
            "29749  German minister says EU, NATO nations concerne...   \n",
            "26770  Comey account could fuel obstruction accusatio...   \n",
            "43988  France discusses increased pressure on North K...   \n",
            "1499    Trump Ignores Historically Low Rating, Brags ...   \n",
            "\n",
            "                                                    text       subject  \\\n",
            "38907  LONDON (Reuters) - A record majority of Briton...     worldnews   \n",
            "29988  WASHINGTON (Reuters) - U.S. Representative Pau...  politicsNews   \n",
            "28587  (Reuters) - President Donald Trump’s federal h...  politicsNews   \n",
            "32850  WASHINGTON (Reuters) - A Romanian computer hac...  politicsNews   \n",
            "32840  (Reuters) - Melissa Gilbert, best known for pl...  politicsNews   \n",
            "...                                                  ...           ...   \n",
            "40051  PARIS (Reuters) - French President Emmanuel Ma...     worldnews   \n",
            "29749  BRUSSELS (Reuters) - Foreign ministers from NA...  politicsNews   \n",
            "26770  NEW YORK (Reuters) - Former FBI Director James...  politicsNews   \n",
            "43988  PARIS (Reuters) - France s Emmanuel Macron dis...     worldnews   \n",
            "1499   The fact that most of the country despises Don...          News   \n",
            "\n",
            "            date  marker  label  \\\n",
            "38907  07-Nov-17    True      0   \n",
            "29988  03-Jan-17    True      0   \n",
            "28587  03-Mar-17    True      0   \n",
            "32850  25-May-16    True      0   \n",
            "32840  25-May-16    True      0   \n",
            "...          ...     ...    ...   \n",
            "40051  24-Oct-17    True      0   \n",
            "29749  16-Jan-17    True      0   \n",
            "26770  08-Jun-17    True      0   \n",
            "43988  09-Sep-17    True      0   \n",
            "1499   12-May-17   False      1   \n",
            "\n",
            "                                         processing_text  \n",
            "38907  london reuters record majority britons disappr...  \n",
            "29988  washington reuters us representative paul ryan...  \n",
            "28587  reuters president donald trump’s federal hirin...  \n",
            "32850  washington reuters romanian computer hacker re...  \n",
            "32840  reuters melissa gilbert best known playing lau...  \n",
            "...                                                  ...  \n",
            "40051  paris reuters french president emmanuel macron...  \n",
            "29749  brussels reuters foreign ministers nato europe...  \n",
            "26770  new york reuters former fbi director james com...  \n",
            "43988  paris reuters france emmanuel macron discussed...  \n",
            "1499   fact country despises donald trump voted secre...  \n",
            "\n",
            "[44867 rows x 7 columns]\n"
          ]
        }
      ],
      "source": [
        "shuffled_dataset['processing_text'] = shuffled_dataset['processing_text'].apply(lambda x: removing_stopwords(x))\n",
        "print(shuffled_dataset)"
      ]
    },
    {
      "cell_type": "markdown",
      "metadata": {
        "id": "fBNIJ5rTXLgw"
      },
      "source": [
        "**Removing the special Characters, Html tags, Url in text column**"
      ]
    },
    {
      "cell_type": "code",
      "execution_count": null,
      "metadata": {
        "id": "z9-wsxbjU03y"
      },
      "outputs": [],
      "source": [
        "def remove_chars_url_htmlTags(text):\n",
        "  text = re.sub('[^a-zA-Z0-9]', ' ',text)\n",
        "  text = re.sub('\\s+', ' ',text)\n",
        "  text = re.sub(r'https?://\\S+|www\\.\\S+','',text)\n",
        "  text = re.sub(r'<.*?>','',text)\n",
        "  return text"
      ]
    },
    {
      "cell_type": "code",
      "execution_count": null,
      "metadata": {
        "colab": {
          "base_uri": "https://localhost:8080/",
          "height": 380
        },
        "id": "benApn1cU29X",
        "outputId": "61c6fb5f-2a1e-479e-83fd-cdea413c80b9"
      },
      "outputs": [
        {
          "output_type": "execute_result",
          "data": {
            "text/plain": [
              "                                                   title  \\\n",
              "38907  Voter confidence in UK handling of Brexit ebbs...   \n",
              "29988  Ryan wins re-election as speaker of U.S. House...   \n",
              "28587  Immigration judges exempt from Trump's federal...   \n",
              "32850  Hacker who exposed Hillary Clinton's email ser...   \n",
              "32840  'Little House' star drops bid for U.S. congres...   \n",
              "\n",
              "                                                    text       subject  \\\n",
              "38907  LONDON (Reuters) - A record majority of Briton...     worldnews   \n",
              "29988  WASHINGTON (Reuters) - U.S. Representative Pau...  politicsNews   \n",
              "28587  (Reuters) - President Donald Trump’s federal h...  politicsNews   \n",
              "32850  WASHINGTON (Reuters) - A Romanian computer hac...  politicsNews   \n",
              "32840  (Reuters) - Melissa Gilbert, best known for pl...  politicsNews   \n",
              "\n",
              "            date  marker  label  \\\n",
              "38907  07-Nov-17    True      0   \n",
              "29988  03-Jan-17    True      0   \n",
              "28587  03-Mar-17    True      0   \n",
              "32850  25-May-16    True      0   \n",
              "32840  25-May-16    True      0   \n",
              "\n",
              "                                         processing_text  \n",
              "38907  london reuters record majority britons disappr...  \n",
              "29988  washington reuters us representative paul ryan...  \n",
              "28587  reuters president donald trump s federal hirin...  \n",
              "32850  washington reuters romanian computer hacker re...  \n",
              "32840  reuters melissa gilbert best known playing lau...  "
            ],
            "text/html": [
              "\n",
              "  <div id=\"df-5b722999-b781-4068-a613-5ad99953fab3\" class=\"colab-df-container\">\n",
              "    <div>\n",
              "<style scoped>\n",
              "    .dataframe tbody tr th:only-of-type {\n",
              "        vertical-align: middle;\n",
              "    }\n",
              "\n",
              "    .dataframe tbody tr th {\n",
              "        vertical-align: top;\n",
              "    }\n",
              "\n",
              "    .dataframe thead th {\n",
              "        text-align: right;\n",
              "    }\n",
              "</style>\n",
              "<table border=\"1\" class=\"dataframe\">\n",
              "  <thead>\n",
              "    <tr style=\"text-align: right;\">\n",
              "      <th></th>\n",
              "      <th>title</th>\n",
              "      <th>text</th>\n",
              "      <th>subject</th>\n",
              "      <th>date</th>\n",
              "      <th>marker</th>\n",
              "      <th>label</th>\n",
              "      <th>processing_text</th>\n",
              "    </tr>\n",
              "  </thead>\n",
              "  <tbody>\n",
              "    <tr>\n",
              "      <th>38907</th>\n",
              "      <td>Voter confidence in UK handling of Brexit ebbs...</td>\n",
              "      <td>LONDON (Reuters) - A record majority of Briton...</td>\n",
              "      <td>worldnews</td>\n",
              "      <td>07-Nov-17</td>\n",
              "      <td>True</td>\n",
              "      <td>0</td>\n",
              "      <td>london reuters record majority britons disappr...</td>\n",
              "    </tr>\n",
              "    <tr>\n",
              "      <th>29988</th>\n",
              "      <td>Ryan wins re-election as speaker of U.S. House...</td>\n",
              "      <td>WASHINGTON (Reuters) - U.S. Representative Pau...</td>\n",
              "      <td>politicsNews</td>\n",
              "      <td>03-Jan-17</td>\n",
              "      <td>True</td>\n",
              "      <td>0</td>\n",
              "      <td>washington reuters us representative paul ryan...</td>\n",
              "    </tr>\n",
              "    <tr>\n",
              "      <th>28587</th>\n",
              "      <td>Immigration judges exempt from Trump's federal...</td>\n",
              "      <td>(Reuters) - President Donald Trump’s federal h...</td>\n",
              "      <td>politicsNews</td>\n",
              "      <td>03-Mar-17</td>\n",
              "      <td>True</td>\n",
              "      <td>0</td>\n",
              "      <td>reuters president donald trump s federal hirin...</td>\n",
              "    </tr>\n",
              "    <tr>\n",
              "      <th>32850</th>\n",
              "      <td>Hacker who exposed Hillary Clinton's email ser...</td>\n",
              "      <td>WASHINGTON (Reuters) - A Romanian computer hac...</td>\n",
              "      <td>politicsNews</td>\n",
              "      <td>25-May-16</td>\n",
              "      <td>True</td>\n",
              "      <td>0</td>\n",
              "      <td>washington reuters romanian computer hacker re...</td>\n",
              "    </tr>\n",
              "    <tr>\n",
              "      <th>32840</th>\n",
              "      <td>'Little House' star drops bid for U.S. congres...</td>\n",
              "      <td>(Reuters) - Melissa Gilbert, best known for pl...</td>\n",
              "      <td>politicsNews</td>\n",
              "      <td>25-May-16</td>\n",
              "      <td>True</td>\n",
              "      <td>0</td>\n",
              "      <td>reuters melissa gilbert best known playing lau...</td>\n",
              "    </tr>\n",
              "  </tbody>\n",
              "</table>\n",
              "</div>\n",
              "    <div class=\"colab-df-buttons\">\n",
              "\n",
              "  <div class=\"colab-df-container\">\n",
              "    <button class=\"colab-df-convert\" onclick=\"convertToInteractive('df-5b722999-b781-4068-a613-5ad99953fab3')\"\n",
              "            title=\"Convert this dataframe to an interactive table.\"\n",
              "            style=\"display:none;\">\n",
              "\n",
              "  <svg xmlns=\"http://www.w3.org/2000/svg\" height=\"24px\" viewBox=\"0 -960 960 960\">\n",
              "    <path d=\"M120-120v-720h720v720H120Zm60-500h600v-160H180v160Zm220 220h160v-160H400v160Zm0 220h160v-160H400v160ZM180-400h160v-160H180v160Zm440 0h160v-160H620v160ZM180-180h160v-160H180v160Zm440 0h160v-160H620v160Z\"/>\n",
              "  </svg>\n",
              "    </button>\n",
              "\n",
              "  <style>\n",
              "    .colab-df-container {\n",
              "      display:flex;\n",
              "      gap: 12px;\n",
              "    }\n",
              "\n",
              "    .colab-df-convert {\n",
              "      background-color: #E8F0FE;\n",
              "      border: none;\n",
              "      border-radius: 50%;\n",
              "      cursor: pointer;\n",
              "      display: none;\n",
              "      fill: #1967D2;\n",
              "      height: 32px;\n",
              "      padding: 0 0 0 0;\n",
              "      width: 32px;\n",
              "    }\n",
              "\n",
              "    .colab-df-convert:hover {\n",
              "      background-color: #E2EBFA;\n",
              "      box-shadow: 0px 1px 2px rgba(60, 64, 67, 0.3), 0px 1px 3px 1px rgba(60, 64, 67, 0.15);\n",
              "      fill: #174EA6;\n",
              "    }\n",
              "\n",
              "    .colab-df-buttons div {\n",
              "      margin-bottom: 4px;\n",
              "    }\n",
              "\n",
              "    [theme=dark] .colab-df-convert {\n",
              "      background-color: #3B4455;\n",
              "      fill: #D2E3FC;\n",
              "    }\n",
              "\n",
              "    [theme=dark] .colab-df-convert:hover {\n",
              "      background-color: #434B5C;\n",
              "      box-shadow: 0px 1px 3px 1px rgba(0, 0, 0, 0.15);\n",
              "      filter: drop-shadow(0px 1px 2px rgba(0, 0, 0, 0.3));\n",
              "      fill: #FFFFFF;\n",
              "    }\n",
              "  </style>\n",
              "\n",
              "    <script>\n",
              "      const buttonEl =\n",
              "        document.querySelector('#df-5b722999-b781-4068-a613-5ad99953fab3 button.colab-df-convert');\n",
              "      buttonEl.style.display =\n",
              "        google.colab.kernel.accessAllowed ? 'block' : 'none';\n",
              "\n",
              "      async function convertToInteractive(key) {\n",
              "        const element = document.querySelector('#df-5b722999-b781-4068-a613-5ad99953fab3');\n",
              "        const dataTable =\n",
              "          await google.colab.kernel.invokeFunction('convertToInteractive',\n",
              "                                                    [key], {});\n",
              "        if (!dataTable) return;\n",
              "\n",
              "        const docLinkHtml = 'Like what you see? Visit the ' +\n",
              "          '<a target=\"_blank\" href=https://colab.research.google.com/notebooks/data_table.ipynb>data table notebook</a>'\n",
              "          + ' to learn more about interactive tables.';\n",
              "        element.innerHTML = '';\n",
              "        dataTable['output_type'] = 'display_data';\n",
              "        await google.colab.output.renderOutput(dataTable, element);\n",
              "        const docLink = document.createElement('div');\n",
              "        docLink.innerHTML = docLinkHtml;\n",
              "        element.appendChild(docLink);\n",
              "      }\n",
              "    </script>\n",
              "  </div>\n",
              "\n",
              "\n",
              "<div id=\"df-13b5a24c-4e02-4290-9488-fbba63ac1c9a\">\n",
              "  <button class=\"colab-df-quickchart\" onclick=\"quickchart('df-13b5a24c-4e02-4290-9488-fbba63ac1c9a')\"\n",
              "            title=\"Suggest charts\"\n",
              "            style=\"display:none;\">\n",
              "\n",
              "<svg xmlns=\"http://www.w3.org/2000/svg\" height=\"24px\"viewBox=\"0 0 24 24\"\n",
              "     width=\"24px\">\n",
              "    <g>\n",
              "        <path d=\"M19 3H5c-1.1 0-2 .9-2 2v14c0 1.1.9 2 2 2h14c1.1 0 2-.9 2-2V5c0-1.1-.9-2-2-2zM9 17H7v-7h2v7zm4 0h-2V7h2v10zm4 0h-2v-4h2v4z\"/>\n",
              "    </g>\n",
              "</svg>\n",
              "  </button>\n",
              "\n",
              "<style>\n",
              "  .colab-df-quickchart {\n",
              "      --bg-color: #E8F0FE;\n",
              "      --fill-color: #1967D2;\n",
              "      --hover-bg-color: #E2EBFA;\n",
              "      --hover-fill-color: #174EA6;\n",
              "      --disabled-fill-color: #AAA;\n",
              "      --disabled-bg-color: #DDD;\n",
              "  }\n",
              "\n",
              "  [theme=dark] .colab-df-quickchart {\n",
              "      --bg-color: #3B4455;\n",
              "      --fill-color: #D2E3FC;\n",
              "      --hover-bg-color: #434B5C;\n",
              "      --hover-fill-color: #FFFFFF;\n",
              "      --disabled-bg-color: #3B4455;\n",
              "      --disabled-fill-color: #666;\n",
              "  }\n",
              "\n",
              "  .colab-df-quickchart {\n",
              "    background-color: var(--bg-color);\n",
              "    border: none;\n",
              "    border-radius: 50%;\n",
              "    cursor: pointer;\n",
              "    display: none;\n",
              "    fill: var(--fill-color);\n",
              "    height: 32px;\n",
              "    padding: 0;\n",
              "    width: 32px;\n",
              "  }\n",
              "\n",
              "  .colab-df-quickchart:hover {\n",
              "    background-color: var(--hover-bg-color);\n",
              "    box-shadow: 0 1px 2px rgba(60, 64, 67, 0.3), 0 1px 3px 1px rgba(60, 64, 67, 0.15);\n",
              "    fill: var(--button-hover-fill-color);\n",
              "  }\n",
              "\n",
              "  .colab-df-quickchart-complete:disabled,\n",
              "  .colab-df-quickchart-complete:disabled:hover {\n",
              "    background-color: var(--disabled-bg-color);\n",
              "    fill: var(--disabled-fill-color);\n",
              "    box-shadow: none;\n",
              "  }\n",
              "\n",
              "  .colab-df-spinner {\n",
              "    border: 2px solid var(--fill-color);\n",
              "    border-color: transparent;\n",
              "    border-bottom-color: var(--fill-color);\n",
              "    animation:\n",
              "      spin 1s steps(1) infinite;\n",
              "  }\n",
              "\n",
              "  @keyframes spin {\n",
              "    0% {\n",
              "      border-color: transparent;\n",
              "      border-bottom-color: var(--fill-color);\n",
              "      border-left-color: var(--fill-color);\n",
              "    }\n",
              "    20% {\n",
              "      border-color: transparent;\n",
              "      border-left-color: var(--fill-color);\n",
              "      border-top-color: var(--fill-color);\n",
              "    }\n",
              "    30% {\n",
              "      border-color: transparent;\n",
              "      border-left-color: var(--fill-color);\n",
              "      border-top-color: var(--fill-color);\n",
              "      border-right-color: var(--fill-color);\n",
              "    }\n",
              "    40% {\n",
              "      border-color: transparent;\n",
              "      border-right-color: var(--fill-color);\n",
              "      border-top-color: var(--fill-color);\n",
              "    }\n",
              "    60% {\n",
              "      border-color: transparent;\n",
              "      border-right-color: var(--fill-color);\n",
              "    }\n",
              "    80% {\n",
              "      border-color: transparent;\n",
              "      border-right-color: var(--fill-color);\n",
              "      border-bottom-color: var(--fill-color);\n",
              "    }\n",
              "    90% {\n",
              "      border-color: transparent;\n",
              "      border-bottom-color: var(--fill-color);\n",
              "    }\n",
              "  }\n",
              "</style>\n",
              "\n",
              "  <script>\n",
              "    async function quickchart(key) {\n",
              "      const quickchartButtonEl =\n",
              "        document.querySelector('#' + key + ' button');\n",
              "      quickchartButtonEl.disabled = true;  // To prevent multiple clicks.\n",
              "      quickchartButtonEl.classList.add('colab-df-spinner');\n",
              "      try {\n",
              "        const charts = await google.colab.kernel.invokeFunction(\n",
              "            'suggestCharts', [key], {});\n",
              "      } catch (error) {\n",
              "        console.error('Error during call to suggestCharts:', error);\n",
              "      }\n",
              "      quickchartButtonEl.classList.remove('colab-df-spinner');\n",
              "      quickchartButtonEl.classList.add('colab-df-quickchart-complete');\n",
              "    }\n",
              "    (() => {\n",
              "      let quickchartButtonEl =\n",
              "        document.querySelector('#df-13b5a24c-4e02-4290-9488-fbba63ac1c9a button');\n",
              "      quickchartButtonEl.style.display =\n",
              "        google.colab.kernel.accessAllowed ? 'block' : 'none';\n",
              "    })();\n",
              "  </script>\n",
              "</div>\n",
              "    </div>\n",
              "  </div>\n"
            ]
          },
          "metadata": {},
          "execution_count": 12
        }
      ],
      "source": [
        "shuffled_dataset['processing_text'] = shuffled_dataset['processing_text'].apply(lambda x: remove_chars_url_htmlTags(x))\n",
        "shuffled_dataset.head()"
      ]
    },
    {
      "cell_type": "markdown",
      "source": [
        "**Checking the list of common words used in the dataset**"
      ],
      "metadata": {
        "id": "YHfL04eYuizj"
      }
    },
    {
      "cell_type": "code",
      "source": [
        "from collections import Counter\n",
        "word_count = Counter()\n",
        "for text in shuffled_dataset['processing_text']:\n",
        "  for word in text.split():\n",
        "    word_count[word]+= 1\n",
        "\n",
        "word_count.most_common(1000)"
      ],
      "metadata": {
        "colab": {
          "base_uri": "https://localhost:8080/"
        },
        "id": "nRXVI0p3jEDx",
        "outputId": "1f2ff941-58fb-4323-9374-dd0c542be283"
      },
      "execution_count": null,
      "outputs": [
        {
          "output_type": "execute_result",
          "data": {
            "text/plain": [
              "[('said', 129916),\n",
              " ('trump', 127445),\n",
              " ('us', 62760),\n",
              " ('s', 54953),\n",
              " ('would', 54736),\n",
              " ('president', 51795),\n",
              " ('people', 41065),\n",
              " ('one', 35213),\n",
              " ('state', 31967),\n",
              " ('also', 30851),\n",
              " ('new', 30677),\n",
              " ('reuters', 28764),\n",
              " ('donald', 27496),\n",
              " ('clinton', 27189),\n",
              " ('house', 27013),\n",
              " ('obama', 26905),\n",
              " ('government', 26657),\n",
              " ('states', 25935),\n",
              " ('republican', 24293),\n",
              " ('could', 23774),\n",
              " ('united', 23394),\n",
              " ('told', 23317),\n",
              " ('white', 22124),\n",
              " ('like', 21947),\n",
              " ('campaign', 21041),\n",
              " ('last', 20369),\n",
              " ('news', 19830),\n",
              " ('two', 19828),\n",
              " ('party', 19750),\n",
              " ('time', 19453),\n",
              " ('election', 19355),\n",
              " ('first', 18420),\n",
              " ('washington', 17706),\n",
              " ('former', 17572),\n",
              " ('year', 17451),\n",
              " ('even', 17424),\n",
              " ('country', 17404),\n",
              " ('many', 16227),\n",
              " ('hillary', 16134),\n",
              " ('years', 15878),\n",
              " ('security', 15545),\n",
              " ('may', 15343),\n",
              " ('say', 15179),\n",
              " ('national', 15123),\n",
              " ('political', 14975),\n",
              " ('made', 14825),\n",
              " ('media', 14820),\n",
              " ('get', 14680),\n",
              " ('law', 14628),\n",
              " ('police', 14505),\n",
              " ('make', 14489),\n",
              " ('court', 14403),\n",
              " ('since', 14245),\n",
              " ('percent', 14163),\n",
              " ('going', 14073),\n",
              " ('american', 13984),\n",
              " ('republicans', 13762),\n",
              " ('administration', 13674),\n",
              " ('presidential', 13661),\n",
              " ('back', 13234),\n",
              " ('bill', 13046),\n",
              " ('russia', 13042),\n",
              " ('support', 12911),\n",
              " ('democratic', 12865),\n",
              " ('week', 12819),\n",
              " ('senate', 12713),\n",
              " ('america', 12672),\n",
              " ('including', 12531),\n",
              " ('north', 12417),\n",
              " ('know', 12402),\n",
              " ('vote', 12275),\n",
              " ('according', 12241),\n",
              " ('think', 12197),\n",
              " ('officials', 12190),\n",
              " ('group', 12145),\n",
              " ('way', 11922),\n",
              " ('take', 11850),\n",
              " ('office', 11781),\n",
              " ('federal', 11678),\n",
              " ('public', 11676),\n",
              " ('via', 11645),\n",
              " ('world', 11579),\n",
              " ('department', 11562),\n",
              " ('called', 11537),\n",
              " ('military', 11472),\n",
              " ('foreign', 11438),\n",
              " ('statement', 11392),\n",
              " ('right', 11324),\n",
              " ('million', 11200),\n",
              " ('saying', 11048),\n",
              " ('want', 10994),\n",
              " ('tuesday', 10585),\n",
              " ('see', 10328),\n",
              " ('well', 10326),\n",
              " ('tax', 10286),\n",
              " ('says', 10166),\n",
              " ('still', 10155),\n",
              " ('wednesday', 10008),\n",
              " ('congress', 9994),\n",
              " ('much', 9974),\n",
              " ('image', 9872),\n",
              " ('women', 9825),\n",
              " ('another', 9816),\n",
              " ('part', 9790),\n",
              " ('china', 9726),\n",
              " ('day', 9713),\n",
              " ('russian', 9696),\n",
              " ('thursday', 9681),\n",
              " ('work', 9635),\n",
              " ('friday', 9625),\n",
              " ('minister', 9613),\n",
              " ('city', 9572),\n",
              " ('go', 9515),\n",
              " ('democrats', 9494),\n",
              " ('asked', 9405),\n",
              " ('monday', 9226),\n",
              " ('policy', 9201),\n",
              " ('committee', 9182),\n",
              " ('secretary', 8944),\n",
              " ('war', 8904),\n",
              " ('rights', 8875),\n",
              " ('york', 8825),\n",
              " ('2016', 8796),\n",
              " ('video', 8702),\n",
              " ('deal', 8697),\n",
              " ('official', 8697),\n",
              " ('next', 8693),\n",
              " ('general', 8661),\n",
              " ('americans', 8575),\n",
              " ('need', 8562),\n",
              " ('black', 8528),\n",
              " ('help', 8507),\n",
              " ('whether', 8479),\n",
              " ('three', 8413),\n",
              " ('korea', 8309),\n",
              " ('never', 8149),\n",
              " ('case', 8059),\n",
              " ('around', 8053),\n",
              " ('show', 8041),\n",
              " ('leader', 7982),\n",
              " ('senator', 7906),\n",
              " ('man', 7835),\n",
              " ('members', 7811),\n",
              " ('candidate', 7772),\n",
              " ('order', 7769),\n",
              " ('use', 7711),\n",
              " ('took', 7681),\n",
              " ('come', 7623),\n",
              " ('every', 7582),\n",
              " ('good', 7568),\n",
              " ('report', 7518),\n",
              " ('meeting', 7488),\n",
              " ('fbi', 7470),\n",
              " ('without', 7432),\n",
              " ('power', 7413),\n",
              " ('end', 7374),\n",
              " ('left', 7359),\n",
              " ('iran', 7356),\n",
              " ('used', 7340),\n",
              " ('countries', 7337),\n",
              " ('put', 7332),\n",
              " ('really', 7312),\n",
              " ('investigation', 7242),\n",
              " ('times', 7201),\n",
              " ('intelligence', 7167),\n",
              " ('month', 7156),\n",
              " ('justice', 7026),\n",
              " ('money', 7019),\n",
              " ('twitter', 6992),\n",
              " ('top', 6982),\n",
              " ('information', 6968),\n",
              " ('voters', 6933),\n",
              " ('change', 6894),\n",
              " ('attack', 6869),\n",
              " ('nuclear', 6853),\n",
              " ('trade', 6839),\n",
              " ('family', 6819),\n",
              " ('syria', 6810),\n",
              " ('decision', 6767),\n",
              " ('international', 6759),\n",
              " ('reported', 6743),\n",
              " ('leaders', 6737),\n",
              " ('fact', 6725),\n",
              " ('business', 6687),\n",
              " ('plan', 6684),\n",
              " ('long', 6640),\n",
              " ('south', 6614),\n",
              " ('several', 6596),\n",
              " ('already', 6593),\n",
              " ('days', 6586),\n",
              " ('interview', 6505),\n",
              " ('speech', 6461),\n",
              " ('director', 6440),\n",
              " ('far', 6415),\n",
              " ('groups', 6407),\n",
              " ('agency', 6360),\n",
              " ('story', 6304),\n",
              " ('likely', 6229),\n",
              " ('clear', 6221),\n",
              " ('conservative', 6203),\n",
              " ('something', 6202),\n",
              " ('place', 6192),\n",
              " ('health', 6164),\n",
              " ('among', 6149),\n",
              " ('months', 6139),\n",
              " ('however', 6125),\n",
              " ('must', 6123),\n",
              " ('call', 6069),\n",
              " ('john', 6043),\n",
              " ('barack', 6028),\n",
              " ('fox', 6004),\n",
              " ('believe', 5995),\n",
              " ('program', 5994),\n",
              " ('home', 5990),\n",
              " ('issue', 5959),\n",
              " ('came', 5957),\n",
              " ('border', 5956),\n",
              " ('immigration', 5952),\n",
              " ('children', 5942),\n",
              " ('move', 5941),\n",
              " ('sunday', 5937),\n",
              " ('chief', 5936),\n",
              " ('recent', 5925),\n",
              " ('might', 5917),\n",
              " ('press', 5913),\n",
              " ('i', 5900),\n",
              " ('islamic', 5877),\n",
              " ('post', 5866),\n",
              " ('billion', 5865),\n",
              " ('supporters', 5861),\n",
              " ('got', 5858),\n",
              " ('social', 5853),\n",
              " ('act', 5839),\n",
              " ('things', 5826),\n",
              " ('least', 5823),\n",
              " ('nation', 5800),\n",
              " ('number', 5773),\n",
              " ('seen', 5757),\n",
              " ('found', 5747),\n",
              " ('today', 5742),\n",
              " ('sanders', 5724),\n",
              " ('though', 5709),\n",
              " ('major', 5701),\n",
              " ('trying', 5681),\n",
              " ('great', 5675),\n",
              " ('reporters', 5657),\n",
              " ('control', 5650),\n",
              " ('killed', 5631),\n",
              " ('later', 5598),\n",
              " ('matter', 5542),\n",
              " ('went', 5528),\n",
              " ('spokesman', 5502),\n",
              " ('march', 5490),\n",
              " ('yet', 5469),\n",
              " ('economic', 5469),\n",
              " ('making', 5459),\n",
              " ('actually', 5458),\n",
              " ('let', 5450),\n",
              " ('working', 5440),\n",
              " ('earlier', 5440),\n",
              " ('become', 5430),\n",
              " ('executive', 5427),\n",
              " ('little', 5402),\n",
              " ('look', 5397),\n",
              " ('win', 5388),\n",
              " ('we', 5383),\n",
              " ('keep', 5368),\n",
              " ('added', 5364),\n",
              " ('system', 5349),\n",
              " ('past', 5348),\n",
              " ('defense', 5327),\n",
              " ('muslim', 5311),\n",
              " ('senior', 5310),\n",
              " ('school', 5299),\n",
              " ('give', 5294),\n",
              " ('attacks', 5290),\n",
              " ('point', 5283),\n",
              " ('democrat', 5276),\n",
              " ('set', 5274),\n",
              " ('legal', 5272),\n",
              " ('free', 5269),\n",
              " ('january', 5269),\n",
              " ('four', 5264),\n",
              " ('cruz', 5264),\n",
              " ('forces', 5245),\n",
              " ('away', 5244),\n",
              " ('thing', 5239),\n",
              " ('stop', 5216),\n",
              " ('real', 5214),\n",
              " ('violence', 5212),\n",
              " ('member', 5202),\n",
              " ('big', 5195),\n",
              " ('comment', 5190),\n",
              " ('nothing', 5181),\n",
              " ('governor', 5145),\n",
              " ('eu', 5139),\n",
              " ('t', 5098),\n",
              " ('cnn', 5097),\n",
              " ('european', 5052),\n",
              " ('local', 5028),\n",
              " ('july', 5027),\n",
              " ('ever', 4992),\n",
              " ('taking', 4986),\n",
              " ('lawmakers', 4985),\n",
              " ('known', 4978),\n",
              " ('prime', 4964),\n",
              " ('following', 4960),\n",
              " ('company', 4941),\n",
              " ('human', 4939),\n",
              " ('held', 4929),\n",
              " ('companies', 4926),\n",
              " ('force', 4925),\n",
              " ('issues', 4917),\n",
              " ('nominee', 4895),\n",
              " ('2015', 4894),\n",
              " ('un', 4892),\n",
              " ('woman', 4882),\n",
              " ('wall', 4879),\n",
              " ('expected', 4871),\n",
              " ('person', 4870),\n",
              " ('across', 4865),\n",
              " ('opposition', 4865),\n",
              " ('head', 4862),\n",
              " ('sanctions', 4856),\n",
              " ('care', 4849),\n",
              " ('union', 4831),\n",
              " ('it', 4825),\n",
              " ('continue', 4821),\n",
              " ('talks', 4820),\n",
              " ('attorney', 4820),\n",
              " ('possible', 4816),\n",
              " ('community', 4798),\n",
              " ('men', 4793),\n",
              " ('illegal', 4775),\n",
              " ('released', 4772),\n",
              " ('team', 4765),\n",
              " ('action', 4757),\n",
              " ('better', 4752),\n",
              " ('given', 4742),\n",
              " ('pay', 4740),\n",
              " ('nations', 4739),\n",
              " ('enough', 4737),\n",
              " ('legislation', 4716),\n",
              " ('night', 4706),\n",
              " ('job', 4698),\n",
              " ('others', 4680),\n",
              " ('financial', 4623),\n",
              " ('taken', 4618),\n",
              " ('judge', 4610),\n",
              " ('gun', 4607),\n",
              " ('wrote', 4596),\n",
              " ('high', 4584),\n",
              " ('process', 4580),\n",
              " ('wants', 4571),\n",
              " ('10', 4565),\n",
              " ('supreme', 4553),\n",
              " ('june', 4540),\n",
              " ('done', 4538),\n",
              " ('history', 4530),\n",
              " ('evidence', 4510),\n",
              " ('20', 4509),\n",
              " ('course', 4504),\n",
              " ('question', 4497),\n",
              " ('close', 4493),\n",
              " ('university', 4485),\n",
              " ('lot', 4484),\n",
              " ('images', 4484),\n",
              " ('important', 4477),\n",
              " ('reports', 4471),\n",
              " ('anyone', 4457),\n",
              " ('source', 4451),\n",
              " ('majority', 4441),\n",
              " ('november', 4435),\n",
              " ('life', 4424),\n",
              " ('special', 4422),\n",
              " ('face', 4413),\n",
              " ('mexico', 4397),\n",
              " ('response', 4393),\n",
              " ('saturday', 4385),\n",
              " ('budget', 4384),\n",
              " ('private', 4362),\n",
              " ('iraq', 4357),\n",
              " ('open', 4334),\n",
              " ('second', 4324),\n",
              " ('plans', 4314),\n",
              " ('staff', 4300),\n",
              " ('anything', 4297),\n",
              " ('using', 4293),\n",
              " ('fight', 4288),\n",
              " ('run', 4286),\n",
              " ('conference', 4280),\n",
              " ('debate', 4279),\n",
              " ('ban', 4278),\n",
              " ('watch', 4272),\n",
              " ('syrian', 4263),\n",
              " ('gop', 4249),\n",
              " ('along', 4237),\n",
              " ('email', 4232),\n",
              " ('comments', 4232),\n",
              " ('refugees', 4231),\n",
              " ('efforts', 4229),\n",
              " ('able', 4228),\n",
              " ('accused', 4226),\n",
              " ('despite', 4221),\n",
              " ('air', 4220),\n",
              " ('ago', 4212),\n",
              " ('agreement', 4193),\n",
              " ('mr', 4185),\n",
              " ('race', 4181),\n",
              " ('putin', 4153),\n",
              " ('region', 4133),\n",
              " ('crisis', 4120),\n",
              " ('1', 4117),\n",
              " ('find', 4101),\n",
              " ('less', 4101),\n",
              " ('behind', 4098),\n",
              " ('ryan', 4094),\n",
              " ('death', 4092),\n",
              " ('early', 4088),\n",
              " ('instead', 4088),\n",
              " ('best', 4067),\n",
              " ('lives', 4057),\n",
              " ('role', 4044),\n",
              " ('future', 4040),\n",
              " ('letter', 4036),\n",
              " ('comey', 4034),\n",
              " ('full', 4027),\n",
              " ('someone', 4022),\n",
              " ('current', 4021),\n",
              " ('comes', 4019),\n",
              " ('council', 4000),\n",
              " ('lead', 3973),\n",
              " ('five', 3960),\n",
              " ('sure', 3960),\n",
              " ('within', 3956),\n",
              " ('the', 3941),\n",
              " ('due', 3937),\n",
              " ('saudi', 3913),\n",
              " ('britain', 3905),\n",
              " ('jobs', 3877),\n",
              " ('civil', 3861),\n",
              " ('calling', 3851),\n",
              " ('service', 3850),\n",
              " ('hard', 3850),\n",
              " ('facebook', 3848),\n",
              " ('getting', 3838),\n",
              " ('weeks', 3836),\n",
              " ('israel', 3824),\n",
              " ('name', 3815),\n",
              " ('announced', 3792),\n",
              " ('congressional', 3772),\n",
              " ('center', 3763),\n",
              " ('coming', 3761),\n",
              " ('texas', 3759),\n",
              " ('coalition', 3758),\n",
              " ('economy', 3754),\n",
              " ('effort', 3743),\n",
              " ('young', 3733),\n",
              " ('visit', 3727),\n",
              " ('sources', 3716),\n",
              " ('nearly', 3713),\n",
              " ('weapons', 3698),\n",
              " ('live', 3695),\n",
              " ('2014', 3693),\n",
              " ('votes', 3692),\n",
              " ('8', 3688),\n",
              " ('students', 3688),\n",
              " ('sent', 3687),\n",
              " ('chairman', 3681),\n",
              " ('elections', 3675),\n",
              " ('rules', 3672),\n",
              " ('line', 3667),\n",
              " ('event', 3662),\n",
              " ('running', 3655),\n",
              " ('thousands', 3651),\n",
              " ('citizens', 3643),\n",
              " ('global', 3641),\n",
              " ('talk', 3640),\n",
              " ('muslims', 3636),\n",
              " ('army', 3618),\n",
              " ('allow', 3606),\n",
              " ('position', 3602),\n",
              " ('december', 3598),\n",
              " ('daily', 3598),\n",
              " ('capital', 3586),\n",
              " ('candidates', 3576),\n",
              " ('paul', 3568),\n",
              " ('street', 3568),\n",
              " ('october', 3553),\n",
              " ('whose', 3553),\n",
              " ('led', 3553),\n",
              " ('began', 3551),\n",
              " ('wanted', 3540),\n",
              " ('rule', 3536),\n",
              " ('april', 3534),\n",
              " ('emails', 3528),\n",
              " ('showed', 3519),\n",
              " ('authorities', 3517),\n",
              " ('ties', 3516),\n",
              " ('obamacare', 3513),\n",
              " ('outside', 3512),\n",
              " ('late', 3509),\n",
              " ('everyone', 3507),\n",
              " ('bush', 3494),\n",
              " ('problem', 3489),\n",
              " ('workers', 3484),\n",
              " ('september', 3482),\n",
              " ('middle', 3477),\n",
              " ('officers', 3471),\n",
              " ('august', 3471),\n",
              " ('hold', 3467),\n",
              " ('climate', 3464),\n",
              " ('15', 3462),\n",
              " ('tell', 3450),\n",
              " ('needs', 3447),\n",
              " ('representatives', 3445),\n",
              " ('ruling', 3442),\n",
              " ('means', 3442),\n",
              " ('east', 3442),\n",
              " ('gave', 3441),\n",
              " ('healthcare', 3433),\n",
              " ('failed', 3423),\n",
              " ('florida', 3423),\n",
              " ('politics', 3417),\n",
              " ('immediately', 3413),\n",
              " ('immigrants', 3404),\n",
              " ('message', 3390),\n",
              " ('relations', 3388),\n",
              " ('bad', 3383),\n",
              " ('leave', 3381),\n",
              " ('latest', 3381),\n",
              " ('lost', 3371),\n",
              " ('criminal', 3370),\n",
              " ('moscow', 3363),\n",
              " ('february', 3361),\n",
              " ('speaking', 3361),\n",
              " ('threat', 3355),\n",
              " ('together', 3348),\n",
              " ('questions', 3334),\n",
              " ('turkey', 3333),\n",
              " ('start', 3332),\n",
              " ('different', 3323),\n",
              " ('poll', 3322),\n",
              " ('services', 3321),\n",
              " ('claims', 3318),\n",
              " ('words', 3317),\n",
              " ('hope', 3311),\n",
              " ('policies', 3310),\n",
              " ('reform', 3306),\n",
              " ('germany', 3306),\n",
              " ('voting', 3294),\n",
              " ('rather', 3294),\n",
              " ('parliament', 3286),\n",
              " ('stand', 3280),\n",
              " ('access', 3278),\n",
              " ('central', 3276),\n",
              " ('ministry', 3274),\n",
              " ('racist', 3270),\n",
              " ('based', 3266),\n",
              " ('peace', 3264),\n",
              " ('read', 3261),\n",
              " ('almost', 3259),\n",
              " ('strong', 3256),\n",
              " ('agencies', 3250),\n",
              " ('received', 3248),\n",
              " ('allies', 3246),\n",
              " ('reason', 3246),\n",
              " ('cut', 3240),\n",
              " ('cannot', 3238),\n",
              " ('2', 3235),\n",
              " ('tried', 3234),\n",
              " ('recently', 3225),\n",
              " ('organization', 3224),\n",
              " ('try', 3222),\n",
              " ('2017', 3214),\n",
              " ('thought', 3210),\n",
              " ('spending', 3202),\n",
              " ('list', 3199),\n",
              " ('rally', 3196),\n",
              " ('six', 3190),\n",
              " ('morning', 3180),\n",
              " ('decided', 3180),\n",
              " ('fake', 3178),\n",
              " ('release', 3177),\n",
              " ('planned', 3175),\n",
              " ('30', 3174),\n",
              " ('millions', 3173),\n",
              " ('allowed', 3173),\n",
              " ('idea', 3154),\n",
              " ('conservatives', 3145),\n",
              " ('funding', 3141),\n",
              " ('enforcement', 3135),\n",
              " ('makes', 3134),\n",
              " ('meet', 3133),\n",
              " ('oil', 3133),\n",
              " ('ahead', 3132),\n",
              " ('always', 3128),\n",
              " ('elected', 3126),\n",
              " ('provide', 3124),\n",
              " ('often', 3123),\n",
              " ('bring', 3118),\n",
              " ('george', 3117),\n",
              " ('laws', 3115),\n",
              " ('europe', 3115),\n",
              " ('sexual', 3110),\n",
              " ('liberal', 3108),\n",
              " ('protect', 3107),\n",
              " ('district', 3101),\n",
              " ('concerns', 3100),\n",
              " ('situation', 3095),\n",
              " ('parties', 3090),\n",
              " ('entire', 3086),\n",
              " ('met', 3084),\n",
              " ('bank', 3083),\n",
              " ('involved', 3077),\n",
              " ('kind', 3063),\n",
              " ('talking', 3057),\n",
              " ('chinese', 3052),\n",
              " ('denied', 3050),\n",
              " ('california', 3041),\n",
              " ('missile', 3030),\n",
              " ('charges', 3026),\n",
              " ('officer', 3025),\n",
              " ('everything', 3022),\n",
              " ('happened', 3012),\n",
              " ('energy', 3001),\n",
              " ('agreed', 2988),\n",
              " ('small', 2987),\n",
              " ('calls', 2985),\n",
              " ('3', 2982),\n",
              " ('especially', 2982),\n",
              " ('looking', 2982),\n",
              " ('needed', 2978),\n",
              " ('century', 2973),\n",
              " ('key', 2973),\n",
              " ('fire', 2967),\n",
              " ('near', 2967),\n",
              " ('allegations', 2965),\n",
              " ('include', 2961),\n",
              " ('vice', 2961),\n",
              " ('side', 2959),\n",
              " ('hate', 2936),\n",
              " ('area', 2930),\n",
              " ('shot', 2928),\n",
              " ('industry', 2927),\n",
              " ('large', 2924),\n",
              " ('movement', 2922),\n",
              " ('freedom', 2921),\n",
              " ('james', 2919),\n",
              " ('nomination', 2918),\n",
              " ('voted', 2911),\n",
              " ('representative', 2905),\n",
              " ('hours', 2905),\n",
              " ('county', 2900),\n",
              " ('although', 2894),\n",
              " ('west', 2894),\n",
              " ('seems', 2890),\n",
              " ('room', 2882),\n",
              " ('host', 2875),\n",
              " ('return', 2871),\n",
              " ('request', 2870),\n",
              " ('potential', 2870),\n",
              " ('personal', 2869),\n",
              " ('12', 2868),\n",
              " ('water', 2867),\n",
              " ('old', 2867),\n",
              " ('data', 2864),\n",
              " ('documents', 2853),\n",
              " ('shooting', 2852),\n",
              " ('presidency', 2851),\n",
              " ('2012', 2850),\n",
              " ('market', 2849),\n",
              " ('adding', 2848),\n",
              " ('terrorist', 2829),\n",
              " ('myanmar', 2826),\n",
              " ('actions', 2822),\n",
              " ('realdonaldtrump', 2820),\n",
              " ('confirmed', 2814),\n",
              " ('fighting', 2814),\n",
              " ('polls', 2805),\n",
              " ('either', 2804),\n",
              " ('western', 2799),\n",
              " ('hearing', 2797),\n",
              " ('shows', 2794),\n",
              " ('interest', 2781),\n",
              " ('decades', 2781),\n",
              " ('cases', 2778),\n",
              " ('commission', 2778),\n",
              " ('insurance', 2772),\n",
              " ('korean', 2771),\n",
              " ('arrested', 2769),\n",
              " ('worked', 2767),\n",
              " ('wife', 2766),\n",
              " ('true', 2761),\n",
              " ('foundation', 2759),\n",
              " ('crime', 2759),\n",
              " ('serious', 2758),\n",
              " ('j', 2757),\n",
              " ('claim', 2755),\n",
              " ('spoke', 2755),\n",
              " ('british', 2751),\n",
              " ('forward', 2750),\n",
              " ('travel', 2748),\n",
              " ('fired', 2745),\n",
              " ('nov', 2743),\n",
              " ('claimed', 2742),\n",
              " ('building', 2742),\n",
              " ('11', 2740),\n",
              " ('adviser', 2737),\n",
              " ('hit', 2732),\n",
              " ('probably', 2730),\n",
              " ('passed', 2730),\n",
              " ('continued', 2728),\n",
              " ('term', 2727),\n",
              " ('tillerson', 2726),\n",
              " ('address', 2725),\n",
              " ('clearly', 2720),\n",
              " ('step', 2712),\n",
              " ('leading', 2707),\n",
              " ('tweet', 2707),\n",
              " ('protesters', 2701),\n",
              " ('wrong', 2699),\n",
              " ('pressure', 2690),\n",
              " ('paid', 2684),\n",
              " ('front', 2684),\n",
              " ('appeared', 2681),\n",
              " ('5', 2679),\n",
              " ('biggest', 2678),\n",
              " ('alleged', 2677),\n",
              " ('board', 2675),\n",
              " ('main', 2673),\n",
              " ('feel', 2665),\n",
              " ('flynn', 2652),\n",
              " ('families', 2646),\n",
              " ('father', 2641),\n",
              " ('bernie', 2639),\n",
              " ('mean', 2635),\n",
              " ('love', 2635),\n",
              " ('declined', 2633),\n",
              " ('primary', 2622),\n",
              " ('4', 2622),\n",
              " ('review', 2611),\n",
              " ('leadership', 2609),\n",
              " ('brought', 2606),\n",
              " ('simply', 2604),\n",
              " ('soon', 2600),\n",
              " ('issued', 2584),\n",
              " ('network', 2576),\n",
              " ('michael', 2567),\n",
              " ('result', 2561),\n",
              " ('signed', 2558),\n",
              " ('victory', 2558),\n",
              " ('dollars', 2556),\n",
              " ('taxes', 2555),\n",
              " ('son', 2555),\n",
              " ('final', 2555),\n",
              " ('posted', 2552),\n",
              " ('started', 2550),\n",
              " ('spent', 2548),\n",
              " ('lawyer', 2547),\n",
              " ('toward', 2546),\n",
              " ('became', 2546),\n",
              " ('turn', 2545),\n",
              " ('turned', 2543),\n",
              " ('included', 2541),\n",
              " ('record', 2540),\n",
              " ('mike', 2533),\n",
              " ('deputy', 2530),\n",
              " ('arabia', 2526),\n",
              " ('remarks', 2518),\n",
              " ('college', 2513),\n",
              " ('terrorism', 2512),\n",
              " ('previously', 2509),\n",
              " ('points', 2504),\n",
              " ('25', 2502),\n",
              " ('truth', 2501),\n",
              " ('raised', 2499),\n",
              " ('david', 2495),\n",
              " ('rubio', 2493),\n",
              " ('2013', 2487),\n",
              " ('pence', 2485),\n",
              " ('sessions', 2480),\n",
              " ('pretty', 2479),\n",
              " ('religious', 2477),\n",
              " ('level', 2469),\n",
              " ('constitution', 2467),\n",
              " ('popular', 2464),\n",
              " ('attempt', 2464),\n",
              " ('saw', 2463),\n",
              " ('sign', 2457),\n",
              " ('relationship', 2456),\n",
              " ('article', 2456),\n",
              " ('influence', 2456),\n",
              " ('mark', 2453),\n",
              " ('details', 2451),\n",
              " ('protests', 2447),\n",
              " ('protest', 2447),\n",
              " ('agenda', 2447),\n",
              " ('london', 2446),\n",
              " ('pass', 2442),\n",
              " ('view', 2439),\n",
              " ('town', 2437),\n",
              " ('independence', 2435),\n",
              " ('mccain', 2435),\n",
              " ('seeking', 2431),\n",
              " ('half', 2429),\n",
              " ('short', 2426),\n",
              " ('re', 2426),\n",
              " ('food', 2423),\n",
              " ('ted', 2422),\n",
              " ('guy', 2420),\n",
              " ('forced', 2419),\n",
              " ('aid', 2418),\n",
              " ('giving', 2418),\n",
              " ('account', 2416),\n",
              " ('proposed', 2408),\n",
              " ('cost', 2408),\n",
              " ('described', 2408),\n",
              " ('firm', 2403),\n",
              " ('merkel', 2397),\n",
              " ('repeatedly', 2394),\n",
              " ('conflict', 2394),\n",
              " ('total', 2392),\n",
              " ('helped', 2391),\n",
              " ('militants', 2390),\n",
              " ('website', 2388),\n",
              " ('friends', 2386),\n",
              " ('heard', 2381),\n",
              " ('increase', 2379),\n",
              " ('fund', 2377),\n",
              " ('cia', 2375),\n",
              " ('hundreds', 2373),\n",
              " ('al', 2371),\n",
              " ('child', 2370),\n",
              " ('mayor', 2370),\n",
              " ('regional', 2365),\n",
              " ('convention', 2364),\n",
              " ('currently', 2362),\n",
              " ('criticized', 2361),\n",
              " ('areas', 2360),\n",
              " ('speak', 2358),\n",
              " ('remain', 2357),\n",
              " ('largest', 2356),\n",
              " ('phone', 2356),\n",
              " ('longer', 2354),\n",
              " ('armed', 2350),\n",
              " ('carolina', 2348),\n",
              " ('similar', 2347),\n",
              " ('wire', 2341),\n",
              " ('created', 2337),\n",
              " ('ask', 2336),\n",
              " ('example', 2335),\n",
              " ('push', 2335),\n",
              " ('else', 2333),\n",
              " ('isis', 2325),\n",
              " ('respond', 2324),\n",
              " ('ambassador', 2322),\n",
              " ('21st', 2319),\n",
              " ('debt', 2318),\n",
              " ('changes', 2316),\n",
              " ('hand', 2314),\n",
              " ('independent', 2311),\n",
              " ('fear', 2310),\n",
              " ('whole', 2308),\n",
              " ('reality', 2308),\n",
              " ('incident', 2294),\n",
              " ('build', 2289),\n",
              " ('san', 2282),\n",
              " ('troops', 2277),\n",
              " ('secret', 2277),\n",
              " ('presidentelect', 2276),\n",
              " ('speaker', 2272),\n",
              " ('third', 2269),\n",
              " ('education', 2258),\n",
              " ('programs', 2257),\n",
              " ('robert', 2252),\n",
              " ('violent', 2251),\n",
              " ('hands', 2250),\n",
              " ('warned', 2250),\n",
              " ('criticism', 2247),\n",
              " ('crowd', 2244),\n",
              " ('single', 2244),\n",
              " ('german', 2243),\n",
              " ('seven', 2242),\n",
              " ('employees', 2238),\n",
              " ('funds', 2238),\n",
              " ('voter', 2223),\n",
              " ('goes', 2223),\n",
              " ('stay', 2222),\n",
              " ('northern', 2213),\n",
              " ('published', 2208),\n",
              " ('discuss', 2208),\n",
              " ('rate', 2201),\n",
              " ('beijing', 2199),\n",
              " ('victims', 2191),\n",
              " ('telling', 2190),\n",
              " ('living', 2186),\n",
              " ('spokeswoman', 2182),\n",
              " ('base', 2179),\n",
              " ('tweeted', 2167),\n",
              " ('absolutely', 2167),\n",
              " ('tv', 2166),\n",
              " ('13', 2165),\n",
              " ('flag', 2163),\n",
              " ('opinion', 2160),\n",
              " ('100', 2160),\n",
              " ('asking', 2158),\n",
              " ('risk', 2157),\n",
              " ('japan', 2157),\n",
              " ('understand', 2153),\n",
              " ('proposal', 2147),\n",
              " ('johnson', 2143),\n",
              " ('medical', 2140),\n",
              " ('lower', 2139),\n",
              " ('television', 2137),\n",
              " ('18', 2135),\n",
              " ('france', 2135),\n",
              " ('apparently', 2133),\n",
              " ('cause', 2133),\n",
              " ('paris', 2131),\n",
              " ('served', 2129),\n",
              " ('island', 2128),\n",
              " ('happen', 2126),\n",
              " ('experts', 2124),\n",
              " ('refugee', 2122),\n",
              " ('previous', 2121),\n",
              " ('form', 2120),\n",
              " ('focus', 2120),\n",
              " ('24', 2118),\n",
              " ('senators', 2118),\n",
              " ('businesses', 2114),\n",
              " ('operations', 2114),\n",
              " ('interests', 2110),\n",
              " ('appears', 2108),\n",
              " ('concerned', 2103),\n",
              " ('safe', 2101),\n",
              " ('dangerous', 2100),\n",
              " ('share', 2097),\n",
              " ('page', 2097),\n",
              " ('concern', 2096),\n",
              " ('quickly', 2096),\n",
              " ('measures', 2096),\n",
              " ('mass', 2094),\n",
              " ('exactly', 2092),\n",
              " ('inside', 2092),\n",
              " ('powerful', 2091),\n",
              " ('individuals', 2089),\n",
              " ('prevent', 2089),\n",
              " ('consider', 2088),\n",
              " ('transition', 2087),\n",
              " ('problems', 2083),\n",
              " ('urged', 2083),\n",
              " ('safety', 2082),\n",
              " ('16', 2079),\n",
              " ('southern', 2078),\n",
              " ('politicians', 2076),\n",
              " ('7', 2075),\n",
              " ('completely', 2075),\n",
              " ('died', 2074),\n",
              " ('radio', 2073),\n",
              " ('breitbart', 2070),\n",
              " ('14', 2069),\n",
              " ('respect', 2065),\n",
              " ('virginia', 2060),\n",
              " ('events', 2056),\n",
              " ('results', 2053),\n",
              " ('fellow', 2053),\n",
              " ('development', 2052),\n",
              " ('rohingya', 2051),\n",
              " ('research', 2049),\n",
              " ('charged', 2048),\n",
              " ('nato', 2038),\n",
              " ('project', 2037),\n",
              " ('measure', 2036),\n",
              " ('committed', 2035),\n",
              " ('mainstream', 2035),\n",
              " ('certainly', 2033),\n",
              " ('iraqi', 2031),\n",
              " ('christian', 2028),\n",
              " ('numbers', 2027),\n",
              " ('don', 2023),\n",
              " ('poor', 2021),\n",
              " ('answer', 2020),\n",
              " ('eight', 2013),\n",
              " ('king', 2013),\n",
              " ('certain', 2008),\n",
              " ('ground', 2008),\n",
              " ('kurdish', 2008),\n",
              " ('named', 2003),\n",
              " ('moment', 1999),\n",
              " ('mother', 1994),\n",
              " ('terrorists', 1993),\n",
              " ('leaving', 1990),\n",
              " ('residents', 1989),\n",
              " ('moore', 1986),\n",
              " ('terms', 1984),\n",
              " ('considered', 1984),\n",
              " ('knew', 1984),\n",
              " ('reporter', 1983),\n",
              " ('50', 1978)]"
            ]
          },
          "metadata": {},
          "execution_count": 13
        }
      ]
    },
    {
      "cell_type": "markdown",
      "source": [
        "**Checking the list of rare words used in the dataset**"
      ],
      "metadata": {
        "id": "HPliSAxqupxq"
      }
    },
    {
      "cell_type": "code",
      "source": [
        "Rare_words = set(word for (word, wc) in word_count.most_common()[:-100:-1])\n",
        "Rare_words"
      ],
      "metadata": {
        "colab": {
          "base_uri": "https://localhost:8080/"
        },
        "id": "eFw93Ur0jIvL",
        "outputId": "dae399d9-4832-48cc-a314-6104cab24fe1"
      },
      "execution_count": null,
      "outputs": [
        {
          "output_type": "execute_result",
          "data": {
            "text/plain": [
              "{'07240',\n",
              " '07250',\n",
              " '100person',\n",
              " '1550497',\n",
              " '16650',\n",
              " '26456',\n",
              " '94page',\n",
              " 'afpon',\n",
              " 'aumfs',\n",
              " 'bankrollers',\n",
              " 'barrelling',\n",
              " 'believethat',\n",
              " 'byefelicia',\n",
              " 'carefullylaid',\n",
              " 'chairpriebus',\n",
              " 'congressaccording',\n",
              " 'coursenever',\n",
              " 'customdesigned',\n",
              " 'cx893',\n",
              " 'democraticallyruled',\n",
              " 'dilg',\n",
              " 'distancewhile',\n",
              " 'dmiss',\n",
              " 'doomedwith',\n",
              " 'doorstepread',\n",
              " 'dzmm',\n",
              " 'economyon',\n",
              " 'egyptianorigin',\n",
              " 'electedyou',\n",
              " 'equalhe',\n",
              " 'espina',\n",
              " 'establishmentwell',\n",
              " 'failsholt',\n",
              " 'franciscohong',\n",
              " 'fullhttpswwwyoutubecomwatchv8himytr04mfeatured',\n",
              " 'giftbasket',\n",
              " 'healthin',\n",
              " 'helios',\n",
              " 'hellenistic',\n",
              " 'highdisagreements',\n",
              " 'hittite',\n",
              " 'iliana',\n",
              " 'involvedwhat',\n",
              " 'itmonths',\n",
              " 'kasongo',\n",
              " 'launchthe',\n",
              " 'lcll',\n",
              " 'lererlerer',\n",
              " 'lessonaccording',\n",
              " 'lessspecific',\n",
              " 'logren',\n",
              " 'louisclaude',\n",
              " 'luxembourglondon',\n",
              " 'mindignoring',\n",
              " 'mshep08mike',\n",
              " 'muffin',\n",
              " 'opsgroup',\n",
              " 'p2p001',\n",
              " 'phoeniciantype',\n",
              " 'pictwittercom220z5fjx4g',\n",
              " 'pictwittercomdrlp6fw4vo',\n",
              " 'pictwittercomvrtz6sgsuc',\n",
              " 'platformcronyism',\n",
              " 'platformstrong',\n",
              " 'pouted',\n",
              " 'ppbi',\n",
              " 'ppbl',\n",
              " 'processputting',\n",
              " 'recirculate',\n",
              " 'reentries',\n",
              " 'regimeno',\n",
              " 'regionalcommunity',\n",
              " 'reillytrump',\n",
              " 'reporthannity',\n",
              " 'republicansnow',\n",
              " 'reutrs2xsfahh',\n",
              " 'sangare',\n",
              " 'shabani',\n",
              " 'shootertrump',\n",
              " 'sinsmartin',\n",
              " 'stagnationnow',\n",
              " 'supertyphoon',\n",
              " 'tacloban',\n",
              " 'taiwantop',\n",
              " 'teardrop',\n",
              " 'thoughtcnn',\n",
              " 'trumpmeg',\n",
              " 'tshimwanga',\n",
              " 'tweetable',\n",
              " 'tweetfor',\n",
              " 'twitching',\n",
              " 'urduja',\n",
              " 'visayas',\n",
              " 'visitthere',\n",
              " 'votewinners',\n",
              " 'waterdemocrats',\n",
              " 'yahooread',\n",
              " 'yolanda',\n",
              " 'yoursyou'}"
            ]
          },
          "metadata": {},
          "execution_count": 14
        }
      ]
    },
    {
      "cell_type": "markdown",
      "metadata": {
        "id": "jzdp0HPxXToj"
      },
      "source": [
        "**Initializing Porter Stemmer function and applying stemming to reduce the text to their root word**"
      ]
    },
    {
      "cell_type": "code",
      "execution_count": null,
      "metadata": {
        "id": "RRAlObUBU6sp"
      },
      "outputs": [],
      "source": [
        "port_stemming = PorterStemmer()"
      ]
    },
    {
      "cell_type": "code",
      "execution_count": null,
      "metadata": {
        "id": "vdLnngQTU8zG"
      },
      "outputs": [],
      "source": [
        "def stemming(text):\n",
        "  return \" \".join([port_stemming.stem(word) for word in text.split()])"
      ]
    },
    {
      "cell_type": "code",
      "execution_count": null,
      "metadata": {
        "colab": {
          "base_uri": "https://localhost:8080/",
          "height": 519
        },
        "id": "0MaiQIWbU-1Y",
        "outputId": "57cab3a3-6254-46c4-a283-81dcb924c6ab"
      },
      "outputs": [
        {
          "output_type": "execute_result",
          "data": {
            "text/plain": [
              "                                                   title  \\\n",
              "38907  Voter confidence in UK handling of Brexit ebbs...   \n",
              "29988  Ryan wins re-election as speaker of U.S. House...   \n",
              "28587  Immigration judges exempt from Trump's federal...   \n",
              "32850  Hacker who exposed Hillary Clinton's email ser...   \n",
              "32840  'Little House' star drops bid for U.S. congres...   \n",
              "\n",
              "                                                    text       subject  \\\n",
              "38907  LONDON (Reuters) - A record majority of Briton...     worldnews   \n",
              "29988  WASHINGTON (Reuters) - U.S. Representative Pau...  politicsNews   \n",
              "28587  (Reuters) - President Donald Trump’s federal h...  politicsNews   \n",
              "32850  WASHINGTON (Reuters) - A Romanian computer hac...  politicsNews   \n",
              "32840  (Reuters) - Melissa Gilbert, best known for pl...  politicsNews   \n",
              "\n",
              "            date  marker  label  \\\n",
              "38907  07-Nov-17    True      0   \n",
              "29988  03-Jan-17    True      0   \n",
              "28587  03-Mar-17    True      0   \n",
              "32850  25-May-16    True      0   \n",
              "32840  25-May-16    True      0   \n",
              "\n",
              "                                         processing_text  \\\n",
              "38907  london reuters record majority britons disappr...   \n",
              "29988  washington reuters us representative paul ryan...   \n",
              "28587  reuters president donald trump s federal hirin...   \n",
              "32850  washington reuters romanian computer hacker re...   \n",
              "32840  reuters melissa gilbert best known playing lau...   \n",
              "\n",
              "                                            stemmed_text  \n",
              "38907  london reuter record major briton disapprov pr...  \n",
              "29988  washington reuter us repres paul ryan reelect ...  \n",
              "28587  reuter presid donald trump s feder hire freez ...  \n",
              "32850  washington reuter romanian comput hacker revea...  \n",
              "32840  reuter melissa gilbert best known play laura i...  "
            ],
            "text/html": [
              "\n",
              "  <div id=\"df-23e68f00-9859-4581-9ec3-e1109eedeb6d\" class=\"colab-df-container\">\n",
              "    <div>\n",
              "<style scoped>\n",
              "    .dataframe tbody tr th:only-of-type {\n",
              "        vertical-align: middle;\n",
              "    }\n",
              "\n",
              "    .dataframe tbody tr th {\n",
              "        vertical-align: top;\n",
              "    }\n",
              "\n",
              "    .dataframe thead th {\n",
              "        text-align: right;\n",
              "    }\n",
              "</style>\n",
              "<table border=\"1\" class=\"dataframe\">\n",
              "  <thead>\n",
              "    <tr style=\"text-align: right;\">\n",
              "      <th></th>\n",
              "      <th>title</th>\n",
              "      <th>text</th>\n",
              "      <th>subject</th>\n",
              "      <th>date</th>\n",
              "      <th>marker</th>\n",
              "      <th>label</th>\n",
              "      <th>processing_text</th>\n",
              "      <th>stemmed_text</th>\n",
              "    </tr>\n",
              "  </thead>\n",
              "  <tbody>\n",
              "    <tr>\n",
              "      <th>38907</th>\n",
              "      <td>Voter confidence in UK handling of Brexit ebbs...</td>\n",
              "      <td>LONDON (Reuters) - A record majority of Briton...</td>\n",
              "      <td>worldnews</td>\n",
              "      <td>07-Nov-17</td>\n",
              "      <td>True</td>\n",
              "      <td>0</td>\n",
              "      <td>london reuters record majority britons disappr...</td>\n",
              "      <td>london reuter record major briton disapprov pr...</td>\n",
              "    </tr>\n",
              "    <tr>\n",
              "      <th>29988</th>\n",
              "      <td>Ryan wins re-election as speaker of U.S. House...</td>\n",
              "      <td>WASHINGTON (Reuters) - U.S. Representative Pau...</td>\n",
              "      <td>politicsNews</td>\n",
              "      <td>03-Jan-17</td>\n",
              "      <td>True</td>\n",
              "      <td>0</td>\n",
              "      <td>washington reuters us representative paul ryan...</td>\n",
              "      <td>washington reuter us repres paul ryan reelect ...</td>\n",
              "    </tr>\n",
              "    <tr>\n",
              "      <th>28587</th>\n",
              "      <td>Immigration judges exempt from Trump's federal...</td>\n",
              "      <td>(Reuters) - President Donald Trump’s federal h...</td>\n",
              "      <td>politicsNews</td>\n",
              "      <td>03-Mar-17</td>\n",
              "      <td>True</td>\n",
              "      <td>0</td>\n",
              "      <td>reuters president donald trump s federal hirin...</td>\n",
              "      <td>reuter presid donald trump s feder hire freez ...</td>\n",
              "    </tr>\n",
              "    <tr>\n",
              "      <th>32850</th>\n",
              "      <td>Hacker who exposed Hillary Clinton's email ser...</td>\n",
              "      <td>WASHINGTON (Reuters) - A Romanian computer hac...</td>\n",
              "      <td>politicsNews</td>\n",
              "      <td>25-May-16</td>\n",
              "      <td>True</td>\n",
              "      <td>0</td>\n",
              "      <td>washington reuters romanian computer hacker re...</td>\n",
              "      <td>washington reuter romanian comput hacker revea...</td>\n",
              "    </tr>\n",
              "    <tr>\n",
              "      <th>32840</th>\n",
              "      <td>'Little House' star drops bid for U.S. congres...</td>\n",
              "      <td>(Reuters) - Melissa Gilbert, best known for pl...</td>\n",
              "      <td>politicsNews</td>\n",
              "      <td>25-May-16</td>\n",
              "      <td>True</td>\n",
              "      <td>0</td>\n",
              "      <td>reuters melissa gilbert best known playing lau...</td>\n",
              "      <td>reuter melissa gilbert best known play laura i...</td>\n",
              "    </tr>\n",
              "  </tbody>\n",
              "</table>\n",
              "</div>\n",
              "    <div class=\"colab-df-buttons\">\n",
              "\n",
              "  <div class=\"colab-df-container\">\n",
              "    <button class=\"colab-df-convert\" onclick=\"convertToInteractive('df-23e68f00-9859-4581-9ec3-e1109eedeb6d')\"\n",
              "            title=\"Convert this dataframe to an interactive table.\"\n",
              "            style=\"display:none;\">\n",
              "\n",
              "  <svg xmlns=\"http://www.w3.org/2000/svg\" height=\"24px\" viewBox=\"0 -960 960 960\">\n",
              "    <path d=\"M120-120v-720h720v720H120Zm60-500h600v-160H180v160Zm220 220h160v-160H400v160Zm0 220h160v-160H400v160ZM180-400h160v-160H180v160Zm440 0h160v-160H620v160ZM180-180h160v-160H180v160Zm440 0h160v-160H620v160Z\"/>\n",
              "  </svg>\n",
              "    </button>\n",
              "\n",
              "  <style>\n",
              "    .colab-df-container {\n",
              "      display:flex;\n",
              "      gap: 12px;\n",
              "    }\n",
              "\n",
              "    .colab-df-convert {\n",
              "      background-color: #E8F0FE;\n",
              "      border: none;\n",
              "      border-radius: 50%;\n",
              "      cursor: pointer;\n",
              "      display: none;\n",
              "      fill: #1967D2;\n",
              "      height: 32px;\n",
              "      padding: 0 0 0 0;\n",
              "      width: 32px;\n",
              "    }\n",
              "\n",
              "    .colab-df-convert:hover {\n",
              "      background-color: #E2EBFA;\n",
              "      box-shadow: 0px 1px 2px rgba(60, 64, 67, 0.3), 0px 1px 3px 1px rgba(60, 64, 67, 0.15);\n",
              "      fill: #174EA6;\n",
              "    }\n",
              "\n",
              "    .colab-df-buttons div {\n",
              "      margin-bottom: 4px;\n",
              "    }\n",
              "\n",
              "    [theme=dark] .colab-df-convert {\n",
              "      background-color: #3B4455;\n",
              "      fill: #D2E3FC;\n",
              "    }\n",
              "\n",
              "    [theme=dark] .colab-df-convert:hover {\n",
              "      background-color: #434B5C;\n",
              "      box-shadow: 0px 1px 3px 1px rgba(0, 0, 0, 0.15);\n",
              "      filter: drop-shadow(0px 1px 2px rgba(0, 0, 0, 0.3));\n",
              "      fill: #FFFFFF;\n",
              "    }\n",
              "  </style>\n",
              "\n",
              "    <script>\n",
              "      const buttonEl =\n",
              "        document.querySelector('#df-23e68f00-9859-4581-9ec3-e1109eedeb6d button.colab-df-convert');\n",
              "      buttonEl.style.display =\n",
              "        google.colab.kernel.accessAllowed ? 'block' : 'none';\n",
              "\n",
              "      async function convertToInteractive(key) {\n",
              "        const element = document.querySelector('#df-23e68f00-9859-4581-9ec3-e1109eedeb6d');\n",
              "        const dataTable =\n",
              "          await google.colab.kernel.invokeFunction('convertToInteractive',\n",
              "                                                    [key], {});\n",
              "        if (!dataTable) return;\n",
              "\n",
              "        const docLinkHtml = 'Like what you see? Visit the ' +\n",
              "          '<a target=\"_blank\" href=https://colab.research.google.com/notebooks/data_table.ipynb>data table notebook</a>'\n",
              "          + ' to learn more about interactive tables.';\n",
              "        element.innerHTML = '';\n",
              "        dataTable['output_type'] = 'display_data';\n",
              "        await google.colab.output.renderOutput(dataTable, element);\n",
              "        const docLink = document.createElement('div');\n",
              "        docLink.innerHTML = docLinkHtml;\n",
              "        element.appendChild(docLink);\n",
              "      }\n",
              "    </script>\n",
              "  </div>\n",
              "\n",
              "\n",
              "<div id=\"df-065547d2-654e-4f20-b4c8-736bc8f1ec2d\">\n",
              "  <button class=\"colab-df-quickchart\" onclick=\"quickchart('df-065547d2-654e-4f20-b4c8-736bc8f1ec2d')\"\n",
              "            title=\"Suggest charts\"\n",
              "            style=\"display:none;\">\n",
              "\n",
              "<svg xmlns=\"http://www.w3.org/2000/svg\" height=\"24px\"viewBox=\"0 0 24 24\"\n",
              "     width=\"24px\">\n",
              "    <g>\n",
              "        <path d=\"M19 3H5c-1.1 0-2 .9-2 2v14c0 1.1.9 2 2 2h14c1.1 0 2-.9 2-2V5c0-1.1-.9-2-2-2zM9 17H7v-7h2v7zm4 0h-2V7h2v10zm4 0h-2v-4h2v4z\"/>\n",
              "    </g>\n",
              "</svg>\n",
              "  </button>\n",
              "\n",
              "<style>\n",
              "  .colab-df-quickchart {\n",
              "      --bg-color: #E8F0FE;\n",
              "      --fill-color: #1967D2;\n",
              "      --hover-bg-color: #E2EBFA;\n",
              "      --hover-fill-color: #174EA6;\n",
              "      --disabled-fill-color: #AAA;\n",
              "      --disabled-bg-color: #DDD;\n",
              "  }\n",
              "\n",
              "  [theme=dark] .colab-df-quickchart {\n",
              "      --bg-color: #3B4455;\n",
              "      --fill-color: #D2E3FC;\n",
              "      --hover-bg-color: #434B5C;\n",
              "      --hover-fill-color: #FFFFFF;\n",
              "      --disabled-bg-color: #3B4455;\n",
              "      --disabled-fill-color: #666;\n",
              "  }\n",
              "\n",
              "  .colab-df-quickchart {\n",
              "    background-color: var(--bg-color);\n",
              "    border: none;\n",
              "    border-radius: 50%;\n",
              "    cursor: pointer;\n",
              "    display: none;\n",
              "    fill: var(--fill-color);\n",
              "    height: 32px;\n",
              "    padding: 0;\n",
              "    width: 32px;\n",
              "  }\n",
              "\n",
              "  .colab-df-quickchart:hover {\n",
              "    background-color: var(--hover-bg-color);\n",
              "    box-shadow: 0 1px 2px rgba(60, 64, 67, 0.3), 0 1px 3px 1px rgba(60, 64, 67, 0.15);\n",
              "    fill: var(--button-hover-fill-color);\n",
              "  }\n",
              "\n",
              "  .colab-df-quickchart-complete:disabled,\n",
              "  .colab-df-quickchart-complete:disabled:hover {\n",
              "    background-color: var(--disabled-bg-color);\n",
              "    fill: var(--disabled-fill-color);\n",
              "    box-shadow: none;\n",
              "  }\n",
              "\n",
              "  .colab-df-spinner {\n",
              "    border: 2px solid var(--fill-color);\n",
              "    border-color: transparent;\n",
              "    border-bottom-color: var(--fill-color);\n",
              "    animation:\n",
              "      spin 1s steps(1) infinite;\n",
              "  }\n",
              "\n",
              "  @keyframes spin {\n",
              "    0% {\n",
              "      border-color: transparent;\n",
              "      border-bottom-color: var(--fill-color);\n",
              "      border-left-color: var(--fill-color);\n",
              "    }\n",
              "    20% {\n",
              "      border-color: transparent;\n",
              "      border-left-color: var(--fill-color);\n",
              "      border-top-color: var(--fill-color);\n",
              "    }\n",
              "    30% {\n",
              "      border-color: transparent;\n",
              "      border-left-color: var(--fill-color);\n",
              "      border-top-color: var(--fill-color);\n",
              "      border-right-color: var(--fill-color);\n",
              "    }\n",
              "    40% {\n",
              "      border-color: transparent;\n",
              "      border-right-color: var(--fill-color);\n",
              "      border-top-color: var(--fill-color);\n",
              "    }\n",
              "    60% {\n",
              "      border-color: transparent;\n",
              "      border-right-color: var(--fill-color);\n",
              "    }\n",
              "    80% {\n",
              "      border-color: transparent;\n",
              "      border-right-color: var(--fill-color);\n",
              "      border-bottom-color: var(--fill-color);\n",
              "    }\n",
              "    90% {\n",
              "      border-color: transparent;\n",
              "      border-bottom-color: var(--fill-color);\n",
              "    }\n",
              "  }\n",
              "</style>\n",
              "\n",
              "  <script>\n",
              "    async function quickchart(key) {\n",
              "      const quickchartButtonEl =\n",
              "        document.querySelector('#' + key + ' button');\n",
              "      quickchartButtonEl.disabled = true;  // To prevent multiple clicks.\n",
              "      quickchartButtonEl.classList.add('colab-df-spinner');\n",
              "      try {\n",
              "        const charts = await google.colab.kernel.invokeFunction(\n",
              "            'suggestCharts', [key], {});\n",
              "      } catch (error) {\n",
              "        console.error('Error during call to suggestCharts:', error);\n",
              "      }\n",
              "      quickchartButtonEl.classList.remove('colab-df-spinner');\n",
              "      quickchartButtonEl.classList.add('colab-df-quickchart-complete');\n",
              "    }\n",
              "    (() => {\n",
              "      let quickchartButtonEl =\n",
              "        document.querySelector('#df-065547d2-654e-4f20-b4c8-736bc8f1ec2d button');\n",
              "      quickchartButtonEl.style.display =\n",
              "        google.colab.kernel.accessAllowed ? 'block' : 'none';\n",
              "    })();\n",
              "  </script>\n",
              "</div>\n",
              "    </div>\n",
              "  </div>\n"
            ]
          },
          "metadata": {},
          "execution_count": 17
        }
      ],
      "source": [
        "shuffled_dataset['stemmed_text'] = shuffled_dataset['processing_text'].apply(lambda x: stemming(x))\n",
        "shuffled_dataset.head()"
      ]
    },
    {
      "cell_type": "markdown",
      "metadata": {
        "id": "rL9waYNbXn4R"
      },
      "source": [
        "\n",
        "\n",
        "\n",
        "**Tokenizing the words in the text column**"
      ]
    },
    {
      "cell_type": "code",
      "execution_count": null,
      "metadata": {
        "id": "CEB3lngOXid9"
      },
      "outputs": [],
      "source": [
        "def token(text):\n",
        "  return word_tokenize(text)"
      ]
    },
    {
      "cell_type": "code",
      "execution_count": null,
      "metadata": {
        "colab": {
          "base_uri": "https://localhost:8080/"
        },
        "id": "T0HI_rCAXm5H",
        "outputId": "863f11a2-16b4-4759-e614-ffe22ed39729"
      },
      "outputs": [
        {
          "output_type": "stream",
          "name": "stdout",
          "text": [
            "                                                   title  \\\n",
            "38907  Voter confidence in UK handling of Brexit ebbs...   \n",
            "29988  Ryan wins re-election as speaker of U.S. House...   \n",
            "28587  Immigration judges exempt from Trump's federal...   \n",
            "32850  Hacker who exposed Hillary Clinton's email ser...   \n",
            "32840  'Little House' star drops bid for U.S. congres...   \n",
            "...                                                  ...   \n",
            "40051  Macron avoids 'lecturing' Egypt on rights, Sis...   \n",
            "29749  German minister says EU, NATO nations concerne...   \n",
            "26770  Comey account could fuel obstruction accusatio...   \n",
            "43988  France discusses increased pressure on North K...   \n",
            "1499    Trump Ignores Historically Low Rating, Brags ...   \n",
            "\n",
            "                                                    text       subject  \\\n",
            "38907  LONDON (Reuters) - A record majority of Briton...     worldnews   \n",
            "29988  WASHINGTON (Reuters) - U.S. Representative Pau...  politicsNews   \n",
            "28587  (Reuters) - President Donald Trump’s federal h...  politicsNews   \n",
            "32850  WASHINGTON (Reuters) - A Romanian computer hac...  politicsNews   \n",
            "32840  (Reuters) - Melissa Gilbert, best known for pl...  politicsNews   \n",
            "...                                                  ...           ...   \n",
            "40051  PARIS (Reuters) - French President Emmanuel Ma...     worldnews   \n",
            "29749  BRUSSELS (Reuters) - Foreign ministers from NA...  politicsNews   \n",
            "26770  NEW YORK (Reuters) - Former FBI Director James...  politicsNews   \n",
            "43988  PARIS (Reuters) - France s Emmanuel Macron dis...     worldnews   \n",
            "1499   The fact that most of the country despises Don...          News   \n",
            "\n",
            "            date  marker  label  \\\n",
            "38907  07-Nov-17    True      0   \n",
            "29988  03-Jan-17    True      0   \n",
            "28587  03-Mar-17    True      0   \n",
            "32850  25-May-16    True      0   \n",
            "32840  25-May-16    True      0   \n",
            "...          ...     ...    ...   \n",
            "40051  24-Oct-17    True      0   \n",
            "29749  16-Jan-17    True      0   \n",
            "26770  08-Jun-17    True      0   \n",
            "43988  09-Sep-17    True      0   \n",
            "1499   12-May-17   False      1   \n",
            "\n",
            "                                         processing_text  \\\n",
            "38907  london reuters record majority britons disappr...   \n",
            "29988  washington reuters us representative paul ryan...   \n",
            "28587  reuters president donald trump s federal hirin...   \n",
            "32850  washington reuters romanian computer hacker re...   \n",
            "32840  reuters melissa gilbert best known playing lau...   \n",
            "...                                                  ...   \n",
            "40051  paris reuters french president emmanuel macron...   \n",
            "29749  brussels reuters foreign ministers nato europe...   \n",
            "26770  new york reuters former fbi director james com...   \n",
            "43988  paris reuters france emmanuel macron discussed...   \n",
            "1499   fact country despises donald trump voted secre...   \n",
            "\n",
            "                                            stemmed_text  \n",
            "38907  [london, reuter, record, major, briton, disapp...  \n",
            "29988  [washington, reuter, us, repres, paul, ryan, r...  \n",
            "28587  [reuter, presid, donald, trump, s, feder, hire...  \n",
            "32850  [washington, reuter, romanian, comput, hacker,...  \n",
            "32840  [reuter, melissa, gilbert, best, known, play, ...  \n",
            "...                                                  ...  \n",
            "40051  [pari, reuter, french, presid, emmanuel, macro...  \n",
            "29749  [brussel, reuter, foreign, minist, nato, europ...  \n",
            "26770  [new, york, reuter, former, fbi, director, jam...  \n",
            "43988  [pari, reuter, franc, emmanuel, macron, discus...  \n",
            "1499   [fact, countri, despis, donald, trump, vote, s...  \n",
            "\n",
            "[44867 rows x 8 columns]\n"
          ]
        }
      ],
      "source": [
        "shuffled_dataset['stemmed_text'] = shuffled_dataset['stemmed_text'].apply(lambda x: token(x))\n",
        "print(shuffled_dataset)"
      ]
    },
    {
      "cell_type": "markdown",
      "source": [
        "**Removing unused columns from the dataset**\n",
        "\n",
        "\n",
        "\n"
      ],
      "metadata": {
        "id": "m6DK-89Ykk0A"
      }
    },
    {
      "cell_type": "code",
      "source": [
        "shuffled_dataset = shuffled_dataset.drop(['date','marker'],axis=1)\n",
        "shuffled_dataset"
      ],
      "metadata": {
        "colab": {
          "base_uri": "https://localhost:8080/",
          "height": 875
        },
        "id": "akDjRbl8kkfj",
        "outputId": "47971a2b-e66d-4f95-c85c-1bf4834d0f38"
      },
      "execution_count": null,
      "outputs": [
        {
          "output_type": "execute_result",
          "data": {
            "text/plain": [
              "                                                   title  \\\n",
              "38907  Voter confidence in UK handling of Brexit ebbs...   \n",
              "29988  Ryan wins re-election as speaker of U.S. House...   \n",
              "28587  Immigration judges exempt from Trump's federal...   \n",
              "32850  Hacker who exposed Hillary Clinton's email ser...   \n",
              "32840  'Little House' star drops bid for U.S. congres...   \n",
              "...                                                  ...   \n",
              "40051  Macron avoids 'lecturing' Egypt on rights, Sis...   \n",
              "29749  German minister says EU, NATO nations concerne...   \n",
              "26770  Comey account could fuel obstruction accusatio...   \n",
              "43988  France discusses increased pressure on North K...   \n",
              "1499    Trump Ignores Historically Low Rating, Brags ...   \n",
              "\n",
              "                                                    text       subject  label  \\\n",
              "38907  LONDON (Reuters) - A record majority of Briton...     worldnews      0   \n",
              "29988  WASHINGTON (Reuters) - U.S. Representative Pau...  politicsNews      0   \n",
              "28587  (Reuters) - President Donald Trump’s federal h...  politicsNews      0   \n",
              "32850  WASHINGTON (Reuters) - A Romanian computer hac...  politicsNews      0   \n",
              "32840  (Reuters) - Melissa Gilbert, best known for pl...  politicsNews      0   \n",
              "...                                                  ...           ...    ...   \n",
              "40051  PARIS (Reuters) - French President Emmanuel Ma...     worldnews      0   \n",
              "29749  BRUSSELS (Reuters) - Foreign ministers from NA...  politicsNews      0   \n",
              "26770  NEW YORK (Reuters) - Former FBI Director James...  politicsNews      0   \n",
              "43988  PARIS (Reuters) - France s Emmanuel Macron dis...     worldnews      0   \n",
              "1499   The fact that most of the country despises Don...          News      1   \n",
              "\n",
              "                                         processing_text  \\\n",
              "38907  london reuters record majority britons disappr...   \n",
              "29988  washington reuters us representative paul ryan...   \n",
              "28587  reuters president donald trump s federal hirin...   \n",
              "32850  washington reuters romanian computer hacker re...   \n",
              "32840  reuters melissa gilbert best known playing lau...   \n",
              "...                                                  ...   \n",
              "40051  paris reuters french president emmanuel macron...   \n",
              "29749  brussels reuters foreign ministers nato europe...   \n",
              "26770  new york reuters former fbi director james com...   \n",
              "43988  paris reuters france emmanuel macron discussed...   \n",
              "1499   fact country despises donald trump voted secre...   \n",
              "\n",
              "                                            stemmed_text  \n",
              "38907  [london, reuter, record, major, briton, disapp...  \n",
              "29988  [washington, reuter, us, repres, paul, ryan, r...  \n",
              "28587  [reuter, presid, donald, trump, s, feder, hire...  \n",
              "32850  [washington, reuter, romanian, comput, hacker,...  \n",
              "32840  [reuter, melissa, gilbert, best, known, play, ...  \n",
              "...                                                  ...  \n",
              "40051  [pari, reuter, french, presid, emmanuel, macro...  \n",
              "29749  [brussel, reuter, foreign, minist, nato, europ...  \n",
              "26770  [new, york, reuter, former, fbi, director, jam...  \n",
              "43988  [pari, reuter, franc, emmanuel, macron, discus...  \n",
              "1499   [fact, countri, despis, donald, trump, vote, s...  \n",
              "\n",
              "[44867 rows x 6 columns]"
            ],
            "text/html": [
              "\n",
              "  <div id=\"df-e8f6ce6f-eae5-468c-8e65-e036739cedec\" class=\"colab-df-container\">\n",
              "    <div>\n",
              "<style scoped>\n",
              "    .dataframe tbody tr th:only-of-type {\n",
              "        vertical-align: middle;\n",
              "    }\n",
              "\n",
              "    .dataframe tbody tr th {\n",
              "        vertical-align: top;\n",
              "    }\n",
              "\n",
              "    .dataframe thead th {\n",
              "        text-align: right;\n",
              "    }\n",
              "</style>\n",
              "<table border=\"1\" class=\"dataframe\">\n",
              "  <thead>\n",
              "    <tr style=\"text-align: right;\">\n",
              "      <th></th>\n",
              "      <th>title</th>\n",
              "      <th>text</th>\n",
              "      <th>subject</th>\n",
              "      <th>label</th>\n",
              "      <th>processing_text</th>\n",
              "      <th>stemmed_text</th>\n",
              "    </tr>\n",
              "  </thead>\n",
              "  <tbody>\n",
              "    <tr>\n",
              "      <th>38907</th>\n",
              "      <td>Voter confidence in UK handling of Brexit ebbs...</td>\n",
              "      <td>LONDON (Reuters) - A record majority of Briton...</td>\n",
              "      <td>worldnews</td>\n",
              "      <td>0</td>\n",
              "      <td>london reuters record majority britons disappr...</td>\n",
              "      <td>[london, reuter, record, major, briton, disapp...</td>\n",
              "    </tr>\n",
              "    <tr>\n",
              "      <th>29988</th>\n",
              "      <td>Ryan wins re-election as speaker of U.S. House...</td>\n",
              "      <td>WASHINGTON (Reuters) - U.S. Representative Pau...</td>\n",
              "      <td>politicsNews</td>\n",
              "      <td>0</td>\n",
              "      <td>washington reuters us representative paul ryan...</td>\n",
              "      <td>[washington, reuter, us, repres, paul, ryan, r...</td>\n",
              "    </tr>\n",
              "    <tr>\n",
              "      <th>28587</th>\n",
              "      <td>Immigration judges exempt from Trump's federal...</td>\n",
              "      <td>(Reuters) - President Donald Trump’s federal h...</td>\n",
              "      <td>politicsNews</td>\n",
              "      <td>0</td>\n",
              "      <td>reuters president donald trump s federal hirin...</td>\n",
              "      <td>[reuter, presid, donald, trump, s, feder, hire...</td>\n",
              "    </tr>\n",
              "    <tr>\n",
              "      <th>32850</th>\n",
              "      <td>Hacker who exposed Hillary Clinton's email ser...</td>\n",
              "      <td>WASHINGTON (Reuters) - A Romanian computer hac...</td>\n",
              "      <td>politicsNews</td>\n",
              "      <td>0</td>\n",
              "      <td>washington reuters romanian computer hacker re...</td>\n",
              "      <td>[washington, reuter, romanian, comput, hacker,...</td>\n",
              "    </tr>\n",
              "    <tr>\n",
              "      <th>32840</th>\n",
              "      <td>'Little House' star drops bid for U.S. congres...</td>\n",
              "      <td>(Reuters) - Melissa Gilbert, best known for pl...</td>\n",
              "      <td>politicsNews</td>\n",
              "      <td>0</td>\n",
              "      <td>reuters melissa gilbert best known playing lau...</td>\n",
              "      <td>[reuter, melissa, gilbert, best, known, play, ...</td>\n",
              "    </tr>\n",
              "    <tr>\n",
              "      <th>...</th>\n",
              "      <td>...</td>\n",
              "      <td>...</td>\n",
              "      <td>...</td>\n",
              "      <td>...</td>\n",
              "      <td>...</td>\n",
              "      <td>...</td>\n",
              "    </tr>\n",
              "    <tr>\n",
              "      <th>40051</th>\n",
              "      <td>Macron avoids 'lecturing' Egypt on rights, Sis...</td>\n",
              "      <td>PARIS (Reuters) - French President Emmanuel Ma...</td>\n",
              "      <td>worldnews</td>\n",
              "      <td>0</td>\n",
              "      <td>paris reuters french president emmanuel macron...</td>\n",
              "      <td>[pari, reuter, french, presid, emmanuel, macro...</td>\n",
              "    </tr>\n",
              "    <tr>\n",
              "      <th>29749</th>\n",
              "      <td>German minister says EU, NATO nations concerne...</td>\n",
              "      <td>BRUSSELS (Reuters) - Foreign ministers from NA...</td>\n",
              "      <td>politicsNews</td>\n",
              "      <td>0</td>\n",
              "      <td>brussels reuters foreign ministers nato europe...</td>\n",
              "      <td>[brussel, reuter, foreign, minist, nato, europ...</td>\n",
              "    </tr>\n",
              "    <tr>\n",
              "      <th>26770</th>\n",
              "      <td>Comey account could fuel obstruction accusatio...</td>\n",
              "      <td>NEW YORK (Reuters) - Former FBI Director James...</td>\n",
              "      <td>politicsNews</td>\n",
              "      <td>0</td>\n",
              "      <td>new york reuters former fbi director james com...</td>\n",
              "      <td>[new, york, reuter, former, fbi, director, jam...</td>\n",
              "    </tr>\n",
              "    <tr>\n",
              "      <th>43988</th>\n",
              "      <td>France discusses increased pressure on North K...</td>\n",
              "      <td>PARIS (Reuters) - France s Emmanuel Macron dis...</td>\n",
              "      <td>worldnews</td>\n",
              "      <td>0</td>\n",
              "      <td>paris reuters france emmanuel macron discussed...</td>\n",
              "      <td>[pari, reuter, franc, emmanuel, macron, discus...</td>\n",
              "    </tr>\n",
              "    <tr>\n",
              "      <th>1499</th>\n",
              "      <td>Trump Ignores Historically Low Rating, Brags ...</td>\n",
              "      <td>The fact that most of the country despises Don...</td>\n",
              "      <td>News</td>\n",
              "      <td>1</td>\n",
              "      <td>fact country despises donald trump voted secre...</td>\n",
              "      <td>[fact, countri, despis, donald, trump, vote, s...</td>\n",
              "    </tr>\n",
              "  </tbody>\n",
              "</table>\n",
              "<p>44867 rows × 6 columns</p>\n",
              "</div>\n",
              "    <div class=\"colab-df-buttons\">\n",
              "\n",
              "  <div class=\"colab-df-container\">\n",
              "    <button class=\"colab-df-convert\" onclick=\"convertToInteractive('df-e8f6ce6f-eae5-468c-8e65-e036739cedec')\"\n",
              "            title=\"Convert this dataframe to an interactive table.\"\n",
              "            style=\"display:none;\">\n",
              "\n",
              "  <svg xmlns=\"http://www.w3.org/2000/svg\" height=\"24px\" viewBox=\"0 -960 960 960\">\n",
              "    <path d=\"M120-120v-720h720v720H120Zm60-500h600v-160H180v160Zm220 220h160v-160H400v160Zm0 220h160v-160H400v160ZM180-400h160v-160H180v160Zm440 0h160v-160H620v160ZM180-180h160v-160H180v160Zm440 0h160v-160H620v160Z\"/>\n",
              "  </svg>\n",
              "    </button>\n",
              "\n",
              "  <style>\n",
              "    .colab-df-container {\n",
              "      display:flex;\n",
              "      gap: 12px;\n",
              "    }\n",
              "\n",
              "    .colab-df-convert {\n",
              "      background-color: #E8F0FE;\n",
              "      border: none;\n",
              "      border-radius: 50%;\n",
              "      cursor: pointer;\n",
              "      display: none;\n",
              "      fill: #1967D2;\n",
              "      height: 32px;\n",
              "      padding: 0 0 0 0;\n",
              "      width: 32px;\n",
              "    }\n",
              "\n",
              "    .colab-df-convert:hover {\n",
              "      background-color: #E2EBFA;\n",
              "      box-shadow: 0px 1px 2px rgba(60, 64, 67, 0.3), 0px 1px 3px 1px rgba(60, 64, 67, 0.15);\n",
              "      fill: #174EA6;\n",
              "    }\n",
              "\n",
              "    .colab-df-buttons div {\n",
              "      margin-bottom: 4px;\n",
              "    }\n",
              "\n",
              "    [theme=dark] .colab-df-convert {\n",
              "      background-color: #3B4455;\n",
              "      fill: #D2E3FC;\n",
              "    }\n",
              "\n",
              "    [theme=dark] .colab-df-convert:hover {\n",
              "      background-color: #434B5C;\n",
              "      box-shadow: 0px 1px 3px 1px rgba(0, 0, 0, 0.15);\n",
              "      filter: drop-shadow(0px 1px 2px rgba(0, 0, 0, 0.3));\n",
              "      fill: #FFFFFF;\n",
              "    }\n",
              "  </style>\n",
              "\n",
              "    <script>\n",
              "      const buttonEl =\n",
              "        document.querySelector('#df-e8f6ce6f-eae5-468c-8e65-e036739cedec button.colab-df-convert');\n",
              "      buttonEl.style.display =\n",
              "        google.colab.kernel.accessAllowed ? 'block' : 'none';\n",
              "\n",
              "      async function convertToInteractive(key) {\n",
              "        const element = document.querySelector('#df-e8f6ce6f-eae5-468c-8e65-e036739cedec');\n",
              "        const dataTable =\n",
              "          await google.colab.kernel.invokeFunction('convertToInteractive',\n",
              "                                                    [key], {});\n",
              "        if (!dataTable) return;\n",
              "\n",
              "        const docLinkHtml = 'Like what you see? Visit the ' +\n",
              "          '<a target=\"_blank\" href=https://colab.research.google.com/notebooks/data_table.ipynb>data table notebook</a>'\n",
              "          + ' to learn more about interactive tables.';\n",
              "        element.innerHTML = '';\n",
              "        dataTable['output_type'] = 'display_data';\n",
              "        await google.colab.output.renderOutput(dataTable, element);\n",
              "        const docLink = document.createElement('div');\n",
              "        docLink.innerHTML = docLinkHtml;\n",
              "        element.appendChild(docLink);\n",
              "      }\n",
              "    </script>\n",
              "  </div>\n",
              "\n",
              "\n",
              "<div id=\"df-f6943f38-e92b-4b4c-aab4-8aa1c3265b29\">\n",
              "  <button class=\"colab-df-quickchart\" onclick=\"quickchart('df-f6943f38-e92b-4b4c-aab4-8aa1c3265b29')\"\n",
              "            title=\"Suggest charts\"\n",
              "            style=\"display:none;\">\n",
              "\n",
              "<svg xmlns=\"http://www.w3.org/2000/svg\" height=\"24px\"viewBox=\"0 0 24 24\"\n",
              "     width=\"24px\">\n",
              "    <g>\n",
              "        <path d=\"M19 3H5c-1.1 0-2 .9-2 2v14c0 1.1.9 2 2 2h14c1.1 0 2-.9 2-2V5c0-1.1-.9-2-2-2zM9 17H7v-7h2v7zm4 0h-2V7h2v10zm4 0h-2v-4h2v4z\"/>\n",
              "    </g>\n",
              "</svg>\n",
              "  </button>\n",
              "\n",
              "<style>\n",
              "  .colab-df-quickchart {\n",
              "      --bg-color: #E8F0FE;\n",
              "      --fill-color: #1967D2;\n",
              "      --hover-bg-color: #E2EBFA;\n",
              "      --hover-fill-color: #174EA6;\n",
              "      --disabled-fill-color: #AAA;\n",
              "      --disabled-bg-color: #DDD;\n",
              "  }\n",
              "\n",
              "  [theme=dark] .colab-df-quickchart {\n",
              "      --bg-color: #3B4455;\n",
              "      --fill-color: #D2E3FC;\n",
              "      --hover-bg-color: #434B5C;\n",
              "      --hover-fill-color: #FFFFFF;\n",
              "      --disabled-bg-color: #3B4455;\n",
              "      --disabled-fill-color: #666;\n",
              "  }\n",
              "\n",
              "  .colab-df-quickchart {\n",
              "    background-color: var(--bg-color);\n",
              "    border: none;\n",
              "    border-radius: 50%;\n",
              "    cursor: pointer;\n",
              "    display: none;\n",
              "    fill: var(--fill-color);\n",
              "    height: 32px;\n",
              "    padding: 0;\n",
              "    width: 32px;\n",
              "  }\n",
              "\n",
              "  .colab-df-quickchart:hover {\n",
              "    background-color: var(--hover-bg-color);\n",
              "    box-shadow: 0 1px 2px rgba(60, 64, 67, 0.3), 0 1px 3px 1px rgba(60, 64, 67, 0.15);\n",
              "    fill: var(--button-hover-fill-color);\n",
              "  }\n",
              "\n",
              "  .colab-df-quickchart-complete:disabled,\n",
              "  .colab-df-quickchart-complete:disabled:hover {\n",
              "    background-color: var(--disabled-bg-color);\n",
              "    fill: var(--disabled-fill-color);\n",
              "    box-shadow: none;\n",
              "  }\n",
              "\n",
              "  .colab-df-spinner {\n",
              "    border: 2px solid var(--fill-color);\n",
              "    border-color: transparent;\n",
              "    border-bottom-color: var(--fill-color);\n",
              "    animation:\n",
              "      spin 1s steps(1) infinite;\n",
              "  }\n",
              "\n",
              "  @keyframes spin {\n",
              "    0% {\n",
              "      border-color: transparent;\n",
              "      border-bottom-color: var(--fill-color);\n",
              "      border-left-color: var(--fill-color);\n",
              "    }\n",
              "    20% {\n",
              "      border-color: transparent;\n",
              "      border-left-color: var(--fill-color);\n",
              "      border-top-color: var(--fill-color);\n",
              "    }\n",
              "    30% {\n",
              "      border-color: transparent;\n",
              "      border-left-color: var(--fill-color);\n",
              "      border-top-color: var(--fill-color);\n",
              "      border-right-color: var(--fill-color);\n",
              "    }\n",
              "    40% {\n",
              "      border-color: transparent;\n",
              "      border-right-color: var(--fill-color);\n",
              "      border-top-color: var(--fill-color);\n",
              "    }\n",
              "    60% {\n",
              "      border-color: transparent;\n",
              "      border-right-color: var(--fill-color);\n",
              "    }\n",
              "    80% {\n",
              "      border-color: transparent;\n",
              "      border-right-color: var(--fill-color);\n",
              "      border-bottom-color: var(--fill-color);\n",
              "    }\n",
              "    90% {\n",
              "      border-color: transparent;\n",
              "      border-bottom-color: var(--fill-color);\n",
              "    }\n",
              "  }\n",
              "</style>\n",
              "\n",
              "  <script>\n",
              "    async function quickchart(key) {\n",
              "      const quickchartButtonEl =\n",
              "        document.querySelector('#' + key + ' button');\n",
              "      quickchartButtonEl.disabled = true;  // To prevent multiple clicks.\n",
              "      quickchartButtonEl.classList.add('colab-df-spinner');\n",
              "      try {\n",
              "        const charts = await google.colab.kernel.invokeFunction(\n",
              "            'suggestCharts', [key], {});\n",
              "      } catch (error) {\n",
              "        console.error('Error during call to suggestCharts:', error);\n",
              "      }\n",
              "      quickchartButtonEl.classList.remove('colab-df-spinner');\n",
              "      quickchartButtonEl.classList.add('colab-df-quickchart-complete');\n",
              "    }\n",
              "    (() => {\n",
              "      let quickchartButtonEl =\n",
              "        document.querySelector('#df-f6943f38-e92b-4b4c-aab4-8aa1c3265b29 button');\n",
              "      quickchartButtonEl.style.display =\n",
              "        google.colab.kernel.accessAllowed ? 'block' : 'none';\n",
              "    })();\n",
              "  </script>\n",
              "</div>\n",
              "    </div>\n",
              "  </div>\n"
            ]
          },
          "metadata": {},
          "execution_count": 20
        }
      ]
    },
    {
      "cell_type": "markdown",
      "metadata": {
        "id": "Je511jp_XwVI"
      },
      "source": [
        "**Creating Train and Test split**"
      ]
    },
    {
      "cell_type": "code",
      "execution_count": null,
      "metadata": {
        "id": "sIANaJixXsI-"
      },
      "outputs": [],
      "source": [
        "X_train, X_test, y_train, y_test = train_test_split(shuffled_dataset.text, shuffled_dataset.label, test_size=0.25)"
      ]
    },
    {
      "cell_type": "code",
      "execution_count": null,
      "metadata": {
        "colab": {
          "base_uri": "https://localhost:8080/"
        },
        "id": "xWP1kMrlYJSd",
        "outputId": "7b0159ee-82e9-40d6-deab-e3d974402eb1"
      },
      "outputs": [
        {
          "output_type": "stream",
          "name": "stdout",
          "text": [
            "X_train: (33650,) X_test: (11217,) y_train: (33650,) y_test: (11217,)\n"
          ]
        }
      ],
      "source": [
        "print('X_train:', X_train.shape,\n",
        "      'X_test:', X_test.shape,\n",
        "      'y_train:', y_train.shape,\n",
        "      'y_test:', y_test.shape)\n"
      ]
    },
    {
      "cell_type": "markdown",
      "metadata": {
        "id": "iXua12G_ZEY8"
      },
      "source": [
        "**Applying CountVectorizer**"
      ]
    },
    {
      "cell_type": "code",
      "execution_count": null,
      "metadata": {
        "id": "7ClU5pyRYwm8"
      },
      "outputs": [],
      "source": [
        "bag_of_words = CountVectorizer(max_features=5000,ngram_range=(1,3))"
      ]
    },
    {
      "cell_type": "code",
      "execution_count": null,
      "metadata": {
        "id": "fhz_yvsHZKsk"
      },
      "outputs": [],
      "source": [
        "X_train_bow = bag_of_words.fit_transform(X_train.values)\n",
        "#y_train = shuffled_dataset.label"
      ]
    },
    {
      "cell_type": "code",
      "execution_count": null,
      "metadata": {
        "colab": {
          "base_uri": "https://localhost:8080/"
        },
        "id": "IkllLW13ZNNB",
        "outputId": "e32702f7-fae3-4716-a9ab-b0bab46a3c81"
      },
      "outputs": [
        {
          "output_type": "execute_result",
          "data": {
            "text/plain": [
              "<33650x5000 sparse matrix of type '<class 'numpy.int64'>'\n",
              "\twith 7898286 stored elements in Compressed Sparse Row format>"
            ]
          },
          "metadata": {},
          "execution_count": 25
        }
      ],
      "source": [
        "X_train_bow"
      ]
    },
    {
      "cell_type": "markdown",
      "source": [
        "**Creating Vocabulary to store the words**"
      ],
      "metadata": {
        "id": "OdmYT4bC_Qxe"
      }
    },
    {
      "cell_type": "code",
      "source": [
        "bow_vocabulary = bag_of_words.vocabulary_"
      ],
      "metadata": {
        "id": "i8BpKayc_QoX"
      },
      "execution_count": null,
      "outputs": []
    },
    {
      "cell_type": "code",
      "source": [
        "print(bow_vocabulary)"
      ],
      "metadata": {
        "colab": {
          "base_uri": "https://localhost:8080/"
        },
        "id": "zoWjOiVA_QYs",
        "outputId": "7f956c06-d519-4df9-834b-de904fc796b2"
      },
      "execution_count": null,
      "outputs": [
        {
          "output_type": "stream",
          "name": "stdout",
          "text": [
            "{'london': 2348, 'reuters': 3390, 'britain': 632, 'foreign': 1488, 'minister': 2502, 'johnson': 2165, 'said': 3453, 'he': 1699, 'was': 4720, 'not': 2649, 'going': 1584, 'to': 4353, 'resign': 3361, 'when': 4815, 'questioned': 3196, 'on': 2797, 'tuesday': 4560, 'following': 1450, 'reports': 3328, 'that': 3918, 'could': 959, 'before': 545, 'the': 3969, 'weekend': 4788, 'if': 1849, 'his': 1780, 'brexit': 626, 'demands': 1074, 'were': 4797, 'met': 2472, 'by': 669, 'prime': 3119, 'theresa': 4271, 'may': 2427, 'is': 2065, 'due': 1204, 'make': 2392, 'speech': 3726, 'friday': 1523, 'and': 253, 'daily': 1015, 'newspaper': 2621, 'reported': 3321, 'close': 833, 'friends': 1527, 'of': 2699, 'believe': 558, 'will': 4870, 'have': 1685, 'no': 2629, 'choice': 785, 'but': 654, 'walk': 4704, 'away': 482, 'she': 3611, 'advocates': 137, 'paying': 2961, 'for': 1454, 'access': 86, 'eu': 1298, 'single': 3658, 'market': 2417, 'speaking': 3721, 'in': 1883, 'new': 2608, 'york': 4978, 'asked': 419, 'reporters': 3326, 'planned': 3015, 'footage': 1453, 'news': 2616, 'course': 974, 'we': 4753, 're': 3228, 'deliver': 1069, 'working': 4932, 'together': 4478, 'key': 2200, 'thing': 4293, 'sure': 3841, 'can': 697, 'take': 3860, 'advantage': 133, 'provides': 3174, 'later': 2248, 'backed': 490, 'an': 240, 'interview': 2035, 'with': 4894, 'doing': 1163, 'good': 1593, 'work': 4927, 'as': 390, 'secretary': 3539, 'according': 89, 'tweet': 4570, 'reporter': 3325, 'also': 218, 'getting': 1568, 'her': 1751, 'whole': 4861, 'senior': 3575, 'team': 3884, 'ministers': 2503, 'back': 485, 'strategy': 3794, 'which': 4834, 'out': 2890, 'at': 434, 'cabinet': 676, 'meeting': 2452, 'thursday': 4337, 'making': 2398, 'london reuters': 2349, 'foreign minister': 1489, 'said he': 3458, 'he was': 1726, 'was not': 4729, 'not going': 2653, 'going to': 1586, 'on tuesday': 2829, 'reports that': 3329, 'that he': 3929, 'he could': 1705, 'before the': 547, 'the weekend': 4240, 'were not': 4800, 'prime minister': 3120, 'due to': 1205, 'to make': 4414, 'on friday': 2803, 'and the': 296, 'the daily': 4017, 'reported that': 3323, 'he will': 1727, 'will have': 4875, 'have no': 1691, 'if she': 1852, 'access to': 87, 'to the': 4460, 'the eu': 4039, 'in new': 1929, 'new york': 2611, 'if he': 1850, 'planned to': 3017, 'of course': 2709, 'we re': 4767, 're going': 3230, 'he said': 1717, 'said we': 3486, 'is to': 2090, 'make sure': 2395, 'of the': 2746, 'in an': 1898, 'an interview': 247, 'interview with': 2036, 'she said': 3615, 'according to': 90, 'also said': 219, 'said she': 3477, 'she was': 3617, 'to back': 4361, 'she is': 3614, 'on thursday': 2825, 'said he was': 3460, 'not going to': 2654, 'in new york': 1930, 'we re going': 4768, 're going to': 3231, 'to make sure': 4415, 'in an interview': 1899, 'an interview with': 248, 'lynch': 2374, 'confirmed': 904, 'director': 1127, 'it': 2107, 'clear': 819, 'our': 2887, 'senate': 3569, 'had': 1634, 'once': 2836, 'again': 158, 'radical': 3208, 'agenda': 166, 'obama': 2686, 'administration': 127, 'nothing': 2668, 'more': 2532, 'than': 3912, 'eric': 1290, 'so': 3669, 'now': 2675, 'power': 3068, 'gun': 1626, 'control': 935, 'been': 542, 'because': 530, 'knows': 2222, 'needs': 2597, 'everything': 1318, 'leaving': 2281, 'office': 2778, 'bottom': 620, 'line': 2325, 'failed': 1360, 'us': 4626, 'blame': 598, 'them': 4253, 'this': 4304, 'president': 3082, 'barack': 507, 'meet': 2450, 'monday': 2524, 'attorney': 467, 'general': 1556, 'discuss': 1135, 'options': 2867, 'restrictions': 3381, 'expected': 1336, 'coming': 857, 'days': 1027, 'executive': 1329, 'action': 106, 'goal': 1581, 'background': 491, 'sales': 3487, 'described': 1090, 'people': 2969, 'familiar': 1370, 'white': 4845, 'house': 1815, 'plans': 3019, 'set': 3598, 'actions': 107, 'would': 4943, 'promise': 3148, 'further': 1546, 'steps': 3779, 'says': 3511, 'help': 1748, 'deaths': 1040, 'are': 360, 'yet': 4976, 'complete': 882, 'those': 4317, 'process': 3133, 'delay': 1067, 'announcement': 322, 'be': 517, 'revealed': 3394, 'next': 2622, 'week': 4785, 'ahead': 175, 'annual': 323, 'state': 3752, 'union': 4596, 'address': 126, 'january': 2150, '12': 6, 'wouldn': 4952, 'comment': 860, 'directly': 1126, 'or': 2868, 'content': 926, 'orders': 2874, 'spokesman': 3733, 'beginning': 550, 'year': 4962, 'began': 548, 'become': 538, 'day': 1025, 'change': 760, 'always': 222, 'all': 194, 'well': 4791, 'organized': 2878, 'its': 2141, 'defense': 1063, 'available': 477, 'guns': 1628, 'anyone': 335, 'rest': 3378, 'just': 2184, 'kids': 2202, 'citizenship': 802, 'stand': 3743, 'up': 4613, 'fight': 1402, 'seek': 3553, 'read': 3236, 'cnn': 839, 'as the': 408, 'the new': 4118, 'director of': 1130, 'it was': 2133, 'clear that': 820, 'once again': 2837, 'the obama': 4129, 'obama administration': 2687, 'more than': 2533, 'we have': 4760, 'gun control': 1627, 'that could': 3923, 'could have': 961, 'have been': 1688, 'needs to': 2598, 'is that': 2087, 'for this': 1478, 'because it': 532, 'it could': 2116, 'president barack': 3084, 'barack obama': 508, 'attorney general': 468, 'to discuss': 4384, 'and is': 271, 'is expected': 2070, 'expected to': 1337, 'in the': 1956, 'with the': 4909, 'familiar with': 1371, 'the white': 4242, 'white house': 4846, 'by the': 674, 'the president': 4156, 'president to': 3096, 'to take': 4456, 'the administration': 3973, 'for the': 1474, 'are not': 366, 'not yet': 2664, 'the process': 4163, 'to be': 4362, 'next week': 2623, 'ahead of': 176, 'of obama': 2732, 'state of': 3756, 'on the': 2822, 'said that': 3478, 'that the': 3952, 'at the': 442, 'the beginning': 3987, 'the year': 4250, 'to become': 4364, 'on monday': 2811, 'monday the': 2525, 'meet with': 2451, 'is going': 2072, 'all of': 195, 'of us': 2767, 'obama said': 2691, 'said in': 3463, 'in his': 1920, 'in its': 1922, 'the rest': 4176, 'rest of': 3379, 'are going': 363, 'to have': 4396, 'have to': 1695, 'just as': 2185, 'in our': 1941, 'of our': 2735, 'to stand': 4450, 'up and': 4614, 'that we': 3962, 'read more': 3237, 'director of the': 1131, 'the obama administration': 4130, 'president barack obama': 3085, 'is expected to': 2071, 'familiar with the': 1372, 'the white house': 4243, 'said that the': 3479, 'is going to': 2073, 'the rest of': 4177, 'are going to': 364, 'have to be': 1696, 'last': 2241, 'alleged': 201, 'made': 2376, 'some': 3686, 'accusations': 94, 'twitter': 4574, 'accusing': 97, 'election': 1242, 'trump': 4529, 'did': 1109, 'without': 4917, 'offering': 2777, 'any': 330, 'proof': 3154, 'after': 150, 'itself': 2143, 'into': 2039, 'order': 2871, 'try': 4556, 'defend': 1060, 'unprecedented': 4610, 'attack': 450, 'meanwhile': 2442, 'former': 1496, 'literally': 2336, 'eyes': 1349, 'hearing': 1742, 'claims': 815, 'fact': 1357, 'free': 1517, 'conspiracy': 919, 'theory': 4260, 'even': 1303, 'attention': 466, 'intelligence': 2020, 'committee': 870, 'chair': 749, 'ranking': 3219, 'member': 2456, 'who': 4849, 'gave': 1553, 'him': 1771, 'until': 4611, 'evidence': 1319, 'claim': 810, 'worth': 4942, 'noting': 2671, 'went': 4793, 'far': 1376, 'cover': 979, 'russian': 3445, 'influence': 2002, 'scandal': 3518, 'must': 2564, 'find': 1418, 'press': 3106, 'sean': 3530, 'spicer': 3730, 'doesn': 1162, 'really': 3247, 'think': 4296, 'phone': 2998, 'personally': 2994, 'attempt': 456, 'ordered': 2873, 'illegal': 1860, 'tower': 4499, 'politico': 3046, 'told': 4479, 'briefing': 629, 'tried': 4519, 'use': 4630, 'words': 4926, 'argue': 374, 'accused': 95, 'surveillance': 3845, 'activities': 111, 'though': 4319, 'himself': 1778, 'term': 3899, 'wire': 4890, 'one': 2838, 'several': 3604, 'tweets': 4572, 'march': 2412, 'claimed': 812, 'put': 3188, 'around': 383, 'there': 4261, 'question': 3195, 'about': 70, 'other': 2881, 'occurred': 2696, '2016': 28, 'widely': 4867, 'activity': 112, 'then': 4259, 'used': 4633, 'word': 4925, 'mean': 2437, 'during': 1206, 'only': 2847, 'three': 4330, 'times': 4352, 'interesting': 2028, 'how': 1822, 'many': 2408, 'outlets': 2902, 'taking': 3864, 'place': 3008, 'where': 4826, 'added': 119, 'same': 3488, 'room': 3426, 'talked': 3868, 'what': 4804, 'talking': 3869, 'unclear': 4588, 'referring': 3268, 'officials': 2787, 'investigating': 2044, 'whether': 4830, 'ties': 4341, 'between': 572, 'campaign': 691, 'government': 1600, 'part': 2935, 'probe': 3130, 'country': 969, 'suspected': 3849, 'attempts': 462, 'regular': 3284, 'russia': 3443, 'ambassador': 225, 'they': 4275, 'reportedly': 3324, 'communications': 873, 'aides': 180, 'source': 3704, 'has': 1663, 'donald': 1172, 'should': 3629, 'matter': 2424, 'legal': 2292, 'sitting': 3662, 'race': 3204, 'prior': 3122, 'turned': 4566, 'down': 1186, 'court': 975, 'earlier': 1214, 'low': 2371, 'wrote': 4958, 'lawyer': 2259, 'great': 1612, 'case': 726, 'my': 2566, 'october': 2698, 'another': 325, 'gone': 1591, 'very': 4652, 'bad': 493, 'sick': 3643, 'guy': 1629, 'department': 1086, 'justice': 2187, 'chairman': 750, 'vice': 4659, 'additional': 125, 'time': 4345, 'support': 3828, 'crazy': 983, 'meaning': 2438, 'fake': 1366, 'sites': 3661, 'such': 3813, 'breitbart': 624, 'photo': 2999, 'win': 4885, 'getty': 1569, 'images': 1867, 'last week': 2244, 'week the': 4787, 'on twitter': 2830, 'the election': 4033, 'after trump': 156, 'in order': 1937, 'order to': 2872, 'to try': 4469, 'try to': 4557, 'to defend': 4383, 'attack on': 451, 'on his': 2806, 'former president': 1497, 'of trump': 2765, 'intelligence committee': 2022, 'trump and': 4531, 'and even': 259, 'as to': 410, 'to cover': 4378, 'up the': 4618, 'so he': 3672, 'sean spicer': 3531, 'that trump': 3959, 'think that': 4298, 'attempt to': 457, 'claim that': 811, 'that his': 3936, 'trump tower': 4549, 'he doesn': 1710, 'that president': 3948, 'president obama': 3093, 'told reporters': 4480, 'the press': 4161, 'tried to': 4520, 'to use': 4472, 'trump had': 4536, 'and not': 279, 'even though': 1308, 'use the': 4632, 'in one': 1936, 'one of': 2839, 'claimed that': 813, 'the fact': 4045, 'fact that': 1358, 'around the': 384, 'there is': 4263, 'is no': 2079, 'that there': 3955, 'there were': 4268, 'and other': 284, 'the 2016': 3970, '2016 election': 29, 'that is': 3939, 'said the': 3480, 'the word': 4247, 'if trump': 1857, 'he did': 1706, 'only one': 2848, 'out of': 2894, 'we are': 4755, 'not to': 2662, 'it is': 2122, 'how many': 1824, 'that this': 3958, 'during the': 1209, 'and now': 280, 'where the': 4828, 'many of': 2409, 'the same': 4186, 'in this': 1973, 'about the': 75, 'that were': 3963, 'going on': 1585, 'no one': 2633, 'talking about': 3870, 'about it': 74, 'referring to': 3269, 'officials have': 2789, 'between the': 573, 'the trump': 4217, 'trump campaign': 4534, 'campaign and': 692, 'the russian': 4184, 'as part': 401, 'part of': 2936, 'into the': 2040, 'the country': 4012, 'attempts to': 463, 'election and': 1243, 'they have': 4283, 'which has': 4836, 'that obama': 3945, 'donald trump': 1173, 'the campaign': 3995, 'as we': 412, 'said trump': 3485, 'is it': 2075, 'for president': 1471, 'prior to': 3123, 'to an': 4358, 'an election': 244, 'wrote in': 4959, 'in october': 1933, 'the very': 4231, 'this is': 4306, 'department of': 1087, 'of justice': 2724, 'asked the': 422, 'chairman of': 751, 'the house': 4071, 'time to': 4351, 'to support': 4455, 'fake news': 1367, 'such as': 3814, 'getty images': 1570, 'in order to': 1938, 'to try to': 4470, 'former president barack': 1498, 'the fact that': 4046, 'that he was': 3933, 'there is no': 4264, 'in the 2016': 1957, 'the 2016 election': 3971, 'many of the': 2410, 'the trump campaign': 4219, 'as part of': 402, 'part of the': 2937, 'in the election': 1959, 'out of the': 2895, 'department of justice': 1088, 'chairman of the': 752, 'of the house': 2749, 'ankara': 320, 'european': 1301, 'does': 1160, 'share': 3608, 'turkey': 4563, 'view': 4670, 'network': 2604, 'based': 510, 'muslim': 2562, 'terrorist': 3906, 'organization': 2876, 'need': 2592, 'see': 3550, 'stance': 3742, 'counter': 967, 'terrorism': 3905, 'comments': 862, 'de': 1030, 'likely': 2320, 'military': 2493, 'coup': 972, 'killed': 2204, 'denied': 1083, 'charge': 767, 'condemned': 892, 'long': 2350, 'nato': 2582, 'allies': 204, 'including': 1986, 'united': 4598, 'states': 3765, 'germany': 1563, 'failing': 1362, 'strongly': 3800, 'enough': 1272, 'saying': 3506, 'appeared': 345, 'concerned': 887, 'crackdown': 982, 'supporters': 3834, 'don': 1167, 'position': 3055, 'soon': 3697, 'using': 4637, 'turkish': 4564, 'you': 4982, 'like': 2315, 'data': 1020, 'shows': 3640, 'involved': 2052, 'authorities': 475, 'detained': 1101, '50': 57, '000': 0, 'police': 3035, 'officers': 2783, 'journalists': 2174, 'staff': 3740, 'links': 2330, 'suspended': 3851, 'from': 1528, 'their': 4251, 'jobs': 2161, 'having': 1698, 'others': 2885, 'calls': 686, 'users': 4636, 'human': 1833, 'rights': 3410, 'groups': 1620, 'erdogan': 1289, 'denies': 1084, 'scale': 3516, 'national': 2575, 'security': 3545, 'ally': 210, 'islamist': 2098, 'party': 2948, 'movement': 2546, 'ran': 3217, 'schools': 3522, 'banks': 503, 'media': 2446, 'two': 4576, 'men': 2465, 'public': 3177, '2013': 25, 'agency': 165, 'behind': 554, 'soldiers': 3684, 'parliament': 2933, 'targets': 3876, 'sought': 3701, 'lived': 2340, 'self': 3565, 'imposed': 1880, 'since': 3655, 'say': 3501, 'courts': 978, 'require': 3355, 'july': 2181, 'documents': 1159, 'washington': 4737, 'although': 221, 'acknowledged': 98, 'direct': 1123, 'involvement': 2054, 'remained': 3305, 'criticized': 996, 'mass': 2421, 'refused': 3275, 'linked': 2328, 'decision': 1050, 'hands': 1649, 'most': 2538, 'judiciary': 2180, 'independent': 1995, 'hard': 1657, 'reuters the': 3393, 'the european': 4040, 'european union': 1302, 'does not': 1161, 'and would': 312, 'need to': 2593, 'to see': 4445, 'to change': 4374, 'likely to': 2321, 'last year': 2245, 'year in': 4964, 'in which': 1979, 'people were': 2978, 'were killed': 4799, 'has denied': 1669, 'has long': 1671, 'including the': 1987, 'the united': 4223, 'united states': 4600, 'states and': 3766, 'we don': 4758, 'it as': 2111, 'is likely': 2077, 'using the': 4638, 'not only': 2659, 'that they': 3956, 'they were': 4290, 'he told': 1723, 'told reuters': 4481, '000 people': 1, 'police officers': 3038, 'people have': 2973, 'from their': 1532, 'the government': 4062, 'used by': 4634, 'human rights': 1834, 'and some': 293, 'says the': 3515, 'because the': 535, 'national security': 2578, 'and his': 267, 'party and': 2949, 'until the': 4612, 'the two': 4221, 'out in': 2893, 'in 2013': 1889, 'has said': 1677, 'said it': 3467, 'is not': 2080, 'behind the': 555, 'has also': 1665, 'so far': 3671, 'from the': 1531, 'he has': 1712, 'evidence of': 1320, 'refused to': 3276, 'involved in': 2053, 'linked to': 2329, 'the decision': 4022, 'is in': 2074, 'the hands': 4066, 'of all': 2700, 'most of': 2539, 'the time': 4213, 'time the': 4350, 'and they': 301, 'the european union': 4041, 'the united states': 4225, 'united states and': 4601, 'it is not': 2123, 'to the united': 4461, 'most of the': 2540, 'majority': 2389, 'leader': 2263, 'kevin': 2199, 'still': 3781, 'hillary': 1768, 'clinton': 825, 'personal': 2993, 'email': 1251, 'server': 3592, 'fbi': 1383, 'declined': 1054, 'charges': 771, 'republican': 3336, 'adding': 121, 'way': 4749, 'know': 2214, 'ever': 1313, 'hacked': 1632, 'majority leader': 2390, 'said on': 3471, 'was still': 4733, 'hillary clinton': 1769, 'use of': 4631, 'when she': 4821, 'secretary of': 3540, 'of state': 2743, 'though the': 4320, 'the fbi': 4048, 'declined to': 1055, 'the matter': 4102, 'is still': 2086, 'adding that': 122, 'there was': 4266, 'was no': 4728, 'way to': 4751, 'to know': 4408, 'said on tuesday': 3475, 'secretary of state': 3541, 'there was no': 4267, 'victim': 4661, 'facebook': 1352, 'four': 1508, 'years': 4967, 'ago': 170, 'started': 3750, 'lot': 2368, 'immigrants': 1872, 'borders': 615, 'number': 2682, 'page': 2921, 'million': 2495, 'within': 4915, 'almost': 211, 'levels': 2304, 'dropped': 1201, 'over': 2906, '90': 62, 'changed': 762, 'longer': 2353, 'showing': 3638, 'issue': 2103, 'today': 4477, 'pay': 2959, 'show': 3635, 'per': 2981, 'stories': 3788, 'first': 1426, 'never': 2607, 'visit': 4682, 'story': 3790, 'sources': 3706, 'addition': 123, 'conservative': 914, 'company': 878, 'while': 4842, 'black': 593, 'lives': 2341, 'latest': 2249, 'politically': 3043, 'section': 3542, 'initially': 2007, 'details': 1099, 'emerged': 1254, 'employee': 1257, 'mitt': 2517, 'romney': 3425, 'paul': 2957, 'progressive': 3144, 'kept': 2197, 'list': 2331, 'deep': 1057, 'include': 1983, 'interest': 2025, 'conservatives': 915, 'among': 235, 'official': 2784, 'republicans': 3344, 'wisconsin': 4892, 'gov': 1599, 'scott': 3525, 'popular': 3053, 'report': 3319, 'chris': 788, 'navy': 2585, 'fox': 1511, 'interests': 2029, 'social': 3679, 'site': 3660, 'instead': 2014, 'traditional': 4505, 'workers': 4931, 'editorial': 1226, 'values': 4642, 'onto': 2849, 'means': 2439, 'simply': 3654, 'recently': 3257, 'role': 3423, 'old': 2796, 'msnbc': 2553, 'information': 2003, 'top': 4492, 'employees': 1258, 'own': 2914, 'political': 3042, 'month': 2528, 'directed': 1124, 'certain': 747, 'weren': 4801, 'these': 4272, 'included': 1984, 'mark': 2416, 'defended': 1061, 'internal': 2032, 'critics': 997, 'got': 1597, 'pressure': 3108, 'individual': 1999, 'problem': 3131, 'everyone': 1317, 'seeing': 3552, 'particular': 2938, 'especially': 1291, 'coverage': 980, 'often': 2791, 'noted': 2666, 'powerful': 3070, 'presence': 3078, 'avoid': 479, 'against': 159, 'look': 2354, 'through': 4332, 'being': 557, 'shared': 3609, 'quite': 3201, 'bit': 592, 'putting': 3191, 'something': 3693, 'tells': 3894, 'me': 2435, 'article': 389, 'won': 4922, 'despite': 1095, 'largest': 2240, 'world': 4936, 'shares': 3610, '10': 2, 'much': 2554, 'bigger': 579, 'reach': 3233, 'holding': 1796, 'platform': 3021, 'issued': 2105, 'statement': 3760, 'reaction': 3235, '25': 44, 'six': 3664, 'months': 2529, 'true': 4527, 'community': 876, 'do': 1150, 'live': 2338, 'tech': 3885, 'editor': 1225, 'explain': 1341, 'tens': 3896, 'millions': 2498, 'why': 4864, 'warned': 4717, 'companies': 877, 'seems': 3559, 'via': 4655, 'we know': 4762, 'what it': 4808, 'like to': 2319, 'four years': 1509, 'years ago': 4968, 'lot of': 2369, 'illegal immigrants': 1861, 'the number': 4127, 'number of': 2683, 'of people': 2736, 'with our': 4904, 'year the': 4966, 'on our': 2815, 'but the': 662, 'facebook page': 1353, 'we were': 4773, 'that one': 3946, 'no longer': 2631, 'up in': 4616, 'on facebook': 2801, 'in their': 1972, 'and that': 294, 'what we': 4812, 'breitbart news': 625, 'that in': 3938, 'in addition': 1893, 'addition to': 124, 'the company': 4007, 'the black': 3991, 'black lives': 594, 'lives matter': 2342, 'is the': 2088, 'the latest': 4091, 'the story': 4205, 'reported on': 3322, 'mitt romney': 2518, 'the source': 4198, 'list of': 2332, 'of interest': 2721, 'among the': 236, 'the list': 4096, 'who was': 4857, 'the former': 4057, 'and former': 261, 'fox news': 1512, 'the social': 4197, 'of its': 2723, 'in other': 1939, 'other words': 2884, 'but it': 658, 'that have': 3928, 'role in': 3424, 'the top': 4215, 'it would': 2137, 'last month': 2242, 'even if': 1305, 'if they': 1856, 'enough to': 1273, 'said they': 3482, 'it in': 2121, 'when we': 4824, 'social media': 3680, 'to avoid': 4360, 'make the': 2396, 'when it': 4819, 'it said': 2127, 'it had': 2119, 'had to': 1639, 'if it': 1851, 'was being': 4724, 'we should': 4770, 'should not': 3632, 'not be': 2650, 'it on': 2126, 'the world': 4248, 'the question': 4166, 'how much': 1825, 'would be': 4945, 'despite the': 1096, 'know that': 2216, 'that not': 3944, 'to do': 4385, 'to explain': 4390, 'tens of': 3897, 'millions of': 2499, 'they re': 4284, 'their own': 4252, 'it seems': 2128, 'the number of': 4128, 'one of the': 2841, 'in addition to': 1894, 'black lives matter': 595, 'this is the': 4308, 'in other words': 1940, 'should not be': 3633, 'in the world': 1971, 'leaders': 2268, 'struggling': 3802, 'keep': 2192, 'seven': 3603, 'end': 1259, 'obamacare': 2692, 'focus': 1442, 'wednesday': 4782, 'passing': 2953, 'repeal': 3313, 'measure': 2443, 'throw': 4336, 'negotiations': 2600, 'representatives': 3332, 'effort': 1231, 'came': 688, 'senators': 3572, 'voted': 4692, '45': 55, 'straight': 3791, 'provided': 3173, 'give': 1573, 'congress': 907, 'replacement': 3317, 'opposed': 2863, 'second': 3536, 'failure': 1363, '24': 43, 'hours': 1814, '2010': 22, 'affordable': 141, 'care': 715, 'act': 103, 'known': 2220, 'health': 1735, 'insurance': 2018, '20': 14, 'income': 1988, 'rejected': 3291, 'replace': 3316, 'plan': 3012, 'worked': 4929, 'helping': 1750, 'provide': 3172, 'healthcare': 1739, 'conducted': 898, 'debate': 1041, 'individuals': 2000, 'tax': 3878, 'medical': 2449, 'senator': 3571, 'john': 2163, 'trying': 4558, 'figure': 1406, 'traffic': 4506, 'terms': 3900, 'members': 2461, 'vote': 4688, 'things': 4294, 'possible': 3059, 'hold': 1795, '48': 56, 'legislation': 2293, 'special': 3722, 'passed': 2952, 'version': 4650, 'panel': 2927, 'agree': 171, 'bill': 581, 'full': 1538, 'both': 617, 'controlled': 937, 'approve': 355, 'cause': 735, 'sides': 3646, 'building': 645, 'bob': 607, 'corker': 949, 'chance': 756, 'growing': 1621, 'approach': 352, 'agreement': 174, 'come': 852, 'fellow': 1397, 'promised': 3149, 'repeatedly': 3315, 've': 4644, 'acting': 105, 'core': 948, 'right': 3406, 'late': 2246, 'largely': 2238, 'amendment': 227, 'lawmakers': 2256, 'commitment': 866, 'helped': 1749, 'expand': 1334, 'medicaid': 2448, 'program': 3141, 'poor': 3051, 'net': 2602, 'democrats': 1081, 'introduced': 2041, 'faces': 1355, 'tough': 4496, 'nevada': 2606, 'supported': 3832, 'susan': 3847, 'mccain': 2433, 'expressed': 1345, 'attacked': 452, 'name': 2569, 'early': 1218, 'morning': 2535, 'opening': 2852, 'worried': 4938, 'every': 1314, 'shouldn': 3634, 'winning': 4888, 'elections': 1247, 'little': 2337, 'here': 1754, 'industry': 2001, 'organizations': 2877, 'urged': 4624, 'bipartisan': 590, 'blue': 605, 'cross': 998, 'association': 432, 'represents': 3334, 'across': 100, 'mandate': 2406, 'buy': 667, 'round': 3430, 'considered': 917, 'critical': 994, 'cost': 956, 'high': 1761, 'costs': 958, 'group': 1618, 'needed': 2595, 'fund': 1541, 'funds': 1544, 'anthem': 327, 'inc': 1981, 'customers': 1010, 'threatened': 4326, '2018': 33, 'americans': 233, 'washington reuters': 4739, 'to keep': 4406, 'to end': 4388, 'focus on': 1443, 'on wednesday': 2831, 'that would': 3967, 'the issue': 4083, 'house of': 1817, 'of representatives': 2740, 'the last': 4090, 'which would': 4841, 'would have': 4946, 'to give': 4394, 'to work': 4476, 'the measure': 4103, 'was the': 4734, 'the senate': 4192, 'to repeal': 4436, 'affordable care': 142, 'care act': 716, 'known as': 2221, 'health insurance': 1738, 'million people': 2497, 'of them': 2758, 'the party': 4142, 'of government': 2714, 'government in': 1603, 'through the': 4333, 'be in': 523, 'trying to': 4559, 'what the': 4809, 'terms of': 3901, 'to vote': 4473, 'vote for': 4689, 'things that': 4295, 'that will': 3966, 'as much': 399, 'much of': 2557, 'as possible': 403, 'its own': 2142, 'in may': 1927, 'if that': 1853, 'the full': 4058, 'house and': 1816, 'the legislation': 4094, 'look at': 2355, 'it not': 2125, 'based on': 511, 'on its': 2809, 'republican senator': 3343, 'be the': 526, 'support for': 3829, 'president donald': 3086, 'trump has': 4537, 'to act': 4354, 'election campaign': 1244, 'we ve': 4771, 've got': 4646, 'got to': 1598, 'don have': 1168, 'have the': 1694, 'it up': 2132, 'late on': 2247, 'voted for': 4693, 'commitment to': 867, 'the poor': 4151, 'the vote': 4234, 're election': 3229, 'next year': 2624, 'year and': 4963, 'john mccain': 2164, 'who have': 4854, 'of those': 2761, 'of two': 2766, 'the political': 4149, 'every day': 1315, 'and have': 264, 'across the': 101, 'that if': 3937, 'if the': 1854, 'must be': 2565, 'for people': 1470, 'people to': 2977, 'to buy': 4371, 'down the': 1188, 'the cost': 4011, 'cost of': 957, 'as well': 413, 'well as': 4792, 'the group': 4065, 'needed to': 2596, 'threatened to': 4327, 'because of': 533, 'of americans': 2703, 'the house of': 4072, 'house of representatives': 1818, 'affordable care act': 143, 'in the senate': 1967, 'going to be': 1587, 'to be the': 4363, 'president donald trump': 3087, 'donald trump has': 1175, 'across the country': 102, 'as well as': 414, 'jerusalem': 2157, 'riyadh': 3418, 'israeli': 2102, 'sunday': 3825, 'israel': 2101, 'contacts': 925, 'saudi': 3497, 'arabia': 359, 'amid': 234, 'common': 872, 'concerns': 889, 'iran': 2058, 'either': 1237, 'secret': 3537, 'immediate': 1869, 'response': 3372, 'energy': 1268, 'remarks': 3308, 'netanyahu': 2603, 'respond': 3368, 'immediately': 1870, 'request': 3350, 'main': 2384, 'threat': 4324, 'middle': 2481, 'east': 1220, 'increased': 1990, 'tehran': 3889, 'push': 3185, 'relations': 3294, 'arab': 358, 'captured': 712, 'war': 4714, 'territory': 3903, 'palestinians': 2925, 'future': 1547, 'peace': 2963, 'seeking': 3554, 'palestinian': 2924, 'regional': 3282, 'visited': 4684, 'took': 4488, 'army': 382, 'radio': 3209, 'replied': 3318, 'indeed': 1993, 'countries': 968, 'usually': 4640, 'side': 3644, 'interested': 2027, 'keeping': 2194, 'respect': 3367, 'wish': 4893, 'cooperation': 945, 'cited': 797, 'initiative': 2008, 'league': 2272, 'relationship': 3296, 'conflict': 905, 'basis': 514, 'normal': 2643, 'economic': 1223, 'diplomatic': 1121, 'happens': 1654, 'makes': 2397, 'parts': 2945, 'gulf': 1625, 'institute': 2016, 'surprise': 3843, 'pushed': 3186, 'chief': 776, 'language': 2236, 'online': 2846, 'ready': 3239, 'standing': 3746, 'lebanese': 2282, 'shi': 3620, 'ite': 2140, 'hezbollah': 1760, 'given': 1574, 'unlikely': 4609, 'aren': 373, 'bid': 576, 'drive': 1197, 'price': 3115, 'issues': 2106, 'strategic': 3792, 'september': 3584, 'pointed': 3031, 'various': 4643, 'ways': 4752, 'different': 1117, 'prince': 3121, 'bin': 589, 'stage': 3741, 'ex': 1323, 'promote': 3152, 'on sunday': 2820, 'has had': 1670, 'saudi arabia': 3498, 'had no': 1636, 'response to': 3373, 'spokesman for': 3734, 'did not': 1110, 'not respond': 2660, 'to request': 4438, 'to comment': 4376, 'threat to': 4325, 'the middle': 4106, 'middle east': 2482, 'relations with': 3295, 'since he': 3656, 'took office': 4489, 'office in': 2779, 'member of': 2459, 'when asked': 4816, 'ties with': 4343, 'that are': 3920, 'are the': 369, 'it the': 2130, 'the other': 4139, 'but we': 666, 'with other': 4903, 'and there': 300, 'much more': 2556, 'asked about': 420, 'with all': 4895, 'and so': 292, 'parts of': 2946, 'but there': 663, 'there are': 4262, 'in washington': 1977, 'anyone who': 336, 'which is': 4838, 'is being': 2069, 'ready to': 3240, 'interest in': 2026, 'up to': 4619, 'pressure on': 3109, 'shi ite': 3621, 'given the': 1575, 'but he': 656, 'may have': 2429, 'to pay': 4423, 'in public': 1945, 'in september': 1950, 'in 2016': 1892, 'where he': 4827, 'as he': 392, 'version of': 4651, 'did not respond': 1111, 'the middle east': 4107, 'all of the': 196, 'parts of the': 2947, 'endorsed': 1265, 'move': 2543, 'king': 2210, 'investors': 2050, 'anti': 328, 'corruption': 955, 'endorsement': 1266, 'under': 4589, 'presidency': 3081, 'rival': 3416, 'region': 3281, 'tweeted': 4571, 'confidence': 901, 'biggest': 580, 'kingdom': 2211, 'modern': 2522, 'history': 1792, 'exactly': 1324, 'series': 3585, 'referred': 3266, 'western': 4803, 'home': 1799, 'named': 2570, 'primary': 3118, 'policy': 3041, 'moved': 2545, 'opponents': 2859, 'authority': 476, 'al': 188, 'legacy': 2291, 'economy': 1224, 'religious': 3303, 'carrying': 722, 'wide': 4866, 'reforms': 3271, 'son': 3696, 'law': 2252, 'kushner': 2228, 'adviser': 135, 'returned': 3388, 'trip': 4522, 'efforts': 1233, 'conversations': 942, 'arrested': 387, 'billionaire': 586, 'prominent': 3147, 'whose': 4863, 'wall': 4706, 'street': 3795, 'basically': 513, 'potential': 3064, 'opposition': 2864, 'international': 2033, 'crisis': 993, 'hand': 1645, 'too': 4486, 'affairs': 138, 'guard': 1623, 'base': 509, 'june': 2182, 'face': 1350, 'difficult': 1118, 'accept': 84, 'leadership': 2269, 'iranian': 2060, 'felt': 1398, 'alliance': 203, 'less': 2297, 'important': 1877, 'nuclear': 2679, 'deal': 1034, 'vowed': 4698, 'lebanon': 2283, 'syria': 3853, 'yemen': 4973, 'allegations': 199, 'events': 1311, 'recent': 3255, 'open': 2850, 'called': 680, 'politician': 3044, 'hariri': 1660, 'saturday': 3496, 'resignation': 3362, 'air': 184, 'forces': 1487, 'ballistic': 495, 'missile': 2510, 'fired': 1422, 'capital': 709, 'pentagon': 2968, 'praised': 3074, 'systems': 3857, 'fighting': 1405, 'launch': 2250, 'strike': 3797, 'certainly': 748, 'few': 1400, 'reuters president': 3391, 'trump on': 4541, 'that has': 3927, 'the region': 4170, 'he had': 1711, 'following the': 1451, 'the biggest': 3989, 'what they': 4810, 'they are': 4276, 'some of': 3687, 'for years': 1483, 'years the': 4972, 'series of': 3586, 'he is': 1713, 'referred to': 3267, 'at home': 440, 'has become': 1666, 'become the': 539, 'the public': 4165, 'the economy': 4032, 'the official': 4133, 'official said': 2785, 'who has': 4852, 'relationship with': 3297, 'on whether': 2835, 'whether he': 4831, 'have had': 1689, 'house said': 1819, 'said at': 3456, 'that it': 3940, 'within the': 4916, 'who is': 4855, 'is one': 2083, 'him the': 1776, 'the most': 4111, 'wall street': 4707, 'vice president': 4660, 'the international': 4077, 'same time': 3489, 'the national': 4116, 'in june': 1925, 'to believe': 4366, 'believe that': 559, 'of new': 2730, 'had been': 1635, 'nuclear deal': 2680, 'trump administration': 4530, 'administration has': 128, 'vowed to': 4699, 'syria and': 3854, 'other countries': 2882, 'the allegations': 3979, 'in recent': 1946, 'appeared to': 346, 'iran and': 2059, 'and its': 273, 'of what': 2769, 'on saturday': 2816, 'ballistic missile': 496, 'over the': 2908, 'the capital': 3997, 'the pentagon': 4144, 'is more': 2078, 'washington reuters president': 4740, 'reuters president donald': 3392, 'donald trump on': 1177, 'in the region': 1966, 'that he had': 3930, 'white house said': 4848, 'at the time': 445, 'that it was': 3942, 'is one of': 2084, 'at the same': 444, 'the same time': 4187, 'the trump administration': 4218, 'detroit': 1105, 'nearly': 2590, '100': 3, 'poll': 3048, 'county': 971, 'charged': 769, 'presidential': 3100, 'newly': 2615, 'released': 3300, 'memo': 2464, 'thomas': 4316, 'start': 3749, 'nov': 2672, 'five': 1431, 'names': 2571, 'voters': 4695, 'ensure': 1274, 'integrity': 2019, 'delivered': 1070, 'remain': 3304, 'missing': 2512, 'comes': 854, 'prompted': 3153, 'voting': 4697, 'registered': 3283, 'votes': 4696, 'third': 4303, 'city': 803, 'happy': 1655, 'board': 606, 'off': 2772, 'signed': 3649, 'cast': 729, 'heavily': 1744, 'democratic': 1077, 'numbers': 2684, 'didn': 1112, 'percent': 2982, 'recount': 3261, 'ended': 1263, 'michigan': 2479, 'supreme': 3839, 'release': 3298, 'each': 1212, 'charged with': 770, 'the presidential': 4159, 'presidential election': 3103, 'the day': 4018, 'day after': 1026, 'after the': 155, 'the nov': 4124, 'nov election': 2673, 'this week': 4314, 'week that': 4786, 'they should': 4287, 'should have': 3631, 'at all': 437, 'we had': 4759, 'but this': 665, 'to ensure': 4389, 'people who': 2979, 'in to': 1975, 'supreme court': 3840, 'will not': 4877, 'the presidential election': 4160, 'the nov election': 4125, 'nbc': 2587, 'chuck': 793, 'posted': 3062, 'openly': 2853, 'terrible': 3902, 'found': 1504, 'victory': 4663, 'realdonaldtrump': 3244, 'turns': 4568, 'totally': 4495, 'wrong': 4957, 'james': 2147, 'comey': 856, 'deadline': 1032, 'supporting': 3835, 'meant': 2440, 'repeated': 3314, 'stop': 3784, 'april': 357, 'path': 2955, 'pushing': 3187, 'total': 4494, 'level': 2302, 'continues': 932, 'michael': 2476, 'flynn': 1441, 'asking': 423, 'testimony': 3909, 'blow': 604, 'thus': 4340, 'responded': 3370, 'love': 2370, 'your': 4996, 'life': 2313, 'learn': 2275, 'job': 2160, 'mike': 2488, 'williams': 4881, '2017': 31, 'idea': 1842, 'joke': 2169, 'ask': 418, 'real': 3242, 'dead': 1031, 'russians': 3448, 'putin': 3190, 'tom': 4483, 'behavior': 553, 'guilty': 1624, 'man': 2400, 'pic': 3000, 'com': 850, 'image': 1864, 'has been': 1667, 'out that': 2897, 'in trump': 1976, 'trump realdonaldtrump': 4542, 'president of': 3094, 'as it': 395, 'fbi director': 1384, 'director james': 1128, 'james comey': 2148, 'on trump': 2828, 'to provide': 4428, 'the justice': 4086, 'justice department': 2188, 'meant to': 2441, 'congress and': 908, 'the media': 4104, 'by trump': 675, 'said there': 3481, 'for trump': 1480, 'is now': 2081, 'trump is': 4539, 'trump for': 4535, 'with russia': 4906, 'against trump': 162, 'continues to': 933, 'security adviser': 3546, 'michael flynn': 2477, 'for an': 1456, 'off the': 2773, 'has not': 1675, 'responded to': 3371, 'to trump': 4468, 'for him': 1463, 'how the': 1826, 'be an': 521, '2017 realdonaldtrump': 32, 'idea of': 1843, 'of an': 2704, 'you re': 4990, 'is very': 2091, 'so the': 3677, 'the only': 4135, 'that you': 3968, 'it and': 2110, 'pic twitter': 3001, 'twitter com': 4575, 'donald trump realdonaldtrump': 1178, 'fbi director james': 1385, 'director james comey': 1129, 'the justice department': 4087, 'national security adviser': 2579, 'pic twitter com': 3002, 'projects': 3146, 'll': 2345, 'american': 231, 'able': 67, 'handle': 1647, 'jan': 2149, 'half': 1641, 'ability': 65, 'force': 1484, 'prevent': 3112, 'major': 2388, 'least': 2277, 'george': 1559, 'bush': 650, 'areas': 372, 'entering': 1277, 'presidents': 3105, 'divisive': 1148, 'established': 1292, 'nation': 2574, 'includes': 1985, 'ratings': 3227, 'gets': 1567, 'average': 478, '21': 35, 'except': 1327, 'handling': 1648, 'defending': 1062, 'abroad': 81, '60': 59, 'partisan': 2941, 'environment': 1282, 'results': 3384, 'clearly': 821, 'approval': 354, 'below': 562, 'highest': 1765, 'record': 3259, 'higher': 1764, 'featured': 1388, 'joe': 2162, 'his own': 1786, 'he ll': 1714, 'll be': 2346, 'the american': 3980, 'american people': 232, 'do not': 1152, 'trump will': 4552, 'will be': 4872, 'be able': 518, 'able to': 68, 'the presidency': 4155, 'take the': 3861, 'on jan': 2810, 'less than': 2298, 'half of': 1642, 'ability to': 66, 'to prevent': 4426, 'his administration': 1781, 'at least': 441, 'george bush': 1560, 'bill clinton': 582, 'clinton in': 830, 'recent years': 3256, 'with his': 4899, 'foreign policy': 1491, 'about how': 73, 'how he': 1823, 'majority of': 2391, 'of public': 2739, 'do the': 1155, 'the job': 4084, 'president george': 3090, 'to his': 4401, 'obama and': 2688, 'and an': 256, 'the results': 4178, 'like the': 2317, 'as trump': 411, 'with an': 4896, 'obama is': 2690, 'the office': 4131, 'the highest': 4070, 'than the': 3913, 'featured image': 1389, 'image via': 1865, 'the american people': 3981, 'be able to': 519, 'donald trump is': 1176, 'in recent years': 1947, 'because of the': 534, 'featured image via': 1390, 'hasn': 1681, 'seen': 3561, 'send': 3573, 'hurricane': 1838, 'couldn': 963, 'giving': 1577, 'money': 2526, 'area': 371, 'founder': 1507, 'want': 4708, 'affected': 140, 'get': 1564, 'relief': 3301, 'alongside': 216, 'promised to': 3150, 'to send': 4446, 'to help': 4398, 'is just': 2076, 'so many': 3674, 'who are': 4850, 'of their': 2757, 'says he': 3512, 'he and': 1702, 'want to': 4709, 'they can': 4277, 'to get': 4393, 'is so': 2085, 'are in': 365, 'right now': 3407, 'down to': 1189, 'out the': 2898, 'lgbt': 2305, 'christians': 790, 'happening': 1653, 'protecting': 3165, 'freedom': 1520, 'discrimination': 1134, 'allows': 209, 'held': 1746, 'abc': 63, 'marriage': 2419, 'related': 3292, 'services': 3594, 'run': 3437, 'planning': 3018, 'decide': 1047, 'conduct': 897, 'whom': 4862, 'sell': 3566, 'housing': 1821, 'parents': 2930, 'raise': 3210, 'child': 780, 'granted': 1611, 'custody': 1009, 'protected': 3164, 'sex': 3605, 'gender': 1555, 'identity': 1848, 'create': 984, 'specific': 3724, 'standards': 3745, 'policies': 3040, 'student': 3803, 'behalf': 551, 'themselves': 4258, 'short': 3626, 'exercise': 1332, 'hatred': 1684, 'else': 1250, 'pre': 3075, 'governor': 1607, 'businesses': 652, 'corporations': 952, 'christian': 789, 'business': 651, 'owner': 2916, 'moore': 2531, 'jackson': 2145, 'gop': 1595, 'stupid': 3808, 'am': 223, 'declared': 1053, 'non': 2639, 'problems': 3132, 'aside': 417, 'kind': 2208, 'actually': 116, 'consequences': 913, 'serve': 3589, 'shut': 3641, 'better': 571, 'deeply': 1058, 'go': 1579, 'system': 3856, 'looking': 2357, 'federal': 1393, 'education': 1227, 'infrastructure': 2005, 'none': 2640, 'let': 2299, 'bills': 588, 'seriously': 3588, 'trouble': 4525, 'dollars': 1165, 'mention': 2467, 'begin': 549, 'filed': 1409, 'north': 2644, 'carolina': 718, 'but that': 661, 'what is': 4807, 'or the': 2870, 'freedom of': 1521, 'republicans have': 3347, 'against the': 161, 'the following': 4056, 'on their': 2823, 'or not': 2869, 'with their': 4911, 'they will': 4291, 'they ve': 4288, 've been': 4645, 'the state': 4201, 'the law': 4092, 'related to': 3293, 'on behalf': 2799, 'behalf of': 552, 'may not': 2430, 'the way': 4239, 'way of': 4750, 'state and': 3753, 'the nation': 4115, 'during an': 1207, 'nothing to': 2669, 'do with': 1156, 'and to': 304, 'do that': 1154, 'went on': 4794, 'on to': 2827, 'the real': 4168, 'kind of': 2209, 'think the': 4299, 'to come': 4375, 'back to': 488, 'the people': 4145, 'can do': 699, 'and you': 313, 'you can': 4984, 'to think': 4465, 'people and': 2970, 'out for': 2892, 'for us': 1481, 'government is': 1604, 'none of': 2641, 'are being': 362, 'here the': 1757, 'republicans in': 3348, 'could not': 962, 'of dollars': 2710, 'when the': 4822, 'in north': 1931, 'north carolina': 2645, 'to live': 4412, 'on behalf of': 2800, 'of the state': 2754, 'in the state': 1968, 'to do with': 4387, 'went on to': 4795, 'william': 4880, 'sessions': 3597, 'post': 3061, 'reagan': 3241, 'mr': 2549, 'concluded': 891, 'effectively': 1230, 'lead': 2261, 'bureau': 648, 'aircraft': 186, 'build': 644, 'tone': 4484, 'seemed': 3558, '19': 13, 'dismissed': 1142, 'investigation': 2045, 'ethics': 1296, 'nominee': 2637, 'pick': 3003, 'judge': 2177, 'district': 1144, 'reasons': 3249, 'effective': 1229, 'cannot': 706, 'brought': 640, 'conference': 900, 'headquarters': 1733, 'arm': 379, 'result': 3382, 'fall': 1368, 'attacks': 454, 'wife': 4868, 'decided': 1048, 'leading': 2270, 'performance': 2988, 'review': 3396, 'jeff': 2154, 'remove': 3310, 'tell': 3891, 'california': 677, 'death': 1038, 'scene': 3519, 'investigations': 2047, 'committed': 868, 'suicide': 3821, 'closed': 835, 'deputy': 1089, 'counsel': 965, 'night': 2627, 'enter': 1275, 'west': 4802, 'wing': 4887, 'followed': 1448, 'investigators': 2048, 'facts': 1359, 'truth': 4555, 'park': 2932, 'best': 570, 'initial': 2006, 'die': 1113, 'kennedy': 2196, 'standard': 3744, 'robert': 3420, 'bernie': 568, 'quickly': 3200, 'entered': 1276, 'prosecutor': 3160, 'claiming': 814, 'argued': 375, 'taken': 3862, 'crime': 989, 'suit': 3822, 'murder': 2561, 'body': 609, 'investigated': 2043, 'blood': 603, 'front': 1534, 'family': 1374, 'ruling': 3436, 'significant': 3650, 'questions': 3197, 'raised': 3211, 'insisted': 2013, 'neither': 2601, 'nor': 2642, 'father': 1379, 'owned': 2915, 'records': 3260, '23': 42, '2001': 16, 'requests': 3354, 'believes': 561, 'evening': 1309, '22': 41, '29': 48, 'someone': 3691, 'clean': 818, 'knew': 2213, 'saw': 3500, 'signs': 3651, 'note': 2665, '27': 46, 'expert': 1339, 'obvious': 2694, 'minutes': 2509, 'previously': 3114, 'cases': 727, 'brief': 628, 'dozens': 1191, 'looked': 2356, 'ruled': 3434, 'criminal': 991, 'clintons': 832, 'hired': 1779, 'prove': 3171, 'august': 472, 'mail': 2383, 'agents': 168, 'interviews': 2038, 'friend': 1526, 'david': 1023, 'files': 1410, 'eight': 1236, 'mind': 2500, 'firing': 1423, 'session': 3596, 'became': 529, 'controversy': 939, 'innocent': 2010, 'president trump': 3097, 'in july': 1924, 'who had': 4851, 'the post': 4153, 'by president': 672, 'said his': 3462, 'he can': 1704, 'money to': 2527, 'to build': 4370, 'at his': 439, 'and was': 307, 'when he': 4817, 'do so': 1153, 'from his': 1530, 'york times': 4981, 'about his': 72, 'the federal': 4049, 'bureau of': 649, 'report on': 3320, 'he would': 1728, 'to replace': 4437, 'court in': 976, 'officials said': 2790, 'at an': 438, 'important to': 1878, 'the agency': 3976, 'news conference': 2620, 'as result': 405, 'result of': 3383, 'what he': 4806, 'he called': 1703, 'called the': 683, 'of his': 2717, 'attacks on': 455, 'it has': 2120, 'that can': 3922, 'an independent': 246, 'she has': 3613, 'to me': 4416, 'mr trump': 2550, 'jeff sessions': 2155, 'discuss the': 1136, 'to remove': 4435, 'tell you': 3892, 'the supreme': 4207, 'that no': 3943, 'found that': 1505, 'because he': 531, 'years of': 4971, 'the case': 3998, 'investigation into': 2046, 'but also': 655, 'effort to': 1232, 'for their': 1476, 'in charge': 1905, 'charge of': 768, 'the death': 4020, 'the investigation': 4080, 'argued that': 376, 'seeking to': 3555, 'to release': 4434, 'the scene': 4188, 'front of': 1535, 'his family': 1783, 'police said': 3039, 'and had': 262, 'his father': 1784, 'made by': 2377, 'that was': 3961, 'so called': 3670, 'that had': 3926, 'all the': 198, 'dozens of': 1192, 'during his': 1208, 'that hillary': 3935, 'of her': 2715, 'in front': 1917, 'where they': 4829, 'should be': 3630, 'the first': 4054, 'while the': 4844, 'that she': 3950, 'had not': 1637, 'not been': 2651, 'in response': 1948, 'clinton and': 826, 'an email': 245, 'and then': 299, 'to do so': 4386, 'the new york': 4119, 'new york times': 2614, 'said he would': 3461, 'need to be': 2594, 'the supreme court': 4208, 'of the most': 2750, 'according to the': 91, 'in front of': 1918, 'in response to': 1949, 'hillary clinton and': 1770, 'rather': 3225, 'answer': 326, 'elected': 1241, 'representing': 3333, 'agencies': 164, 'large': 2237, '35': 52, 'consider': 916, 'might': 2483, 'leave': 2278, 'service': 3593, 'compared': 879, '16': 10, 'nine': 2628, 'secure': 3544, 'completely': 883, 'allowed': 206, 'feel': 1395, '18': 12, 'resigned': 3363, 'civilian': 808, 'add': 118, 'minimum': 2501, 'along': 213, 'quick': 3199, 'loss': 2366, 'hundreds': 1836, 'thousands': 4322, 'fill': 1411, 'worse': 4940, 'probably': 3129, 'size': 3665, 'suffered': 3817, 'worst': 4941, 'happen': 1651, 'that donald': 3924, 'to him': 4400, 'to president': 4425, 'for her': 1461, 'the more': 4110, 'they would': 4292, 'leave the': 2279, 'trump was': 4550, 'compared to': 880, 'for hillary': 1462, 'know what': 2218, 'they do': 4280, 'who said': 4856, 'in part': 1942, 'rather than': 3226, 'the gop': 4061, 'allowed to': 207, 'in fact': 1912, 'percent of': 2984, 'in that': 1955, 'about trump': 78, 'of more': 2727, 'members of': 2462, 'the military': 4108, 'was in': 4726, 'who would': 4860, 'and trump': 305, 'trump in': 4538, 'trump would': 4553, 'along with': 215, 'hundreds of': 1837, 'of thousands': 2762, 'up with': 4621, 'that as': 3921, 'because they': 536, 'they say': 4286, 'we need': 4765, 'the whole': 4244, 'we can': 4756, 'the worst': 4249, 'to this': 4466, 'this country': 4305, 'via getty': 4656, 'that donald trump': 3925, 'members of the': 2463, 'rest of the': 3380, 'of the country': 2748, 'we need to': 4766, 'gold': 1588, 'talk': 3866, 'fraud': 1516, 'civil': 805, 'activists': 110, 'listed': 2333, 'minority': 2507, 'communities': 875, 'false': 1369, 'narrative': 2573, 'racism': 3206, 'chicago': 775, 'university': 4605, 'protest': 3167, 'attend': 464, 'exchange': 1328, 'matters': 2425, 'facing': 1356, 'brown': 641, 'opportunity': 2860, 'sound': 3703, 'spoke': 3731, 'degree': 1066, 'existing': 1333, 'serious': 3587, 'young': 4995, 'age': 163, 'america': 228, 'dialogue': 1108, 'range': 3218, 'trust': 4554, 'enforcement': 1269, 'continue': 928, 'chose': 787, 'ongoing': 2845, 'discussions': 1140, 'forward': 1501, 'discussed': 1137, 'scalia': 3517, 'led': 2284, 'violation': 4673, 'anything': 337, 'profile': 3139, 'everybody': 1316, 'reason': 3248, 'suggesting': 3820, 'nobody': 2634, 'event': 1310, 'african': 148, 'legitimate': 2296, 'in chief': 1906, 'talk about': 3867, 'civil rights': 806, 'with president': 4905, 'as an': 391, 'leader of': 2266, 'the meeting': 4105, 'the university': 4226, 'university of': 4606, 'the panel': 4140, 'which was': 4840, 'under the': 4590, 'people in': 2974, 'what was': 4811, 'saying he': 3507, 'with this': 4913, 'will take': 4879, 'to new': 4419, 'law enforcement': 2254, 'we will': 4774, 'will continue': 4873, 'continue to': 929, 'how to': 1827, 'our country': 2888, 'meeting with': 2453, 'as if': 394, 'president is': 3092, 'cannot be': 707, 'obama has': 2689, 'high profile': 1762, 'the reason': 4169, 'african american': 149, 'to address': 4355, 'that he is': 3932, 'at the white': 446, 'said on wednesday': 3476, 'leader of the': 2267, 'the university of': 4227, 'president of the': 3095, 'in the united': 1969, 'will continue to': 4874, 'in the white': 1970, 'the president of': 4158, 'of the united': 2755, 'he said in': 1719, 'test': 3908, 'coast': 843, 'scheduled': 3520, 'advance': 132, 'done': 1180, 'jones': 2170, 'korea': 2223, 'japan': 2151, 'missiles': 2511, 'target': 3873, 'south': 3708, 'korean': 2225, 'step': 3776, 'pacific': 2918, 'nations': 2580, 'gives': 1576, 'land': 2235, 'in statement': 1953, 'statement on': 3761, 'wednesday the': 4784, 'north korea': 2646, 'was to': 4735, 'south korean': 3711, 'united nations': 4599, 'states has': 3767, 'said in statement': 3465, 'on wednesday the': 2833, 'the united nations': 4224, 'that the united': 3953, 'united states has': 4602, 'mexico': 2475, 'mexican': 2474, 'summit': 3824, 'ministry': 2504, 'sent': 3578, 'threats': 4329, 'southern': 3712, 'border': 614, 'progress': 3143, 'published': 3179, 'dispute': 1143, 'pledge': 3027, 'demand': 1071, 'toward': 4497, 'talks': 3871, 'trade': 4503, 'nafta': 2568, 'pull': 3182, 'pact': 2920, 'canada': 701, 'governments': 1606, 'differences': 1116, 'resolve': 3365, 'foreign ministry': 1490, 'ministry said': 2505, 'in office': 1934, 'plan to': 3013, 'the southern': 4200, 'pay for': 2960, 'the wall': 4235, 'away from': 483, 'the north': 4123, 'free trade': 1519, 'this month': 4309, 'the three': 4212, 'and said': 289, 'said on thursday': 3474, 'trump and his': 4532, 'council': 964, 'richard': 3402, 'apparently': 340, 'overall': 2910, 'okay': 2795, 'realize': 3246, 'elect': 1238, 'generally': 1558, 'lies': 2312, 'december': 1046, 'person': 2992, 'lawyers': 2260, 'double': 1184, 'lack': 2232, 'patrick': 2956, 'obtained': 2693, 'explained': 1342, 'practice': 3072, 'present': 3079, 'lying': 2373, 'closer': 837, 'becoming': 541, 'apparent': 339, 'model': 2520, 'journalist': 2173, 'broke': 637, 'hate': 1682, 'destroyed': 1098, 'sees': 3563, 'reading': 3238, 'save': 3499, 'wilson': 4884, 'for his': 1464, 'trump who': 4551, 'of being': 2707, 'it comes': 2114, 'comes to': 855, 'thursday that': 4338, 'is an': 2068, 'when you': 4825, 'president elect': 3088, 'he does': 1709, 'can be': 698, 'do it': 1151, 'if we': 1858, 'lack of': 2233, 'sure that': 3842, 'people are': 2971, 'and we': 308, 'he added': 1700, 'added that': 120, 'met with': 2473, 'with him': 4898, 'him in': 1775, 'so much': 3675, 'and more': 276, 'the washington': 4237, 'washington post': 4738, 'but they': 664, 'you know': 4988, 'was just': 4727, 'in and': 1900, 'seems to': 3560, 'someone who': 3692, 'when it comes': 4820, 'it comes to': 2115, 'on thursday that': 2826, 'that trump is': 3960, 'the president elect': 4157, 'we have to': 4761, 'the washington post': 4238, 'commercial': 864, 'france': 1513, 'proposal': 3157, 'ban': 498, 'muslims': 2563, 'unable': 4586, 'blamed': 599, 'plane': 3014, 'positive': 3057, 'islamic': 2096, 'effect': 1228, 'acts': 114, 'terror': 3904, 'left': 2288, 'center': 738, 'san': 3490, 'paris': 2931, 'brussels': 642, 'places': 3011, 'advice': 134, 'experts': 1340, 'militants': 2492, 'egypt': 1235, 'responsibility': 3375, 'flight': 1436, 'french': 1522, 'arrived': 388, 'investigate': 2042, 'airport': 187, 'rule': 3433, 'disaster': 1132, 'telling': 3893, 'solution': 3685, 'isis': 2094, 'running': 3440, 'fix': 1433, 'fast': 1378, 'bringing': 631, 'killing': 2206, 'children': 781, 'already': 217, 'propaganda': 3155, 'videos': 4668, 'opinion': 2857, 'bodies': 608, 'haven': 1697, 'sea': 3529, 'host': 1810, 'incident': 1982, 'type': 4580, 'absolutely': 82, 'zero': 4998, 'terrorists': 3907, 'the news': 4120, 'time in': 4348, 'unable to': 4587, 'he also': 1701, 'not immediately': 2656, 'came to': 689, 'all over': 197, 'of other': 2734, 'and our': 286, 'last night': 2243, 'to serve': 4447, 'as president': 404, 'at this': 447, 'she would': 3618, 'don know': 1169, 'and has': 263, 'sources said': 3707, 'the next': 4121, 'his supporters': 1788, 'has no': 1674, 'plans to': 3020, 'and are': 257, 'on fox': 2802, 'from trump': 1533, 'trump the': 4546, 'about what': 79, 'may be': 2428, 'of this': 2760, 'evidence that': 1321, 'in the middle': 1964, 'dossier': 1183, 'threatening': 4328, 'gathered': 1552, 'moscow': 2536, 'previous': 3113, 'paid': 2922, '11': 5, 'deals': 1037, 'easily': 1219, 'thinks': 4302, 'citing': 799, 'wikileaks': 4869, 'reporting': 3327, 'writing': 4955, 'video': 4664, 'youtube': 4997, 'jim': 2159, 'politics': 3047, 'screenshot': 3528, 'no matter': 2632, 'what you': 4813, 'you think': 4991, 'his first': 1785, 'press conference': 3107, 'the report': 4172, 'out on': 2896, 'has never': 1673, 'is about': 2066, 'the information': 4075, 'yet to': 4977, 'years and': 4969, 'and no': 278, 'media and': 2447, 'trump said': 4543, 'the video': 4232, 'via youtube': 4658, 'as his': 393, 'and he': 265, 'trump to': 4547, 'to blame': 4367, 'about this': 76, 'is what': 2092, 'when they': 4823, 'the high': 4069, 'the democrats': 4026, 'democrats and': 1082, 'now the': 2677, 'the truth': 4220, 'here the video': 1758, 'however': 1828, 'eye': 1348, 'witness': 4918, 'woman': 4919, 'sexual': 3606, 'assault': 425, 'british': 633, 'decades': 1045, 'account': 92, 'imagine': 1868, 'class': 816, 'couple': 973, 'wearing': 4780, 'wanted': 4710, 'bathroom': 515, 'estate': 1294, '2014': 26, '17': 11, 'parties': 2940, 'politicians': 3045, 'sit': 3659, 'television': 3890, 'sexually': 3607, 'seat': 3534, 'thinking': 4301, 'maybe': 2431, 'living': 2343, 'picture': 3005, 'herself': 1759, 'it should': 2129, 'you ll': 4989, 'it doesn': 2118, 'change the': 761, 'forward to': 1502, 'to say': 4443, 'say the': 3504, 'the woman': 4245, 'presidential nominee': 3104, 'the man': 4101, 'on her': 2805, 'he not': 1716, 'the one': 4134, 'was on': 4730, 'which he': 4837, 'in her': 1919, 'to win': 4475, 'wanted to': 4711, 'said of': 3470, 'made the': 2379, 'went to': 4796, 'was very': 4736, 'real estate': 3243, 'in 2014': 1890, 'year old': 4965, 'no evidence': 2630, 'told the': 4482, 'of america': 2701, 'living in': 2344, 'if there': 1855, 'that what': 3964, 'video of': 4665, 'the times': 4214, 'earlier this': 1215, 'he didn': 1708, 'like that': 2316, 'he said he': 1718, 'believed': 560, 'constitutional': 921, 'duty': 1211, 'kill': 2203, 'convicted': 943, 'jury': 2183, 'women': 4920, 'brian': 627, 'upon': 4622, 'potus': 3066, 'informed': 2004, 'fed': 1392, 'shot': 3628, 'daughter': 1022, 'la': 2229, 'numerous': 2685, 'posts': 3063, 'desire': 1093, 'fully': 1539, 'weapons': 4779, 'nra': 2678, 'heavy': 1745, 'equipment': 1287, 'arrest': 386, 'intended': 2023, 'mental': 2466, 'jail': 2146, 'agent': 167, 'sentenced': 3581, 'crimes': 990, 'prison': 3125, 'count': 966, 'journal': 2172, 'man who': 2401, 'it to': 2131, 'to kill': 4407, 'and of': 281, 'people that': 2976, 'that all': 3919, 'chance to': 757, 'secret service': 3538, 'to step': 4453, 'him to': 1777, 'could be': 960, 'would make': 4948, 'was arrested': 4723, 'said and': 3455, 'intended to': 2024, 'security and': 3547, 'with it': 4900, 'in march': 1926, 'five years': 1432, 'years in': 4970, 'in prison': 1944, 'long time': 2352, 'and think': 302, 'golf': 1590, 'club': 838, 'pm': 3029, 'easy': 1222, 'apart': 338, 'successful': 3812, 'setting': 3601, 'reality': 3245, 'debt': 1042, 'billion': 584, 'managed': 2403, 'turn': 4565, 'success': 3811, 'boy': 621, 'commander': 859, '40': 53, 'food': 1452, 'pretty': 3111, 'stands': 3747, 'issue of': 2104, 'if you': 1859, 'up for': 4615, 'not just': 2658, 'much as': 2555, 'even as': 1304, 'to turn': 4471, 'the show': 4194, 'when he was': 4818, 'entire': 1279, 'jersey': 2156, 'sen': 3568, 'trial': 4518, 'democrat': 1076, 'tensions': 3898, 'watching': 4746, 'wasn': 4742, 'paper': 2928, 'criticism': 995, 'fourth': 1510, 'new jersey': 2610, 'and on': 282, 'on social': 2818, 'failed to': 1361, 'first time': 1428, 'set to': 3599, 'to begin': 4365, 'him as': 1773, 'on social media': 2819, 'for the first': 1475, 'the first time': 4055, 'id': 1841, 'card': 714, 'citizens': 801, 'racist': 3207, 'heads': 1734, 'break': 622, 'voter': 4694, '2008': 20, 'study': 3806, 'electoral': 1248, 'studies': 3805, 'co': 840, 'college': 847, 'congressional': 910, 'citizen': 800, 'laws': 2257, 'status': 3773, 'pass': 2950, 'reform': 3270, 'subject': 3810, 'stephen': 3777, 'faced': 1354, 'offer': 2775, 'stated': 3759, 'concern': 886, 'illegally': 1862, 'maintain': 2387, 'regarding': 3278, 'go to': 1580, 'not even': 2652, 'work with': 4928, 'this story': 4311, 'and all': 254, 'up on': 4617, 'that some': 3951, 'violation of': 4674, 'time of': 4349, 'to pass': 4422, 'health care': 1737, 'say that': 3503, 'led by': 2285, '2016 presidential': 30, 'and if': 269, 'the 2016 presidential': 3972, 'climate': 823, 'emissions': 1256, 'development': 1107, 'played': 3023, 'benefit': 564, 'kerry': 2198, 'spent': 3729, 'serving': 3595, 'coal': 841, 'natural': 2583, 'gas': 1551, 'down on': 1187, 'state department': 3754, 'three years': 4331, 'the department': 4027, 'climate change': 824, 'of president': 2738, 'says it': 3513, 'it can': 2112, 'the plan': 4147, 'the state department': 4202, 'said on monday': 3473, 'the department of': 4028, 'veterans': 4654, 'died': 1114, 'vietnam': 4669, 'veteran': 4653, 'oct': 2697, 'potentially': 3065, 'damage': 1017, 'weeks': 4789, 'assistant': 429, 'wake': 4703, 'on oct': 2814, 'them to': 4257, 'he did not': 1707, 'final': 1414, 'formally': 1495, 'bloc': 600, 'vote on': 4691, 'the final': 4052, 'left the': 2289, 'time for': 4347, 'she told': 3616, 'ted': 3887, 'cruz': 1001, 'local': 2347, 'fire': 1421, 'received': 3253, 'filled': 1412, 'quoted': 3203, 'peter': 2996, 'funded': 1542, 'created': 985, 'creation': 987, 'production': 3135, 'republican presidential': 3341, 'ted cruz': 3888, 'to investigate': 4403, 'as saying': 406, 'saying the': 3510, 'city of': 804, 'for comment': 1458, 'involvement in': 2055, 'mainstream': 2385, 'classified': 817, 'emails': 1252, 'husband': 1840, 'aid': 178, 'girl': 1571, 'mission': 2513, 'congressman': 911, 'eastern': 1221, 'aide': 179, 'served': 3590, 'sensitive': 3577, 'civilians': 809, 'date': 1021, '2012': 24, 'caught': 734, 'multiple': 2560, 'material': 2423, 'mostly': 2541, 'call': 678, 'purpose': 3184, 'appears': 347, 'officer': 2782, 'website': 4781, 'responsible': 3376, 'warning': 4718, 'private': 3127, 'iraq': 2061, 'afghanistan': 145, '2015': 27, 'lawsuit': 2258, 'judicial': 2179, 'watch': 4743, '2009': 21, 'february': 1391, 'computer': 885, 'past': 2954, 'experience': 1338, 'finally': 1415, 'violations': 4675, 'discovered': 1133, 'engaged': 1270, '15': 9, 'sending': 3574, 'statements': 3764, 'lie': 2310, 'highly': 1766, '21st': 36, 'century': 742, '21wire': 39, 'tv': 4569, 'the mainstream': 4098, 'mainstream media': 2386, 'the family': 4047, 'the us': 4228, 'show that': 3636, 'used to': 4635, 'to stop': 4454, 'the democratic': 4024, 'democratic party': 1079, 'talks with': 3872, 'friday the': 1525, 'served as': 3591, 'chief of': 778, 'of staff': 2742, 'former secretary': 1499, 'of which': 2770, 'clinton is': 831, 'has the': 1679, 'appears to': 348, 'respond to': 3369, 'the release': 4171, 'it will': 2135, 'statement that': 3762, 'the need': 4117, 'of hillary': 2716, 'of law': 2725, 'after he': 153, 'an investigation': 249, 'to her': 4399, 'the clinton': 4004, 'clinton campaign': 827, 'news at': 2618, 'at 21st': 435, '21st century': 37, 'century wire': 743, 'member 21wire': 2457, '21wire tv': 40, 'the mainstream media': 4099, 'the democratic party': 4025, 'on friday the': 2804, 'chief of staff': 779, 'former secretary of': 1500, 'some of the': 3688, 'that it is': 3941, 'appears to be': 349, 'it will be': 2136, 'news at 21st': 2619, 'at 21st century': 436, '21st century wire': 38, 'member 21wire tv': 2458, 'travel': 4513, 'macron': 2375, 'invited': 2051, 'german': 1562, 'announced': 321, 'hope': 1805, 'strong': 3799, 'speak': 3717, 'minute': 2508, 'return': 3386, 'diplomats': 1122, 'losing': 2365, 'diplomat': 1120, 'wants': 4712, 'afternoon': 157, 'supporter': 3833, 'coalition': 842, 'spoken': 3732, 'source said': 3705, 'efforts to': 1234, 'act of': 104, 'asked if': 421, 'with her': 4897, 'of former': 2713, 'with no': 4902, 'this was': 4313, 'called on': 682, 'to return': 4439, 'return to': 3387, 'they said': 4285, 'wants to': 4713, 'and will': 310, 'ties to': 4342, 'in the country': 1958, 'that he would': 3934, 'it was not': 2134, 'internet': 2034, 'fuel': 1537, 'nfl': 2625, 'players': 3024, 'meddling': 2445, 'spread': 3737, 'watched': 4745, 'folks': 1446, 'argument': 377, 'big': 578, 'seem': 3556, 'showed': 3637, 'operations': 2856, 'europe': 1300, 'built': 646, 'democracy': 1075, 'project': 3145, 'accounts': 93, 'analysts': 252, 'identified': 1846, 'ads': 131, 'technology': 3886, 'interference': 2030, 'racial': 3205, 'cyber': 1014, 'offensive': 2774, 'candidate': 704, 'collusion': 848, 'the right': 4179, 'right to': 3408, 'national anthem': 2576, 'on how': 2807, 'the russians': 4185, 'and their': 298, 'and also': 255, 'both sides': 618, 'to raise': 4431, 'level of': 2303, 'america and': 229, 'and make': 274, 'as they': 409, 'to push': 4429, 'election in': 1245, 'an effort': 242, 'in europe': 1911, 'working with': 4934, '100 000': 4, 'to what': 4474, 'intelligence agencies': 2021, 'that russia': 3949, 'the right to': 4180, 'in this country': 1974, 'an effort to': 243, 'funny': 1545, 'dr': 1193, 'independence': 1994, 'star': 3748, 'takes': 3863, 'hell': 1747, 'letter': 2300, 'thought': 4321, 'possibly': 3060, 'goes': 1583, 'discussing': 1138, 'heart': 1743, 'like this': 2318, 'they don': 4281, 'don want': 1171, 'you to': 4992, 'been the': 544, 'one thing': 2843, 'to run': 4441, 'run for': 3438, 'of that': 2745, 'to find': 4392, 'in place': 1943, 'of one': 2733, 'it just': 2124, 'proposed': 3159, 'sanctions': 3492, 'targeting': 3875, 'myanmar': 2567, 'treatment': 4517, 'rohingya': 3422, 'asia': 415, 'impose': 1879, 'targeted': 3874, 'bar': 506, 'assistance': 428, 'rakhine': 3213, 'moves': 2547, 'stability': 3739, 'improve': 1882, 'rex': 3397, 'tillerson': 4344, 'handed': 1646, 'transition': 4511, 'hit': 1794, 'constitution': 920, 'drawn': 1195, 'affect': 139, 'definitely': 1065, 'armed': 380, 'ben': 563, 'ethnic': 1297, 'operation': 2855, 'militant': 2491, '30': 49, 'aug': 471, 'fled': 1435, 'example': 1325, 'calling': 684, 'abuse': 83, 'happened': 1652, 'refugees': 3273, 'bangladesh': 500, 'for its': 1466, 'the bill': 3990, 'of donald': 2711, 'trip to': 4523, 'president in': 3091, 'in january': 1923, 'officials and': 2788, 'and in': 270, 'state rex': 3757, 'rex tillerson': 3398, 'the army': 3984, 'has to': 1680, 'is also': 2067, 'of congress': 2708, 'since the': 3657, 'led to': 2286, 'example of': 1326, 'calling for': 685, 'on what': 2834, 'allegations of': 200, 'security forces': 3549, 'what happened': 4805, 'for it': 1465, 'said on friday': 3472, 'of the senate': 2753, 'of donald trump': 2712, 'of state rex': 2744, 'state rex tillerson': 3758, 'in the house': 1962, 'response to the': 3374, 'challenge': 753, 'female': 1399, 'birth': 591, 'justices': 2189, 'closely': 836, 'requested': 3353, 'grounds': 1617, 'suggested': 3819, 'raising': 3212, 'possibility': 3058, 'lower': 2372, 'divided': 1146, 'liberals': 2307, 'funding': 1543, 'sector': 3543, 'signature': 3648, 'legislative': 2294, 'launched': 2251, 'challenges': 754, 'current': 1007, 'offered': 2776, 'providing': 3175, 'required': 3356, 'form': 1492, 'catholic': 732, 'runs': 3442, 'homes': 1803, 'for new': 1468, 'the court': 4013, 'the possibility': 4152, 'death of': 1039, 'in february': 1915, 'the order': 4137, 'request for': 3351, 'the end': 4036, 'end of': 1260, 'the affordable': 3974, 'in 2010': 1886, 'seen as': 3562, 'sought to': 3702, 'in 2012': 1888, 'the current': 4016, 'washington reuters the': 4741, 'the end of': 4037, 'the affordable care': 3975, 'kurdish': 2227, 'iraqi': 2063, 'baghdad': 494, 'drew': 1196, 'referendum': 3265, 'importance': 1876, 'unity': 4604, 'priority': 3124, 'reference': 3264, 'boost': 613, 'develop': 1106, 'powers': 3071, 'play': 3022, 'heard': 1741, 'sense': 3576, 'amount': 237, 'government and': 1601, 'to fight': 4391, 'islamic state': 2097, 'the fight': 4051, 'fight against': 1403, 'in iraq': 1921, 'at time': 448, 'in all': 1896, 'and political': 287, 'form of': 1493, 'was an': 4722, 'the constitution': 4010, 'to play': 4424, 'of any': 2706, 'amount of': 238, 'ahead of the': 177, 'in the last': 1963, 'between the two': 574, 'and the united': 297, 'usual': 4639, 'suspects': 3850, 'texas': 3911, 'harvey': 1662, 'victims': 4662, 'sentence': 3580, 'st': 3738, 'please': 3026, 'correct': 953, 'contact': 924, 'spokeswoman': 3736, 'emergency': 1255, 'shortly': 3627, 'fair': 1364, 'yes': 4974, 'remember': 3309, 'angry': 319, 'people of': 2975, 'have said': 1693, 'to them': 4464, 'they had': 4282, 'the interview': 4079, 'is this': 2089, 'for any': 1457, 'comment on': 861, 'on this': 2824, 'manager': 2405, 'society': 3682, 'particularly': 2939, 'dangerous': 1019, 'defeat': 1059, 'town': 4500, 'hall': 1643, 'ohio': 2793, 'november': 2674, 'khan': 2201, 'convention': 940, 'investment': 2049, 'firm': 1424, 'donations': 1179, 'candidates': 705, 'jeb': 2153, 'christie': 791, 'marco': 2413, 'rubio': 3432, 'campaigns': 695, '2007': 19, '400': 54, 'york reuters': 4980, 'the republican': 4173, 'president and': 3083, 'chief executive': 777, 'trump told': 4548, 'might be': 2484, 'the muslim': 4113, 'killed in': 2205, 'marco rubio': 2414, 'new york reuters': 2613, 'of the republican': 2752, 'request for comment': 3352, 'executives': 1331, 'regulations': 3286, 'manufacturing': 2407, 'chemical': 774, 'ceo': 745, 'andrew': 314, 'conversation': 941, 'regulatory': 3287, 'in on': 1935, 'donald trump and': 1174, 'smith': 3668, 'appointed': 351, 'harassment': 1656, '2019': 34, 'views': 4671, 'moment': 2523, 'positions': 3056, 'parenthood': 2929, 'lines': 2326, 'join': 2166, '2006': 18, 'track': 4502, 'gain': 1548, 'cut': 1011, 'roy': 3431, 'alabama': 190, 'after being': 152, 'accused of': 96, 'in november': 1932, 'more to': 2534, 'the best': 3988, 'to move': 4418, 'planned parenthood': 3016, 'against him': 160, 'him and': 1772, 'decision to': 1051, 'working on': 4933, 'get to': 1566, 'her husband': 1752, 'republican party': 3339, 'statement the': 3763, 'the move': 4112, 'move to': 2544, 'to cut': 4380, 'the republican party': 4174, 'will not be': 4878, 'somehow': 3690, 'nomination': 2636, 'picked': 3004, 'crowd': 999, 'ridiculous': 3405, 'huge': 1832, 'wins': 4889, 'sanders': 3494, 'covered': 981, 'baby': 484, 'girls': 1572, 'screen': 3526, 'capture': 711, 'presidential candidate': 3102, 'win the': 4886, 'to that': 4459, 'for some': 1472, 'the crowd': 4015, 'for those': 1479, 'for that': 1473, 'it clear': 2113, 'bernie sanders': 569, 'america is': 230, 'via video': 4657, 'video screen': 4666, 'screen capture': 3527, 'image via video': 1866, 'video screen capture': 4667, 'violence': 4676, 'ukraine': 4583, 'troops': 4524, 'pro': 3128, 'km': 2212, 'miles': 2490, 'understand': 4592, 'bring': 630, 'backing': 492, 'career': 717, 'supply': 3827, 'in what': 1978, 'be seen': 525, 'visit to': 4683, 'ambassador to': 226, 'town of': 4501, 'and it': 272, 'we all': 4754, 'and russia': 288, 'of russian': 2741, 'in 2015': 1891, 'to bring': 4369, 'states to': 3771, 'this is not': 4307, 'united states to': 4603, 'book': 612, 'shooting': 3624, 'protests': 3169, 'hateful': 1683, 'injured': 2009, 'violent': 4678, 'period': 2990, 'sad': 3450, 'protect': 3162, 'oh': 2792, 'miller': 2494, 'the shooting': 4193, 'and as': 258, 'here are': 1755, 'that people': 3947, 'the police': 4148, 'in america': 1897, 'these are': 4273, 'it also': 2109, 'to call': 4372, 'black people': 596, 'of the people': 2751, 'immigration': 1873, 'homeland': 1801, 'dozen': 1190, 'analysis': 250, 'currently': 1008, 'written': 4956, 'nazi': 2586, 'survey': 3846, 'inside': 2011, 'extreme': 1346, 'we want': 4772, 'to protect': 4427, 'of homeland': 2718, 'homeland security': 1802, 'to ask': 4359, 'to one': 4420, 'questions about': 3198, 'inside the': 2012, 'has called': 1668, 'called for': 681, 'of homeland security': 2719, 'global': 1578, 'god': 1582, 'warming': 4716, 'harm': 1661, 'greatest': 1614, 'above': 80, 'born': 616, 'follow': 1447, 'beyond': 575, 'china': 782, 'india': 1996, 'rich': 3401, 'whatever': 4814, 'discussion': 1139, 'stuff': 3807, 'separate': 3582, 'research': 3359, 'command': 858, 'moving': 2548, 'permanent': 2991, 'foundation': 1506, 'benefits': 565, 'evil': 1322, 'supposed': 3837, 'science': 3524, 'sometimes': 3695, 'nature': 2584, 'followers': 1449, 'upset': 4623, 'hour': 1813, 'unlike': 4608, 'hoping': 1808, 'to tell': 4458, 'the war': 4236, 'war on': 4715, 'the british': 3993, 'he says': 1721, 'the money': 4109, 'don think': 1170, 'world war': 4937, 'the air': 3978, 'in some': 1951, 'by his': 671, 'took the': 4491, 'the republicans': 4175, 'the problem': 4162, 'china and': 783, 'so they': 3678, 'in china': 1907, 'of political': 2737, 'which are': 4835, 'even more': 1306, 'air force': 185, 'looking at': 2358, 'the majority': 4100, 'supposed to': 3838, 'the use': 4229, 'was one': 4731, 'of the world': 2756, 'and that the': 295, 'the use of': 4230, 'was one of': 4732, 'such as the': 3815, 'syrian': 3855, 'on nov': 2813, 'the congress': 4008, 'liberal': 2306, 'active': 108, 'runner': 3439, 'labor': 2230, 'nominees': 2638, 'rhetoric': 3399, 'drug': 1202, 'rallies': 3214, 'protesters': 3168, 'outside': 2904, 'oppose': 2862, 'increase': 1989, 'beat': 528, 'becomes': 540, 'rally': 3215, 'support of': 3830, 'democratic presidential': 1080, 'opposition to': 2865, 'front runner': 1536, 'group of': 1619, 'general election': 1557, 'for our': 1469, 'the letter': 4095, 'his campaign': 1782, 'entering the': 1278, 'at trump': 449, 'of whom': 2771, 'republican nominee': 3338, 'have also': 1686, 'rally in': 3216, 'any other': 332, 'small': 3666, 'station': 3772, 'message': 2470, 'works': 4935, 'joined': 2167, 'mayor': 2432, 'appropriate': 353, 'religion': 3302, 'continued': 930, 'aware': 480, 'church': 794, 'treated': 4516, 'decisions': 1052, 'forced': 1485, 'gonna': 1592, 'changes': 763, 'head': 1729, 'choose': 786, 'fit': 1430, 'was also': 4721, 'that when': 3965, 'to all': 4356, 'the city': 4002, 'we must': 4764, 'about her': 71, 'time and': 4346, 'not the': 2661, 'me to': 2436, 'live in': 2339, 'the idea': 4073, 'keep the': 2193, 'you are': 4983, 'for more': 1467, 'country and': 970, 'says that': 3514, 'there will': 4269, 'to put': 4430, 'any of': 331, 'who has been': 4853, 'the city of': 4003, 'supports': 3836, 'greater': 1613, 'protection': 3166, 'bill that': 583, 'appeals': 342, 'embassy': 1253, 'urging': 4625, 'dec': 1043, 'playing': 3025, 'situation': 3663, 'considering': 918, '2005': 17, 'waters': 4748, 'to meet': 4417, 'her to': 1753, 'the embassy': 4035, 'many people': 2411, 'campaign to': 694, 'law and': 2253, 'right wing': 3409, 'government has': 1602, 'to show': 4448, 'georgia': 1561, 'bundy': 647, 'seized': 3564, 'residents': 3360, 'partnership': 2944, 'environmental': 1283, 'anybody': 333, 'oregon': 2875, 'wealthy': 4777, 'demanded': 1072, 'the entire': 4038, 'of these': 2759, 'hard to': 1658, 'pointed out': 3032, 'you don': 4985, 're not': 3232, 'us and': 4627, 'they want': 4289, 'say they': 3505, 'table': 3858, 'dealing': 1036, 'unless': 4607, 'speaker': 3718, 'ryan': 3449, 'kim': 2207, 'jong': 2171, 'un': 4585, 'allowing': 208, 'allow': 205, 'willing': 4882, 'drop': 1200, 'reduce': 3263, 'struck': 3801, 'tests': 3910, 'apply': 350, 'spending': 3728, 'determined': 1104, 'assad': 424, 'continuing': 934, 'central': 741, 'learned': 2276, 'prepared': 3076, 'it does': 2117, 'not want': 2663, 'speaker paul': 3719, 'paul ryan': 2958, 'has taken': 1678, 'north korean': 2647, 'and others': 285, 'something that': 3694, 'willing to': 4883, 'on north': 2812, 'to reduce': 4433, 'nuclear weapons': 2681, 'he wanted': 1724, 'sanctions on': 3493, 'whether the': 4832, 'so that': 3676, 'speaker paul ryan': 3720, 'he said the': 1720, 'ad': 117, 'https': 1830, 'davis': 1024, 'truly': 4528, 'https co': 1831, 'to their': 4463, 'here is': 1756, 'strikes': 3798, 'fears': 1387, 'would not': 4949, 'voice': 4687, 'publicly': 3178, 'grand': 1609, 'bannon': 505, 'receive': 3252, 'hill': 1767, '500': 58, 'point': 3030, 'perhaps': 2989, 'activist': 109, 'ivanka': 2144, 'running for': 3441, 'now that': 2676, 'to its': 4404, 'by an': 670, 'returns': 3389, 'trail': 4507, 'assembly': 426, 'wage': 4700, 'harder': 1659, 'worker': 4930, 'dollar': 1164, 'store': 3787, 'thanks': 3916, 'cities': 798, '14': 8, 'carry': 721, 'shift': 3622, 'overseas': 2912, 'corp': 950, 'lost': 2367, 'finding': 1419, 'rick': 3403, 'chamber': 755, 'commerce': 863, 'charity': 772, '13': 7, 'hopes': 1807, 'elect donald': 1239, 'won the': 4923, 'thanks to': 3917, 'percent in': 2983, 'the past': 4143, 'in 2009': 1885, 'those who': 4318, 'two years': 4579, 'president elect donald': 3089, 'elect donald trump': 1240, 'over the past': 2909, 'pakistan': 2923, 'favorite': 1382, 'deadly': 1033, 'taliban': 3865, 'bomb': 611, 'asian': 416, 'afghan': 144, 'canadian': 702, 'safe': 3451, 'fighters': 1404, 'sign': 3647, 'cia': 795, 'therefore': 4270, 'formal': 1494, 'school': 3521, 'fought': 1503, 'province': 3176, 'pulled': 3183, '70': 60, 'hospital': 1809, 'days after': 1028, 'the nuclear': 4126, 'in afghanistan': 1895, 'close to': 834, 'were in': 4798, 'the second': 4190, 'side of': 3645, 'the border': 3992, 'been in': 543, 'but in': 657, 'are still': 368, 'the cia': 4001, 'thursday the': 4339, 'along the': 214, 'the organization': 4138, 'not have': 2655, 'history of': 1793, 'the area': 3983, 'in august': 1903, 'this year': 4315, 'the attack': 3985, 'member of the': 2460, 'hollywood': 1798, 'historic': 1791, 'construction': 922, 'piece': 3006, 'remains': 3307, 'york city': 4979, 'the women': 4246, 'them and': 4254, 'earlier this year': 1217, 'new york city': 2612, 'episode': 1285, 'aimed': 182, 'cold': 845, 'channel': 765, 'understanding': 4593, 'agreed': 172, 'cuba': 1002, 'accord': 88, 'wait': 4701, 'leaves': 2280, 'biden': 577, 'deal with': 1035, 'two weeks': 4578, 'aimed at': 183, 'saying that': 3509, 'to reach': 4432, 'said in an': 3464, 'in the past': 1965, 'combat': 851, 'blocked': 602, 'the south': 4199, 'undermine': 4591, 'representative': 3331, 'joint': 2168, 'towards': 4498, 'refusing': 3277, 'ultimately': 4584, 'reached': 3234, 'conditions': 896, 'assets': 427, 'broad': 634, 'the executive': 4043, 'to reuters': 4440, 'the agreement': 3977, 'republicans who': 3349, 'the deal': 4019, 'concerned about': 888, 'congress to': 909, 'outside the': 2905, 'has already': 1664, 'admitted': 130, 'game': 1549, 'chances': 759, 'actor': 113, 'interviewed': 2037, 'film': 1413, 'los': 2362, 'angeles': 317, 'fear': 1386, 'afraid': 146, 'families': 1373, 'twice': 4573, 'near': 2588, 'programs': 3142, 'presidential campaign': 3101, 'who were': 4858, 'and for': 260, 'with them': 4912, 'los angeles': 2363, 'to go': 4395, 'you have': 4986, 'said in the': 3466, 'we re not': 4769, 'rise': 3412, 'partners': 2943, 'check': 773, 'increasingly': 1992, 'philippines': 2997, 'duterte': 1210, 'beijing': 556, 'arms': 381, 'the general': 4060, 'with its': 4901, 'support the': 3831, 'as long': 396, 'long as': 2351, 'the statement': 4204, 'the future': 4059, 'the philippines': 4146, 'but said': 660, 'about to': 77, 'as long as': 397, 'white house and': 4847, 'earlier this month': 1216, 'designed': 1091, 'train': 4508, 'stood': 3783, 'lied': 2311, 'lose': 2364, 'students': 3804, 'designed to': 1092, 'women and': 4921, 'the event': 4042, 'to hold': 4402, 'as she': 407, 'on that': 2821, 'looking for': 2359, 'the district': 4029, 'we do': 4757, 'the program': 4164, 'them the': 4256, 'mother': 2542, 'lady': 2234, 'walking': 4705, 'out to': 2900, 'first lady': 1427, 'had the': 1638, 'said to': 3484, 'that their': 3954, 'to those': 4467, 'high school': 1763, 'and her': 266, 'of time': 2764, 'spanish': 3715, 'catalonia': 731, 'confirm': 902, 'acr': 99, 'broadcast': 635, 'boiler': 610, 'tonight': 4485, 'fly': 1440, 'otherwise': 2886, 'hosts': 1811, 'reject': 3290, 'zone': 4999, 'gang': 1550, 'associated': 430, 'schumer': 3523, 'pelosi': 2965, 'markets': 2418, 'link': 2327, '200': 15, 'personnel': 2995, 'mid': 2480, 'appear': 343, 'training': 4509, 'ground': 1616, 'involving': 2056, 'even the': 1307, 'for decades': 1459, 'million in': 2496, 'has made': 1672, 'risk': 3414, 'financial': 1417, 'the race': 4167, 'the financial': 4053, 'francisco': 1514, 'taxes': 3881, 'prices': 3116, 'desperate': 1094, 'revenue': 3395, 'space': 3713, 'controversial': 938, 'increasing': 1991, 'rate': 3223, 'rates': 3224, 'budget': 643, 'oil': 2794, 'estimated': 1295, 'fiscal': 1429, 'measures': 2444, 'red': 3262, 'eventually': 1312, 'lee': 2287, 'san francisco': 3491, 'have not': 1692, 'are now': 367, 'said this': 3483, 'states that': 3769, 'south carolina': 3709, 'and new': 277, 'they could': 4278, 'entirely': 1280, 'hear': 1740, 'destroy': 1097, 'leaks': 2274, 'pledged': 3028, 'out there': 2899, 'to hear': 4397, 'attended': 465, 'shown': 3639, 'sarah': 3495, 'risks': 3415, 'detention': 1102, 'chinese': 784, 'cancer': 703, 'condition': 893, 'ms': 2552, 'demanding': 1073, 'aim': 181, 'oversight': 2913, 'health and': 1736, 'just the': 2186, 'to leave': 4410, 'his wife': 1789, 'government to': 1605, 'that he has': 3931, 'japanese': 2152, 'abe': 64, 'rebels': 3251, '300': 50, 'extremely': 1347, 'river': 3417, 'meetings': 2454, 'basic': 512, 'island': 2099, 'audience': 470, 'xi': 4961, 'months of': 2530, 'korea and': 2224, 'ones': 2844, 'nice': 2626, 'simple': 3653, 'and women': 311, 'is on': 2082, 'power to': 3069, 'each other': 1213, 'after all': 151, 'get the': 1565, 'flint': 1437, 'water': 4747, 'express': 1344, 'massive': 2422, 'outrage': 2903, 'native': 2581, 'epa': 1284, 'caused': 736, 'population': 3054, 'the crisis': 4014, 'as many': 398, 'call for': 679, 'be held': 522, 'frank': 1515, 'trading': 4504, 'commission': 865, 'trillion': 4521, 'regulation': 3285, 'limits': 2324, 'rules': 3435, 'finance': 1416, 'confirmation': 903, 'firms': 1425, 'in congress': 1908, 'the committee': 4006, 'the central': 4000, 'to allow': 4357, 'to carry': 4373, 'would also': 4944, 'said it was': 3468, 'file': 1408, 'cash': 728, 'option': 2866, 'banking': 502, 'stein': 3775, 'office of': 2780, 'sent to': 3579, 'too much': 4487, 'whether to': 4833, 'the office of': 4132, 'pope': 3052, 'headed': 1732, 'italy': 2139, 'alone': 212, 'rose': 3427, 'preparing': 3077, 'pyongyang': 3192, 'conflicts': 906, 'stopped': 3786, 'original': 2879, 'the town': 4216, 'south korea': 3710, 'one of his': 2840, 'back to the': 489, 'bank': 501, 'proposals': 3158, 'broader': 636, 'corporate': 951, 'deficit': 1064, 'growth': 1622, 'businessman': 653, 'operating': 2854, 'mentioned': 2468, 'professor': 3138, 'treasury': 4515, 'mnuchin': 2519, 'driven': 1198, 'seats': 3535, 'goldman': 1589, 'partner': 2942, 'appearance': 344, 'expect': 1335, 'sort': 3699, 'currency': 1006, 'analyst': 251, 'anymore': 334, 'the face': 4044, 'face of': 1351, 'transition team': 4512, 'republicans are': 3346, 'tax reform': 3880, 'sort of': 3700, 'do you': 1157, 'top of': 4493, 'in the face': 1960, 'professional': 3137, 'rare': 3222, 'house speaker': 1820, 'concerns about': 890, 'notice': 2670, 'isn': 2100, 'property': 3156, 'profit': 3140, 'florida': 1439, 'steve': 3780, '26': 45, 'opened': 2851, 'code': 844, 'agreed to': 173, 'in florida': 1916, 'while he': 4843, 'with trump': 4914, 'and many': 275, 'be allowed': 520, 'criminals': 992, 'corrupt': 954, 'virginia': 4679, 'equal': 1286, 'welcome': 4790, 'blacks': 597, 'can get': 700, 'back and': 486, 'opportunity to': 2861, 'the governor': 4063, 'as one': 400, 'puerto': 3180, 'rico': 3404, 'credit': 988, 'flag': 1434, 'owners': 2917, 'puerto rico': 3181, 'from an': 1529, 'kasich': 2191, 'pence': 2966, 'republican president': 3340, 'have an': 1687, 'people from': 2972, 'mike pence': 2489, 'immigration and': 1874, 'the so': 4196, 'of national': 2729, '80': 61, 'arizona': 378, 'aggressive': 169, 'floor': 1438, 'hoped': 1806, 'in 2008': 1884, 'said adding': 3454, 'circuit': 796, 'looks': 2360, 'attempted': 458, 'control of': 936, 'near the': 2589, 'out and': 2891, 'the situation': 4195, 'looks like': 2361, 'the center': 3999, 'in court': 1909, 'turning': 4567, 'receiving': 3254, 'poverty': 3067, 'minorities': 2506, 'limited': 2323, 'spend': 3727, 'surrounding': 3844, 'alex': 191, 'responsible for': 3377, 'might have': 2485, 'percent of the': 2985, 'orlando': 2880, 'favor': 1380, 'broken': 638, 'recognize': 3258, 'outcome': 2901, 'anonymity': 324, 'contest': 927, 'in favor': 1913, 'favor of': 1381, 'the opposition': 4136, 'of american': 2702, 'this point': 4310, 'condition of': 894, 'of anonymity': 2705, 'think we': 4300, 'head of': 1730, 'in favor of': 1914, 'condition of anonymity': 895, 'head of the': 1731, 'aliens': 193, 'driving': 1199, 'cars': 723, 'the democrat': 4023, 'an american': 241, 'cleveland': 822, 'presumptive': 3110, 'republican national': 3337, 'elizabeth': 1249, 'warren': 4719, 'block': 601, 'faith': 1365, 'nominating': 2635, 'seem to': 3557, 'are also': 361, 'back in': 487, 'other than': 2883, 'to block': 4368, 'the rules': 4182, 'to our': 4421, 'you want': 4994, 'that they are': 3957, 'up to the': 4620, 'humanitarian': 1835, 'qaeda': 3193, 'represent': 3330, 'visa': 4680, 'document': 1158, 'al qaeda': 189, 'civil war': 807, 'thousands of': 4323, 'stop the': 3785, 'in syria': 1954, 'news agency': 2617, 'of thousands of': 2763, 'around the world': 385, 'berlin': 567, 'chancellor': 758, 'angela': 315, 'merkel': 2469, 'necessary': 2591, 'battle': 516, 'entry': 1281, 'banned': 504, 'green': 1615, 'parliamentary': 2934, 'author': 474, 'accepted': 85, 'lawmaker': 2255, 'caucus': 733, 'angela merkel': 316, 'spokesman said': 3735, 'travel ban': 4514, 'ban on': 499, 'the ban': 3986, 'cbs': 737, 'safety': 3452, 'leads': 2271, 'mugabe': 2559, 'direction': 1125, 'regime': 3280, 'chaos': 766, 'opponent': 2858, 'rights and': 3411, 'forced to': 1486, 'see the': 3551, 'they did': 4279, 'disgusting': 1141, 'camp': 690, 'magazine': 2382, 'suggest': 3818, 'hurt': 1839, 'the debate': 4021, 'the internet': 4078, 'however the': 1829, 'attempted to': 459, 'in the first': 1961, 'the electoral': 4034, 'the conservative': 4009, '2011': 23, 'light': 2314, 'taxpayer': 3882, 'dnc': 1149, 'unfortunately': 4595, 'streets': 3796, 'two of': 4577, 'and one': 283, 'the dnc': 4030, 'the streets': 4206, 'vladimir': 4685, 'selling': 3567, 'honor': 1804, 'tuesday that': 4561, 'russia and': 3444, 'russian president': 3446, 'president vladimir': 3098, 'vladimir putin': 4686, 'russian president vladimir': 3447, 'president vladimir putin': 3099, 'taiwan': 3859, 'office said': 2781, 'martin': 2420, 'jr': 2175, 'perfect': 2987, 'will also': 4871, 'them in': 4255, 'and this': 303, 'in my': 1928, 'of my': 2728, 'at the end': 443, 'starting': 3751, 'sept': 3583, 'stay': 3774, 'officially': 2786, 'states the': 3770, 'to stay': 4452, 'libya': 2309, 'sudan': 3816, 'the islamic': 4081, 'executive order': 1330, 'www': 4960, 'points': 3033, 'throughout': 4334, 'the syrian': 4209, 'decided to': 1049, 'hotel': 1812, 'retired': 3385, 'privacy': 3126, 'hack': 1631, 'super': 3826, 'unit': 4597, 'package': 2919, 'networks': 2605, 'hacking': 1633, 'produced': 3134, 'illinois': 1863, 'pennsylvania': 2967, 'nancy': 2572, 'write': 4954, 'worry': 4939, 'capable': 708, 'weak': 4775, 'thank': 3914, 'wonder': 4924, 'over his': 2907, 'before he': 546, 'democratic national': 1078, 'national committee': 2577, 'in 2011': 1887, 'the system': 4210, 'continued to': 931, 'this time': 4312, 'it all': 2108, 'set up': 3600, 'said he had': 3459, 'the state of': 4203, 'season': 3533, 'establishment': 1293, 'polling': 3049, 'smart': 3667, 'weapon': 4778, 'mcconnell': 2434, 'because we': 537, 'republic': 3335, 'ali': 192, 'focused': 1444, 'decade': 1044, 'focused on': 1445, 'of it': 2722, 'the head': 4067, 'of how': 2720, 'to speak': 4449, 'the main': 4097, 'iraq and': 2062, 'the head of': 4068, 'refuse': 3274, 'ideas': 1845, 'impossible': 1881, '28': 47, 'products': 3136, 'usa': 4629, 'he wants': 1725, 'negative': 2599, 'payments': 2962, 'anti trump': 329, 'come to': 853, 'hannity': 1650, 'listen': 2334, 'creating': 986, 'sold': 3683, 'yesterday': 4975, 'breaking': 623, 'carter': 725, 'approved': 356, 'practices': 3073, 'donors': 1181, 'confederate': 899, 'mueller': 2558, 'connection': 912, 'committee on': 871, 'special counsel': 3723, 'so it': 3673, 'saying it': 3508, 'in any': 1901, 'noted that': 2667, 'with the united': 4910, 'leftist': 2290, 'communist': 874, 'rock': 3421, 'us to': 4628, 'the west': 4241, 'be more': 524, 'to the white': 4462, 'remaining': 3306, 'rebel': 3250, 'listen to': 2335, 'these people': 4274, 'indian': 1997, 'immigrant': 1871, 'cultural': 1004, 'instead of': 2015, 'details of': 1100, 'she had': 3612, 'door': 1182, 'manafort': 2402, 'stock': 3782, 'associates': 431, 'campaign manager': 693, 'to talk': 4457, 'the intelligence': 4076, 'kremlin': 2226, 'strategist': 3793, 'uk': 4582, 'allegedly': 202, 'attacking': 453, 'our nation': 2889, 'the donald': 4031, 'the kremlin': 4088, 'and what': 309, 'are you': 370, 'to russia': 4442, 'for what': 1482, 'the uk': 4222, 'place in': 3009, 'michelle': 2478, 'campus': 696, 'the ground': 4064, 'know how': 2215, 'to deal': 4381, 'to deal with': 4382, 'exposed': 1343, 'proud': 3170, 'indiana': 1998, 'clinton has': 829, 'he made': 1715, 'resolution': 3364, 'haley': 1640, 'australia': 473, 'poland': 3034, 'is why': 2093, 'danger': 1018, 'centers': 740, 'resources': 3366, 'management': 2404, 'and how': 268, 'kansas': 2190, 'actual': 115, 'summer': 3823, 'institutions': 2017, 'which the': 4839, 'you have to': 4987, 'the incident': 4074, 'js': 2176, 'dinner': 1119, 'regardless': 3279, 'fine': 1420, 'domestic': 1166, 'buying': 668, 'the tax': 4211, 'there no': 4265, 'the budget': 3994, 'make it': 2394, 'put the': 3189, 'calls for': 687, 'violated': 4672, 'prosecutors': 3161, 'appeal': 341, 'islam': 2095, 'carried': 719, 'english': 1271, 'drugs': 1203, 'the left': 4093, 'to join': 4405, 'the anti': 3982, 'male': 2399, 'dallas': 1016, 'cops': 947, 'iowa': 2057, 'attempting': 460, 'attempting to': 461, 'socialist': 3681, 'know the': 2217, 'for example': 1460, 'qatar': 3194, 'storm': 3789, 'task': 3877, 'enemy': 1267, 'raqqa': 3221, 'mattis': 2426, 'with russian': 4907, 'to continue': 4377, 'it would be': 2138, 'will make': 4876, 'vote in': 4690, 'not in': 2657, 'the violence': 4233, 'rep': 3312, 'release of': 3299, 'road': 3419, 'fun': 1540, 'we ll': 4763, 'jewish': 2158, 'lead to': 2262, 'suspect': 3848, 'difference': 1115, 'polls': 3050, 'somebody': 3689, 'messages': 2471, 'alternative': 220, 'determine': 1103, 'era': 1288, 'undocumented': 4594, 'wire says': 4891, 'but not': 659, 'for all': 1455, 'clinton foundation': 828, 'to look': 4413, 'make america': 2393, 'century wire says': 744, 'the clinton foundation': 4005, 'inauguration': 1980, 'complained': 881, 'hispanic': 1790, 'trump as': 4533, 'after his': 154, 'refugee': 3272, 'culture': 1005, 'diversity': 1145, 'idea that': 1844, 'the school': 4189, 'type of': 4581, 'to create': 4379, 'billions': 587, 'ending': 1264, 'cutting': 1013, 'consumer': 923, '31': 51, 'watch the': 4744, 'to let': 4411, 'people with': 2980, 'and two': 306, 'of the american': 2747, 'larger': 2239, 'placed': 3010, 'by reuters': 673, 'carried out': 720, 'who will': 4859, 'has repeatedly': 1676, 'overhaul': 2911, 'legislature': 2295, 'of money': 2726, 'billion in': 585, 'reid': 3288, 'cuts': 1012, 'federal government': 1394, 'on it': 2808, 'senate majority': 3570, 'the federal government': 4050, 'style': 3809, 'gay': 1554, 'friday that': 1524, 'in april': 1902, 'administration is': 129, 'both the': 619, 'states in': 3768, 'changing': 764, 'graham': 1608, 'moderate': 2521, 'cuban': 1003, 'delegates': 1068, 'his party': 1787, 'republican presidential candidate': 3342, 'why the': 4865, 'passage': 2951, 'security council': 3548, 'palin': 2926, 'court of': 977, 'venezuela': 4649, 'abortion': 69, 'the power': 4154, 'think it': 4297, 'wounded': 4953, 'northern': 2648, 'peaceful': 2964, 'pipeline': 3007, 'would take': 4951, 'throughout the': 4335, 'on sept': 2817, 'the ruling': 4183, 'similar': 3652, 'knowledge': 2219, 'car': 713, 'obviously': 2695, 'cop': 946, 'to lead': 4409, 'would not be': 4950, 'fell': 1396, 'the largest': 4089, 'end of the': 1261, 'figures': 1407, 'deny': 1085, 'draft': 1194, 'search': 3532, 'crucial': 1000, 'free speech': 1518, 'the judge': 4085, 'declined to comment': 1056, 'percentage': 2986, 'and she': 291, 'carson': 724, 'vehicles': 4648, 'stepped': 3778, 'field': 1401, 'trump supporters': 4545, 'complex': 884, 'benghazi': 566, 'hampshire': 1644, 'melania': 2455, 'wealth': 4776, 'brother': 639, 'amazing': 224, 'new hampshire': 2609, 'trump jr': 4540, 'protect the': 3163, 'and security': 290, 'roughly': 3429, 'mistake': 2514, 'him for': 1774, 'doubt': 1185, 'committed to': 869, 'the name': 4114, 'he should': 1722, 'say it': 3502, 'to say that': 4444, 'priebus': 3117, 'holds': 1797, 'state in': 3755, 'capitol': 710, 'interior': 2031, 'specifically': 3725, 'said but': 3457, 'colleagues': 846, 'attorneys': 469, 'ceremony': 746, 'thank you': 3915, 'the rule': 4181, 'impact': 1875, 'rape': 3220, 'tuesday the': 4562, 'anger': 318, 'mitch': 2515, 'taxpayers': 3883, 'limit': 2322, 'the paris': 4141, 'leader mitch': 2264, 'mitch mcconnell': 2516, 'in south': 1952, 'leader mitch mcconnell': 2265, 'said it would': 3469, 'in december': 1910, 'africa': 147, 'rising': 3413, 'value': 4641, 'shootings': 3625, 'of violence': 2768, 'advisers': 136, 'ross': 3428, 'have made': 1690, 'made it': 2378, 'waiting': 4702, 'took place': 4490, 'on an': 2798, 'kelly': 2195, 'color': 849, 'the candidate': 3996, 'aware of': 481, 'would like': 4947, 'google': 1594, 'election the': 1246, 'requires': 3358, 'the nomination': 4122, 'center for': 739, 'police officer': 3037, 'you ve': 4993, 'gorsuch': 1596, 'vehicle': 4647, 'of north': 2731, 'guys': 1630, 'the security': 4191, 'to start': 4451, 'truck': 4526, 'police and': 3036, 'for them': 1477, 'transgender': 4510, 'tax cuts': 3879, 'christmas': 792, 'catalan': 730, 'spain': 3714, 'judges': 2178, 'sheriff': 3619, 'promises': 3151, 'wednesday that': 4783, 'on wednesday that': 2832, 'one that': 2842, 'dc': 1029, 'ballot': 497, 'euro': 1299, 'the island': 4082, 'fans': 1375, 'division': 1147, 'labour': 2231, 'home to': 1800, 'removed': 3311, 'maduro': 2381, 'violence and': 4677, 'ireland': 2064, 'soros': 3698, 'in both': 1904, 'requirements': 3357, 'madrid': 2380, 'settlement': 3602, 'letter to': 2301, 'grant': 1610, 'end the': 1262, 'trump supporter': 4544, 'shut down': 3642, 'temporary': 3895, 'asylum': 433, 'marine': 2415, 'conway': 944, 'with that': 4908, 'mrs': 2551, 'migrants': 2486, 'sweden': 3852, 'migration': 2487, 'liberty': 2308, 'far right': 1377, 'the polls': 4150, 'was going': 4725, 'be used': 527, 'mosque': 2537, 'leaked': 2273, 'republicans and': 3345, 'visas': 4681, 'identify': 1847, 'spd': 3716, 'presented': 3080, 'amp': 239, 'reilly': 3289, 'shooter': 3623, 'rice': 3400, 'quot': 3202}\n"
          ]
        }
      ]
    },
    {
      "cell_type": "code",
      "source": [
        "print(X_train_bow[15].toarray())"
      ],
      "metadata": {
        "id": "mESoDsjv_QHd"
      },
      "execution_count": null,
      "outputs": []
    },
    {
      "cell_type": "markdown",
      "metadata": {
        "id": "VMPHakKYaoI-"
      },
      "source": [
        "# **Initializing the selected Machine learning models**"
      ]
    },
    {
      "cell_type": "code",
      "execution_count": null,
      "metadata": {
        "id": "JWfyowHvam2C",
        "colab": {
          "base_uri": "https://localhost:8080/"
        },
        "outputId": "afc70f70-0117-4f94-ecc7-59ceface9998"
      },
      "outputs": [
        {
          "output_type": "stream",
          "name": "stdout",
          "text": [
            "[[1 0 0 ... 0 0 0]]\n"
          ]
        }
      ],
      "source": [
        "svm_model = SVC()\n",
        "nb_model = MultinomialNB()\n",
        "xgb_model = xgb.XGBClassifier()"
      ]
    },
    {
      "cell_type": "markdown",
      "metadata": {
        "id": "kkIUtsM1a1bw"
      },
      "source": [
        "# **Defining Hyperparameters for selected Machine learning algorithms**"
      ]
    },
    {
      "cell_type": "code",
      "execution_count": null,
      "metadata": {
        "id": "NxVmhenNauae"
      },
      "outputs": [],
      "source": [
        "svm_param_distributions = {'C': uniform(0.7, 1), 'kernel': ['linear']}\n",
        "nb_param_distributions = {'alpha': uniform(0.5, 10)}\n",
        "xgb_param_distributions = {'n_estimators': randint(50, 100), 'max_depth': randint(3, 8)}"
      ]
    },
    {
      "cell_type": "code",
      "execution_count": null,
      "metadata": {
        "id": "Y21TYxhSbRmO"
      },
      "outputs": [],
      "source": [
        "stratified_kfold = StratifiedKFold(n_splits=5, shuffle=True, random_state=1)"
      ]
    },
    {
      "cell_type": "markdown",
      "metadata": {
        "id": "hV5F010MiR5u"
      },
      "source": [
        "# **Multinomial Naive Bayes**"
      ]
    },
    {
      "cell_type": "code",
      "execution_count": null,
      "metadata": {
        "id": "oLaoBhRxhHqU"
      },
      "outputs": [],
      "source": [
        "random_search = RandomizedSearchCV(estimator=nb_model, param_distributions=nb_param_distributions, scoring='accuracy', n_iter=5, cv=stratified_kfold, verbose=1, random_state=1)"
      ]
    },
    {
      "cell_type": "markdown",
      "source": [
        "**Training the MNB**"
      ],
      "metadata": {
        "id": "IoegilkYu3RT"
      }
    },
    {
      "cell_type": "code",
      "execution_count": null,
      "metadata": {
        "colab": {
          "base_uri": "https://localhost:8080/"
        },
        "id": "lIaqmh_Phsjb",
        "outputId": "e0f5aa70-dacf-41df-f1f7-da0d5383a059"
      },
      "outputs": [
        {
          "output_type": "stream",
          "name": "stdout",
          "text": [
            "Fitting 5 folds for each of 5 candidates, totalling 25 fits\n"
          ]
        }
      ],
      "source": [
        "start_time_MNB_training = time.time()\n",
        "\n",
        "random_search.fit(X_train_bow, y_train)\n",
        "\n",
        "end_time_MNB_training = time.time()\n",
        "elapsed_time_MNB_training = end_time_MNB_training - start_time_MNB_training\n"
      ]
    },
    {
      "cell_type": "code",
      "execution_count": null,
      "metadata": {
        "colab": {
          "base_uri": "https://localhost:8080/"
        },
        "id": "M4ilyd3eiBte",
        "outputId": "1e569cae-a8b8-4552-b9cc-750b96d4beb1"
      },
      "outputs": [
        {
          "output_type": "stream",
          "name": "stdout",
          "text": [
            "Time taken: 2.1354782581329346 seconds\n",
            "Best Parameters:  {'alpha': 0.5011437481734489}\n",
            "Best Accuracy:  0.96\n"
          ]
        }
      ],
      "source": [
        "print(f\"Time taken: {elapsed_time_MNB_training} seconds\")\n",
        "print(\"Best Parameters: \", random_search.best_params_)\n",
        "print(\"Best Accuracy: \", random_search.best_score_)"
      ]
    },
    {
      "cell_type": "markdown",
      "source": [
        "**Testing the MNB**"
      ],
      "metadata": {
        "id": "t65eJEdHu6By"
      }
    },
    {
      "cell_type": "code",
      "execution_count": null,
      "metadata": {
        "colab": {
          "base_uri": "https://localhost:8080/"
        },
        "id": "xo3feZE6ivFN",
        "outputId": "4c4c534e-6643-4664-a011-4c2c4c7b01f8"
      },
      "outputs": [
        {
          "output_type": "stream",
          "name": "stdout",
          "text": [
            "Accuracy score for Multinomial Naive Bayes : 0.9595257198894535\n",
            "\n",
            "******************************************************\n",
            "\n",
            "              precision    recall  f1-score   support\n",
            "\n",
            "           0       0.95      0.97      0.96      5391\n",
            "           1       0.97      0.95      0.96      5826\n",
            "\n",
            "    accuracy                           0.96     11217\n",
            "   macro avg       0.96      0.96      0.96     11217\n",
            "weighted avg       0.96      0.96      0.96     11217\n",
            "\n",
            "\n",
            "******************************************************\n",
            "\n",
            "Time taken: 13.626058101654053 seconds\n"
          ]
        }
      ],
      "source": [
        "start_time_MNB_testing = time.time()\n",
        "\n",
        "\n",
        "X_test_bow = bag_of_words.transform(X_test)\n",
        "y_pred = random_search.predict(X_test_bow)\n",
        "\n",
        "\n",
        "accuracyscore = metrics.accuracy_score(y_test, y_pred)\n",
        "print(\"Accuracy score for Multinomial Naive Bayes :\",accuracyscore)\n",
        "print(\"\\n******************************************************\\n\")\n",
        "print(classification_report(y_test, y_pred))\n",
        "\n",
        "end_time_MNB_testing = time.time()\n",
        "elapsed_time_MNB_testing = end_time_MNB_testing - start_time_MNB_testing\n",
        "print(\"\\n******************************************************\\n\")\n",
        "print(f\"Time taken: {elapsed_time_MNB_testing} seconds\")"
      ]
    },
    {
      "cell_type": "markdown",
      "source": [
        "**Confusion Matrix for MNB**"
      ],
      "metadata": {
        "id": "Z12O3ipMvAdI"
      }
    },
    {
      "cell_type": "code",
      "execution_count": null,
      "metadata": {
        "colab": {
          "base_uri": "https://localhost:8080/",
          "height": 524
        },
        "id": "ynJ_mdH9mbjY",
        "outputId": "9bffc927-13b4-497e-c0a5-666b97108b19"
      },
      "outputs": [
        {
          "output_type": "stream",
          "name": "stdout",
          "text": [
            "Confusion Matrix:\n",
            "[[5231  160]\n",
            " [ 294 5532]]\n"
          ]
        },
        {
          "output_type": "display_data",
          "data": {
            "text/plain": [
              "<Figure size 640x480 with 2 Axes>"
            ],
            "image/png": "[encoded data removed]"
          },
          "metadata": {}
        }
      ],
      "source": [
        "conf_matrix = confusion_matrix(y_test, y_pred)\n",
        "\n",
        "# Print the confusion matrix\n",
        "print(\"Confusion Matrix:\")\n",
        "print(conf_matrix)\n",
        "\n",
        "# Creating a heatmap\n",
        "sns.heatmap(conf_matrix, annot=True, fmt='d', cmap='Blues', annot_kws={\"size\": 16})\n",
        "\n",
        "\n",
        "plt.xlabel('Predicted labels')\n",
        "plt.ylabel('True labels')\n",
        "plt.title('Multinomial Naive Bayes Confusion Matrix')\n",
        "\n",
        "# Display the plot\n",
        "plt.show()"
      ]
    },
    {
      "cell_type": "markdown",
      "source": [
        "**Printing the values of X_test variable**"
      ],
      "metadata": {
        "id": "fCG7GiZIvD4I"
      }
    },
    {
      "cell_type": "code",
      "source": [
        "print(X_test_bow)"
      ],
      "metadata": {
        "colab": {
          "base_uri": "https://localhost:8080/"
        },
        "id": "phym7OUe_a34",
        "outputId": "56d459de-9765-4ae6-cb07-9a5d99903d8d"
      },
      "execution_count": null,
      "outputs": [
        {
          "output_type": "stream",
          "name": "stdout",
          "text": [
            "  (0, 99)\t3\n",
            "  (0, 213)\t1\n",
            "  (0, 215)\t1\n",
            "  (0, 253)\t5\n",
            "  (0, 325)\t1\n",
            "  (0, 434)\t1\n",
            "  (0, 562)\t1\n",
            "  (0, 610)\t5\n",
            "  (0, 635)\t2\n",
            "  (0, 697)\t1\n",
            "  (0, 953)\t1\n",
            "  (0, 1007)\t1\n",
            "  (0, 1057)\t1\n",
            "  (0, 1200)\t1\n",
            "  (0, 1285)\t1\n",
            "  (0, 1382)\t1\n",
            "  (0, 1454)\t5\n",
            "  (0, 1474)\t1\n",
            "  (0, 1478)\t1\n",
            "  (0, 1564)\t2\n",
            "  (0, 1810)\t1\n",
            "  (0, 1811)\t1\n",
            "  (0, 1883)\t2\n",
            "  (0, 1956)\t1\n",
            "  (0, 1975)\t1\n",
            "  :\t:\n",
            "  (11216, 4519)\t1\n",
            "  (11216, 4520)\t1\n",
            "  (11216, 4555)\t1\n",
            "  (11216, 4589)\t1\n",
            "  (11216, 4590)\t1\n",
            "  (11216, 4598)\t1\n",
            "  (11216, 4600)\t1\n",
            "  (11216, 4613)\t2\n",
            "  (11216, 4644)\t1\n",
            "  (11216, 4646)\t1\n",
            "  (11216, 4753)\t1\n",
            "  (11216, 4760)\t1\n",
            "  (11216, 4761)\t1\n",
            "  (11216, 4776)\t1\n",
            "  (11216, 4804)\t1\n",
            "  (11216, 4815)\t1\n",
            "  (11216, 4822)\t1\n",
            "  (11216, 4882)\t1\n",
            "  (11216, 4883)\t1\n",
            "  (11216, 4943)\t2\n",
            "  (11216, 4949)\t1\n",
            "  (11216, 4950)\t1\n",
            "  (11216, 4982)\t4\n",
            "  (11216, 4993)\t1\n",
            "  (11216, 4996)\t3\n"
          ]
        }
      ]
    },
    {
      "cell_type": "markdown",
      "source": [
        "**Prediction**"
      ],
      "metadata": {
        "id": "sA20ouE6_fqb"
      }
    },
    {
      "cell_type": "code",
      "source": [
        "X_predict = X_test_bow[0]\n",
        "\n",
        "\n",
        "prediction = random_search.predict(X_predict)\n",
        "print(prediction)\n",
        "\n",
        "if(prediction[0]==1):\n",
        "  print(\"Fake\")\n",
        "else:\n",
        "  print(\"True\")"
      ],
      "metadata": {
        "colab": {
          "base_uri": "https://localhost:8080/"
        },
        "id": "YtENQihP_ayu",
        "outputId": "80280d98-734e-4ed9-ef04-abb119b8586b"
      },
      "execution_count": null,
      "outputs": [
        {
          "output_type": "stream",
          "name": "stdout",
          "text": [
            "[1]\n",
            "Fake\n"
          ]
        }
      ]
    },
    {
      "cell_type": "code",
      "source": [
        "X_predict = X_test_bow[16]\n",
        "\n",
        "\n",
        "prediction = random_search.predict(X_predict)\n",
        "print(prediction)\n",
        "\n",
        "if(prediction[0]==1):\n",
        "  print(\"Fake\")\n",
        "else:\n",
        "  print(\"True\")"
      ],
      "metadata": {
        "colab": {
          "base_uri": "https://localhost:8080/"
        },
        "id": "J031J4nD_aq_",
        "outputId": "6c852aca-b03b-4ebd-d142-1d05d4f9fb56"
      },
      "execution_count": null,
      "outputs": [
        {
          "output_type": "stream",
          "name": "stdout",
          "text": [
            "[1]\n",
            "Fake\n"
          ]
        }
      ]
    },
    {
      "cell_type": "markdown",
      "metadata": {
        "id": "4dSdzDsejB10"
      },
      "source": [
        "# **XGboost**"
      ]
    },
    {
      "cell_type": "code",
      "execution_count": null,
      "metadata": {
        "id": "hennu7cNjBb-"
      },
      "outputs": [],
      "source": [
        "random_search = RandomizedSearchCV(estimator=xgb_model, param_distributions=xgb_param_distributions, scoring='accuracy', n_iter=5, cv=stratified_kfold, verbose=1, random_state=1)"
      ]
    },
    {
      "cell_type": "markdown",
      "source": [
        "**Training XGBoost**"
      ],
      "metadata": {
        "id": "rvaWOkwnvJge"
      }
    },
    {
      "cell_type": "code",
      "execution_count": null,
      "metadata": {
        "colab": {
          "base_uri": "https://localhost:8080/"
        },
        "id": "_-xx5lh8jajJ",
        "outputId": "fd8e2a6e-3543-4561-db5c-c3a928772ff6"
      },
      "outputs": [
        {
          "output_type": "stream",
          "name": "stdout",
          "text": [
            "Fitting 5 folds for each of 5 candidates, totalling 25 fits\n"
          ]
        }
      ],
      "source": [
        "start_time_xgb_training = time.time()\n",
        "\n",
        "random_search.fit(X_train_bow, y_train)\n",
        "\n",
        "end_time_xgb_training = time.time()\n",
        "elapsed_time_xgb_training = end_time_xgb_training - start_time_xgb_training"
      ]
    },
    {
      "cell_type": "code",
      "execution_count": null,
      "metadata": {
        "colab": {
          "base_uri": "https://localhost:8080/"
        },
        "id": "wUtuJ4OOjacV",
        "outputId": "05464034-b9df-4f9b-887d-b96e52bbec86"
      },
      "outputs": [
        {
          "output_type": "stream",
          "name": "stdout",
          "text": [
            "Time taken: 100.51682353019714 seconds\n",
            "Best Parameters:  {'max_depth': 4, 'n_estimators': 62}\n",
            "Best Accuracy:  0.9975928677563151\n"
          ]
        }
      ],
      "source": [
        "print(f\"Time taken: {elapsed_time_xgb_training} seconds\")\n",
        "print(\"Best Parameters: \", random_search.best_params_)\n",
        "print(\"Best Accuracy: \", random_search.best_score_)"
      ]
    },
    {
      "cell_type": "markdown",
      "source": [
        "**Testing the XGboost**"
      ],
      "metadata": {
        "id": "fR5LVwXQvM0q"
      }
    },
    {
      "cell_type": "code",
      "execution_count": null,
      "metadata": {
        "colab": {
          "base_uri": "https://localhost:8080/"
        },
        "id": "EMR5gsJYjepo",
        "outputId": "a2accacc-9383-4739-ef22-3f629b7ad56b"
      },
      "outputs": [
        {
          "output_type": "stream",
          "name": "stdout",
          "text": [
            "Accuracy score for Xgboost : 0.997325488098422\n",
            "\n",
            "******************************************************\n",
            "\n",
            "              precision    recall  f1-score   support\n",
            "\n",
            "           0       1.00      1.00      1.00      5391\n",
            "           1       1.00      1.00      1.00      5826\n",
            "\n",
            "    accuracy                           1.00     11217\n",
            "   macro avg       1.00      1.00      1.00     11217\n",
            "weighted avg       1.00      1.00      1.00     11217\n",
            "\n",
            "\n",
            "******************************************************\n",
            "\n",
            "Time taken: 13.648607969284058 seconds\n"
          ]
        }
      ],
      "source": [
        "start_time_xgb_testing = time.time()\n",
        "\n",
        "X_test_bow = bag_of_words.transform(X_test)\n",
        "y_pred = random_search.predict(X_test_bow)\n",
        "\n",
        "accuracyscore = metrics.accuracy_score(y_test, y_pred)\n",
        "print(\"Accuracy score for Xgboost :\",accuracyscore)\n",
        "print(\"\\n******************************************************\\n\")\n",
        "print(classification_report(y_test, y_pred))\n",
        "\n",
        "end_time_xgb_testing = time.time()\n",
        "elapsed_time_xgb_testing = end_time_xgb_testing - start_time_xgb_testing\n",
        "print(\"\\n******************************************************\\n\")\n",
        "print(f\"Time taken: {elapsed_time_xgb_testing} seconds\")"
      ]
    },
    {
      "cell_type": "markdown",
      "source": [
        "**Confusion Matrix for XGboost**"
      ],
      "metadata": {
        "id": "ntgofsTCvrx6"
      }
    },
    {
      "cell_type": "code",
      "execution_count": null,
      "metadata": {
        "colab": {
          "base_uri": "https://localhost:8080/",
          "height": 524
        },
        "id": "GOgMuPjwnIRc",
        "outputId": "83f68c69-be8f-4e9e-d1ec-7f3ac452a5c9"
      },
      "outputs": [
        {
          "output_type": "stream",
          "name": "stdout",
          "text": [
            "Confusion Matrix:\n",
            "[[5382    9]\n",
            " [  21 5805]]\n"
          ]
        },
        {
          "output_type": "display_data",
          "data": {
            "text/plain": [
              "<Figure size 640x480 with 2 Axes>"
            ],
            "image/png": "[encoded data removed]"
          },
          "metadata": {}
        }
      ],
      "source": [
        "conf_matrix = confusion_matrix(y_test, y_pred)\n",
        "\n",
        "# Printing the confusion matrix\n",
        "print(\"Confusion Matrix:\")\n",
        "print(conf_matrix)\n",
        "\n",
        "# Creating a heatmap\n",
        "sns.heatmap(conf_matrix, annot=True, fmt='d', cmap='Blues', annot_kws={\"size\": 16})\n",
        "\n",
        "# Setting labels and required title\n",
        "plt.xlabel('Predicted labels')\n",
        "plt.ylabel('True labels')\n",
        "plt.title('XGBoost Confusion Matrix')\n",
        "\n",
        "# Displaying the plot\n",
        "plt.show()"
      ]
    },
    {
      "cell_type": "markdown",
      "source": [
        "**Printing the values of X_test**"
      ],
      "metadata": {
        "id": "cphs7mRdvvxq"
      }
    },
    {
      "cell_type": "code",
      "source": [
        "print(X_test_bow)"
      ],
      "metadata": {
        "colab": {
          "base_uri": "https://localhost:8080/"
        },
        "id": "GMfq1qvW_klp",
        "outputId": "95830a46-a003-43aa-e4de-8cb2fbac5f7e"
      },
      "execution_count": null,
      "outputs": [
        {
          "output_type": "stream",
          "name": "stdout",
          "text": [
            "  (0, 99)\t3\n",
            "  (0, 213)\t1\n",
            "  (0, 215)\t1\n",
            "  (0, 253)\t5\n",
            "  (0, 325)\t1\n",
            "  (0, 434)\t1\n",
            "  (0, 562)\t1\n",
            "  (0, 610)\t5\n",
            "  (0, 635)\t2\n",
            "  (0, 697)\t1\n",
            "  (0, 953)\t1\n",
            "  (0, 1007)\t1\n",
            "  (0, 1057)\t1\n",
            "  (0, 1200)\t1\n",
            "  (0, 1285)\t1\n",
            "  (0, 1382)\t1\n",
            "  (0, 1454)\t5\n",
            "  (0, 1474)\t1\n",
            "  (0, 1478)\t1\n",
            "  (0, 1564)\t2\n",
            "  (0, 1810)\t1\n",
            "  (0, 1811)\t1\n",
            "  (0, 1883)\t2\n",
            "  (0, 1956)\t1\n",
            "  (0, 1975)\t1\n",
            "  :\t:\n",
            "  (11216, 4519)\t1\n",
            "  (11216, 4520)\t1\n",
            "  (11216, 4555)\t1\n",
            "  (11216, 4589)\t1\n",
            "  (11216, 4590)\t1\n",
            "  (11216, 4598)\t1\n",
            "  (11216, 4600)\t1\n",
            "  (11216, 4613)\t2\n",
            "  (11216, 4644)\t1\n",
            "  (11216, 4646)\t1\n",
            "  (11216, 4753)\t1\n",
            "  (11216, 4760)\t1\n",
            "  (11216, 4761)\t1\n",
            "  (11216, 4776)\t1\n",
            "  (11216, 4804)\t1\n",
            "  (11216, 4815)\t1\n",
            "  (11216, 4822)\t1\n",
            "  (11216, 4882)\t1\n",
            "  (11216, 4883)\t1\n",
            "  (11216, 4943)\t2\n",
            "  (11216, 4949)\t1\n",
            "  (11216, 4950)\t1\n",
            "  (11216, 4982)\t4\n",
            "  (11216, 4993)\t1\n",
            "  (11216, 4996)\t3\n"
          ]
        }
      ]
    },
    {
      "cell_type": "markdown",
      "source": [
        "**Prediction**"
      ],
      "metadata": {
        "id": "diBqN4Pq_kf9"
      }
    },
    {
      "cell_type": "code",
      "source": [
        "X_predict = X_test_bow[1]\n",
        "\n",
        "\n",
        "prediction = random_search.predict(X_predict)\n",
        "print(prediction)\n",
        "\n",
        "if(prediction[0]==1):\n",
        "  print(\"Fake\")\n",
        "else:\n",
        "  print(\"True\")"
      ],
      "metadata": {
        "colab": {
          "base_uri": "https://localhost:8080/"
        },
        "id": "ZUI75K_I_kX2",
        "outputId": "1d9ce8e1-3908-461c-e26d-a0cdf8db9702"
      },
      "execution_count": null,
      "outputs": [
        {
          "output_type": "stream",
          "name": "stdout",
          "text": [
            "[0]\n",
            "True\n"
          ]
        }
      ]
    },
    {
      "cell_type": "code",
      "source": [
        "X_predict = X_test_bow[15]\n",
        "\n",
        "prediction = random_search.predict(X_predict)\n",
        "print(prediction)\n",
        "\n",
        "if(prediction[0]==1):\n",
        "  print(\"Fake\")\n",
        "else:\n",
        "  print(\"True\")"
      ],
      "metadata": {
        "colab": {
          "base_uri": "https://localhost:8080/"
        },
        "id": "CbkBh3aL_j7E",
        "outputId": "7f1e7afe-c370-4a33-cd97-eb567fe8199c"
      },
      "execution_count": null,
      "outputs": [
        {
          "output_type": "stream",
          "name": "stdout",
          "text": [
            "[0]\n",
            "True\n"
          ]
        }
      ]
    },
    {
      "cell_type": "markdown",
      "metadata": {
        "id": "qjPc8X8_vaOB"
      },
      "source": [
        "# **Support Vector Machine**"
      ]
    },
    {
      "cell_type": "code",
      "execution_count": null,
      "metadata": {
        "id": "6mFtGJEAvZgh"
      },
      "outputs": [],
      "source": [
        "random_search = RandomizedSearchCV(estimator=svm_model, param_distributions=svm_param_distributions, scoring='accuracy', n_iter=5, cv=stratified_kfold, verbose=1, random_state=1)"
      ]
    },
    {
      "cell_type": "markdown",
      "source": [
        "**Training SVM**"
      ],
      "metadata": {
        "id": "Kj-ylq9Cv0_e"
      }
    },
    {
      "cell_type": "code",
      "execution_count": null,
      "metadata": {
        "colab": {
          "base_uri": "https://localhost:8080/"
        },
        "id": "CbferHySvwKh",
        "outputId": "4b3bcf50-d5ec-4d0f-b402-3799fd4848a1"
      },
      "outputs": [
        {
          "output_type": "stream",
          "name": "stdout",
          "text": [
            "Fitting 5 folds for each of 5 candidates, totalling 25 fits\n"
          ]
        }
      ],
      "source": [
        "start_time_svm_training = time.time()\n",
        "\n",
        "random_search.fit(X_train_bow, y_train)\n",
        "\n",
        "end_time_svm_training = time.time()\n",
        "elapsed_time_svm_training = end_time_svm_training - start_time_svm_training"
      ]
    },
    {
      "cell_type": "code",
      "execution_count": null,
      "metadata": {
        "colab": {
          "base_uri": "https://localhost:8080/"
        },
        "id": "WzckVlJ3vw1m",
        "outputId": "3f8cbf52-3396-4ee5-929d-33260182349d"
      },
      "outputs": [
        {
          "output_type": "stream",
          "name": "stdout",
          "text": [
            "Time taken: 3184.144679069519 seconds\n",
            "Best Parameters:  {'C': 1.1170220047025738, 'kernel': 'linear'}\n",
            "Best Accuracy:  0.995482912332838\n"
          ]
        }
      ],
      "source": [
        "print(f\"Time taken: {elapsed_time_svm_training} seconds\")\n",
        "print(\"Best Parameters: \", random_search.best_params_)\n",
        "print(\"Best Accuracy: \", random_search.best_score_)"
      ]
    },
    {
      "cell_type": "markdown",
      "source": [
        "**Testing SVM**"
      ],
      "metadata": {
        "id": "vJr7o507v3rv"
      }
    },
    {
      "cell_type": "code",
      "execution_count": null,
      "metadata": {
        "colab": {
          "base_uri": "https://localhost:8080/"
        },
        "id": "-ukju88Nv3Qb",
        "outputId": "3825df44-eb20-4020-f0f8-07ae8eac9941"
      },
      "outputs": [
        {
          "output_type": "stream",
          "name": "stdout",
          "text": [
            "Accuracy score for Support vector Machine : 0.9965231345279486\n",
            "\n",
            "******************************************************\n",
            "\n",
            "              precision    recall  f1-score   support\n",
            "\n",
            "           0       1.00      1.00      1.00      5391\n",
            "           1       1.00      1.00      1.00      5826\n",
            "\n",
            "    accuracy                           1.00     11217\n",
            "   macro avg       1.00      1.00      1.00     11217\n",
            "weighted avg       1.00      1.00      1.00     11217\n",
            "\n",
            "\n",
            "******************************************************\n",
            "\n",
            "Time taken: 53.33251667022705 seconds\n"
          ]
        }
      ],
      "source": [
        "start_time_svm_testing = time.time()\n",
        "\n",
        "X_test_bow = bag_of_words.transform(X_test)\n",
        "y_pred = random_search.predict(X_test_bow)\n",
        "\n",
        "accuracyscore = metrics.accuracy_score(y_test, y_pred)\n",
        "print(\"Accuracy score for Support vector Machine :\",accuracyscore)\n",
        "print(\"\\n******************************************************\\n\")\n",
        "print(classification_report(y_test, y_pred))\n",
        "\n",
        "\n",
        "end_time_svm_testing = time.time()\n",
        "elapsed_time_svm_testing = end_time_svm_testing - start_time_svm_testing\n",
        "print(\"\\n******************************************************\\n\")\n",
        "print(f\"Time taken: {elapsed_time_svm_testing} seconds\")"
      ]
    },
    {
      "cell_type": "markdown",
      "source": [
        "**Confusion Matrix for SVM**"
      ],
      "metadata": {
        "id": "kD_9xjg9v8Y3"
      }
    },
    {
      "cell_type": "code",
      "execution_count": null,
      "metadata": {
        "colab": {
          "base_uri": "https://localhost:8080/",
          "height": 524
        },
        "id": "D8LgZ6uEgiyy",
        "outputId": "57472568-9aa6-414c-d886-c7517abf1f37"
      },
      "outputs": [
        {
          "output_type": "stream",
          "name": "stdout",
          "text": [
            "Confusion Matrix:\n",
            "[[5377   14]\n",
            " [  25 5801]]\n"
          ]
        },
        {
          "output_type": "display_data",
          "data": {
            "text/plain": [
              "<Figure size 640x480 with 2 Axes>"
            ],
            "image/png": "[encoded data removed]"
          },
          "metadata": {}
        }
      ],
      "source": [
        "conf_matrix = confusion_matrix(y_test, y_pred)\n",
        "\n",
        "# Print the confusion matrix\n",
        "print(\"Confusion Matrix:\")\n",
        "print(conf_matrix)\n",
        "\n",
        "# Create a heatmap\n",
        "sns.heatmap(conf_matrix, annot=True, fmt='d', cmap='Blues', annot_kws={\"size\": 16})\n",
        "\n",
        "# Set labels and title\n",
        "plt.xlabel('Predicted labels')\n",
        "plt.ylabel('True labels')\n",
        "plt.title('SVM Confusion Matrix')\n",
        "\n",
        "# Display the plot\n",
        "plt.show()"
      ]
    },
    {
      "cell_type": "markdown",
      "source": [
        "**Printing the X_test Values**"
      ],
      "metadata": {
        "id": "jsbzitkAwAMq"
      }
    },
    {
      "cell_type": "code",
      "source": [
        "print(X_test_bow)"
      ],
      "metadata": {
        "colab": {
          "base_uri": "https://localhost:8080/"
        },
        "id": "G1hnvQjR_tqB",
        "outputId": "5d6ba084-e7b4-4177-a9d8-1b428e969d02"
      },
      "execution_count": null,
      "outputs": [
        {
          "output_type": "stream",
          "name": "stdout",
          "text": [
            "  (0, 99)\t3\n",
            "  (0, 213)\t1\n",
            "  (0, 215)\t1\n",
            "  (0, 253)\t5\n",
            "  (0, 325)\t1\n",
            "  (0, 434)\t1\n",
            "  (0, 562)\t1\n",
            "  (0, 610)\t5\n",
            "  (0, 635)\t2\n",
            "  (0, 697)\t1\n",
            "  (0, 953)\t1\n",
            "  (0, 1007)\t1\n",
            "  (0, 1057)\t1\n",
            "  (0, 1200)\t1\n",
            "  (0, 1285)\t1\n",
            "  (0, 1382)\t1\n",
            "  (0, 1454)\t5\n",
            "  (0, 1474)\t1\n",
            "  (0, 1478)\t1\n",
            "  (0, 1564)\t2\n",
            "  (0, 1810)\t1\n",
            "  (0, 1811)\t1\n",
            "  (0, 1883)\t2\n",
            "  (0, 1956)\t1\n",
            "  (0, 1975)\t1\n",
            "  :\t:\n",
            "  (11216, 4519)\t1\n",
            "  (11216, 4520)\t1\n",
            "  (11216, 4555)\t1\n",
            "  (11216, 4589)\t1\n",
            "  (11216, 4590)\t1\n",
            "  (11216, 4598)\t1\n",
            "  (11216, 4600)\t1\n",
            "  (11216, 4613)\t2\n",
            "  (11216, 4644)\t1\n",
            "  (11216, 4646)\t1\n",
            "  (11216, 4753)\t1\n",
            "  (11216, 4760)\t1\n",
            "  (11216, 4761)\t1\n",
            "  (11216, 4776)\t1\n",
            "  (11216, 4804)\t1\n",
            "  (11216, 4815)\t1\n",
            "  (11216, 4822)\t1\n",
            "  (11216, 4882)\t1\n",
            "  (11216, 4883)\t1\n",
            "  (11216, 4943)\t2\n",
            "  (11216, 4949)\t1\n",
            "  (11216, 4950)\t1\n",
            "  (11216, 4982)\t4\n",
            "  (11216, 4993)\t1\n",
            "  (11216, 4996)\t3\n"
          ]
        }
      ]
    },
    {
      "cell_type": "markdown",
      "source": [
        "**Prediction**"
      ],
      "metadata": {
        "id": "sAC9sxOH_thb"
      }
    },
    {
      "cell_type": "code",
      "source": [
        "X_predict = X_test_bow[0]\n",
        "\n",
        "\n",
        "prediction = random_search.predict(X_predict)\n",
        "print(prediction)\n",
        "\n",
        "if(prediction[0]==1):\n",
        "  print(\"Fake\")\n",
        "else:\n",
        "  print(\"True\")"
      ],
      "metadata": {
        "colab": {
          "base_uri": "https://localhost:8080/"
        },
        "id": "tuY4wlC8_tXB",
        "outputId": "281bb023-b1ad-4de6-8711-d972aa2eea17"
      },
      "execution_count": null,
      "outputs": [
        {
          "output_type": "stream",
          "name": "stdout",
          "text": [
            "[1]\n",
            "Fake\n"
          ]
        }
      ]
    },
    {
      "cell_type": "code",
      "source": [
        "X_predict = X_test_bow[16]\n",
        "\n",
        "\n",
        "prediction = random_search.predict(X_predict)\n",
        "print(prediction)\n",
        "\n",
        "if(prediction[0]==1):\n",
        "  print(\"Fake\")\n",
        "else:\n",
        "  print(\"True\")"
      ],
      "metadata": {
        "colab": {
          "base_uri": "https://localhost:8080/"
        },
        "id": "yMHm-B24_tUC",
        "outputId": "ee7b717f-3cb7-45ad-ed44-45fc4d6fd068"
      },
      "execution_count": null,
      "outputs": [
        {
          "output_type": "stream",
          "name": "stdout",
          "text": [
            "[1]\n",
            "Fake\n"
          ]
        }
      ]
    },
    {
      "cell_type": "markdown",
      "source": [
        "## **Comparison of models for accuracy using ROC graph**"
      ],
      "metadata": {
        "id": "gMGAp3eA_0QO"
      }
    },
    {
      "cell_type": "code",
      "execution_count": null,
      "metadata": {
        "id": "jS_3qxuC9iEG",
        "colab": {
          "base_uri": "https://localhost:8080/",
          "height": 472
        },
        "outputId": "c3a5bbeb-f414-44ff-e7fb-a8efaf2c09ec"
      },
      "outputs": [
        {
          "output_type": "display_data",
          "data": {
            "text/plain": [
              "<Figure size 640x480 with 1 Axes>"
            ],
            "image/png": "[encoded data removed]"
          },
          "metadata": {}
        }
      ],
      "source": [
        "plt.figure()\n",
        "\n",
        "# adding the models\n",
        "models = [\n",
        "    {\n",
        "        'label': 'Multinomial Naive Bayes',\n",
        "        'model': MultinomialNB(),\n",
        "    },\n",
        "    {\n",
        "        'label': 'XgBoost',\n",
        "        'model': xgb.XGBClassifier(),\n",
        "    },\n",
        "    {\n",
        "        'label': 'SVM',\n",
        "        'model': SVC(probability=True),  # Setting probability=True for SVC\n",
        "    }\n",
        "]\n",
        "\n",
        "# for loop for iterating through model dictionary\n",
        "for m in models:\n",
        "    model = m['model']  # selecting the model\n",
        "    model.fit(X_train_bow, y_train)  # training the model\n",
        "    y_pred = model.predict(X_test_bow)  # predicting the test data\n",
        "\n",
        "    # Computing False positive rate, and True positive rate\n",
        "    if hasattr(model, \"predict_proba\"):\n",
        "        fpr, tpr, thresholds = metrics.roc_curve(y_test, model.predict_proba(X_test_bow)[:, 1])\n",
        "    else:\n",
        "        # For models that don't have predict_proba, use the decision function\n",
        "        decision_values = model.decision_function(X_test_bow)\n",
        "        fpr, tpr, thresholds = metrics.roc_curve(y_test, decision_values)\n",
        "\n",
        "    # Calculating Area under the curve to display on the plot\n",
        "    auc = metrics.roc_auc_score(y_test, y_pred)\n",
        "\n",
        "    # Plotting the graph\n",
        "    plt.plot(fpr, tpr, label='%s ROC (area = %0.2f)' % (m['label'], auc))\n",
        "\n",
        "\n",
        "plt.plot([0, 1], [0, 1], 'r--')\n",
        "plt.xlim([0.0, 1.0])\n",
        "plt.ylim([0.0, 1.05])\n",
        "plt.xlabel('1-Specificity (False Positive Rate)')\n",
        "plt.ylabel('Sensitivity (True Positive Rate)')\n",
        "plt.title('Receiver Operating Characteristic')\n",
        "plt.legend(loc=\"lower right\")\n",
        "plt.show()  # Display"
      ]
    },
    {
      "cell_type": "markdown",
      "source": [
        "# **Comparing the training time and testing among selected models**"
      ],
      "metadata": {
        "id": "WFX6TGgB_-jm"
      }
    },
    {
      "cell_type": "code",
      "source": [
        "models = ['MNB', 'XGBoost', 'SVM']\n",
        "training_times = [elapsed_time_MNB_training, elapsed_time_xgb_training, elapsed_time_svm_training]  # getting the values of training time and testing taken by each model\n",
        "testing_times = [elapsed_time_MNB_testing,elapsed_time_xgb_testing,elapsed_time_svm_testing]\n",
        "\n",
        "# Plotting both training and testing times in the same plot\n",
        "bar_width = 0.35\n",
        "index = np.arange(len(models))\n",
        "\n",
        "plt.figure(figsize=(10, 5))\n",
        "plt.bar(index, training_times, width=bar_width, color='blue', label='Training Time')\n",
        "plt.bar(index + bar_width, testing_times, width=bar_width, color='orange', label='Testing Time')\n",
        "plt.xlabel('Classifiers ')\n",
        "plt.ylabel('Time (seconds)')\n",
        "plt.title('Training and Testing Time Comparison')\n",
        "plt.xticks(index + bar_width / 2, models)\n",
        "plt.legend()\n",
        "plt.show()"
      ],
      "metadata": {
        "id": "VKnpIj_YNf0G",
        "colab": {
          "base_uri": "https://localhost:8080/",
          "height": 473
        },
        "outputId": "3151c132-f89f-41c0-a771-950c27cdff30"
      },
      "execution_count": null,
      "outputs": [
        {
          "output_type": "display_data",
          "data": {
            "text/plain": [
              "<Figure size 1000x500 with 1 Axes>"
            ],
            "image/png": "[encoded data removed]"
          },
          "metadata": {}
        }
      ]
    }
  ],
  "metadata": {
    "colab": {
      "provenance": [],
      "include_colab_link": true
    },
    "kernelspec": {
      "display_name": "Python 3",
      "name": "python3"
    },
    "language_info": {
      "codemirror_mode": {
        "name": "ipython",
        "version": 3
      },
      "file_extension": ".py",
      "mimetype": "text/x-python",
      "name": "python",
      "nbconvert_exporter": "python",
      "pygments_lexer": "ipython3",
      "version": "3.11.4"
    },
    "accelerator": "TPU"
  },
  "nbformat": 4,
  "nbformat_minor": 0
}