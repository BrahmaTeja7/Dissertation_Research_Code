{
  "cells": [
    {
      "cell_type": "markdown",
      "metadata": {
        "id": "view-in-github",
        "colab_type": "text"
      },
      "source": [
        "<a href=\"https://colab.research.google.com/github/BrahmaTeja7/Dissertation_Reserach_Code/blob/main/Fake_News_Prediction_using_TfIdf_Vectorizer_5fold.ipynb\" target=\"_parent\"><img src=\"https://colab.research.google.com/assets/colab-badge.svg\" alt=\"Open In Colab\"/></a>"
      ]
    },
    {
      "cell_type": "markdown",
      "metadata": {
        "id": "frK7ssrIVBQC"
      },
      "source": [
        "# **Importing Necessary Libraries for finding the accuracy of the selected Machine learning models in predicting the fake news.**"
      ]
    },
    {
      "cell_type": "code",
      "execution_count": null,
      "metadata": {
        "colab": {
          "base_uri": "https://localhost:8080/"
        },
        "id": "6jB4zaaFQzyw",
        "outputId": "983d428a-5ccc-4a5c-f897-da339059f31c"
      },
      "outputs": [
        {
          "output_type": "stream",
          "name": "stderr",
          "text": [
            "[nltk_data] Downloading package stopwords to /root/nltk_data...\n",
            "[nltk_data]   Unzipping corpora/stopwords.zip.\n",
            "[nltk_data] Downloading package punkt to /root/nltk_data...\n",
            "[nltk_data]   Unzipping tokenizers/punkt.zip.\n"
          ]
        }
      ],
      "source": [
        "#Libraries for data manipulation\n",
        "import numpy as np\n",
        "import pandas as pd\n",
        "\n",
        "#Libraries for text modification and preprocessing\n",
        "import string\n",
        "from sklearn.feature_extraction.text import TfidfVectorizer\n",
        "\n",
        "#Libraries for Natural Language Processing\n",
        "import nltk\n",
        "nltk.download('stopwords')\n",
        "from nltk.corpus import stopwords\n",
        "import re\n",
        "from nltk.stem.porter import PorterStemmer\n",
        "from nltk.tokenize import word_tokenize\n",
        "nltk.download('punkt')\n",
        "\n",
        "# Libraries for Data Visualization\n",
        "import matplotlib.pyplot as plt\n",
        "import seaborn as sns\n",
        "\n",
        "# Libraries for Training the models\n",
        "from sklearn.model_selection import train_test_split, StratifiedKFold, RandomizedSearchCV, cross_val_score\n",
        "from sklearn.metrics import classification_report, accuracy_score, confusion_matrix,f1_score, precision_score\n",
        "from sklearn import metrics\n",
        "from sklearn.svm import SVC\n",
        "from sklearn.naive_bayes import MultinomialNB\n",
        "import xgboost as xgb\n",
        "from scipy.stats import uniform, randint,expon\n",
        "import time\n"
      ]
    },
    {
      "cell_type": "markdown",
      "metadata": {
        "id": "qRrXCtCnVWQG"
      },
      "source": [
        "# **Loading the Dataset using Pandas Library**"
      ]
    },
    {
      "cell_type": "code",
      "execution_count": null,
      "metadata": {
        "id": "qMmxWObFUcvk"
      },
      "outputs": [],
      "source": [
        "dataset = pd.read_csv('/content/Fake&True_News.csv')"
      ]
    },
    {
      "cell_type": "markdown",
      "metadata": {
        "id": "OupBfoJVVYhn"
      },
      "source": [
        "# **Preliminary Checks**"
      ]
    },
    {
      "cell_type": "code",
      "execution_count": null,
      "metadata": {
        "id": "QxmauoM7UeyV",
        "colab": {
          "base_uri": "https://localhost:8080/"
        },
        "outputId": "839e6344-d9f7-4351-ab76-168fa6582920"
      },
      "outputs": [
        {
          "output_type": "execute_result",
          "data": {
            "text/plain": [
              "(44867, 5)"
            ]
          },
          "metadata": {},
          "execution_count": 3
        }
      ],
      "source": [
        "dataset.shape"
      ]
    },
    {
      "cell_type": "markdown",
      "metadata": {
        "id": "joRjt250VqDT"
      },
      "source": [
        "### **Shuffling the dataset row set records**"
      ]
    },
    {
      "cell_type": "code",
      "execution_count": null,
      "metadata": {
        "id": "WPQZhEl3Ug3F",
        "colab": {
          "base_uri": "https://localhost:8080/"
        },
        "outputId": "63f05e6e-9985-4634-b7e2-01683e4531c8"
      },
      "outputs": [
        {
          "output_type": "stream",
          "name": "stdout",
          "text": [
            "                                                   title  \\\n",
            "5616    Here’s How Much California Would Bring In Eve...   \n",
            "28983  Exclusive - Trump border 'wall' to cost $21.6 ...   \n",
            "35952  Hundreds of thousands in Israel mourn 104-year...   \n",
            "10314  LGBT VOLUNTEERS Aren’t Waiting To Be Thrown Of...   \n",
            "38334  Suitcase of sapphires and other gems worth 1 m...   \n",
            "...                                                  ...   \n",
            "8736    Watch Carly Fiorina Lose Her Damn Mind As She...   \n",
            "35293  Beijing condemns Taiwan probe into tiny pro-Ch...   \n",
            "7867    Racist High Schoolers Chant ‘Trump! Trump! US...   \n",
            "8813    Bombshell Reveals Nazi Connection To the Koch...   \n",
            "33088    Treading cautiously, House's Ryan to meet Trump   \n",
            "\n",
            "                                                    text       subject  \\\n",
            "5616   Californians have a choice ahead of them. In N...          News   \n",
            "28983   WASHINGTON (Reuters) - President Donald Trump...  politicsNews   \n",
            "35952  BNEI BRAK, Israel (Reuters) - Hundreds of thou...     worldnews   \n",
            "10314  A group of volunteer soldiers announced this w...      politics   \n",
            "38334  LONDON (Reuters) - British police were hunting...     worldnews   \n",
            "...                                                  ...           ...   \n",
            "8736   One really has to wonder why Carly Fiorina is ...          News   \n",
            "35293  BEIJING/TAIPEI (Reuters) - China has condemned...     worldnews   \n",
            "7867   It s becoming clearer and clearer that an Amer...          News   \n",
            "8813   The infamous conservative Republican financier...          News   \n",
            "33088  WASHINGTON (Reuters) - Paul Ryan and Donald Tr...  politicsNews   \n",
            "\n",
            "            date  marker  \n",
            "5616   03-Jul-16   False  \n",
            "28983  09-Feb-17    True  \n",
            "35952  12-Dec-17    True  \n",
            "10314  25-Jul-17   False  \n",
            "38334  14-Nov-17    True  \n",
            "...          ...     ...  \n",
            "8736   15-Jan-16   False  \n",
            "35293  20-Dec-17    True  \n",
            "7867   25-Feb-16   False  \n",
            "8813   12-Jan-16   False  \n",
            "33088  06-May-16    True  \n",
            "\n",
            "[44867 rows x 5 columns]\n"
          ]
        }
      ],
      "source": [
        "shuffled_dataset = dataset.sample(frac=1.0)\n",
        "print(shuffled_dataset)"
      ]
    },
    {
      "cell_type": "markdown",
      "metadata": {
        "id": "kLVVFw7-V0OR"
      },
      "source": [
        "### **Creating a new column \"label\" to convert the values of True or False to 0 & 1.**"
      ]
    },
    {
      "cell_type": "code",
      "execution_count": null,
      "metadata": {
        "id": "iADB9lv4Uj0u",
        "colab": {
          "base_uri": "https://localhost:8080/"
        },
        "outputId": "302ded78-3277-45d8-b375-74368131db7e"
      },
      "outputs": [
        {
          "output_type": "stream",
          "name": "stdout",
          "text": [
            "                                                   title  \\\n",
            "5616    Here’s How Much California Would Bring In Eve...   \n",
            "28983  Exclusive - Trump border 'wall' to cost $21.6 ...   \n",
            "35952  Hundreds of thousands in Israel mourn 104-year...   \n",
            "10314  LGBT VOLUNTEERS Aren’t Waiting To Be Thrown Of...   \n",
            "38334  Suitcase of sapphires and other gems worth 1 m...   \n",
            "...                                                  ...   \n",
            "8736    Watch Carly Fiorina Lose Her Damn Mind As She...   \n",
            "35293  Beijing condemns Taiwan probe into tiny pro-Ch...   \n",
            "7867    Racist High Schoolers Chant ‘Trump! Trump! US...   \n",
            "8813    Bombshell Reveals Nazi Connection To the Koch...   \n",
            "33088    Treading cautiously, House's Ryan to meet Trump   \n",
            "\n",
            "                                                    text       subject  \\\n",
            "5616   Californians have a choice ahead of them. In N...          News   \n",
            "28983   WASHINGTON (Reuters) - President Donald Trump...  politicsNews   \n",
            "35952  BNEI BRAK, Israel (Reuters) - Hundreds of thou...     worldnews   \n",
            "10314  A group of volunteer soldiers announced this w...      politics   \n",
            "38334  LONDON (Reuters) - British police were hunting...     worldnews   \n",
            "...                                                  ...           ...   \n",
            "8736   One really has to wonder why Carly Fiorina is ...          News   \n",
            "35293  BEIJING/TAIPEI (Reuters) - China has condemned...     worldnews   \n",
            "7867   It s becoming clearer and clearer that an Amer...          News   \n",
            "8813   The infamous conservative Republican financier...          News   \n",
            "33088  WASHINGTON (Reuters) - Paul Ryan and Donald Tr...  politicsNews   \n",
            "\n",
            "            date  marker  label  \n",
            "5616   03-Jul-16   False      1  \n",
            "28983  09-Feb-17    True      0  \n",
            "35952  12-Dec-17    True      0  \n",
            "10314  25-Jul-17   False      1  \n",
            "38334  14-Nov-17    True      0  \n",
            "...          ...     ...    ...  \n",
            "8736   15-Jan-16   False      1  \n",
            "35293  20-Dec-17    True      0  \n",
            "7867   25-Feb-16   False      1  \n",
            "8813   12-Jan-16   False      1  \n",
            "33088  06-May-16    True      0  \n",
            "\n",
            "[44867 rows x 6 columns]\n"
          ]
        }
      ],
      "source": [
        "shuffled_dataset['label'] = np.where(shuffled_dataset['marker'] == True, 0, 1)\n",
        "print(shuffled_dataset)"
      ]
    },
    {
      "cell_type": "markdown",
      "metadata": {
        "id": "Ll82Cjz-WwRW"
      },
      "source": [
        "**Converting the text to lowercase**"
      ]
    },
    {
      "cell_type": "code",
      "execution_count": null,
      "metadata": {
        "id": "cHjQGFvwUmOh",
        "colab": {
          "base_uri": "https://localhost:8080/"
        },
        "outputId": "f1436538-c832-4f4a-cedb-6605136d5f6a"
      },
      "outputs": [
        {
          "output_type": "stream",
          "name": "stdout",
          "text": [
            "                                                   title  \\\n",
            "5616    Here’s How Much California Would Bring In Eve...   \n",
            "28983  Exclusive - Trump border 'wall' to cost $21.6 ...   \n",
            "35952  Hundreds of thousands in Israel mourn 104-year...   \n",
            "10314  LGBT VOLUNTEERS Aren’t Waiting To Be Thrown Of...   \n",
            "38334  Suitcase of sapphires and other gems worth 1 m...   \n",
            "...                                                  ...   \n",
            "8736    Watch Carly Fiorina Lose Her Damn Mind As She...   \n",
            "35293  Beijing condemns Taiwan probe into tiny pro-Ch...   \n",
            "7867    Racist High Schoolers Chant ‘Trump! Trump! US...   \n",
            "8813    Bombshell Reveals Nazi Connection To the Koch...   \n",
            "33088    Treading cautiously, House's Ryan to meet Trump   \n",
            "\n",
            "                                                    text       subject  \\\n",
            "5616   Californians have a choice ahead of them. In N...          News   \n",
            "28983   WASHINGTON (Reuters) - President Donald Trump...  politicsNews   \n",
            "35952  BNEI BRAK, Israel (Reuters) - Hundreds of thou...     worldnews   \n",
            "10314  A group of volunteer soldiers announced this w...      politics   \n",
            "38334  LONDON (Reuters) - British police were hunting...     worldnews   \n",
            "...                                                  ...           ...   \n",
            "8736   One really has to wonder why Carly Fiorina is ...          News   \n",
            "35293  BEIJING/TAIPEI (Reuters) - China has condemned...     worldnews   \n",
            "7867   It s becoming clearer and clearer that an Amer...          News   \n",
            "8813   The infamous conservative Republican financier...          News   \n",
            "33088  WASHINGTON (Reuters) - Paul Ryan and Donald Tr...  politicsNews   \n",
            "\n",
            "            date  marker  label  \\\n",
            "5616   03-Jul-16   False      1   \n",
            "28983  09-Feb-17    True      0   \n",
            "35952  12-Dec-17    True      0   \n",
            "10314  25-Jul-17   False      1   \n",
            "38334  14-Nov-17    True      0   \n",
            "...          ...     ...    ...   \n",
            "8736   15-Jan-16   False      1   \n",
            "35293  20-Dec-17    True      0   \n",
            "7867   25-Feb-16   False      1   \n",
            "8813   12-Jan-16   False      1   \n",
            "33088  06-May-16    True      0   \n",
            "\n",
            "                                         processing_text  \n",
            "5616   californians have a choice ahead of them. in n...  \n",
            "28983   washington (reuters) - president donald trump...  \n",
            "35952  bnei brak, israel (reuters) - hundreds of thou...  \n",
            "10314  a group of volunteer soldiers announced this w...  \n",
            "38334  london (reuters) - british police were hunting...  \n",
            "...                                                  ...  \n",
            "8736   one really has to wonder why carly fiorina is ...  \n",
            "35293  beijing/taipei (reuters) - china has condemned...  \n",
            "7867   it s becoming clearer and clearer that an amer...  \n",
            "8813   the infamous conservative republican financier...  \n",
            "33088  washington (reuters) - paul ryan and donald tr...  \n",
            "\n",
            "[44867 rows x 7 columns]\n"
          ]
        }
      ],
      "source": [
        "shuffled_dataset['processing_text'] = shuffled_dataset['text'].str.lower()\n",
        "print(shuffled_dataset)"
      ]
    },
    {
      "cell_type": "markdown",
      "metadata": {
        "id": "5ks1rrK2W2B-"
      },
      "source": [
        "**Removing the Punctuations in the text**"
      ]
    },
    {
      "cell_type": "code",
      "execution_count": null,
      "metadata": {
        "id": "WL33hmUsUpLq"
      },
      "outputs": [],
      "source": [
        "def removing_punctuations(text):\n",
        "  punctuations = string.punctuation\n",
        "  return text.translate(str.maketrans('','',punctuations))"
      ]
    },
    {
      "cell_type": "code",
      "execution_count": null,
      "metadata": {
        "id": "FVZ2rEYFUreS",
        "colab": {
          "base_uri": "https://localhost:8080/"
        },
        "outputId": "e63b4a64-c54b-4dfc-b236-e41bb180a9f5"
      },
      "outputs": [
        {
          "output_type": "stream",
          "name": "stdout",
          "text": [
            "                                                   title  \\\n",
            "5616    Here’s How Much California Would Bring In Eve...   \n",
            "28983  Exclusive - Trump border 'wall' to cost $21.6 ...   \n",
            "35952  Hundreds of thousands in Israel mourn 104-year...   \n",
            "10314  LGBT VOLUNTEERS Aren’t Waiting To Be Thrown Of...   \n",
            "38334  Suitcase of sapphires and other gems worth 1 m...   \n",
            "...                                                  ...   \n",
            "8736    Watch Carly Fiorina Lose Her Damn Mind As She...   \n",
            "35293  Beijing condemns Taiwan probe into tiny pro-Ch...   \n",
            "7867    Racist High Schoolers Chant ‘Trump! Trump! US...   \n",
            "8813    Bombshell Reveals Nazi Connection To the Koch...   \n",
            "33088    Treading cautiously, House's Ryan to meet Trump   \n",
            "\n",
            "                                                    text       subject  \\\n",
            "5616   Californians have a choice ahead of them. In N...          News   \n",
            "28983   WASHINGTON (Reuters) - President Donald Trump...  politicsNews   \n",
            "35952  BNEI BRAK, Israel (Reuters) - Hundreds of thou...     worldnews   \n",
            "10314  A group of volunteer soldiers announced this w...      politics   \n",
            "38334  LONDON (Reuters) - British police were hunting...     worldnews   \n",
            "...                                                  ...           ...   \n",
            "8736   One really has to wonder why Carly Fiorina is ...          News   \n",
            "35293  BEIJING/TAIPEI (Reuters) - China has condemned...     worldnews   \n",
            "7867   It s becoming clearer and clearer that an Amer...          News   \n",
            "8813   The infamous conservative Republican financier...          News   \n",
            "33088  WASHINGTON (Reuters) - Paul Ryan and Donald Tr...  politicsNews   \n",
            "\n",
            "            date  marker  label  \\\n",
            "5616   03-Jul-16   False      1   \n",
            "28983  09-Feb-17    True      0   \n",
            "35952  12-Dec-17    True      0   \n",
            "10314  25-Jul-17   False      1   \n",
            "38334  14-Nov-17    True      0   \n",
            "...          ...     ...    ...   \n",
            "8736   15-Jan-16   False      1   \n",
            "35293  20-Dec-17    True      0   \n",
            "7867   25-Feb-16   False      1   \n",
            "8813   12-Jan-16   False      1   \n",
            "33088  06-May-16    True      0   \n",
            "\n",
            "                                         processing_text  \n",
            "5616   californians have a choice ahead of them in no...  \n",
            "28983   washington reuters  president donald trump’s ...  \n",
            "35952  bnei brak israel reuters  hundreds of thousand...  \n",
            "10314  a group of volunteer soldiers announced this w...  \n",
            "38334  london reuters  british police were hunting fo...  \n",
            "...                                                  ...  \n",
            "8736   one really has to wonder why carly fiorina is ...  \n",
            "35293  beijingtaipei reuters  china has condemned a t...  \n",
            "7867   it s becoming clearer and clearer that an amer...  \n",
            "8813   the infamous conservative republican financier...  \n",
            "33088  washington reuters  paul ryan and donald trump...  \n",
            "\n",
            "[44867 rows x 7 columns]\n"
          ]
        }
      ],
      "source": [
        "shuffled_dataset['processing_text'] = shuffled_dataset['processing_text'].apply(lambda x: removing_punctuations(x))\n",
        "print(shuffled_dataset)"
      ]
    },
    {
      "cell_type": "markdown",
      "metadata": {
        "id": "QfAz2DhrW7BA"
      },
      "source": [
        "**Removing the stopwords in text column**"
      ]
    },
    {
      "cell_type": "code",
      "execution_count": null,
      "metadata": {
        "id": "Zsc0ibTQUuew"
      },
      "outputs": [],
      "source": [
        "Stopword = set(stopwords.words('english'))\n",
        "def removing_stopwords(text):\n",
        "  return \" \".join([word for word in text.split() if word not in Stopword])"
      ]
    },
    {
      "cell_type": "code",
      "execution_count": null,
      "metadata": {
        "id": "wnaKD3OfUw1Z",
        "colab": {
          "base_uri": "https://localhost:8080/"
        },
        "outputId": "8e293a3e-1219-4768-8245-83024a34bd1b"
      },
      "outputs": [
        {
          "output_type": "stream",
          "name": "stdout",
          "text": [
            "                                                   title  \\\n",
            "5616    Here’s How Much California Would Bring In Eve...   \n",
            "28983  Exclusive - Trump border 'wall' to cost $21.6 ...   \n",
            "35952  Hundreds of thousands in Israel mourn 104-year...   \n",
            "10314  LGBT VOLUNTEERS Aren’t Waiting To Be Thrown Of...   \n",
            "38334  Suitcase of sapphires and other gems worth 1 m...   \n",
            "...                                                  ...   \n",
            "8736    Watch Carly Fiorina Lose Her Damn Mind As She...   \n",
            "35293  Beijing condemns Taiwan probe into tiny pro-Ch...   \n",
            "7867    Racist High Schoolers Chant ‘Trump! Trump! US...   \n",
            "8813    Bombshell Reveals Nazi Connection To the Koch...   \n",
            "33088    Treading cautiously, House's Ryan to meet Trump   \n",
            "\n",
            "                                                    text       subject  \\\n",
            "5616   Californians have a choice ahead of them. In N...          News   \n",
            "28983   WASHINGTON (Reuters) - President Donald Trump...  politicsNews   \n",
            "35952  BNEI BRAK, Israel (Reuters) - Hundreds of thou...     worldnews   \n",
            "10314  A group of volunteer soldiers announced this w...      politics   \n",
            "38334  LONDON (Reuters) - British police were hunting...     worldnews   \n",
            "...                                                  ...           ...   \n",
            "8736   One really has to wonder why Carly Fiorina is ...          News   \n",
            "35293  BEIJING/TAIPEI (Reuters) - China has condemned...     worldnews   \n",
            "7867   It s becoming clearer and clearer that an Amer...          News   \n",
            "8813   The infamous conservative Republican financier...          News   \n",
            "33088  WASHINGTON (Reuters) - Paul Ryan and Donald Tr...  politicsNews   \n",
            "\n",
            "            date  marker  label  \\\n",
            "5616   03-Jul-16   False      1   \n",
            "28983  09-Feb-17    True      0   \n",
            "35952  12-Dec-17    True      0   \n",
            "10314  25-Jul-17   False      1   \n",
            "38334  14-Nov-17    True      0   \n",
            "...          ...     ...    ...   \n",
            "8736   15-Jan-16   False      1   \n",
            "35293  20-Dec-17    True      0   \n",
            "7867   25-Feb-16   False      1   \n",
            "8813   12-Jan-16   False      1   \n",
            "33088  06-May-16    True      0   \n",
            "\n",
            "                                         processing_text  \n",
            "5616   californians choice ahead november citizens go...  \n",
            "28983  washington reuters president donald trump’s “w...  \n",
            "35952  bnei brak israel reuters hundreds thousands ul...  \n",
            "10314  group volunteer soldiers announced week first ...  \n",
            "38334  london reuters british police hunting unidenti...  \n",
            "...                                                  ...  \n",
            "8736   one really wonder carly fiorina still running ...  \n",
            "35293  beijingtaipei reuters china condemned taiwan g...  \n",
            "7867   becoming clearer clearer america donald trump ...  \n",
            "8813   infamous conservative republican financiers ch...  \n",
            "33088  washington reuters paul ryan donald trump top ...  \n",
            "\n",
            "[44867 rows x 7 columns]\n"
          ]
        }
      ],
      "source": [
        "shuffled_dataset['processing_text'] = shuffled_dataset['processing_text'].apply(lambda x: removing_stopwords(x))\n",
        "print(shuffled_dataset)"
      ]
    },
    {
      "cell_type": "markdown",
      "metadata": {
        "id": "fBNIJ5rTXLgw"
      },
      "source": [
        "**Removing the special Characters, Html tags, Url in text column**"
      ]
    },
    {
      "cell_type": "code",
      "execution_count": null,
      "metadata": {
        "id": "z9-wsxbjU03y"
      },
      "outputs": [],
      "source": [
        "def remove_chars_url_htmlTags(text):\n",
        "  text = re.sub('[^a-zA-Z0-9]', ' ',text)\n",
        "  text = re.sub('\\s+', ' ',text)\n",
        "  text = re.sub(r'https?://\\S+|www\\.\\S+','',text)\n",
        "  text = re.sub(r'<.*?>','',text)\n",
        "  return text"
      ]
    },
    {
      "cell_type": "code",
      "execution_count": null,
      "metadata": {
        "id": "benApn1cU29X",
        "colab": {
          "base_uri": "https://localhost:8080/",
          "height": 293
        },
        "outputId": "9afdb81a-0815-492d-af36-436ab112c83e"
      },
      "outputs": [
        {
          "output_type": "execute_result",
          "data": {
            "text/plain": [
              "                                                   title  \\\n",
              "5616    Here’s How Much California Would Bring In Eve...   \n",
              "28983  Exclusive - Trump border 'wall' to cost $21.6 ...   \n",
              "35952  Hundreds of thousands in Israel mourn 104-year...   \n",
              "10314  LGBT VOLUNTEERS Aren’t Waiting To Be Thrown Of...   \n",
              "38334  Suitcase of sapphires and other gems worth 1 m...   \n",
              "\n",
              "                                                    text       subject  \\\n",
              "5616   Californians have a choice ahead of them. In N...          News   \n",
              "28983   WASHINGTON (Reuters) - President Donald Trump...  politicsNews   \n",
              "35952  BNEI BRAK, Israel (Reuters) - Hundreds of thou...     worldnews   \n",
              "10314  A group of volunteer soldiers announced this w...      politics   \n",
              "38334  LONDON (Reuters) - British police were hunting...     worldnews   \n",
              "\n",
              "            date  marker  label  \\\n",
              "5616   03-Jul-16   False      1   \n",
              "28983  09-Feb-17    True      0   \n",
              "35952  12-Dec-17    True      0   \n",
              "10314  25-Jul-17   False      1   \n",
              "38334  14-Nov-17    True      0   \n",
              "\n",
              "                                         processing_text  \n",
              "5616   californians choice ahead november citizens go...  \n",
              "28983  washington reuters president donald trump s wa...  \n",
              "35952  bnei brak israel reuters hundreds thousands ul...  \n",
              "10314  group volunteer soldiers announced week first ...  \n",
              "38334  london reuters british police hunting unidenti...  "
            ],
            "text/html": [
              "\n",
              "  <div id=\"df-ff6e6323-45e0-470b-975d-3bcfd79a6971\" class=\"colab-df-container\">\n",
              "    <div>\n",
              "<style scoped>\n",
              "    .dataframe tbody tr th:only-of-type {\n",
              "        vertical-align: middle;\n",
              "    }\n",
              "\n",
              "    .dataframe tbody tr th {\n",
              "        vertical-align: top;\n",
              "    }\n",
              "\n",
              "    .dataframe thead th {\n",
              "        text-align: right;\n",
              "    }\n",
              "</style>\n",
              "<table border=\"1\" class=\"dataframe\">\n",
              "  <thead>\n",
              "    <tr style=\"text-align: right;\">\n",
              "      <th></th>\n",
              "      <th>title</th>\n",
              "      <th>text</th>\n",
              "      <th>subject</th>\n",
              "      <th>date</th>\n",
              "      <th>marker</th>\n",
              "      <th>label</th>\n",
              "      <th>processing_text</th>\n",
              "    </tr>\n",
              "  </thead>\n",
              "  <tbody>\n",
              "    <tr>\n",
              "      <th>5616</th>\n",
              "      <td>Here’s How Much California Would Bring In Eve...</td>\n",
              "      <td>Californians have a choice ahead of them. In N...</td>\n",
              "      <td>News</td>\n",
              "      <td>03-Jul-16</td>\n",
              "      <td>False</td>\n",
              "      <td>1</td>\n",
              "      <td>californians choice ahead november citizens go...</td>\n",
              "    </tr>\n",
              "    <tr>\n",
              "      <th>28983</th>\n",
              "      <td>Exclusive - Trump border 'wall' to cost $21.6 ...</td>\n",
              "      <td>WASHINGTON (Reuters) - President Donald Trump...</td>\n",
              "      <td>politicsNews</td>\n",
              "      <td>09-Feb-17</td>\n",
              "      <td>True</td>\n",
              "      <td>0</td>\n",
              "      <td>washington reuters president donald trump s wa...</td>\n",
              "    </tr>\n",
              "    <tr>\n",
              "      <th>35952</th>\n",
              "      <td>Hundreds of thousands in Israel mourn 104-year...</td>\n",
              "      <td>BNEI BRAK, Israel (Reuters) - Hundreds of thou...</td>\n",
              "      <td>worldnews</td>\n",
              "      <td>12-Dec-17</td>\n",
              "      <td>True</td>\n",
              "      <td>0</td>\n",
              "      <td>bnei brak israel reuters hundreds thousands ul...</td>\n",
              "    </tr>\n",
              "    <tr>\n",
              "      <th>10314</th>\n",
              "      <td>LGBT VOLUNTEERS Aren’t Waiting To Be Thrown Of...</td>\n",
              "      <td>A group of volunteer soldiers announced this w...</td>\n",
              "      <td>politics</td>\n",
              "      <td>25-Jul-17</td>\n",
              "      <td>False</td>\n",
              "      <td>1</td>\n",
              "      <td>group volunteer soldiers announced week first ...</td>\n",
              "    </tr>\n",
              "    <tr>\n",
              "      <th>38334</th>\n",
              "      <td>Suitcase of sapphires and other gems worth 1 m...</td>\n",
              "      <td>LONDON (Reuters) - British police were hunting...</td>\n",
              "      <td>worldnews</td>\n",
              "      <td>14-Nov-17</td>\n",
              "      <td>True</td>\n",
              "      <td>0</td>\n",
              "      <td>london reuters british police hunting unidenti...</td>\n",
              "    </tr>\n",
              "  </tbody>\n",
              "</table>\n",
              "</div>\n",
              "    <div class=\"colab-df-buttons\">\n",
              "\n",
              "  <div class=\"colab-df-container\">\n",
              "    <button class=\"colab-df-convert\" onclick=\"convertToInteractive('df-ff6e6323-45e0-470b-975d-3bcfd79a6971')\"\n",
              "            title=\"Convert this dataframe to an interactive table.\"\n",
              "            style=\"display:none;\">\n",
              "\n",
              "  <svg xmlns=\"http://www.w3.org/2000/svg\" height=\"24px\" viewBox=\"0 -960 960 960\">\n",
              "    <path d=\"M120-120v-720h720v720H120Zm60-500h600v-160H180v160Zm220 220h160v-160H400v160Zm0 220h160v-160H400v160ZM180-400h160v-160H180v160Zm440 0h160v-160H620v160ZM180-180h160v-160H180v160Zm440 0h160v-160H620v160Z\"/>\n",
              "  </svg>\n",
              "    </button>\n",
              "\n",
              "  <style>\n",
              "    .colab-df-container {\n",
              "      display:flex;\n",
              "      gap: 12px;\n",
              "    }\n",
              "\n",
              "    .colab-df-convert {\n",
              "      background-color: #E8F0FE;\n",
              "      border: none;\n",
              "      border-radius: 50%;\n",
              "      cursor: pointer;\n",
              "      display: none;\n",
              "      fill: #1967D2;\n",
              "      height: 32px;\n",
              "      padding: 0 0 0 0;\n",
              "      width: 32px;\n",
              "    }\n",
              "\n",
              "    .colab-df-convert:hover {\n",
              "      background-color: #E2EBFA;\n",
              "      box-shadow: 0px 1px 2px rgba(60, 64, 67, 0.3), 0px 1px 3px 1px rgba(60, 64, 67, 0.15);\n",
              "      fill: #174EA6;\n",
              "    }\n",
              "\n",
              "    .colab-df-buttons div {\n",
              "      margin-bottom: 4px;\n",
              "    }\n",
              "\n",
              "    [theme=dark] .colab-df-convert {\n",
              "      background-color: #3B4455;\n",
              "      fill: #D2E3FC;\n",
              "    }\n",
              "\n",
              "    [theme=dark] .colab-df-convert:hover {\n",
              "      background-color: #434B5C;\n",
              "      box-shadow: 0px 1px 3px 1px rgba(0, 0, 0, 0.15);\n",
              "      filter: drop-shadow(0px 1px 2px rgba(0, 0, 0, 0.3));\n",
              "      fill: #FFFFFF;\n",
              "    }\n",
              "  </style>\n",
              "\n",
              "    <script>\n",
              "      const buttonEl =\n",
              "        document.querySelector('#df-ff6e6323-45e0-470b-975d-3bcfd79a6971 button.colab-df-convert');\n",
              "      buttonEl.style.display =\n",
              "        google.colab.kernel.accessAllowed ? 'block' : 'none';\n",
              "\n",
              "      async function convertToInteractive(key) {\n",
              "        const element = document.querySelector('#df-ff6e6323-45e0-470b-975d-3bcfd79a6971');\n",
              "        const dataTable =\n",
              "          await google.colab.kernel.invokeFunction('convertToInteractive',\n",
              "                                                    [key], {});\n",
              "        if (!dataTable) return;\n",
              "\n",
              "        const docLinkHtml = 'Like what you see? Visit the ' +\n",
              "          '<a target=\"_blank\" href=https://colab.research.google.com/notebooks/data_table.ipynb>data table notebook</a>'\n",
              "          + ' to learn more about interactive tables.';\n",
              "        element.innerHTML = '';\n",
              "        dataTable['output_type'] = 'display_data';\n",
              "        await google.colab.output.renderOutput(dataTable, element);\n",
              "        const docLink = document.createElement('div');\n",
              "        docLink.innerHTML = docLinkHtml;\n",
              "        element.appendChild(docLink);\n",
              "      }\n",
              "    </script>\n",
              "  </div>\n",
              "\n",
              "\n",
              "<div id=\"df-a1bb1832-21cf-4df1-81ff-776059816363\">\n",
              "  <button class=\"colab-df-quickchart\" onclick=\"quickchart('df-a1bb1832-21cf-4df1-81ff-776059816363')\"\n",
              "            title=\"Suggest charts\"\n",
              "            style=\"display:none;\">\n",
              "\n",
              "<svg xmlns=\"http://www.w3.org/2000/svg\" height=\"24px\"viewBox=\"0 0 24 24\"\n",
              "     width=\"24px\">\n",
              "    <g>\n",
              "        <path d=\"M19 3H5c-1.1 0-2 .9-2 2v14c0 1.1.9 2 2 2h14c1.1 0 2-.9 2-2V5c0-1.1-.9-2-2-2zM9 17H7v-7h2v7zm4 0h-2V7h2v10zm4 0h-2v-4h2v4z\"/>\n",
              "    </g>\n",
              "</svg>\n",
              "  </button>\n",
              "\n",
              "<style>\n",
              "  .colab-df-quickchart {\n",
              "      --bg-color: #E8F0FE;\n",
              "      --fill-color: #1967D2;\n",
              "      --hover-bg-color: #E2EBFA;\n",
              "      --hover-fill-color: #174EA6;\n",
              "      --disabled-fill-color: #AAA;\n",
              "      --disabled-bg-color: #DDD;\n",
              "  }\n",
              "\n",
              "  [theme=dark] .colab-df-quickchart {\n",
              "      --bg-color: #3B4455;\n",
              "      --fill-color: #D2E3FC;\n",
              "      --hover-bg-color: #434B5C;\n",
              "      --hover-fill-color: #FFFFFF;\n",
              "      --disabled-bg-color: #3B4455;\n",
              "      --disabled-fill-color: #666;\n",
              "  }\n",
              "\n",
              "  .colab-df-quickchart {\n",
              "    background-color: var(--bg-color);\n",
              "    border: none;\n",
              "    border-radius: 50%;\n",
              "    cursor: pointer;\n",
              "    display: none;\n",
              "    fill: var(--fill-color);\n",
              "    height: 32px;\n",
              "    padding: 0;\n",
              "    width: 32px;\n",
              "  }\n",
              "\n",
              "  .colab-df-quickchart:hover {\n",
              "    background-color: var(--hover-bg-color);\n",
              "    box-shadow: 0 1px 2px rgba(60, 64, 67, 0.3), 0 1px 3px 1px rgba(60, 64, 67, 0.15);\n",
              "    fill: var(--button-hover-fill-color);\n",
              "  }\n",
              "\n",
              "  .colab-df-quickchart-complete:disabled,\n",
              "  .colab-df-quickchart-complete:disabled:hover {\n",
              "    background-color: var(--disabled-bg-color);\n",
              "    fill: var(--disabled-fill-color);\n",
              "    box-shadow: none;\n",
              "  }\n",
              "\n",
              "  .colab-df-spinner {\n",
              "    border: 2px solid var(--fill-color);\n",
              "    border-color: transparent;\n",
              "    border-bottom-color: var(--fill-color);\n",
              "    animation:\n",
              "      spin 1s steps(1) infinite;\n",
              "  }\n",
              "\n",
              "  @keyframes spin {\n",
              "    0% {\n",
              "      border-color: transparent;\n",
              "      border-bottom-color: var(--fill-color);\n",
              "      border-left-color: var(--fill-color);\n",
              "    }\n",
              "    20% {\n",
              "      border-color: transparent;\n",
              "      border-left-color: var(--fill-color);\n",
              "      border-top-color: var(--fill-color);\n",
              "    }\n",
              "    30% {\n",
              "      border-color: transparent;\n",
              "      border-left-color: var(--fill-color);\n",
              "      border-top-color: var(--fill-color);\n",
              "      border-right-color: var(--fill-color);\n",
              "    }\n",
              "    40% {\n",
              "      border-color: transparent;\n",
              "      border-right-color: var(--fill-color);\n",
              "      border-top-color: var(--fill-color);\n",
              "    }\n",
              "    60% {\n",
              "      border-color: transparent;\n",
              "      border-right-color: var(--fill-color);\n",
              "    }\n",
              "    80% {\n",
              "      border-color: transparent;\n",
              "      border-right-color: var(--fill-color);\n",
              "      border-bottom-color: var(--fill-color);\n",
              "    }\n",
              "    90% {\n",
              "      border-color: transparent;\n",
              "      border-bottom-color: var(--fill-color);\n",
              "    }\n",
              "  }\n",
              "</style>\n",
              "\n",
              "  <script>\n",
              "    async function quickchart(key) {\n",
              "      const quickchartButtonEl =\n",
              "        document.querySelector('#' + key + ' button');\n",
              "      quickchartButtonEl.disabled = true;  // To prevent multiple clicks.\n",
              "      quickchartButtonEl.classList.add('colab-df-spinner');\n",
              "      try {\n",
              "        const charts = await google.colab.kernel.invokeFunction(\n",
              "            'suggestCharts', [key], {});\n",
              "      } catch (error) {\n",
              "        console.error('Error during call to suggestCharts:', error);\n",
              "      }\n",
              "      quickchartButtonEl.classList.remove('colab-df-spinner');\n",
              "      quickchartButtonEl.classList.add('colab-df-quickchart-complete');\n",
              "    }\n",
              "    (() => {\n",
              "      let quickchartButtonEl =\n",
              "        document.querySelector('#df-a1bb1832-21cf-4df1-81ff-776059816363 button');\n",
              "      quickchartButtonEl.style.display =\n",
              "        google.colab.kernel.accessAllowed ? 'block' : 'none';\n",
              "    })();\n",
              "  </script>\n",
              "</div>\n",
              "    </div>\n",
              "  </div>\n"
            ]
          },
          "metadata": {},
          "execution_count": 12
        }
      ],
      "source": [
        "shuffled_dataset['processing_text'] = shuffled_dataset['processing_text'].apply(lambda x: remove_chars_url_htmlTags(x))\n",
        "shuffled_dataset.head()"
      ]
    },
    {
      "cell_type": "markdown",
      "source": [
        "**Checking the list of common words used in the dataset**"
      ],
      "metadata": {
        "id": "6DV9nDVTxwYT"
      }
    },
    {
      "cell_type": "code",
      "execution_count": null,
      "metadata": {
        "id": "HxqDc3P7aAKy",
        "colab": {
          "base_uri": "https://localhost:8080/"
        },
        "outputId": "ea1d0bf3-db03-47f1-ffcf-6ea1a7d6cf15"
      },
      "outputs": [
        {
          "output_type": "execute_result",
          "data": {
            "text/plain": [
              "[('said', 129916),\n",
              " ('trump', 127445),\n",
              " ('us', 62760),\n",
              " ('s', 54953),\n",
              " ('would', 54736),\n",
              " ('president', 51795),\n",
              " ('people', 41065),\n",
              " ('one', 35213),\n",
              " ('state', 31967),\n",
              " ('also', 30851),\n",
              " ('new', 30677),\n",
              " ('reuters', 28764),\n",
              " ('donald', 27496),\n",
              " ('clinton', 27189),\n",
              " ('house', 27013),\n",
              " ('obama', 26905),\n",
              " ('government', 26657),\n",
              " ('states', 25935),\n",
              " ('republican', 24293),\n",
              " ('could', 23774),\n",
              " ('united', 23394),\n",
              " ('told', 23317),\n",
              " ('white', 22124),\n",
              " ('like', 21947),\n",
              " ('campaign', 21041),\n",
              " ('last', 20369),\n",
              " ('news', 19830),\n",
              " ('two', 19828),\n",
              " ('party', 19750),\n",
              " ('time', 19453),\n",
              " ('election', 19355),\n",
              " ('first', 18420),\n",
              " ('washington', 17706),\n",
              " ('former', 17572),\n",
              " ('year', 17451),\n",
              " ('even', 17424),\n",
              " ('country', 17404),\n",
              " ('many', 16227),\n",
              " ('hillary', 16134),\n",
              " ('years', 15878),\n",
              " ('security', 15545),\n",
              " ('may', 15343),\n",
              " ('say', 15179),\n",
              " ('national', 15123),\n",
              " ('political', 14975),\n",
              " ('made', 14825),\n",
              " ('media', 14820),\n",
              " ('get', 14680),\n",
              " ('law', 14628),\n",
              " ('police', 14505),\n",
              " ('make', 14489),\n",
              " ('court', 14403),\n",
              " ('since', 14245),\n",
              " ('percent', 14163),\n",
              " ('going', 14073),\n",
              " ('american', 13984),\n",
              " ('republicans', 13762),\n",
              " ('administration', 13674),\n",
              " ('presidential', 13661),\n",
              " ('back', 13234),\n",
              " ('bill', 13046),\n",
              " ('russia', 13042),\n",
              " ('support', 12911),\n",
              " ('democratic', 12865),\n",
              " ('week', 12819),\n",
              " ('senate', 12713),\n",
              " ('america', 12672),\n",
              " ('including', 12531),\n",
              " ('north', 12417),\n",
              " ('know', 12402),\n",
              " ('vote', 12275),\n",
              " ('according', 12241),\n",
              " ('think', 12197),\n",
              " ('officials', 12190),\n",
              " ('group', 12145),\n",
              " ('way', 11922),\n",
              " ('take', 11850),\n",
              " ('office', 11781),\n",
              " ('federal', 11678),\n",
              " ('public', 11676),\n",
              " ('via', 11645),\n",
              " ('world', 11579),\n",
              " ('department', 11562),\n",
              " ('called', 11537),\n",
              " ('military', 11472),\n",
              " ('foreign', 11438),\n",
              " ('statement', 11392),\n",
              " ('right', 11324),\n",
              " ('million', 11200),\n",
              " ('saying', 11048),\n",
              " ('want', 10994),\n",
              " ('tuesday', 10585),\n",
              " ('see', 10328),\n",
              " ('well', 10326),\n",
              " ('tax', 10286),\n",
              " ('says', 10166),\n",
              " ('still', 10155),\n",
              " ('wednesday', 10008),\n",
              " ('congress', 9994),\n",
              " ('much', 9974),\n",
              " ('image', 9872),\n",
              " ('women', 9825),\n",
              " ('another', 9816),\n",
              " ('part', 9790),\n",
              " ('china', 9726),\n",
              " ('day', 9713),\n",
              " ('russian', 9696),\n",
              " ('thursday', 9681),\n",
              " ('work', 9635),\n",
              " ('friday', 9625),\n",
              " ('minister', 9613),\n",
              " ('city', 9572),\n",
              " ('go', 9515),\n",
              " ('democrats', 9494),\n",
              " ('asked', 9405),\n",
              " ('monday', 9226),\n",
              " ('policy', 9201),\n",
              " ('committee', 9182),\n",
              " ('secretary', 8944),\n",
              " ('war', 8904),\n",
              " ('rights', 8875),\n",
              " ('york', 8825),\n",
              " ('2016', 8796),\n",
              " ('video', 8702),\n",
              " ('deal', 8697),\n",
              " ('official', 8697),\n",
              " ('next', 8693),\n",
              " ('general', 8661),\n",
              " ('americans', 8575),\n",
              " ('need', 8562),\n",
              " ('black', 8528),\n",
              " ('help', 8507),\n",
              " ('whether', 8479),\n",
              " ('three', 8413),\n",
              " ('korea', 8309),\n",
              " ('never', 8149),\n",
              " ('case', 8059),\n",
              " ('around', 8053),\n",
              " ('show', 8041),\n",
              " ('leader', 7982),\n",
              " ('senator', 7906),\n",
              " ('man', 7835),\n",
              " ('members', 7811),\n",
              " ('candidate', 7772),\n",
              " ('order', 7769),\n",
              " ('use', 7711),\n",
              " ('took', 7681),\n",
              " ('come', 7623),\n",
              " ('every', 7582),\n",
              " ('good', 7568),\n",
              " ('report', 7518),\n",
              " ('meeting', 7488),\n",
              " ('fbi', 7470),\n",
              " ('without', 7432),\n",
              " ('power', 7413),\n",
              " ('end', 7374),\n",
              " ('left', 7359),\n",
              " ('iran', 7356),\n",
              " ('used', 7340),\n",
              " ('countries', 7337),\n",
              " ('put', 7332),\n",
              " ('really', 7312),\n",
              " ('investigation', 7242),\n",
              " ('times', 7201),\n",
              " ('intelligence', 7167),\n",
              " ('month', 7156),\n",
              " ('justice', 7026),\n",
              " ('money', 7019),\n",
              " ('twitter', 6992),\n",
              " ('top', 6982),\n",
              " ('information', 6968),\n",
              " ('voters', 6933),\n",
              " ('change', 6894),\n",
              " ('attack', 6869),\n",
              " ('nuclear', 6853),\n",
              " ('trade', 6839),\n",
              " ('family', 6819),\n",
              " ('syria', 6810),\n",
              " ('decision', 6767),\n",
              " ('international', 6759),\n",
              " ('reported', 6743),\n",
              " ('leaders', 6737),\n",
              " ('fact', 6725),\n",
              " ('business', 6687),\n",
              " ('plan', 6684),\n",
              " ('long', 6640),\n",
              " ('south', 6614),\n",
              " ('several', 6596),\n",
              " ('already', 6593),\n",
              " ('days', 6586),\n",
              " ('interview', 6505),\n",
              " ('speech', 6461),\n",
              " ('director', 6440),\n",
              " ('far', 6415),\n",
              " ('groups', 6407),\n",
              " ('agency', 6360),\n",
              " ('story', 6304),\n",
              " ('likely', 6229),\n",
              " ('clear', 6221),\n",
              " ('conservative', 6203),\n",
              " ('something', 6202),\n",
              " ('place', 6192),\n",
              " ('health', 6164),\n",
              " ('among', 6149),\n",
              " ('months', 6139),\n",
              " ('however', 6125),\n",
              " ('must', 6123),\n",
              " ('call', 6069),\n",
              " ('john', 6043),\n",
              " ('barack', 6028),\n",
              " ('fox', 6004),\n",
              " ('believe', 5995),\n",
              " ('program', 5994),\n",
              " ('home', 5990),\n",
              " ('issue', 5959),\n",
              " ('came', 5957),\n",
              " ('border', 5956),\n",
              " ('immigration', 5952),\n",
              " ('children', 5942),\n",
              " ('move', 5941),\n",
              " ('sunday', 5937),\n",
              " ('chief', 5936),\n",
              " ('recent', 5925),\n",
              " ('might', 5917),\n",
              " ('press', 5913),\n",
              " ('i', 5900),\n",
              " ('islamic', 5877),\n",
              " ('post', 5866),\n",
              " ('billion', 5865),\n",
              " ('supporters', 5861),\n",
              " ('got', 5858),\n",
              " ('social', 5853),\n",
              " ('act', 5839),\n",
              " ('things', 5826),\n",
              " ('least', 5823),\n",
              " ('nation', 5800),\n",
              " ('number', 5773),\n",
              " ('seen', 5757),\n",
              " ('found', 5747),\n",
              " ('today', 5742),\n",
              " ('sanders', 5724),\n",
              " ('though', 5709),\n",
              " ('major', 5701),\n",
              " ('trying', 5681),\n",
              " ('great', 5675),\n",
              " ('reporters', 5657),\n",
              " ('control', 5650),\n",
              " ('killed', 5631),\n",
              " ('later', 5598),\n",
              " ('matter', 5542),\n",
              " ('went', 5528),\n",
              " ('spokesman', 5502),\n",
              " ('march', 5490),\n",
              " ('economic', 5469),\n",
              " ('yet', 5469),\n",
              " ('making', 5459),\n",
              " ('actually', 5458),\n",
              " ('let', 5450),\n",
              " ('working', 5440),\n",
              " ('earlier', 5440),\n",
              " ('become', 5430),\n",
              " ('executive', 5427),\n",
              " ('little', 5402),\n",
              " ('look', 5397),\n",
              " ('win', 5388),\n",
              " ('we', 5383),\n",
              " ('keep', 5368),\n",
              " ('added', 5364),\n",
              " ('system', 5349),\n",
              " ('past', 5348),\n",
              " ('defense', 5327),\n",
              " ('muslim', 5311),\n",
              " ('senior', 5310),\n",
              " ('school', 5299),\n",
              " ('give', 5294),\n",
              " ('attacks', 5290),\n",
              " ('point', 5283),\n",
              " ('democrat', 5276),\n",
              " ('set', 5274),\n",
              " ('legal', 5272),\n",
              " ('january', 5269),\n",
              " ('free', 5269),\n",
              " ('four', 5264),\n",
              " ('cruz', 5264),\n",
              " ('forces', 5245),\n",
              " ('away', 5244),\n",
              " ('thing', 5239),\n",
              " ('stop', 5216),\n",
              " ('real', 5214),\n",
              " ('violence', 5212),\n",
              " ('member', 5202),\n",
              " ('big', 5195),\n",
              " ('comment', 5190),\n",
              " ('nothing', 5181),\n",
              " ('governor', 5145),\n",
              " ('eu', 5139),\n",
              " ('t', 5098),\n",
              " ('cnn', 5097),\n",
              " ('european', 5052),\n",
              " ('local', 5028),\n",
              " ('july', 5027),\n",
              " ('ever', 4992),\n",
              " ('taking', 4986),\n",
              " ('lawmakers', 4985),\n",
              " ('known', 4978),\n",
              " ('prime', 4964),\n",
              " ('following', 4960),\n",
              " ('company', 4941),\n",
              " ('human', 4939),\n",
              " ('held', 4929),\n",
              " ('companies', 4926),\n",
              " ('force', 4925),\n",
              " ('issues', 4917),\n",
              " ('nominee', 4895),\n",
              " ('2015', 4894),\n",
              " ('un', 4892),\n",
              " ('woman', 4882),\n",
              " ('wall', 4879),\n",
              " ('expected', 4871),\n",
              " ('person', 4870),\n",
              " ('across', 4865),\n",
              " ('opposition', 4865),\n",
              " ('head', 4862),\n",
              " ('sanctions', 4856),\n",
              " ('care', 4849),\n",
              " ('union', 4831),\n",
              " ('it', 4825),\n",
              " ('continue', 4821),\n",
              " ('talks', 4820),\n",
              " ('attorney', 4820),\n",
              " ('possible', 4816),\n",
              " ('community', 4798),\n",
              " ('men', 4793),\n",
              " ('illegal', 4775),\n",
              " ('released', 4772),\n",
              " ('team', 4765),\n",
              " ('action', 4757),\n",
              " ('better', 4752),\n",
              " ('given', 4742),\n",
              " ('pay', 4740),\n",
              " ('nations', 4739),\n",
              " ('enough', 4737),\n",
              " ('legislation', 4716),\n",
              " ('night', 4706),\n",
              " ('job', 4698),\n",
              " ('others', 4680),\n",
              " ('financial', 4623),\n",
              " ('taken', 4618),\n",
              " ('judge', 4610),\n",
              " ('gun', 4607),\n",
              " ('wrote', 4596),\n",
              " ('high', 4584),\n",
              " ('process', 4580),\n",
              " ('wants', 4571),\n",
              " ('10', 4565),\n",
              " ('supreme', 4553),\n",
              " ('june', 4540),\n",
              " ('done', 4538),\n",
              " ('history', 4530),\n",
              " ('evidence', 4510),\n",
              " ('20', 4509),\n",
              " ('course', 4504),\n",
              " ('question', 4497),\n",
              " ('close', 4493),\n",
              " ('university', 4485),\n",
              " ('lot', 4484),\n",
              " ('images', 4484),\n",
              " ('important', 4477),\n",
              " ('reports', 4471),\n",
              " ('anyone', 4457),\n",
              " ('source', 4451),\n",
              " ('majority', 4441),\n",
              " ('november', 4435),\n",
              " ('life', 4424),\n",
              " ('special', 4422),\n",
              " ('face', 4413),\n",
              " ('mexico', 4397),\n",
              " ('response', 4393),\n",
              " ('saturday', 4385),\n",
              " ('budget', 4384),\n",
              " ('private', 4362),\n",
              " ('iraq', 4357),\n",
              " ('open', 4334),\n",
              " ('second', 4324),\n",
              " ('plans', 4314),\n",
              " ('staff', 4300),\n",
              " ('anything', 4297),\n",
              " ('using', 4293),\n",
              " ('fight', 4288),\n",
              " ('run', 4286),\n",
              " ('conference', 4280),\n",
              " ('debate', 4279),\n",
              " ('ban', 4278),\n",
              " ('watch', 4272),\n",
              " ('syrian', 4263),\n",
              " ('gop', 4249),\n",
              " ('along', 4237),\n",
              " ('comments', 4232),\n",
              " ('email', 4232),\n",
              " ('refugees', 4231),\n",
              " ('efforts', 4229),\n",
              " ('able', 4228),\n",
              " ('accused', 4226),\n",
              " ('despite', 4221),\n",
              " ('air', 4220),\n",
              " ('ago', 4212),\n",
              " ('agreement', 4193),\n",
              " ('mr', 4185),\n",
              " ('race', 4181),\n",
              " ('putin', 4153),\n",
              " ('region', 4133),\n",
              " ('crisis', 4120),\n",
              " ('1', 4117),\n",
              " ('less', 4101),\n",
              " ('find', 4101),\n",
              " ('behind', 4098),\n",
              " ('ryan', 4094),\n",
              " ('death', 4092),\n",
              " ('instead', 4088),\n",
              " ('early', 4088),\n",
              " ('best', 4067),\n",
              " ('lives', 4057),\n",
              " ('role', 4044),\n",
              " ('future', 4040),\n",
              " ('letter', 4036),\n",
              " ('comey', 4034),\n",
              " ('full', 4027),\n",
              " ('someone', 4022),\n",
              " ('current', 4021),\n",
              " ('comes', 4019),\n",
              " ('council', 4000),\n",
              " ('lead', 3973),\n",
              " ('sure', 3960),\n",
              " ('five', 3960),\n",
              " ('within', 3956),\n",
              " ('the', 3941),\n",
              " ('due', 3937),\n",
              " ('saudi', 3913),\n",
              " ('britain', 3905),\n",
              " ('jobs', 3877),\n",
              " ('civil', 3861),\n",
              " ('calling', 3851),\n",
              " ('service', 3850),\n",
              " ('hard', 3850),\n",
              " ('facebook', 3848),\n",
              " ('getting', 3838),\n",
              " ('weeks', 3836),\n",
              " ('israel', 3824),\n",
              " ('name', 3815),\n",
              " ('announced', 3792),\n",
              " ('congressional', 3772),\n",
              " ('center', 3763),\n",
              " ('coming', 3761),\n",
              " ('texas', 3759),\n",
              " ('coalition', 3758),\n",
              " ('economy', 3754),\n",
              " ('effort', 3743),\n",
              " ('young', 3733),\n",
              " ('visit', 3727),\n",
              " ('sources', 3716),\n",
              " ('nearly', 3713),\n",
              " ('weapons', 3698),\n",
              " ('live', 3695),\n",
              " ('2014', 3693),\n",
              " ('votes', 3692),\n",
              " ('8', 3688),\n",
              " ('students', 3688),\n",
              " ('sent', 3687),\n",
              " ('chairman', 3681),\n",
              " ('elections', 3675),\n",
              " ('rules', 3672),\n",
              " ('line', 3667),\n",
              " ('event', 3662),\n",
              " ('running', 3655),\n",
              " ('thousands', 3651),\n",
              " ('citizens', 3643),\n",
              " ('global', 3641),\n",
              " ('talk', 3640),\n",
              " ('muslims', 3636),\n",
              " ('army', 3618),\n",
              " ('allow', 3606),\n",
              " ('position', 3602),\n",
              " ('daily', 3598),\n",
              " ('december', 3598),\n",
              " ('capital', 3586),\n",
              " ('candidates', 3576),\n",
              " ('paul', 3568),\n",
              " ('street', 3568),\n",
              " ('led', 3553),\n",
              " ('whose', 3553),\n",
              " ('october', 3553),\n",
              " ('began', 3551),\n",
              " ('wanted', 3540),\n",
              " ('rule', 3536),\n",
              " ('april', 3534),\n",
              " ('emails', 3528),\n",
              " ('showed', 3519),\n",
              " ('authorities', 3517),\n",
              " ('ties', 3516),\n",
              " ('obamacare', 3513),\n",
              " ('outside', 3512),\n",
              " ('late', 3509),\n",
              " ('everyone', 3507),\n",
              " ('bush', 3494),\n",
              " ('problem', 3489),\n",
              " ('workers', 3484),\n",
              " ('september', 3482),\n",
              " ('middle', 3477),\n",
              " ('august', 3471),\n",
              " ('officers', 3471),\n",
              " ('hold', 3467),\n",
              " ('climate', 3464),\n",
              " ('15', 3462),\n",
              " ('tell', 3450),\n",
              " ('needs', 3447),\n",
              " ('representatives', 3445),\n",
              " ('east', 3442),\n",
              " ('ruling', 3442),\n",
              " ('means', 3442),\n",
              " ('gave', 3441),\n",
              " ('healthcare', 3433),\n",
              " ('florida', 3423),\n",
              " ('failed', 3423),\n",
              " ('politics', 3417),\n",
              " ('immediately', 3413),\n",
              " ('immigrants', 3404),\n",
              " ('message', 3390),\n",
              " ('relations', 3388),\n",
              " ('bad', 3383),\n",
              " ('latest', 3381),\n",
              " ('leave', 3381),\n",
              " ('lost', 3371),\n",
              " ('criminal', 3370),\n",
              " ('moscow', 3363),\n",
              " ('february', 3361),\n",
              " ('speaking', 3361),\n",
              " ('threat', 3355),\n",
              " ('together', 3348),\n",
              " ('questions', 3334),\n",
              " ('turkey', 3333),\n",
              " ('start', 3332),\n",
              " ('different', 3323),\n",
              " ('poll', 3322),\n",
              " ('services', 3321),\n",
              " ('claims', 3318),\n",
              " ('words', 3317),\n",
              " ('hope', 3311),\n",
              " ('policies', 3310),\n",
              " ('reform', 3306),\n",
              " ('germany', 3306),\n",
              " ('voting', 3294),\n",
              " ('rather', 3294),\n",
              " ('parliament', 3286),\n",
              " ('stand', 3280),\n",
              " ('access', 3278),\n",
              " ('central', 3276),\n",
              " ('ministry', 3274),\n",
              " ('racist', 3270),\n",
              " ('based', 3266),\n",
              " ('peace', 3264),\n",
              " ('read', 3261),\n",
              " ('almost', 3259),\n",
              " ('strong', 3256),\n",
              " ('agencies', 3250),\n",
              " ('received', 3248),\n",
              " ('reason', 3246),\n",
              " ('allies', 3246),\n",
              " ('cut', 3240),\n",
              " ('cannot', 3238),\n",
              " ('2', 3235),\n",
              " ('tried', 3234),\n",
              " ('recently', 3225),\n",
              " ('organization', 3224),\n",
              " ('try', 3222),\n",
              " ('2017', 3214),\n",
              " ('thought', 3210),\n",
              " ('spending', 3202),\n",
              " ('list', 3199),\n",
              " ('rally', 3196),\n",
              " ('six', 3190),\n",
              " ('decided', 3180),\n",
              " ('morning', 3180),\n",
              " ('fake', 3178),\n",
              " ('release', 3177),\n",
              " ('planned', 3175),\n",
              " ('30', 3174),\n",
              " ('millions', 3173),\n",
              " ('allowed', 3173),\n",
              " ('idea', 3154),\n",
              " ('conservatives', 3145),\n",
              " ('funding', 3141),\n",
              " ('enforcement', 3135),\n",
              " ('makes', 3134),\n",
              " ('meet', 3133),\n",
              " ('oil', 3133),\n",
              " ('ahead', 3132),\n",
              " ('always', 3128),\n",
              " ('elected', 3126),\n",
              " ('provide', 3124),\n",
              " ('often', 3123),\n",
              " ('bring', 3118),\n",
              " ('george', 3117),\n",
              " ('laws', 3115),\n",
              " ('europe', 3115),\n",
              " ('sexual', 3110),\n",
              " ('liberal', 3108),\n",
              " ('protect', 3107),\n",
              " ('district', 3101),\n",
              " ('concerns', 3100),\n",
              " ('situation', 3095),\n",
              " ('parties', 3090),\n",
              " ('entire', 3086),\n",
              " ('met', 3084),\n",
              " ('bank', 3083),\n",
              " ('involved', 3077),\n",
              " ('kind', 3063),\n",
              " ('talking', 3057),\n",
              " ('chinese', 3052),\n",
              " ('denied', 3050),\n",
              " ('california', 3041),\n",
              " ('missile', 3030),\n",
              " ('charges', 3026),\n",
              " ('officer', 3025),\n",
              " ('everything', 3022),\n",
              " ('happened', 3012),\n",
              " ('energy', 3001),\n",
              " ('agreed', 2988),\n",
              " ('small', 2987),\n",
              " ('calls', 2985),\n",
              " ('especially', 2982),\n",
              " ('3', 2982),\n",
              " ('looking', 2982),\n",
              " ('needed', 2978),\n",
              " ('century', 2973),\n",
              " ('key', 2973),\n",
              " ('near', 2967),\n",
              " ('fire', 2967),\n",
              " ('allegations', 2965),\n",
              " ('include', 2961),\n",
              " ('vice', 2961),\n",
              " ('side', 2959),\n",
              " ('hate', 2936),\n",
              " ('area', 2930),\n",
              " ('shot', 2928),\n",
              " ('industry', 2927),\n",
              " ('large', 2924),\n",
              " ('movement', 2922),\n",
              " ('freedom', 2921),\n",
              " ('james', 2919),\n",
              " ('nomination', 2918),\n",
              " ('voted', 2911),\n",
              " ('representative', 2905),\n",
              " ('hours', 2905),\n",
              " ('county', 2900),\n",
              " ('although', 2894),\n",
              " ('west', 2894),\n",
              " ('seems', 2890),\n",
              " ('room', 2882),\n",
              " ('host', 2875),\n",
              " ('return', 2871),\n",
              " ('potential', 2870),\n",
              " ('request', 2870),\n",
              " ('personal', 2869),\n",
              " ('12', 2868),\n",
              " ('water', 2867),\n",
              " ('old', 2867),\n",
              " ('data', 2864),\n",
              " ('documents', 2853),\n",
              " ('shooting', 2852),\n",
              " ('presidency', 2851),\n",
              " ('2012', 2850),\n",
              " ('market', 2849),\n",
              " ('adding', 2848),\n",
              " ('terrorist', 2829),\n",
              " ('myanmar', 2826),\n",
              " ('actions', 2822),\n",
              " ('realdonaldtrump', 2820),\n",
              " ('fighting', 2814),\n",
              " ('confirmed', 2814),\n",
              " ('polls', 2805),\n",
              " ('either', 2804),\n",
              " ('western', 2799),\n",
              " ('hearing', 2797),\n",
              " ('shows', 2794),\n",
              " ('interest', 2781),\n",
              " ('decades', 2781),\n",
              " ('commission', 2778),\n",
              " ('cases', 2778),\n",
              " ('insurance', 2772),\n",
              " ('korean', 2771),\n",
              " ('arrested', 2769),\n",
              " ('worked', 2767),\n",
              " ('wife', 2766),\n",
              " ('true', 2761),\n",
              " ('foundation', 2759),\n",
              " ('crime', 2759),\n",
              " ('serious', 2758),\n",
              " ('j', 2757),\n",
              " ('spoke', 2755),\n",
              " ('claim', 2755),\n",
              " ('british', 2751),\n",
              " ('forward', 2750),\n",
              " ('travel', 2748),\n",
              " ('fired', 2745),\n",
              " ('nov', 2743),\n",
              " ('building', 2742),\n",
              " ('claimed', 2742),\n",
              " ('11', 2740),\n",
              " ('adviser', 2737),\n",
              " ('hit', 2732),\n",
              " ('probably', 2730),\n",
              " ('passed', 2730),\n",
              " ('continued', 2728),\n",
              " ('term', 2727),\n",
              " ('tillerson', 2726),\n",
              " ('address', 2725),\n",
              " ('clearly', 2720),\n",
              " ('step', 2712),\n",
              " ('leading', 2707),\n",
              " ('tweet', 2707),\n",
              " ('protesters', 2701),\n",
              " ('wrong', 2699),\n",
              " ('pressure', 2690),\n",
              " ('front', 2684),\n",
              " ('paid', 2684),\n",
              " ('appeared', 2681),\n",
              " ('5', 2679),\n",
              " ('biggest', 2678),\n",
              " ('alleged', 2677),\n",
              " ('board', 2675),\n",
              " ('main', 2673),\n",
              " ('feel', 2665),\n",
              " ('flynn', 2652),\n",
              " ('families', 2646),\n",
              " ('father', 2641),\n",
              " ('bernie', 2639),\n",
              " ('love', 2635),\n",
              " ('mean', 2635),\n",
              " ('declined', 2633),\n",
              " ('primary', 2622),\n",
              " ('4', 2622),\n",
              " ('review', 2611),\n",
              " ('leadership', 2609),\n",
              " ('brought', 2606),\n",
              " ('simply', 2604),\n",
              " ('soon', 2600),\n",
              " ('issued', 2584),\n",
              " ('network', 2576),\n",
              " ('michael', 2567),\n",
              " ('result', 2561),\n",
              " ('signed', 2558),\n",
              " ('victory', 2558),\n",
              " ('dollars', 2556),\n",
              " ('taxes', 2555),\n",
              " ('final', 2555),\n",
              " ('son', 2555),\n",
              " ('posted', 2552),\n",
              " ('started', 2550),\n",
              " ('spent', 2548),\n",
              " ('lawyer', 2547),\n",
              " ('toward', 2546),\n",
              " ('became', 2546),\n",
              " ('turn', 2545),\n",
              " ('turned', 2543),\n",
              " ('included', 2541),\n",
              " ('record', 2540),\n",
              " ('mike', 2533),\n",
              " ('deputy', 2530),\n",
              " ('arabia', 2526),\n",
              " ('remarks', 2518),\n",
              " ('college', 2513),\n",
              " ('terrorism', 2512),\n",
              " ('previously', 2509),\n",
              " ('points', 2504),\n",
              " ('25', 2502),\n",
              " ('truth', 2501),\n",
              " ('raised', 2499),\n",
              " ('david', 2495),\n",
              " ('rubio', 2493),\n",
              " ('2013', 2487),\n",
              " ('pence', 2485),\n",
              " ('sessions', 2480),\n",
              " ('pretty', 2479),\n",
              " ('religious', 2477),\n",
              " ('level', 2469),\n",
              " ('constitution', 2467),\n",
              " ('attempt', 2464),\n",
              " ('popular', 2464),\n",
              " ('saw', 2463),\n",
              " ('sign', 2457),\n",
              " ('relationship', 2456),\n",
              " ('article', 2456),\n",
              " ('influence', 2456),\n",
              " ('mark', 2453),\n",
              " ('details', 2451),\n",
              " ('agenda', 2447),\n",
              " ('protest', 2447),\n",
              " ('protests', 2447),\n",
              " ('london', 2446),\n",
              " ('pass', 2442),\n",
              " ('view', 2439),\n",
              " ('town', 2437),\n",
              " ('mccain', 2435),\n",
              " ('independence', 2435),\n",
              " ('seeking', 2431),\n",
              " ('half', 2429),\n",
              " ('short', 2426),\n",
              " ('re', 2426),\n",
              " ('food', 2423),\n",
              " ('ted', 2422),\n",
              " ('guy', 2420),\n",
              " ('forced', 2419),\n",
              " ('giving', 2418),\n",
              " ('aid', 2418),\n",
              " ('account', 2416),\n",
              " ('cost', 2408),\n",
              " ('proposed', 2408),\n",
              " ('described', 2408),\n",
              " ('firm', 2403),\n",
              " ('merkel', 2397),\n",
              " ('conflict', 2394),\n",
              " ('repeatedly', 2394),\n",
              " ('total', 2392),\n",
              " ('helped', 2391),\n",
              " ('militants', 2390),\n",
              " ('website', 2388),\n",
              " ('friends', 2386),\n",
              " ('heard', 2381),\n",
              " ('increase', 2379),\n",
              " ('fund', 2377),\n",
              " ('cia', 2375),\n",
              " ('hundreds', 2373),\n",
              " ('al', 2371),\n",
              " ('mayor', 2370),\n",
              " ('child', 2370),\n",
              " ('regional', 2365),\n",
              " ('convention', 2364),\n",
              " ('currently', 2362),\n",
              " ('criticized', 2361),\n",
              " ('areas', 2360),\n",
              " ('speak', 2358),\n",
              " ('remain', 2357),\n",
              " ('largest', 2356),\n",
              " ('phone', 2356),\n",
              " ('longer', 2354),\n",
              " ('armed', 2350),\n",
              " ('carolina', 2348),\n",
              " ('similar', 2347),\n",
              " ('wire', 2341),\n",
              " ('created', 2337),\n",
              " ('ask', 2336),\n",
              " ('example', 2335),\n",
              " ('push', 2335),\n",
              " ('else', 2333),\n",
              " ('isis', 2325),\n",
              " ('respond', 2324),\n",
              " ('ambassador', 2322),\n",
              " ('21st', 2319),\n",
              " ('debt', 2318),\n",
              " ('changes', 2316),\n",
              " ('hand', 2314),\n",
              " ('independent', 2311),\n",
              " ('fear', 2310),\n",
              " ('reality', 2308),\n",
              " ('whole', 2308),\n",
              " ('incident', 2294),\n",
              " ('build', 2289),\n",
              " ('san', 2282),\n",
              " ('troops', 2277),\n",
              " ('secret', 2277),\n",
              " ('presidentelect', 2276),\n",
              " ('speaker', 2272),\n",
              " ('third', 2269),\n",
              " ('education', 2258),\n",
              " ('programs', 2257),\n",
              " ('robert', 2252),\n",
              " ('violent', 2251),\n",
              " ('warned', 2250),\n",
              " ('hands', 2250),\n",
              " ('criticism', 2247),\n",
              " ('crowd', 2244),\n",
              " ('single', 2244),\n",
              " ('german', 2243),\n",
              " ('seven', 2242),\n",
              " ('funds', 2238),\n",
              " ('employees', 2238),\n",
              " ('goes', 2223),\n",
              " ('voter', 2223),\n",
              " ('stay', 2222),\n",
              " ('northern', 2213),\n",
              " ('discuss', 2208),\n",
              " ('published', 2208),\n",
              " ('rate', 2201),\n",
              " ('beijing', 2199),\n",
              " ('victims', 2191),\n",
              " ('telling', 2190),\n",
              " ('living', 2186),\n",
              " ('spokeswoman', 2182),\n",
              " ('base', 2179),\n",
              " ('absolutely', 2167),\n",
              " ('tweeted', 2167),\n",
              " ('tv', 2166),\n",
              " ('13', 2165),\n",
              " ('flag', 2163),\n",
              " ('100', 2160),\n",
              " ('opinion', 2160),\n",
              " ('asking', 2158),\n",
              " ('risk', 2157),\n",
              " ('japan', 2157),\n",
              " ('understand', 2153),\n",
              " ('proposal', 2147),\n",
              " ('johnson', 2143),\n",
              " ('medical', 2140),\n",
              " ('lower', 2139),\n",
              " ('television', 2137),\n",
              " ('18', 2135),\n",
              " ('france', 2135),\n",
              " ('cause', 2133),\n",
              " ('apparently', 2133),\n",
              " ('paris', 2131),\n",
              " ('served', 2129),\n",
              " ('island', 2128),\n",
              " ('happen', 2126),\n",
              " ('experts', 2124),\n",
              " ('refugee', 2122),\n",
              " ('previous', 2121),\n",
              " ('form', 2120),\n",
              " ('focus', 2120),\n",
              " ('24', 2118),\n",
              " ('senators', 2118),\n",
              " ('operations', 2114),\n",
              " ('businesses', 2114),\n",
              " ('interests', 2110),\n",
              " ('appears', 2108),\n",
              " ('concerned', 2103),\n",
              " ('safe', 2101),\n",
              " ('dangerous', 2100),\n",
              " ('page', 2097),\n",
              " ('share', 2097),\n",
              " ('concern', 2096),\n",
              " ('quickly', 2096),\n",
              " ('measures', 2096),\n",
              " ('mass', 2094),\n",
              " ('inside', 2092),\n",
              " ('exactly', 2092),\n",
              " ('powerful', 2091),\n",
              " ('individuals', 2089),\n",
              " ('prevent', 2089),\n",
              " ('consider', 2088),\n",
              " ('transition', 2087),\n",
              " ('urged', 2083),\n",
              " ('problems', 2083),\n",
              " ('safety', 2082),\n",
              " ('16', 2079),\n",
              " ('southern', 2078),\n",
              " ('politicians', 2076),\n",
              " ('7', 2075),\n",
              " ('completely', 2075),\n",
              " ('died', 2074),\n",
              " ('radio', 2073),\n",
              " ('breitbart', 2070),\n",
              " ('14', 2069),\n",
              " ('respect', 2065),\n",
              " ('virginia', 2060),\n",
              " ('events', 2056),\n",
              " ('results', 2053),\n",
              " ('fellow', 2053),\n",
              " ('development', 2052),\n",
              " ('rohingya', 2051),\n",
              " ('research', 2049),\n",
              " ('charged', 2048),\n",
              " ('nato', 2038),\n",
              " ('project', 2037),\n",
              " ('measure', 2036),\n",
              " ('mainstream', 2035),\n",
              " ('committed', 2035),\n",
              " ('certainly', 2033),\n",
              " ('iraqi', 2031),\n",
              " ('christian', 2028),\n",
              " ('numbers', 2027),\n",
              " ('don', 2023),\n",
              " ('poor', 2021),\n",
              " ('answer', 2020),\n",
              " ('king', 2013),\n",
              " ('eight', 2013),\n",
              " ('kurdish', 2008),\n",
              " ('certain', 2008),\n",
              " ('ground', 2008),\n",
              " ('named', 2003),\n",
              " ('moment', 1999),\n",
              " ('mother', 1994),\n",
              " ('terrorists', 1993),\n",
              " ('leaving', 1990),\n",
              " ('residents', 1989),\n",
              " ('moore', 1986),\n",
              " ('considered', 1984),\n",
              " ('knew', 1984),\n",
              " ('terms', 1984),\n",
              " ('reporter', 1983),\n",
              " ('50', 1978)]"
            ]
          },
          "metadata": {},
          "execution_count": 13
        }
      ],
      "source": [
        "from collections import Counter\n",
        "word_count = Counter()\n",
        "for text in shuffled_dataset['processing_text']:\n",
        "  for word in text.split():\n",
        "    word_count[word]+= 1\n",
        "\n",
        "word_count.most_common(1000)\n"
      ]
    },
    {
      "cell_type": "markdown",
      "source": [
        "**Checking the list of rare words used in the dataset**"
      ],
      "metadata": {
        "id": "DHjGSxpPx4AG"
      }
    },
    {
      "cell_type": "code",
      "execution_count": null,
      "metadata": {
        "id": "xdUUNxOVa2EV",
        "colab": {
          "base_uri": "https://localhost:8080/"
        },
        "outputId": "e3dd4e61-5622-4482-b268-847647d02bca"
      },
      "outputs": [
        {
          "output_type": "execute_result",
          "data": {
            "text/plain": [
              "{'10692',\n",
              " '1cent',\n",
              " '3125',\n",
              " '31bn',\n",
              " '3sootjobs',\n",
              " '8590',\n",
              " 'abrogating',\n",
              " 'algorithmdriven',\n",
              " 'amendmentduring',\n",
              " 'arbitrationlike',\n",
              " 'arbitrationstyle',\n",
              " 'arecrooked',\n",
              " 'armpit',\n",
              " 'attentionbeyond',\n",
              " 'azari',\n",
              " 'bestpositioned',\n",
              " 'bogalusa',\n",
              " 'bukewihge',\n",
              " 'cakethe',\n",
              " 'centergrimes',\n",
              " 'cheaperanalysts',\n",
              " 'clintongiustra',\n",
              " 'constructand',\n",
              " 'counseltrump',\n",
              " 'ctrltech',\n",
              " 'dales',\n",
              " 'deliveroh',\n",
              " 'dodgeball',\n",
              " 'dollarsphoto',\n",
              " 'downduring',\n",
              " 'farshad',\n",
              " 'fertilize',\n",
              " 'firebase',\n",
              " 'flowering',\n",
              " 'foundationsecond',\n",
              " 'fussed',\n",
              " 'gawkertrump',\n",
              " 'globetrotted',\n",
              " 'growthwhat',\n",
              " 'happenmexico',\n",
              " 'hecklercnn',\n",
              " 'herewhite',\n",
              " 'hillarynoticing',\n",
              " 'httpstconsohreczli',\n",
              " 'hyperbolize',\n",
              " 'jahromi',\n",
              " 'jawbone',\n",
              " 'jobhunting',\n",
              " 'l5n1m119t',\n",
              " 'legallythe',\n",
              " 'locallyeducated',\n",
              " 'lynde',\n",
              " 'maccoby',\n",
              " 'machinethe',\n",
              " 'marburger',\n",
              " 'minbok',\n",
              " 'minutegamble',\n",
              " 'nganbrendan',\n",
              " 'ninefigure',\n",
              " 'noncoastal',\n",
              " 'oftenbrusque',\n",
              " 'oneactually',\n",
              " 'opcruz',\n",
              " 'paymexican',\n",
              " 'pdjtwe',\n",
              " 'percentowned',\n",
              " 'philanthropybut',\n",
              " 'pictwittercom4zlbdhwe8r',\n",
              " 'pictwittercomgmwtny3sfs',\n",
              " 'pictwittercomuldrdpmu2s',\n",
              " 'pleareporter',\n",
              " 'politiciansthese',\n",
              " 'projectssource',\n",
              " 'pushbacks',\n",
              " 'quarries',\n",
              " 'revealsjane',\n",
              " 'roleduring',\n",
              " 'ruleswe',\n",
              " 'russianswhy',\n",
              " 'sarava',\n",
              " 'scaife',\n",
              " 'shammond',\n",
              " 'shtter',\n",
              " 'skidmorehackedcom',\n",
              " 'snapon',\n",
              " 'snapp',\n",
              " 'splittists',\n",
              " 'survivea',\n",
              " 'surviveas',\n",
              " 'techrelated',\n",
              " 'trumpdailywire',\n",
              " 'unionit',\n",
              " 'wallbig',\n",
              " 'wallyesterday',\n",
              " 'watchsens',\n",
              " 'whineafter',\n",
              " 'whiteunfortunately',\n",
              " 'wwwpetyoforpresidentcom',\n",
              " 'wwwvote4edieorg'}"
            ]
          },
          "metadata": {},
          "execution_count": 14
        }
      ],
      "source": [
        "Rare_words = set(word for (word, wc) in word_count.most_common()[:-100:-1])\n",
        "Rare_words"
      ]
    },
    {
      "cell_type": "markdown",
      "metadata": {
        "id": "jzdp0HPxXToj"
      },
      "source": [
        "**Initializing Porter Stemmer function and applying stemming to reduce the text to their root word**"
      ]
    },
    {
      "cell_type": "code",
      "execution_count": null,
      "metadata": {
        "id": "RRAlObUBU6sp"
      },
      "outputs": [],
      "source": [
        "port_stemming = PorterStemmer()"
      ]
    },
    {
      "cell_type": "code",
      "execution_count": null,
      "metadata": {
        "id": "vdLnngQTU8zG"
      },
      "outputs": [],
      "source": [
        "def stemming(text):\n",
        "  return \" \".join([port_stemming.stem(word) for word in text.split()])"
      ]
    },
    {
      "cell_type": "code",
      "execution_count": null,
      "metadata": {
        "id": "0MaiQIWbU-1Y",
        "colab": {
          "base_uri": "https://localhost:8080/",
          "height": 380
        },
        "outputId": "c9cb013b-4cbe-4743-c9b7-3f924a276244"
      },
      "outputs": [
        {
          "output_type": "execute_result",
          "data": {
            "text/plain": [
              "                                                   title  \\\n",
              "5616    Here’s How Much California Would Bring In Eve...   \n",
              "28983  Exclusive - Trump border 'wall' to cost $21.6 ...   \n",
              "35952  Hundreds of thousands in Israel mourn 104-year...   \n",
              "10314  LGBT VOLUNTEERS Aren’t Waiting To Be Thrown Of...   \n",
              "38334  Suitcase of sapphires and other gems worth 1 m...   \n",
              "\n",
              "                                                    text       subject  \\\n",
              "5616   Californians have a choice ahead of them. In N...          News   \n",
              "28983   WASHINGTON (Reuters) - President Donald Trump...  politicsNews   \n",
              "35952  BNEI BRAK, Israel (Reuters) - Hundreds of thou...     worldnews   \n",
              "10314  A group of volunteer soldiers announced this w...      politics   \n",
              "38334  LONDON (Reuters) - British police were hunting...     worldnews   \n",
              "\n",
              "            date  marker  label  \\\n",
              "5616   03-Jul-16   False      1   \n",
              "28983  09-Feb-17    True      0   \n",
              "35952  12-Dec-17    True      0   \n",
              "10314  25-Jul-17   False      1   \n",
              "38334  14-Nov-17    True      0   \n",
              "\n",
              "                                         processing_text  \\\n",
              "5616   californians choice ahead november citizens go...   \n",
              "28983  washington reuters president donald trump s wa...   \n",
              "35952  bnei brak israel reuters hundreds thousands ul...   \n",
              "10314  group volunteer soldiers announced week first ...   \n",
              "38334  london reuters british police hunting unidenti...   \n",
              "\n",
              "                                            stemmed_text  \n",
              "5616   californian choic ahead novemb citizen golden ...  \n",
              "28983  washington reuter presid donald trump s wall a...  \n",
              "35952  bnei brak israel reuter hundr thousand ultraor...  \n",
              "10314  group volunt soldier announc week first ever l...  \n",
              "38334  london reuter british polic hunt unidentifi ma...  "
            ],
            "text/html": [
              "\n",
              "  <div id=\"df-0509adce-6a3f-44f3-a067-7f7d6c08ef46\" class=\"colab-df-container\">\n",
              "    <div>\n",
              "<style scoped>\n",
              "    .dataframe tbody tr th:only-of-type {\n",
              "        vertical-align: middle;\n",
              "    }\n",
              "\n",
              "    .dataframe tbody tr th {\n",
              "        vertical-align: top;\n",
              "    }\n",
              "\n",
              "    .dataframe thead th {\n",
              "        text-align: right;\n",
              "    }\n",
              "</style>\n",
              "<table border=\"1\" class=\"dataframe\">\n",
              "  <thead>\n",
              "    <tr style=\"text-align: right;\">\n",
              "      <th></th>\n",
              "      <th>title</th>\n",
              "      <th>text</th>\n",
              "      <th>subject</th>\n",
              "      <th>date</th>\n",
              "      <th>marker</th>\n",
              "      <th>label</th>\n",
              "      <th>processing_text</th>\n",
              "      <th>stemmed_text</th>\n",
              "    </tr>\n",
              "  </thead>\n",
              "  <tbody>\n",
              "    <tr>\n",
              "      <th>5616</th>\n",
              "      <td>Here’s How Much California Would Bring In Eve...</td>\n",
              "      <td>Californians have a choice ahead of them. In N...</td>\n",
              "      <td>News</td>\n",
              "      <td>03-Jul-16</td>\n",
              "      <td>False</td>\n",
              "      <td>1</td>\n",
              "      <td>californians choice ahead november citizens go...</td>\n",
              "      <td>californian choic ahead novemb citizen golden ...</td>\n",
              "    </tr>\n",
              "    <tr>\n",
              "      <th>28983</th>\n",
              "      <td>Exclusive - Trump border 'wall' to cost $21.6 ...</td>\n",
              "      <td>WASHINGTON (Reuters) - President Donald Trump...</td>\n",
              "      <td>politicsNews</td>\n",
              "      <td>09-Feb-17</td>\n",
              "      <td>True</td>\n",
              "      <td>0</td>\n",
              "      <td>washington reuters president donald trump s wa...</td>\n",
              "      <td>washington reuter presid donald trump s wall a...</td>\n",
              "    </tr>\n",
              "    <tr>\n",
              "      <th>35952</th>\n",
              "      <td>Hundreds of thousands in Israel mourn 104-year...</td>\n",
              "      <td>BNEI BRAK, Israel (Reuters) - Hundreds of thou...</td>\n",
              "      <td>worldnews</td>\n",
              "      <td>12-Dec-17</td>\n",
              "      <td>True</td>\n",
              "      <td>0</td>\n",
              "      <td>bnei brak israel reuters hundreds thousands ul...</td>\n",
              "      <td>bnei brak israel reuter hundr thousand ultraor...</td>\n",
              "    </tr>\n",
              "    <tr>\n",
              "      <th>10314</th>\n",
              "      <td>LGBT VOLUNTEERS Aren’t Waiting To Be Thrown Of...</td>\n",
              "      <td>A group of volunteer soldiers announced this w...</td>\n",
              "      <td>politics</td>\n",
              "      <td>25-Jul-17</td>\n",
              "      <td>False</td>\n",
              "      <td>1</td>\n",
              "      <td>group volunteer soldiers announced week first ...</td>\n",
              "      <td>group volunt soldier announc week first ever l...</td>\n",
              "    </tr>\n",
              "    <tr>\n",
              "      <th>38334</th>\n",
              "      <td>Suitcase of sapphires and other gems worth 1 m...</td>\n",
              "      <td>LONDON (Reuters) - British police were hunting...</td>\n",
              "      <td>worldnews</td>\n",
              "      <td>14-Nov-17</td>\n",
              "      <td>True</td>\n",
              "      <td>0</td>\n",
              "      <td>london reuters british police hunting unidenti...</td>\n",
              "      <td>london reuter british polic hunt unidentifi ma...</td>\n",
              "    </tr>\n",
              "  </tbody>\n",
              "</table>\n",
              "</div>\n",
              "    <div class=\"colab-df-buttons\">\n",
              "\n",
              "  <div class=\"colab-df-container\">\n",
              "    <button class=\"colab-df-convert\" onclick=\"convertToInteractive('df-0509adce-6a3f-44f3-a067-7f7d6c08ef46')\"\n",
              "            title=\"Convert this dataframe to an interactive table.\"\n",
              "            style=\"display:none;\">\n",
              "\n",
              "  <svg xmlns=\"http://www.w3.org/2000/svg\" height=\"24px\" viewBox=\"0 -960 960 960\">\n",
              "    <path d=\"M120-120v-720h720v720H120Zm60-500h600v-160H180v160Zm220 220h160v-160H400v160Zm0 220h160v-160H400v160ZM180-400h160v-160H180v160Zm440 0h160v-160H620v160ZM180-180h160v-160H180v160Zm440 0h160v-160H620v160Z\"/>\n",
              "  </svg>\n",
              "    </button>\n",
              "\n",
              "  <style>\n",
              "    .colab-df-container {\n",
              "      display:flex;\n",
              "      gap: 12px;\n",
              "    }\n",
              "\n",
              "    .colab-df-convert {\n",
              "      background-color: #E8F0FE;\n",
              "      border: none;\n",
              "      border-radius: 50%;\n",
              "      cursor: pointer;\n",
              "      display: none;\n",
              "      fill: #1967D2;\n",
              "      height: 32px;\n",
              "      padding: 0 0 0 0;\n",
              "      width: 32px;\n",
              "    }\n",
              "\n",
              "    .colab-df-convert:hover {\n",
              "      background-color: #E2EBFA;\n",
              "      box-shadow: 0px 1px 2px rgba(60, 64, 67, 0.3), 0px 1px 3px 1px rgba(60, 64, 67, 0.15);\n",
              "      fill: #174EA6;\n",
              "    }\n",
              "\n",
              "    .colab-df-buttons div {\n",
              "      margin-bottom: 4px;\n",
              "    }\n",
              "\n",
              "    [theme=dark] .colab-df-convert {\n",
              "      background-color: #3B4455;\n",
              "      fill: #D2E3FC;\n",
              "    }\n",
              "\n",
              "    [theme=dark] .colab-df-convert:hover {\n",
              "      background-color: #434B5C;\n",
              "      box-shadow: 0px 1px 3px 1px rgba(0, 0, 0, 0.15);\n",
              "      filter: drop-shadow(0px 1px 2px rgba(0, 0, 0, 0.3));\n",
              "      fill: #FFFFFF;\n",
              "    }\n",
              "  </style>\n",
              "\n",
              "    <script>\n",
              "      const buttonEl =\n",
              "        document.querySelector('#df-0509adce-6a3f-44f3-a067-7f7d6c08ef46 button.colab-df-convert');\n",
              "      buttonEl.style.display =\n",
              "        google.colab.kernel.accessAllowed ? 'block' : 'none';\n",
              "\n",
              "      async function convertToInteractive(key) {\n",
              "        const element = document.querySelector('#df-0509adce-6a3f-44f3-a067-7f7d6c08ef46');\n",
              "        const dataTable =\n",
              "          await google.colab.kernel.invokeFunction('convertToInteractive',\n",
              "                                                    [key], {});\n",
              "        if (!dataTable) return;\n",
              "\n",
              "        const docLinkHtml = 'Like what you see? Visit the ' +\n",
              "          '<a target=\"_blank\" href=https://colab.research.google.com/notebooks/data_table.ipynb>data table notebook</a>'\n",
              "          + ' to learn more about interactive tables.';\n",
              "        element.innerHTML = '';\n",
              "        dataTable['output_type'] = 'display_data';\n",
              "        await google.colab.output.renderOutput(dataTable, element);\n",
              "        const docLink = document.createElement('div');\n",
              "        docLink.innerHTML = docLinkHtml;\n",
              "        element.appendChild(docLink);\n",
              "      }\n",
              "    </script>\n",
              "  </div>\n",
              "\n",
              "\n",
              "<div id=\"df-a85f9b95-bc50-4218-8e7d-6e0533fe6924\">\n",
              "  <button class=\"colab-df-quickchart\" onclick=\"quickchart('df-a85f9b95-bc50-4218-8e7d-6e0533fe6924')\"\n",
              "            title=\"Suggest charts\"\n",
              "            style=\"display:none;\">\n",
              "\n",
              "<svg xmlns=\"http://www.w3.org/2000/svg\" height=\"24px\"viewBox=\"0 0 24 24\"\n",
              "     width=\"24px\">\n",
              "    <g>\n",
              "        <path d=\"M19 3H5c-1.1 0-2 .9-2 2v14c0 1.1.9 2 2 2h14c1.1 0 2-.9 2-2V5c0-1.1-.9-2-2-2zM9 17H7v-7h2v7zm4 0h-2V7h2v10zm4 0h-2v-4h2v4z\"/>\n",
              "    </g>\n",
              "</svg>\n",
              "  </button>\n",
              "\n",
              "<style>\n",
              "  .colab-df-quickchart {\n",
              "      --bg-color: #E8F0FE;\n",
              "      --fill-color: #1967D2;\n",
              "      --hover-bg-color: #E2EBFA;\n",
              "      --hover-fill-color: #174EA6;\n",
              "      --disabled-fill-color: #AAA;\n",
              "      --disabled-bg-color: #DDD;\n",
              "  }\n",
              "\n",
              "  [theme=dark] .colab-df-quickchart {\n",
              "      --bg-color: #3B4455;\n",
              "      --fill-color: #D2E3FC;\n",
              "      --hover-bg-color: #434B5C;\n",
              "      --hover-fill-color: #FFFFFF;\n",
              "      --disabled-bg-color: #3B4455;\n",
              "      --disabled-fill-color: #666;\n",
              "  }\n",
              "\n",
              "  .colab-df-quickchart {\n",
              "    background-color: var(--bg-color);\n",
              "    border: none;\n",
              "    border-radius: 50%;\n",
              "    cursor: pointer;\n",
              "    display: none;\n",
              "    fill: var(--fill-color);\n",
              "    height: 32px;\n",
              "    padding: 0;\n",
              "    width: 32px;\n",
              "  }\n",
              "\n",
              "  .colab-df-quickchart:hover {\n",
              "    background-color: var(--hover-bg-color);\n",
              "    box-shadow: 0 1px 2px rgba(60, 64, 67, 0.3), 0 1px 3px 1px rgba(60, 64, 67, 0.15);\n",
              "    fill: var(--button-hover-fill-color);\n",
              "  }\n",
              "\n",
              "  .colab-df-quickchart-complete:disabled,\n",
              "  .colab-df-quickchart-complete:disabled:hover {\n",
              "    background-color: var(--disabled-bg-color);\n",
              "    fill: var(--disabled-fill-color);\n",
              "    box-shadow: none;\n",
              "  }\n",
              "\n",
              "  .colab-df-spinner {\n",
              "    border: 2px solid var(--fill-color);\n",
              "    border-color: transparent;\n",
              "    border-bottom-color: var(--fill-color);\n",
              "    animation:\n",
              "      spin 1s steps(1) infinite;\n",
              "  }\n",
              "\n",
              "  @keyframes spin {\n",
              "    0% {\n",
              "      border-color: transparent;\n",
              "      border-bottom-color: var(--fill-color);\n",
              "      border-left-color: var(--fill-color);\n",
              "    }\n",
              "    20% {\n",
              "      border-color: transparent;\n",
              "      border-left-color: var(--fill-color);\n",
              "      border-top-color: var(--fill-color);\n",
              "    }\n",
              "    30% {\n",
              "      border-color: transparent;\n",
              "      border-left-color: var(--fill-color);\n",
              "      border-top-color: var(--fill-color);\n",
              "      border-right-color: var(--fill-color);\n",
              "    }\n",
              "    40% {\n",
              "      border-color: transparent;\n",
              "      border-right-color: var(--fill-color);\n",
              "      border-top-color: var(--fill-color);\n",
              "    }\n",
              "    60% {\n",
              "      border-color: transparent;\n",
              "      border-right-color: var(--fill-color);\n",
              "    }\n",
              "    80% {\n",
              "      border-color: transparent;\n",
              "      border-right-color: var(--fill-color);\n",
              "      border-bottom-color: var(--fill-color);\n",
              "    }\n",
              "    90% {\n",
              "      border-color: transparent;\n",
              "      border-bottom-color: var(--fill-color);\n",
              "    }\n",
              "  }\n",
              "</style>\n",
              "\n",
              "  <script>\n",
              "    async function quickchart(key) {\n",
              "      const quickchartButtonEl =\n",
              "        document.querySelector('#' + key + ' button');\n",
              "      quickchartButtonEl.disabled = true;  // To prevent multiple clicks.\n",
              "      quickchartButtonEl.classList.add('colab-df-spinner');\n",
              "      try {\n",
              "        const charts = await google.colab.kernel.invokeFunction(\n",
              "            'suggestCharts', [key], {});\n",
              "      } catch (error) {\n",
              "        console.error('Error during call to suggestCharts:', error);\n",
              "      }\n",
              "      quickchartButtonEl.classList.remove('colab-df-spinner');\n",
              "      quickchartButtonEl.classList.add('colab-df-quickchart-complete');\n",
              "    }\n",
              "    (() => {\n",
              "      let quickchartButtonEl =\n",
              "        document.querySelector('#df-a85f9b95-bc50-4218-8e7d-6e0533fe6924 button');\n",
              "      quickchartButtonEl.style.display =\n",
              "        google.colab.kernel.accessAllowed ? 'block' : 'none';\n",
              "    })();\n",
              "  </script>\n",
              "</div>\n",
              "    </div>\n",
              "  </div>\n"
            ]
          },
          "metadata": {},
          "execution_count": 17
        }
      ],
      "source": [
        "shuffled_dataset['stemmed_text'] = shuffled_dataset['processing_text'].apply(lambda x: stemming(x))\n",
        "shuffled_dataset.head()"
      ]
    },
    {
      "cell_type": "markdown",
      "source": [
        "**Tokenizing the words in the text column**"
      ],
      "metadata": {
        "id": "l69EbIxz1Wii"
      }
    },
    {
      "cell_type": "code",
      "source": [
        "def token(text):\n",
        "  return word_tokenize(text)"
      ],
      "metadata": {
        "id": "oNMsMYiE1XGR"
      },
      "execution_count": null,
      "outputs": []
    },
    {
      "cell_type": "code",
      "source": [
        "shuffled_dataset['stemmed_text'] = shuffled_dataset['stemmed_text'].apply(lambda x: token(x))\n",
        "print(shuffled_dataset)"
      ],
      "metadata": {
        "id": "lkQevxkj1XlU",
        "colab": {
          "base_uri": "https://localhost:8080/"
        },
        "outputId": "75ce9816-9b75-4652-c182-b7f4540d7205"
      },
      "execution_count": null,
      "outputs": [
        {
          "output_type": "stream",
          "name": "stdout",
          "text": [
            "                                                   title  \\\n",
            "5616    Here’s How Much California Would Bring In Eve...   \n",
            "28983  Exclusive - Trump border 'wall' to cost $21.6 ...   \n",
            "35952  Hundreds of thousands in Israel mourn 104-year...   \n",
            "10314  LGBT VOLUNTEERS Aren’t Waiting To Be Thrown Of...   \n",
            "38334  Suitcase of sapphires and other gems worth 1 m...   \n",
            "...                                                  ...   \n",
            "8736    Watch Carly Fiorina Lose Her Damn Mind As She...   \n",
            "35293  Beijing condemns Taiwan probe into tiny pro-Ch...   \n",
            "7867    Racist High Schoolers Chant ‘Trump! Trump! US...   \n",
            "8813    Bombshell Reveals Nazi Connection To the Koch...   \n",
            "33088    Treading cautiously, House's Ryan to meet Trump   \n",
            "\n",
            "                                                    text       subject  \\\n",
            "5616   Californians have a choice ahead of them. In N...          News   \n",
            "28983   WASHINGTON (Reuters) - President Donald Trump...  politicsNews   \n",
            "35952  BNEI BRAK, Israel (Reuters) - Hundreds of thou...     worldnews   \n",
            "10314  A group of volunteer soldiers announced this w...      politics   \n",
            "38334  LONDON (Reuters) - British police were hunting...     worldnews   \n",
            "...                                                  ...           ...   \n",
            "8736   One really has to wonder why Carly Fiorina is ...          News   \n",
            "35293  BEIJING/TAIPEI (Reuters) - China has condemned...     worldnews   \n",
            "7867   It s becoming clearer and clearer that an Amer...          News   \n",
            "8813   The infamous conservative Republican financier...          News   \n",
            "33088  WASHINGTON (Reuters) - Paul Ryan and Donald Tr...  politicsNews   \n",
            "\n",
            "            date  marker  label  \\\n",
            "5616   03-Jul-16   False      1   \n",
            "28983  09-Feb-17    True      0   \n",
            "35952  12-Dec-17    True      0   \n",
            "10314  25-Jul-17   False      1   \n",
            "38334  14-Nov-17    True      0   \n",
            "...          ...     ...    ...   \n",
            "8736   15-Jan-16   False      1   \n",
            "35293  20-Dec-17    True      0   \n",
            "7867   25-Feb-16   False      1   \n",
            "8813   12-Jan-16   False      1   \n",
            "33088  06-May-16    True      0   \n",
            "\n",
            "                                         processing_text  \\\n",
            "5616   californians choice ahead november citizens go...   \n",
            "28983  washington reuters president donald trump s wa...   \n",
            "35952  bnei brak israel reuters hundreds thousands ul...   \n",
            "10314  group volunteer soldiers announced week first ...   \n",
            "38334  london reuters british police hunting unidenti...   \n",
            "...                                                  ...   \n",
            "8736   one really wonder carly fiorina still running ...   \n",
            "35293  beijingtaipei reuters china condemned taiwan g...   \n",
            "7867   becoming clearer clearer america donald trump ...   \n",
            "8813   infamous conservative republican financiers ch...   \n",
            "33088  washington reuters paul ryan donald trump top ...   \n",
            "\n",
            "                                            stemmed_text  \n",
            "5616   [californian, choic, ahead, novemb, citizen, g...  \n",
            "28983  [washington, reuter, presid, donald, trump, s,...  \n",
            "35952  [bnei, brak, israel, reuter, hundr, thousand, ...  \n",
            "10314  [group, volunt, soldier, announc, week, first,...  \n",
            "38334  [london, reuter, british, polic, hunt, unident...  \n",
            "...                                                  ...  \n",
            "8736   [one, realli, wonder, carli, fiorina, still, r...  \n",
            "35293  [beijingtaipei, reuter, china, condemn, taiwan...  \n",
            "7867   [becom, clearer, clearer, america, donald, tru...  \n",
            "8813   [infam, conserv, republican, financi, charl, d...  \n",
            "33088  [washington, reuter, paul, ryan, donald, trump...  \n",
            "\n",
            "[44867 rows x 8 columns]\n"
          ]
        }
      ]
    },
    {
      "cell_type": "markdown",
      "metadata": {
        "id": "fFjSJjq8WC5r"
      },
      "source": [
        "**Removing unused columns from the dataset**"
      ]
    },
    {
      "cell_type": "code",
      "execution_count": null,
      "metadata": {
        "id": "baJcnR3IWCuF",
        "colab": {
          "base_uri": "https://localhost:8080/",
          "height": 597
        },
        "outputId": "ea82e6d1-0045-4918-c446-0aa5c4b7ec60"
      },
      "outputs": [
        {
          "output_type": "execute_result",
          "data": {
            "text/plain": [
              "                                                   title  \\\n",
              "5616    Here’s How Much California Would Bring In Eve...   \n",
              "28983  Exclusive - Trump border 'wall' to cost $21.6 ...   \n",
              "35952  Hundreds of thousands in Israel mourn 104-year...   \n",
              "10314  LGBT VOLUNTEERS Aren’t Waiting To Be Thrown Of...   \n",
              "38334  Suitcase of sapphires and other gems worth 1 m...   \n",
              "...                                                  ...   \n",
              "8736    Watch Carly Fiorina Lose Her Damn Mind As She...   \n",
              "35293  Beijing condemns Taiwan probe into tiny pro-Ch...   \n",
              "7867    Racist High Schoolers Chant ‘Trump! Trump! US...   \n",
              "8813    Bombshell Reveals Nazi Connection To the Koch...   \n",
              "33088    Treading cautiously, House's Ryan to meet Trump   \n",
              "\n",
              "                                                    text       subject  label  \\\n",
              "5616   Californians have a choice ahead of them. In N...          News      1   \n",
              "28983   WASHINGTON (Reuters) - President Donald Trump...  politicsNews      0   \n",
              "35952  BNEI BRAK, Israel (Reuters) - Hundreds of thou...     worldnews      0   \n",
              "10314  A group of volunteer soldiers announced this w...      politics      1   \n",
              "38334  LONDON (Reuters) - British police were hunting...     worldnews      0   \n",
              "...                                                  ...           ...    ...   \n",
              "8736   One really has to wonder why Carly Fiorina is ...          News      1   \n",
              "35293  BEIJING/TAIPEI (Reuters) - China has condemned...     worldnews      0   \n",
              "7867   It s becoming clearer and clearer that an Amer...          News      1   \n",
              "8813   The infamous conservative Republican financier...          News      1   \n",
              "33088  WASHINGTON (Reuters) - Paul Ryan and Donald Tr...  politicsNews      0   \n",
              "\n",
              "                                         processing_text  \\\n",
              "5616   californians choice ahead november citizens go...   \n",
              "28983  washington reuters president donald trump s wa...   \n",
              "35952  bnei brak israel reuters hundreds thousands ul...   \n",
              "10314  group volunteer soldiers announced week first ...   \n",
              "38334  london reuters british police hunting unidenti...   \n",
              "...                                                  ...   \n",
              "8736   one really wonder carly fiorina still running ...   \n",
              "35293  beijingtaipei reuters china condemned taiwan g...   \n",
              "7867   becoming clearer clearer america donald trump ...   \n",
              "8813   infamous conservative republican financiers ch...   \n",
              "33088  washington reuters paul ryan donald trump top ...   \n",
              "\n",
              "                                            stemmed_text  \n",
              "5616   [californian, choic, ahead, novemb, citizen, g...  \n",
              "28983  [washington, reuter, presid, donald, trump, s,...  \n",
              "35952  [bnei, brak, israel, reuter, hundr, thousand, ...  \n",
              "10314  [group, volunt, soldier, announc, week, first,...  \n",
              "38334  [london, reuter, british, polic, hunt, unident...  \n",
              "...                                                  ...  \n",
              "8736   [one, realli, wonder, carli, fiorina, still, r...  \n",
              "35293  [beijingtaipei, reuter, china, condemn, taiwan...  \n",
              "7867   [becom, clearer, clearer, america, donald, tru...  \n",
              "8813   [infam, conserv, republican, financi, charl, d...  \n",
              "33088  [washington, reuter, paul, ryan, donald, trump...  \n",
              "\n",
              "[44867 rows x 6 columns]"
            ],
            "text/html": [
              "\n",
              "  <div id=\"df-dd615879-46a0-40c1-bc80-a8d524997453\" class=\"colab-df-container\">\n",
              "    <div>\n",
              "<style scoped>\n",
              "    .dataframe tbody tr th:only-of-type {\n",
              "        vertical-align: middle;\n",
              "    }\n",
              "\n",
              "    .dataframe tbody tr th {\n",
              "        vertical-align: top;\n",
              "    }\n",
              "\n",
              "    .dataframe thead th {\n",
              "        text-align: right;\n",
              "    }\n",
              "</style>\n",
              "<table border=\"1\" class=\"dataframe\">\n",
              "  <thead>\n",
              "    <tr style=\"text-align: right;\">\n",
              "      <th></th>\n",
              "      <th>title</th>\n",
              "      <th>text</th>\n",
              "      <th>subject</th>\n",
              "      <th>label</th>\n",
              "      <th>processing_text</th>\n",
              "      <th>stemmed_text</th>\n",
              "    </tr>\n",
              "  </thead>\n",
              "  <tbody>\n",
              "    <tr>\n",
              "      <th>5616</th>\n",
              "      <td>Here’s How Much California Would Bring In Eve...</td>\n",
              "      <td>Californians have a choice ahead of them. In N...</td>\n",
              "      <td>News</td>\n",
              "      <td>1</td>\n",
              "      <td>californians choice ahead november citizens go...</td>\n",
              "      <td>[californian, choic, ahead, novemb, citizen, g...</td>\n",
              "    </tr>\n",
              "    <tr>\n",
              "      <th>28983</th>\n",
              "      <td>Exclusive - Trump border 'wall' to cost $21.6 ...</td>\n",
              "      <td>WASHINGTON (Reuters) - President Donald Trump...</td>\n",
              "      <td>politicsNews</td>\n",
              "      <td>0</td>\n",
              "      <td>washington reuters president donald trump s wa...</td>\n",
              "      <td>[washington, reuter, presid, donald, trump, s,...</td>\n",
              "    </tr>\n",
              "    <tr>\n",
              "      <th>35952</th>\n",
              "      <td>Hundreds of thousands in Israel mourn 104-year...</td>\n",
              "      <td>BNEI BRAK, Israel (Reuters) - Hundreds of thou...</td>\n",
              "      <td>worldnews</td>\n",
              "      <td>0</td>\n",
              "      <td>bnei brak israel reuters hundreds thousands ul...</td>\n",
              "      <td>[bnei, brak, israel, reuter, hundr, thousand, ...</td>\n",
              "    </tr>\n",
              "    <tr>\n",
              "      <th>10314</th>\n",
              "      <td>LGBT VOLUNTEERS Aren’t Waiting To Be Thrown Of...</td>\n",
              "      <td>A group of volunteer soldiers announced this w...</td>\n",
              "      <td>politics</td>\n",
              "      <td>1</td>\n",
              "      <td>group volunteer soldiers announced week first ...</td>\n",
              "      <td>[group, volunt, soldier, announc, week, first,...</td>\n",
              "    </tr>\n",
              "    <tr>\n",
              "      <th>38334</th>\n",
              "      <td>Suitcase of sapphires and other gems worth 1 m...</td>\n",
              "      <td>LONDON (Reuters) - British police were hunting...</td>\n",
              "      <td>worldnews</td>\n",
              "      <td>0</td>\n",
              "      <td>london reuters british police hunting unidenti...</td>\n",
              "      <td>[london, reuter, british, polic, hunt, unident...</td>\n",
              "    </tr>\n",
              "    <tr>\n",
              "      <th>...</th>\n",
              "      <td>...</td>\n",
              "      <td>...</td>\n",
              "      <td>...</td>\n",
              "      <td>...</td>\n",
              "      <td>...</td>\n",
              "      <td>...</td>\n",
              "    </tr>\n",
              "    <tr>\n",
              "      <th>8736</th>\n",
              "      <td>Watch Carly Fiorina Lose Her Damn Mind As She...</td>\n",
              "      <td>One really has to wonder why Carly Fiorina is ...</td>\n",
              "      <td>News</td>\n",
              "      <td>1</td>\n",
              "      <td>one really wonder carly fiorina still running ...</td>\n",
              "      <td>[one, realli, wonder, carli, fiorina, still, r...</td>\n",
              "    </tr>\n",
              "    <tr>\n",
              "      <th>35293</th>\n",
              "      <td>Beijing condemns Taiwan probe into tiny pro-Ch...</td>\n",
              "      <td>BEIJING/TAIPEI (Reuters) - China has condemned...</td>\n",
              "      <td>worldnews</td>\n",
              "      <td>0</td>\n",
              "      <td>beijingtaipei reuters china condemned taiwan g...</td>\n",
              "      <td>[beijingtaipei, reuter, china, condemn, taiwan...</td>\n",
              "    </tr>\n",
              "    <tr>\n",
              "      <th>7867</th>\n",
              "      <td>Racist High Schoolers Chant ‘Trump! Trump! US...</td>\n",
              "      <td>It s becoming clearer and clearer that an Amer...</td>\n",
              "      <td>News</td>\n",
              "      <td>1</td>\n",
              "      <td>becoming clearer clearer america donald trump ...</td>\n",
              "      <td>[becom, clearer, clearer, america, donald, tru...</td>\n",
              "    </tr>\n",
              "    <tr>\n",
              "      <th>8813</th>\n",
              "      <td>Bombshell Reveals Nazi Connection To the Koch...</td>\n",
              "      <td>The infamous conservative Republican financier...</td>\n",
              "      <td>News</td>\n",
              "      <td>1</td>\n",
              "      <td>infamous conservative republican financiers ch...</td>\n",
              "      <td>[infam, conserv, republican, financi, charl, d...</td>\n",
              "    </tr>\n",
              "    <tr>\n",
              "      <th>33088</th>\n",
              "      <td>Treading cautiously, House's Ryan to meet Trump</td>\n",
              "      <td>WASHINGTON (Reuters) - Paul Ryan and Donald Tr...</td>\n",
              "      <td>politicsNews</td>\n",
              "      <td>0</td>\n",
              "      <td>washington reuters paul ryan donald trump top ...</td>\n",
              "      <td>[washington, reuter, paul, ryan, donald, trump...</td>\n",
              "    </tr>\n",
              "  </tbody>\n",
              "</table>\n",
              "<p>44867 rows × 6 columns</p>\n",
              "</div>\n",
              "    <div class=\"colab-df-buttons\">\n",
              "\n",
              "  <div class=\"colab-df-container\">\n",
              "    <button class=\"colab-df-convert\" onclick=\"convertToInteractive('df-dd615879-46a0-40c1-bc80-a8d524997453')\"\n",
              "            title=\"Convert this dataframe to an interactive table.\"\n",
              "            style=\"display:none;\">\n",
              "\n",
              "  <svg xmlns=\"http://www.w3.org/2000/svg\" height=\"24px\" viewBox=\"0 -960 960 960\">\n",
              "    <path d=\"M120-120v-720h720v720H120Zm60-500h600v-160H180v160Zm220 220h160v-160H400v160Zm0 220h160v-160H400v160ZM180-400h160v-160H180v160Zm440 0h160v-160H620v160ZM180-180h160v-160H180v160Zm440 0h160v-160H620v160Z\"/>\n",
              "  </svg>\n",
              "    </button>\n",
              "\n",
              "  <style>\n",
              "    .colab-df-container {\n",
              "      display:flex;\n",
              "      gap: 12px;\n",
              "    }\n",
              "\n",
              "    .colab-df-convert {\n",
              "      background-color: #E8F0FE;\n",
              "      border: none;\n",
              "      border-radius: 50%;\n",
              "      cursor: pointer;\n",
              "      display: none;\n",
              "      fill: #1967D2;\n",
              "      height: 32px;\n",
              "      padding: 0 0 0 0;\n",
              "      width: 32px;\n",
              "    }\n",
              "\n",
              "    .colab-df-convert:hover {\n",
              "      background-color: #E2EBFA;\n",
              "      box-shadow: 0px 1px 2px rgba(60, 64, 67, 0.3), 0px 1px 3px 1px rgba(60, 64, 67, 0.15);\n",
              "      fill: #174EA6;\n",
              "    }\n",
              "\n",
              "    .colab-df-buttons div {\n",
              "      margin-bottom: 4px;\n",
              "    }\n",
              "\n",
              "    [theme=dark] .colab-df-convert {\n",
              "      background-color: #3B4455;\n",
              "      fill: #D2E3FC;\n",
              "    }\n",
              "\n",
              "    [theme=dark] .colab-df-convert:hover {\n",
              "      background-color: #434B5C;\n",
              "      box-shadow: 0px 1px 3px 1px rgba(0, 0, 0, 0.15);\n",
              "      filter: drop-shadow(0px 1px 2px rgba(0, 0, 0, 0.3));\n",
              "      fill: #FFFFFF;\n",
              "    }\n",
              "  </style>\n",
              "\n",
              "    <script>\n",
              "      const buttonEl =\n",
              "        document.querySelector('#df-dd615879-46a0-40c1-bc80-a8d524997453 button.colab-df-convert');\n",
              "      buttonEl.style.display =\n",
              "        google.colab.kernel.accessAllowed ? 'block' : 'none';\n",
              "\n",
              "      async function convertToInteractive(key) {\n",
              "        const element = document.querySelector('#df-dd615879-46a0-40c1-bc80-a8d524997453');\n",
              "        const dataTable =\n",
              "          await google.colab.kernel.invokeFunction('convertToInteractive',\n",
              "                                                    [key], {});\n",
              "        if (!dataTable) return;\n",
              "\n",
              "        const docLinkHtml = 'Like what you see? Visit the ' +\n",
              "          '<a target=\"_blank\" href=https://colab.research.google.com/notebooks/data_table.ipynb>data table notebook</a>'\n",
              "          + ' to learn more about interactive tables.';\n",
              "        element.innerHTML = '';\n",
              "        dataTable['output_type'] = 'display_data';\n",
              "        await google.colab.output.renderOutput(dataTable, element);\n",
              "        const docLink = document.createElement('div');\n",
              "        docLink.innerHTML = docLinkHtml;\n",
              "        element.appendChild(docLink);\n",
              "      }\n",
              "    </script>\n",
              "  </div>\n",
              "\n",
              "\n",
              "<div id=\"df-fff49c76-e109-4f40-9c2e-8ec15b02eedf\">\n",
              "  <button class=\"colab-df-quickchart\" onclick=\"quickchart('df-fff49c76-e109-4f40-9c2e-8ec15b02eedf')\"\n",
              "            title=\"Suggest charts\"\n",
              "            style=\"display:none;\">\n",
              "\n",
              "<svg xmlns=\"http://www.w3.org/2000/svg\" height=\"24px\"viewBox=\"0 0 24 24\"\n",
              "     width=\"24px\">\n",
              "    <g>\n",
              "        <path d=\"M19 3H5c-1.1 0-2 .9-2 2v14c0 1.1.9 2 2 2h14c1.1 0 2-.9 2-2V5c0-1.1-.9-2-2-2zM9 17H7v-7h2v7zm4 0h-2V7h2v10zm4 0h-2v-4h2v4z\"/>\n",
              "    </g>\n",
              "</svg>\n",
              "  </button>\n",
              "\n",
              "<style>\n",
              "  .colab-df-quickchart {\n",
              "      --bg-color: #E8F0FE;\n",
              "      --fill-color: #1967D2;\n",
              "      --hover-bg-color: #E2EBFA;\n",
              "      --hover-fill-color: #174EA6;\n",
              "      --disabled-fill-color: #AAA;\n",
              "      --disabled-bg-color: #DDD;\n",
              "  }\n",
              "\n",
              "  [theme=dark] .colab-df-quickchart {\n",
              "      --bg-color: #3B4455;\n",
              "      --fill-color: #D2E3FC;\n",
              "      --hover-bg-color: #434B5C;\n",
              "      --hover-fill-color: #FFFFFF;\n",
              "      --disabled-bg-color: #3B4455;\n",
              "      --disabled-fill-color: #666;\n",
              "  }\n",
              "\n",
              "  .colab-df-quickchart {\n",
              "    background-color: var(--bg-color);\n",
              "    border: none;\n",
              "    border-radius: 50%;\n",
              "    cursor: pointer;\n",
              "    display: none;\n",
              "    fill: var(--fill-color);\n",
              "    height: 32px;\n",
              "    padding: 0;\n",
              "    width: 32px;\n",
              "  }\n",
              "\n",
              "  .colab-df-quickchart:hover {\n",
              "    background-color: var(--hover-bg-color);\n",
              "    box-shadow: 0 1px 2px rgba(60, 64, 67, 0.3), 0 1px 3px 1px rgba(60, 64, 67, 0.15);\n",
              "    fill: var(--button-hover-fill-color);\n",
              "  }\n",
              "\n",
              "  .colab-df-quickchart-complete:disabled,\n",
              "  .colab-df-quickchart-complete:disabled:hover {\n",
              "    background-color: var(--disabled-bg-color);\n",
              "    fill: var(--disabled-fill-color);\n",
              "    box-shadow: none;\n",
              "  }\n",
              "\n",
              "  .colab-df-spinner {\n",
              "    border: 2px solid var(--fill-color);\n",
              "    border-color: transparent;\n",
              "    border-bottom-color: var(--fill-color);\n",
              "    animation:\n",
              "      spin 1s steps(1) infinite;\n",
              "  }\n",
              "\n",
              "  @keyframes spin {\n",
              "    0% {\n",
              "      border-color: transparent;\n",
              "      border-bottom-color: var(--fill-color);\n",
              "      border-left-color: var(--fill-color);\n",
              "    }\n",
              "    20% {\n",
              "      border-color: transparent;\n",
              "      border-left-color: var(--fill-color);\n",
              "      border-top-color: var(--fill-color);\n",
              "    }\n",
              "    30% {\n",
              "      border-color: transparent;\n",
              "      border-left-color: var(--fill-color);\n",
              "      border-top-color: var(--fill-color);\n",
              "      border-right-color: var(--fill-color);\n",
              "    }\n",
              "    40% {\n",
              "      border-color: transparent;\n",
              "      border-right-color: var(--fill-color);\n",
              "      border-top-color: var(--fill-color);\n",
              "    }\n",
              "    60% {\n",
              "      border-color: transparent;\n",
              "      border-right-color: var(--fill-color);\n",
              "    }\n",
              "    80% {\n",
              "      border-color: transparent;\n",
              "      border-right-color: var(--fill-color);\n",
              "      border-bottom-color: var(--fill-color);\n",
              "    }\n",
              "    90% {\n",
              "      border-color: transparent;\n",
              "      border-bottom-color: var(--fill-color);\n",
              "    }\n",
              "  }\n",
              "</style>\n",
              "\n",
              "  <script>\n",
              "    async function quickchart(key) {\n",
              "      const quickchartButtonEl =\n",
              "        document.querySelector('#' + key + ' button');\n",
              "      quickchartButtonEl.disabled = true;  // To prevent multiple clicks.\n",
              "      quickchartButtonEl.classList.add('colab-df-spinner');\n",
              "      try {\n",
              "        const charts = await google.colab.kernel.invokeFunction(\n",
              "            'suggestCharts', [key], {});\n",
              "      } catch (error) {\n",
              "        console.error('Error during call to suggestCharts:', error);\n",
              "      }\n",
              "      quickchartButtonEl.classList.remove('colab-df-spinner');\n",
              "      quickchartButtonEl.classList.add('colab-df-quickchart-complete');\n",
              "    }\n",
              "    (() => {\n",
              "      let quickchartButtonEl =\n",
              "        document.querySelector('#df-fff49c76-e109-4f40-9c2e-8ec15b02eedf button');\n",
              "      quickchartButtonEl.style.display =\n",
              "        google.colab.kernel.accessAllowed ? 'block' : 'none';\n",
              "    })();\n",
              "  </script>\n",
              "</div>\n",
              "    </div>\n",
              "  </div>\n"
            ]
          },
          "metadata": {},
          "execution_count": 20
        }
      ],
      "source": [
        "shuffled_dataset = shuffled_dataset.drop(['date','marker'],axis=1)\n",
        "shuffled_dataset"
      ]
    },
    {
      "cell_type": "markdown",
      "metadata": {
        "id": "Je511jp_XwVI"
      },
      "source": [
        "**Creating Train and Test split**"
      ]
    },
    {
      "cell_type": "code",
      "execution_count": null,
      "metadata": {
        "id": "sIANaJixXsI-"
      },
      "outputs": [],
      "source": [
        "X_train, X_test, y_train, y_test = train_test_split(shuffled_dataset.text, shuffled_dataset.label, test_size=0.25)"
      ]
    },
    {
      "cell_type": "code",
      "execution_count": null,
      "metadata": {
        "id": "xWP1kMrlYJSd",
        "colab": {
          "base_uri": "https://localhost:8080/"
        },
        "outputId": "104ad8ba-21b6-4938-a717-3901e4d70844"
      },
      "outputs": [
        {
          "output_type": "stream",
          "name": "stdout",
          "text": [
            "X_train: (33650,) X_test: (11217,) y_train: (33650,) y_test: (11217,)\n"
          ]
        }
      ],
      "source": [
        "print('X_train:', X_train.shape,\n",
        "      'X_test:', X_test.shape,\n",
        "      'y_train:', y_train.shape,\n",
        "      'y_test:', y_test.shape)\n"
      ]
    },
    {
      "cell_type": "markdown",
      "metadata": {
        "id": "iXua12G_ZEY8"
      },
      "source": [
        "**Applying TfIdf Vectorizer**"
      ]
    },
    {
      "cell_type": "code",
      "execution_count": null,
      "metadata": {
        "id": "7ClU5pyRYwm8"
      },
      "outputs": [],
      "source": [
        "tfidf_vectorizer = TfidfVectorizer(max_features=5000,ngram_range=(1,3))"
      ]
    },
    {
      "cell_type": "code",
      "execution_count": null,
      "metadata": {
        "id": "fhz_yvsHZKsk"
      },
      "outputs": [],
      "source": [
        "X_train_tfidf = tfidf_vectorizer.fit_transform(X_train.values)\n",
        "#y_train = shuffled_dataset.label"
      ]
    },
    {
      "cell_type": "code",
      "execution_count": null,
      "metadata": {
        "id": "IkllLW13ZNNB",
        "colab": {
          "base_uri": "https://localhost:8080/"
        },
        "outputId": "d2c0c6dc-a37e-43c3-ff8c-c0c53bcb269d"
      },
      "outputs": [
        {
          "output_type": "execute_result",
          "data": {
            "text/plain": [
              "<33650x5000 sparse matrix of type '<class 'numpy.float64'>'\n",
              "\twith 7872945 stored elements in Compressed Sparse Row format>"
            ]
          },
          "metadata": {},
          "execution_count": 25
        }
      ],
      "source": [
        "X_train_tfidf"
      ]
    },
    {
      "cell_type": "markdown",
      "source": [
        "**Creating Vocabulary to store the words**"
      ],
      "metadata": {
        "id": "lytccShx5OMR"
      }
    },
    {
      "cell_type": "code",
      "source": [
        "tfidf_vocabulary = tfidf_vectorizer.get_feature_names_out()\n",
        "\n",
        "print(tfidf_vocabulary)"
      ],
      "metadata": {
        "id": "sjMYWyvcgrFo",
        "colab": {
          "base_uri": "https://localhost:8080/"
        },
        "outputId": "c35cc7f3-fa5a-4c07-d824-4dc23ec9b829"
      },
      "execution_count": null,
      "outputs": [
        {
          "output_type": "stream",
          "name": "stdout",
          "text": [
            "['000' '000 people' '10' ... 'youtube' 'zero' 'zone']\n"
          ]
        }
      ]
    },
    {
      "cell_type": "code",
      "source": [
        "print(X_train_tfidf[15].toarray())"
      ],
      "metadata": {
        "id": "ALKXDC-PmLE9",
        "colab": {
          "base_uri": "https://localhost:8080/"
        },
        "outputId": "39bedb64-b979-4e6f-9431-8fb237958c3d"
      },
      "execution_count": null,
      "outputs": [
        {
          "output_type": "stream",
          "name": "stdout",
          "text": [
            "[[0. 0. 0. ... 0. 0. 0.]]\n"
          ]
        }
      ]
    },
    {
      "cell_type": "markdown",
      "metadata": {
        "id": "VMPHakKYaoI-"
      },
      "source": [
        "# **Initializing the selected Machine learning models**"
      ]
    },
    {
      "cell_type": "code",
      "execution_count": null,
      "metadata": {
        "id": "JWfyowHvam2C"
      },
      "outputs": [],
      "source": [
        "svm_model = SVC()\n",
        "nb_model = MultinomialNB()\n",
        "xgb_model = xgb.XGBClassifier()"
      ]
    },
    {
      "cell_type": "markdown",
      "metadata": {
        "id": "kkIUtsM1a1bw"
      },
      "source": [
        "# **Defining Hyperparameters for selected Machine learning algorithms**"
      ]
    },
    {
      "cell_type": "code",
      "execution_count": null,
      "metadata": {
        "id": "NxVmhenNauae"
      },
      "outputs": [],
      "source": [
        "svm_param_distributions = {'C': uniform(0.7, 1), 'kernel': ['linear']}\n",
        "nb_param_distributions = {'alpha': uniform(0.5, 10)}\n",
        "xgb_param_distributions = {'n_estimators': randint(50, 100), 'max_depth': randint(3, 8)}"
      ]
    },
    {
      "cell_type": "code",
      "execution_count": null,
      "metadata": {
        "id": "Y21TYxhSbRmO"
      },
      "outputs": [],
      "source": [
        "stratified_kfold = StratifiedKFold(n_splits=5, shuffle=True, random_state=1)"
      ]
    },
    {
      "cell_type": "markdown",
      "metadata": {
        "id": "hV5F010MiR5u"
      },
      "source": [
        "# **Multinomial Naive Bayes**"
      ]
    },
    {
      "cell_type": "code",
      "execution_count": null,
      "metadata": {
        "id": "oLaoBhRxhHqU"
      },
      "outputs": [],
      "source": [
        "random_search = RandomizedSearchCV(estimator=nb_model, param_distributions=nb_param_distributions, scoring='accuracy', n_iter=5, cv=stratified_kfold, verbose=1, random_state=1)"
      ]
    },
    {
      "cell_type": "markdown",
      "source": [
        "**Training the MNB**"
      ],
      "metadata": {
        "id": "UUtZs30iyDU3"
      }
    },
    {
      "cell_type": "code",
      "execution_count": null,
      "metadata": {
        "id": "lIaqmh_Phsjb",
        "colab": {
          "base_uri": "https://localhost:8080/"
        },
        "outputId": "9f55c7a3-465a-4a72-8101-9cb665422d04"
      },
      "outputs": [
        {
          "output_type": "stream",
          "name": "stdout",
          "text": [
            "Fitting 5 folds for each of 5 candidates, totalling 25 fits\n"
          ]
        }
      ],
      "source": [
        "start_time_MNB_training = time.time()\n",
        "\n",
        "random_search.fit(X_train_tfidf, y_train)\n",
        "\n",
        "end_time_MNB_training = time.time()\n",
        "elapsed_time_MNB_training = end_time_MNB_training - start_time_MNB_training\n",
        "\n"
      ]
    },
    {
      "cell_type": "code",
      "execution_count": null,
      "metadata": {
        "id": "M4ilyd3eiBte",
        "colab": {
          "base_uri": "https://localhost:8080/"
        },
        "outputId": "0c3f32a1-5c07-49d8-8f02-06f0f869dc3a"
      },
      "outputs": [
        {
          "output_type": "stream",
          "name": "stdout",
          "text": [
            "Time taken: 1.992220163345337 seconds\n",
            "Best Parameters:  {'alpha': 0.5011437481734489}\n",
            "Best Accuracy:  0.9516790490341753\n"
          ]
        }
      ],
      "source": [
        "print(f\"Time taken: {elapsed_time_MNB_training} seconds\")\n",
        "print(\"Best Parameters: \", random_search.best_params_)\n",
        "print(\"Best Accuracy: \", random_search.best_score_)"
      ]
    },
    {
      "cell_type": "markdown",
      "source": [
        "**Testing the MNB**"
      ],
      "metadata": {
        "id": "277qdFCTyHbe"
      }
    },
    {
      "cell_type": "code",
      "execution_count": null,
      "metadata": {
        "id": "xo3feZE6ivFN",
        "colab": {
          "base_uri": "https://localhost:8080/"
        },
        "outputId": "56778a8e-4857-4d77-b442-4f291d7a52e1"
      },
      "outputs": [
        {
          "output_type": "stream",
          "name": "stdout",
          "text": [
            "Accuracy score for Multinomial Naive Bayes : 0.9481144691093876\n",
            "\n",
            "******************************************************\n",
            "\n",
            "              precision    recall  f1-score   support\n",
            "\n",
            "           0       0.94      0.95      0.95      5365\n",
            "           1       0.95      0.95      0.95      5852\n",
            "\n",
            "    accuracy                           0.95     11217\n",
            "   macro avg       0.95      0.95      0.95     11217\n",
            "weighted avg       0.95      0.95      0.95     11217\n",
            "\n",
            "\n",
            "******************************************************\n",
            "\n",
            "Time taken: 9.746816873550415 seconds\n"
          ]
        }
      ],
      "source": [
        "start_time_MNB_testing = time.time()\n",
        "\n",
        "X_test_tfidf = tfidf_vectorizer.transform(X_test)\n",
        "y_pred = random_search.predict(X_test_tfidf)\n",
        "\n",
        "\n",
        "accuracyscore = metrics.accuracy_score(y_test, y_pred)\n",
        "print(\"Accuracy score for Multinomial Naive Bayes :\",accuracyscore)\n",
        "print(\"\\n******************************************************\\n\")\n",
        "print(classification_report(y_test, y_pred))\n",
        "\n",
        "end_time_MNB_testing = time.time()\n",
        "elapsed_time_MNB_testing = end_time_MNB_testing - start_time_MNB_testing\n",
        "print(\"\\n******************************************************\\n\")\n",
        "print(f\"Time taken: {elapsed_time_MNB_testing} seconds\")"
      ]
    },
    {
      "cell_type": "markdown",
      "source": [
        "Confusion matrix for MNB"
      ],
      "metadata": {
        "id": "WZZAkc1ByLzq"
      }
    },
    {
      "cell_type": "code",
      "execution_count": null,
      "metadata": {
        "id": "ynJ_mdH9mbjY",
        "colab": {
          "base_uri": "https://localhost:8080/",
          "height": 524
        },
        "outputId": "f8560802-04f3-42ae-90f8-d2fbd856faba"
      },
      "outputs": [
        {
          "output_type": "stream",
          "name": "stdout",
          "text": [
            "Confusion Matrix:\n",
            "[[5088  277]\n",
            " [ 305 5547]]\n"
          ]
        },
        {
          "output_type": "display_data",
          "data": {
            "text/plain": [
              "<Figure size 640x480 with 2 Axes>"
            ],
            "image/png": "[encoded data removed]"
          },
          "metadata": {}
        }
      ],
      "source": [
        "conf_matrix = confusion_matrix(y_test, y_pred)\n",
        "\n",
        "# Printing the confusion matrix\n",
        "print(\"Confusion Matrix:\")\n",
        "print(conf_matrix)\n",
        "\n",
        "# Creating a heatmap\n",
        "sns.heatmap(conf_matrix, annot=True, fmt='d', cmap='Blues', annot_kws={\"size\": 16})\n",
        "\n",
        "\n",
        "plt.xlabel('Predicted labels')\n",
        "plt.ylabel('True labels')\n",
        "plt.title('Multinomial Naive Bayes Confusion Matrix')\n",
        "\n",
        "# Display the plot\n",
        "plt.show()"
      ]
    },
    {
      "cell_type": "markdown",
      "source": [
        "**Printing the values of X_test variable**"
      ],
      "metadata": {
        "id": "HWcGDhkByeF5"
      }
    },
    {
      "cell_type": "code",
      "source": [
        "print(X_test_tfidf)"
      ],
      "metadata": {
        "id": "OCCqbSFElzdb",
        "colab": {
          "base_uri": "https://localhost:8080/"
        },
        "outputId": "7e197380-c051-4956-edaf-f5ba5f223bfd"
      },
      "execution_count": null,
      "outputs": [
        {
          "output_type": "stream",
          "name": "stdout",
          "text": [
            "  (0, 4982)\t0.06410511768782838\n",
            "  (0, 4965)\t0.02194190442111655\n",
            "  (0, 4962)\t0.013453180469267651\n",
            "  (0, 4949)\t0.022999746237186307\n",
            "  (0, 4942)\t0.041760895816669225\n",
            "  (0, 4937)\t0.02947168460381643\n",
            "  (0, 4931)\t0.02044086116989009\n",
            "  (0, 4928)\t0.024664627276334637\n",
            "  (0, 4926)\t0.017741235067080367\n",
            "  (0, 4924)\t0.05403589336819589\n",
            "  (0, 4918)\t0.021010142597799104\n",
            "  (0, 4909)\t0.027936530284131428\n",
            "  (0, 4907)\t0.03908068126955802\n",
            "  (0, 4892)\t0.05457928305440691\n",
            "  (0, 4883)\t0.04248339183841714\n",
            "  (0, 4868)\t0.010756748634976587\n",
            "  (0, 4856)\t0.027525322374797146\n",
            "  (0, 4854)\t0.03126069957910452\n",
            "  (0, 4852)\t0.023580659025457952\n",
            "  (0, 4850)\t0.0529048924568895\n",
            "  (0, 4848)\t0.07436299722156864\n",
            "  (0, 4845)\t0.016896124301812733\n",
            "  (0, 4844)\t0.030238421534696008\n",
            "  (0, 4841)\t0.028152015120207614\n",
            "  (0, 4833)\t0.010993524680167115\n",
            "  :\t:\n",
            "  (11216, 403)\t0.053358835950144\n",
            "  (11216, 386)\t0.042454433890796756\n",
            "  (11216, 382)\t0.13274646881041205\n",
            "  (11216, 375)\t0.04394833228661106\n",
            "  (11216, 368)\t0.04751830189877203\n",
            "  (11216, 366)\t0.041993152833128586\n",
            "  (11216, 338)\t0.04700151945949211\n",
            "  (11216, 313)\t0.05529526915699473\n",
            "  (11216, 292)\t0.04211602471887366\n",
            "  (11216, 250)\t0.04534090555853048\n",
            "  (11216, 237)\t0.03039916474742165\n",
            "  (11216, 185)\t0.2389511754914852\n",
            "  (11216, 155)\t0.15818432768238497\n",
            "  (11216, 153)\t0.03151475077652714\n",
            "  (11216, 148)\t0.09247527285779496\n",
            "  (11216, 101)\t0.0354845434806344\n",
            "  (11216, 73)\t0.04618356638834502\n",
            "  (11216, 69)\t0.035073481298758154\n",
            "  (11216, 49)\t0.052229831263052785\n",
            "  (11216, 48)\t0.0382452152649781\n",
            "  (11216, 46)\t0.04780248587535357\n",
            "  (11216, 40)\t0.04630321903271283\n",
            "  (11216, 13)\t0.035967323960362306\n",
            "  (11216, 12)\t0.04726181688255561\n",
            "  (11216, 0)\t0.06239998934169607\n"
          ]
        }
      ]
    },
    {
      "cell_type": "markdown",
      "source": [
        "**Prediction**"
      ],
      "metadata": {
        "id": "lTkSX03V5-o0"
      }
    },
    {
      "cell_type": "code",
      "source": [
        "X_predict = X_test_tfidf[0]\n",
        "\n",
        "\n",
        "prediction = random_search.predict(X_predict)\n",
        "print(prediction)\n",
        "\n",
        "if(prediction[0]==1):\n",
        "  print(\"Fake\")\n",
        "else:\n",
        "  print(\"True\")"
      ],
      "metadata": {
        "id": "QWJnpK6zoB75",
        "colab": {
          "base_uri": "https://localhost:8080/"
        },
        "outputId": "bf349447-b721-448d-e358-768211db2167"
      },
      "execution_count": null,
      "outputs": [
        {
          "output_type": "stream",
          "name": "stdout",
          "text": [
            "[1]\n",
            "Fake\n"
          ]
        }
      ]
    },
    {
      "cell_type": "code",
      "source": [
        "X_predict = X_test_tfidf[16]\n",
        "\n",
        "\n",
        "prediction = random_search.predict(X_predict)\n",
        "print(prediction)\n",
        "\n",
        "if(prediction[0]==1):\n",
        "  print(\"Fake\")\n",
        "else:\n",
        "  print(\"True\")"
      ],
      "metadata": {
        "id": "cGb3LO9Gl9zi",
        "colab": {
          "base_uri": "https://localhost:8080/"
        },
        "outputId": "e302a2c7-c63c-436f-d15f-b02b7243551c"
      },
      "execution_count": null,
      "outputs": [
        {
          "output_type": "stream",
          "name": "stdout",
          "text": [
            "[1]\n",
            "Fake\n"
          ]
        }
      ]
    },
    {
      "cell_type": "markdown",
      "metadata": {
        "id": "4dSdzDsejB10"
      },
      "source": [
        "# **XGboost**"
      ]
    },
    {
      "cell_type": "code",
      "execution_count": null,
      "metadata": {
        "id": "hennu7cNjBb-"
      },
      "outputs": [],
      "source": [
        "random_search = RandomizedSearchCV(estimator=xgb_model, param_distributions=xgb_param_distributions, scoring='accuracy', n_iter=5, cv=stratified_kfold, verbose=1, random_state=1)"
      ]
    },
    {
      "cell_type": "markdown",
      "source": [
        "**Training XGBoost**"
      ],
      "metadata": {
        "id": "qu3dWFiLyj2_"
      }
    },
    {
      "cell_type": "code",
      "execution_count": null,
      "metadata": {
        "id": "_-xx5lh8jajJ",
        "colab": {
          "base_uri": "https://localhost:8080/"
        },
        "outputId": "1124f1d4-0032-4f97-94ba-13263dd6a895"
      },
      "outputs": [
        {
          "output_type": "stream",
          "name": "stdout",
          "text": [
            "Fitting 5 folds for each of 5 candidates, totalling 25 fits\n"
          ]
        }
      ],
      "source": [
        "start_time_xgb_training = time.time()\n",
        "\n",
        "random_search.fit(X_train_tfidf, y_train)\n",
        "\n",
        "end_time_xgb_training = time.time()\n",
        "elapsed_time_xgb_training = end_time_xgb_training - start_time_xgb_training\n"
      ]
    },
    {
      "cell_type": "code",
      "execution_count": null,
      "metadata": {
        "id": "wUtuJ4OOjacV",
        "colab": {
          "base_uri": "https://localhost:8080/"
        },
        "outputId": "db942e07-6c7c-4428-9d40-680a43b68062"
      },
      "outputs": [
        {
          "output_type": "stream",
          "name": "stdout",
          "text": [
            "Time taken: 293.60646176338196 seconds\n",
            "Best Parameters:  {'max_depth': 6, 'n_estimators': 55}\n",
            "Best Accuracy:  0.9975037147102526\n"
          ]
        }
      ],
      "source": [
        "print(f\"Time taken: {elapsed_time_xgb_training} seconds\")\n",
        "print(\"Best Parameters: \", random_search.best_params_)\n",
        "print(\"Best Accuracy: \", random_search.best_score_)"
      ]
    },
    {
      "cell_type": "markdown",
      "source": [
        "**Testing the XGboost**"
      ],
      "metadata": {
        "id": "FQM6pBMAyoww"
      }
    },
    {
      "cell_type": "code",
      "execution_count": null,
      "metadata": {
        "id": "EMR5gsJYjepo",
        "colab": {
          "base_uri": "https://localhost:8080/"
        },
        "outputId": "6656ab27-4aac-49f2-b70e-28e63b1ae76d"
      },
      "outputs": [
        {
          "output_type": "stream",
          "name": "stdout",
          "text": [
            "Accuracy score for Xgboost : 0.9982169920656147\n",
            "\n",
            "******************************************************\n",
            "\n",
            "              precision    recall  f1-score   support\n",
            "\n",
            "           0       1.00      1.00      1.00      5365\n",
            "           1       1.00      1.00      1.00      5852\n",
            "\n",
            "    accuracy                           1.00     11217\n",
            "   macro avg       1.00      1.00      1.00     11217\n",
            "weighted avg       1.00      1.00      1.00     11217\n",
            "\n",
            "\n",
            "******************************************************\n",
            "\n",
            "Time taken: 9.634081602096558 seconds\n"
          ]
        }
      ],
      "source": [
        "start_time_xgb_testing = time.time()\n",
        "\n",
        "\n",
        "X_test_bow = tfidf_vectorizer.transform(X_test)\n",
        "y_pred = random_search.predict(X_test_bow)\n",
        "\n",
        "\n",
        "\n",
        "accuracyscore = metrics.accuracy_score(y_test, y_pred)\n",
        "print(\"Accuracy score for Xgboost :\",accuracyscore)\n",
        "print(\"\\n******************************************************\\n\")\n",
        "print(classification_report(y_test, y_pred))\n",
        "\n",
        "end_time_xgb_testing = time.time()\n",
        "elapsed_time_xgb_testing = end_time_xgb_testing - start_time_xgb_testing\n",
        "print(\"\\n******************************************************\\n\")\n",
        "print(f\"Time taken: {elapsed_time_xgb_testing} seconds\")"
      ]
    },
    {
      "cell_type": "markdown",
      "source": [
        "**Confusion matrix for XGboost**"
      ],
      "metadata": {
        "id": "TZpZx3Vdytbm"
      }
    },
    {
      "cell_type": "code",
      "execution_count": null,
      "metadata": {
        "id": "GOgMuPjwnIRc",
        "colab": {
          "base_uri": "https://localhost:8080/",
          "height": 524
        },
        "outputId": "0e58ffef-2c07-40ab-c6f2-130b1d79b534"
      },
      "outputs": [
        {
          "output_type": "stream",
          "name": "stdout",
          "text": [
            "Confusion Matrix:\n",
            "[[5358    7]\n",
            " [  13 5839]]\n"
          ]
        },
        {
          "output_type": "display_data",
          "data": {
            "text/plain": [
              "<Figure size 640x480 with 2 Axes>"
            ],
            "image/png": "[encoded data removed]"
          },
          "metadata": {}
        }
      ],
      "source": [
        "conf_matrix = confusion_matrix(y_test, y_pred)\n",
        "\n",
        "# Printing the confusion matrix\n",
        "print(\"Confusion Matrix:\")\n",
        "print(conf_matrix)\n",
        "\n",
        "# Creating a heatmap\n",
        "sns.heatmap(conf_matrix, annot=True, fmt='d', cmap='Blues', annot_kws={\"size\": 16})\n",
        "\n",
        "# Setting labels and title\n",
        "plt.xlabel('Predicted labels')\n",
        "plt.ylabel('True labels')\n",
        "plt.title('XGboost Confusion Matrix')\n",
        "\n",
        "# Displaying the plot\n",
        "plt.show()"
      ]
    },
    {
      "cell_type": "markdown",
      "source": [
        "**Printing the values of X_test variable**"
      ],
      "metadata": {
        "id": "asFmTiecy21d"
      }
    },
    {
      "cell_type": "code",
      "source": [
        "print(X_test_tfidf)"
      ],
      "metadata": {
        "id": "DXZO6ujBqF77",
        "colab": {
          "base_uri": "https://localhost:8080/"
        },
        "outputId": "ff06c169-cf62-4216-8b12-cadc2cab434d"
      },
      "execution_count": null,
      "outputs": [
        {
          "output_type": "stream",
          "name": "stdout",
          "text": [
            "  (0, 4982)\t0.06410511768782838\n",
            "  (0, 4965)\t0.02194190442111655\n",
            "  (0, 4962)\t0.013453180469267651\n",
            "  (0, 4949)\t0.022999746237186307\n",
            "  (0, 4942)\t0.041760895816669225\n",
            "  (0, 4937)\t0.02947168460381643\n",
            "  (0, 4931)\t0.02044086116989009\n",
            "  (0, 4928)\t0.024664627276334637\n",
            "  (0, 4926)\t0.017741235067080367\n",
            "  (0, 4924)\t0.05403589336819589\n",
            "  (0, 4918)\t0.021010142597799104\n",
            "  (0, 4909)\t0.027936530284131428\n",
            "  (0, 4907)\t0.03908068126955802\n",
            "  (0, 4892)\t0.05457928305440691\n",
            "  (0, 4883)\t0.04248339183841714\n",
            "  (0, 4868)\t0.010756748634976587\n",
            "  (0, 4856)\t0.027525322374797146\n",
            "  (0, 4854)\t0.03126069957910452\n",
            "  (0, 4852)\t0.023580659025457952\n",
            "  (0, 4850)\t0.0529048924568895\n",
            "  (0, 4848)\t0.07436299722156864\n",
            "  (0, 4845)\t0.016896124301812733\n",
            "  (0, 4844)\t0.030238421534696008\n",
            "  (0, 4841)\t0.028152015120207614\n",
            "  (0, 4833)\t0.010993524680167115\n",
            "  :\t:\n",
            "  (11216, 403)\t0.053358835950144\n",
            "  (11216, 386)\t0.042454433890796756\n",
            "  (11216, 382)\t0.13274646881041205\n",
            "  (11216, 375)\t0.04394833228661106\n",
            "  (11216, 368)\t0.04751830189877203\n",
            "  (11216, 366)\t0.041993152833128586\n",
            "  (11216, 338)\t0.04700151945949211\n",
            "  (11216, 313)\t0.05529526915699473\n",
            "  (11216, 292)\t0.04211602471887366\n",
            "  (11216, 250)\t0.04534090555853048\n",
            "  (11216, 237)\t0.03039916474742165\n",
            "  (11216, 185)\t0.2389511754914852\n",
            "  (11216, 155)\t0.15818432768238497\n",
            "  (11216, 153)\t0.03151475077652714\n",
            "  (11216, 148)\t0.09247527285779496\n",
            "  (11216, 101)\t0.0354845434806344\n",
            "  (11216, 73)\t0.04618356638834502\n",
            "  (11216, 69)\t0.035073481298758154\n",
            "  (11216, 49)\t0.052229831263052785\n",
            "  (11216, 48)\t0.0382452152649781\n",
            "  (11216, 46)\t0.04780248587535357\n",
            "  (11216, 40)\t0.04630321903271283\n",
            "  (11216, 13)\t0.035967323960362306\n",
            "  (11216, 12)\t0.04726181688255561\n",
            "  (11216, 0)\t0.06239998934169607\n"
          ]
        }
      ]
    },
    {
      "cell_type": "markdown",
      "source": [
        "**Prediction**"
      ],
      "metadata": {
        "id": "4SpFKIYq6DiZ"
      }
    },
    {
      "cell_type": "code",
      "source": [
        "X_predict = X_test_tfidf[1]\n",
        "\n",
        "\n",
        "prediction = random_search.predict(X_predict)\n",
        "print(prediction)\n",
        "\n",
        "if(prediction[0]==1):\n",
        "  print(\"Fake\")\n",
        "else:\n",
        "  print(\"True\")"
      ],
      "metadata": {
        "id": "5nEIoj5nvkSb",
        "colab": {
          "base_uri": "https://localhost:8080/"
        },
        "outputId": "62f0e899-a963-4c5c-90bb-7821f36639c3"
      },
      "execution_count": null,
      "outputs": [
        {
          "output_type": "stream",
          "name": "stdout",
          "text": [
            "[1]\n",
            "Fake\n"
          ]
        }
      ]
    },
    {
      "cell_type": "code",
      "source": [
        "X_predict = X_test_tfidf[15]\n",
        "\n",
        "prediction = random_search.predict(X_predict)\n",
        "print(prediction)\n",
        "\n",
        "if(prediction[0]==1):\n",
        "  print(\"Fake\")\n",
        "else:\n",
        "  print(\"True\")"
      ],
      "metadata": {
        "id": "rTuyZ3cVotuf",
        "colab": {
          "base_uri": "https://localhost:8080/"
        },
        "outputId": "f681edc0-817d-4798-bb2e-9ce135afe4e1"
      },
      "execution_count": null,
      "outputs": [
        {
          "output_type": "stream",
          "name": "stdout",
          "text": [
            "[0]\n",
            "True\n"
          ]
        }
      ]
    },
    {
      "cell_type": "markdown",
      "metadata": {
        "id": "qjPc8X8_vaOB"
      },
      "source": [
        "# **Support Vector Machine**"
      ]
    },
    {
      "cell_type": "code",
      "execution_count": null,
      "metadata": {
        "id": "6mFtGJEAvZgh"
      },
      "outputs": [],
      "source": [
        "random_search = RandomizedSearchCV(estimator=svm_model, param_distributions=svm_param_distributions, scoring='accuracy', n_iter=5, cv=stratified_kfold, verbose=1, random_state=1)"
      ]
    },
    {
      "cell_type": "markdown",
      "source": [
        "**Training SVM**"
      ],
      "metadata": {
        "id": "v10tBeC6y7lj"
      }
    },
    {
      "cell_type": "code",
      "execution_count": null,
      "metadata": {
        "id": "CbferHySvwKh",
        "colab": {
          "base_uri": "https://localhost:8080/"
        },
        "outputId": "1f68e21e-8130-4e9c-a73f-9505c42e5444"
      },
      "outputs": [
        {
          "output_type": "stream",
          "name": "stdout",
          "text": [
            "Fitting 5 folds for each of 5 candidates, totalling 25 fits\n"
          ]
        }
      ],
      "source": [
        "start_time_svm_training = time.time()\n",
        "\n",
        "random_search.fit(X_train_tfidf, y_train)\n",
        "\n",
        "\n",
        "end_time_svm_training = time.time()\n",
        "elapsed_time_svm_training = end_time_svm_training - start_time_svm_training"
      ]
    },
    {
      "cell_type": "code",
      "execution_count": null,
      "metadata": {
        "id": "WzckVlJ3vw1m",
        "colab": {
          "base_uri": "https://localhost:8080/"
        },
        "outputId": "fdd60df5-414f-430c-e43f-ab998710e49e"
      },
      "outputs": [
        {
          "output_type": "stream",
          "name": "stdout",
          "text": [
            "Time taken: 5589.640114545822 seconds\n",
            "Best Parameters:  {'C': 1.4203244934421582, 'kernel': 'linear'}\n",
            "Best Accuracy:  0.994739970282318\n"
          ]
        }
      ],
      "source": [
        "print(f\"Time taken: {elapsed_time_svm_training} seconds\")\n",
        "print(\"Best Parameters: \", random_search.best_params_)\n",
        "print(\"Best Accuracy: \", random_search.best_score_)"
      ]
    },
    {
      "cell_type": "markdown",
      "source": [
        "**Testing the SVM**"
      ],
      "metadata": {
        "id": "a--s23kUy-sA"
      }
    },
    {
      "cell_type": "code",
      "execution_count": null,
      "metadata": {
        "id": "-ukju88Nv3Qb",
        "colab": {
          "base_uri": "https://localhost:8080/"
        },
        "outputId": "2743b991-4574-457e-e996-98f5f49e3090"
      },
      "outputs": [
        {
          "output_type": "stream",
          "name": "stdout",
          "text": [
            "Accuracy score for Support vector Machine : 0.9950967281804404\n",
            "\n",
            "******************************************************\n",
            "\n",
            "              precision    recall  f1-score   support\n",
            "\n",
            "           0       0.99      1.00      0.99      5365\n",
            "           1       1.00      0.99      1.00      5852\n",
            "\n",
            "    accuracy                           1.00     11217\n",
            "   macro avg       1.00      1.00      1.00     11217\n",
            "weighted avg       1.00      1.00      1.00     11217\n",
            "\n",
            "\n",
            "******************************************************\n",
            "\n",
            "Time taken: 70.76569533348083 seconds\n"
          ]
        }
      ],
      "source": [
        "start_time_svm_testing = time.time()\n",
        "\n",
        "\n",
        "X_test_tfidf= tfidf_vectorizer.transform(X_test)\n",
        "y_pred = random_search.predict(X_test_tfidf)\n",
        "\n",
        "\n",
        "accuracyscore = metrics.accuracy_score(y_test, y_pred)\n",
        "print(\"Accuracy score for Support vector Machine :\",accuracyscore)\n",
        "print(\"\\n******************************************************\\n\")\n",
        "print(classification_report(y_test, y_pred))\n",
        "\n",
        "end_time_svm_testing = time.time()\n",
        "elapsed_time_svm_testing = end_time_svm_testing - start_time_svm_testing\n",
        "print(\"\\n******************************************************\\n\")\n",
        "print(f\"Time taken: {elapsed_time_svm_testing} seconds\")"
      ]
    },
    {
      "cell_type": "markdown",
      "source": [
        "**Confusion Matrix for SVM**"
      ],
      "metadata": {
        "id": "yuyMMPNLzBNZ"
      }
    },
    {
      "cell_type": "code",
      "execution_count": null,
      "metadata": {
        "id": "2804NN2mVNRD",
        "colab": {
          "base_uri": "https://localhost:8080/",
          "height": 524
        },
        "outputId": "2c955171-92c7-4ae0-81f1-654289b5b020"
      },
      "outputs": [
        {
          "output_type": "stream",
          "name": "stdout",
          "text": [
            "Confusion Matrix:\n",
            "[[5340   25]\n",
            " [  30 5822]]\n"
          ]
        },
        {
          "output_type": "display_data",
          "data": {
            "text/plain": [
              "<Figure size 640x480 with 2 Axes>"
            ],
            "image/png": "[encoded data removed]"
          },
          "metadata": {}
        }
      ],
      "source": [
        "import seaborn as sns\n",
        "import matplotlib.pyplot as plt\n",
        "\n",
        "\n",
        "conf_matrix = confusion_matrix(y_test, y_pred)\n",
        "\n",
        "# Print the confusion matrix\n",
        "print(\"Confusion Matrix:\")\n",
        "print(conf_matrix)\n",
        "\n",
        "# Create a heatmap\n",
        "sns.heatmap(conf_matrix, annot=True, fmt='d', cmap='Blues', annot_kws={\"size\": 16})\n",
        "\n",
        "# Set labels and title\n",
        "plt.xlabel('Predicted labels')\n",
        "plt.ylabel('True labels')\n",
        "plt.title('SVM Confusion Matrix')\n",
        "\n",
        "# Display the plot\n",
        "plt.show()"
      ]
    },
    {
      "cell_type": "markdown",
      "source": [
        "**Printing the X_test Values**"
      ],
      "metadata": {
        "id": "eQeNZ2P1zEsp"
      }
    },
    {
      "cell_type": "code",
      "source": [
        "print(X_test_tfidf)"
      ],
      "metadata": {
        "id": "rkSmJYPP6zVD",
        "colab": {
          "base_uri": "https://localhost:8080/"
        },
        "outputId": "1a29ef2e-8ad8-4bee-e162-0fb91618b2cf"
      },
      "execution_count": null,
      "outputs": [
        {
          "output_type": "stream",
          "name": "stdout",
          "text": [
            "  (0, 0)\t0.018370826648452517\n",
            "  (0, 45)\t0.027906239320711256\n",
            "  (0, 69)\t0.010325784534496429\n",
            "  (0, 80)\t0.030830270272406\n",
            "  (0, 148)\t0.03267014417524043\n",
            "  (0, 155)\t0.031046766652926445\n",
            "  (0, 168)\t0.02138403573459186\n",
            "  (0, 181)\t0.023674814864327723\n",
            "  (0, 191)\t0.023263438797453212\n",
            "  (0, 213)\t0.032444456592429685\n",
            "  (0, 214)\t0.019344464082053793\n",
            "  (0, 215)\t0.011685346600732172\n",
            "  (0, 218)\t0.023626040320220636\n",
            "  (0, 228)\t0.03187559596475056\n",
            "  (0, 232)\t0.05968791687730208\n",
            "  (0, 237)\t0.026848936597147797\n",
            "  (0, 250)\t0.12013702764989648\n",
            "  (0, 264)\t0.019425836010175657\n",
            "  (0, 278)\t0.031117263047481317\n",
            "  (0, 294)\t0.02574768658382726\n",
            "  (0, 301)\t0.026000479555936488\n",
            "  (0, 324)\t0.020514066517831123\n",
            "  (0, 340)\t0.024498218282341028\n",
            "  (0, 352)\t0.07440751275361557\n",
            "  (0, 355)\t0.009429254141855057\n",
            "  :\t:\n",
            "  (11216, 4723)\t0.10884314712852108\n",
            "  (11216, 4726)\t0.04332984932773236\n",
            "  (11216, 4742)\t0.03268396165230463\n",
            "  (11216, 4746)\t0.047312618009433406\n",
            "  (11216, 4780)\t0.04369223821072965\n",
            "  (11216, 4781)\t0.059340964293384965\n",
            "  (11216, 4784)\t0.05381170797242412\n",
            "  (11216, 4788)\t0.03798516032308063\n",
            "  (11216, 4796)\t0.03913052354712689\n",
            "  (11216, 4799)\t0.046622720400957364\n",
            "  (11216, 4803)\t0.020275439628474928\n",
            "  (11216, 4807)\t0.04873893100853374\n",
            "  (11216, 4814)\t0.01975616715167085\n",
            "  (11216, 4833)\t0.018670793535790237\n",
            "  (11216, 4836)\t0.045171953811788464\n",
            "  (11216, 4848)\t0.015786749566442798\n",
            "  (11216, 4868)\t0.018268666212426093\n",
            "  (11216, 4870)\t0.02958079110373629\n",
            "  (11216, 4892)\t0.01324206170563405\n",
            "  (11216, 4913)\t0.03797253445915611\n",
            "  (11216, 4917)\t0.07783584967605396\n",
            "  (11216, 4926)\t0.030130731193514174\n",
            "  (11216, 4929)\t0.05673348555371742\n",
            "  (11216, 4962)\t0.04569627344259597\n",
            "  (11216, 4965)\t0.03726491540677404\n"
          ]
        }
      ]
    },
    {
      "cell_type": "markdown",
      "source": [
        "**Prediction**"
      ],
      "metadata": {
        "id": "eQcj-YLkwA7Z"
      }
    },
    {
      "cell_type": "code",
      "source": [
        "X_predict = X_test_tfidf[0]\n",
        "\n",
        "\n",
        "prediction = random_search.predict(X_predict)\n",
        "print(prediction)\n",
        "\n",
        "if(prediction[0]==1):\n",
        "  print(\"Fake\")\n",
        "else:\n",
        "  print(\"True\")"
      ],
      "metadata": {
        "id": "rCnVPUdipYn5",
        "colab": {
          "base_uri": "https://localhost:8080/"
        },
        "outputId": "e6469eb9-68b7-4b67-972d-3ce6333fd636"
      },
      "execution_count": null,
      "outputs": [
        {
          "output_type": "stream",
          "name": "stdout",
          "text": [
            "[0]\n",
            "True\n"
          ]
        }
      ]
    },
    {
      "cell_type": "code",
      "source": [
        "X_predict = X_test_tfidf[16]\n",
        "\n",
        "\n",
        "prediction = random_search.predict(X_predict)\n",
        "print(prediction)\n",
        "\n",
        "if(prediction[0]==1):\n",
        "  print(\"Fake\")\n",
        "else:\n",
        "  print(\"True\")"
      ],
      "metadata": {
        "id": "AtksUYC7pY78",
        "colab": {
          "base_uri": "https://localhost:8080/"
        },
        "outputId": "a2583c06-9949-4420-ed20-4bea492a5976"
      },
      "execution_count": null,
      "outputs": [
        {
          "output_type": "stream",
          "name": "stdout",
          "text": [
            "[1]\n",
            "Fake\n"
          ]
        }
      ]
    },
    {
      "cell_type": "markdown",
      "source": [
        "## **Comparison of models for accuracy using ROC graph**"
      ],
      "metadata": {
        "id": "1kBkFjXy1nVA"
      }
    },
    {
      "cell_type": "code",
      "execution_count": null,
      "metadata": {
        "id": "mBi2sVJy1_2L",
        "colab": {
          "base_uri": "https://localhost:8080/",
          "height": 472
        },
        "outputId": "f860e64d-eb6b-49d9-8bcf-2035092ae308"
      },
      "outputs": [
        {
          "output_type": "display_data",
          "data": {
            "text/plain": [
              "<Figure size 640x480 with 1 Axes>"
            ],
            "image/png": "[encoded data removed]"
          },
          "metadata": {}
        }
      ],
      "source": [
        "plt.figure()\n",
        "\n",
        "# adding the models\n",
        "models = [\n",
        "    {\n",
        "        'label': 'Multinomial Naive Bayes',\n",
        "        'model': MultinomialNB(),\n",
        "    },\n",
        "    {\n",
        "        'label': 'XgBoost',\n",
        "        'model': xgb.XGBClassifier(),\n",
        "    },\n",
        "    {\n",
        "        'label': 'SVM',\n",
        "        'model': SVC(probability=True),  # Set probability=True for SVC\n",
        "    }\n",
        "]\n",
        "\n",
        "# for loop iterating through model dictionary\n",
        "for m in models:\n",
        "    model = m['model']  # select the model\n",
        "    model.fit(X_train_tfidf, y_train)  # training the model\n",
        "    y_pred = model.predict(X_test_tfidf)  # predicting the test data\n",
        "\n",
        "    # Computing False positive rate, and True positive rate\n",
        "    if hasattr(model, \"predict_proba\"):\n",
        "        fpr, tpr, thresholds = metrics.roc_curve(y_test, model.predict_proba(X_test_tfidf)[:, 1])\n",
        "    else:\n",
        "        # For models that don't have predict_proba, use the decision function\n",
        "        decision_values = model.decision_function(X_test_tfidf)\n",
        "        fpr, tpr, thresholds = metrics.roc_curve(y_test, decision_values)\n",
        "\n",
        "    # Calculating Area under the curve to display on the plot\n",
        "    auc = metrics.roc_auc_score(y_test, y_pred)\n",
        "\n",
        "    # Plotting the graph\n",
        "    plt.plot(fpr, tpr, label='%s ROC (area = %0.2f)' % (m['label'], auc))\n",
        "\n",
        "\n",
        "plt.plot([0, 1], [0, 1], 'r--')\n",
        "plt.xlim([0.0, 1.0])\n",
        "plt.ylim([0.0, 1.05])\n",
        "plt.xlabel('1-Specificity(False Positive Rate)')\n",
        "plt.ylabel('Sensitivity(True Positive Rate)')\n",
        "plt.title('Receiver Operating Characteristic')\n",
        "plt.legend(loc=\"lower right\")\n",
        "plt.show()  # Display"
      ]
    },
    {
      "cell_type": "markdown",
      "source": [
        "# **Comparing the training time and testing among selected models**"
      ],
      "metadata": {
        "id": "py_qvTQ8vp6n"
      }
    },
    {
      "cell_type": "code",
      "source": [
        "models = ['MNB', 'XGBoost', 'SVM']\n",
        "training_times = [elapsed_time_MNB_training, elapsed_time_xgb_training, elapsed_time_svm_training]\n",
        "testing_times = [elapsed_time_MNB_testing,elapsed_time_xgb_testing,elapsed_time_svm_testing]\n",
        "\n",
        "# Plotting both training and testing times in the same plot\n",
        "bar_width = 0.35\n",
        "index = np.arange(len(models))\n",
        "\n",
        "plt.figure(figsize=(10, 5))\n",
        "plt.bar(index, training_times, width=bar_width, color='blue', label='Training Time')\n",
        "plt.bar(index + bar_width, testing_times, width=bar_width, color='orange', label='Testing Time')\n",
        "plt.xlabel('Classifiers ')\n",
        "plt.ylabel('Time (seconds)')\n",
        "plt.title('Training and Testing Time Comparison')\n",
        "plt.xticks(index + bar_width / 2, models)\n",
        "plt.legend()\n",
        "plt.show()"
      ],
      "metadata": {
        "id": "xqa8WAOOO2ZY",
        "colab": {
          "base_uri": "https://localhost:8080/",
          "height": 487
        },
        "outputId": "e1067bd1-6071-4134-849f-6bc5103693a8"
      },
      "execution_count": null,
      "outputs": [
        {
          "output_type": "display_data",
          "data": {
            "text/plain": [
              "<Figure size 1000x500 with 1 Axes>"
            ],
            "image/png": "[encoded data removed]"
          },
          "metadata": {}
        }
      ]
    }
  ],
  "metadata": {
    "colab": {
      "provenance": [],
      "gpuType": "T4",
      "machine_shape": "hm",
      "include_colab_link": true
    },
    "kernelspec": {
      "display_name": "Python 3",
      "name": "python3"
    },
    "language_info": {
      "codemirror_mode": {
        "name": "ipython",
        "version": 3
      },
      "file_extension": ".py",
      "mimetype": "text/x-python",
      "name": "python",
      "nbconvert_exporter": "python",
      "pygments_lexer": "ipython3",
      "version": "3.11.4"
    },
    "accelerator": "GPU"
  },
  "nbformat": 4,
  "nbformat_minor": 0
}